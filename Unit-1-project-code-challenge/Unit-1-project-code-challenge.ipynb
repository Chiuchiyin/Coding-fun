{
 "cells": [
  {
   "cell_type": "markdown",
   "metadata": {},
   "source": [
    "<img src=\"http://imgur.com/1ZcRyrc.png\" style=\"float: left; margin: 20px; height: 55px\">\n",
    "\n",
    "# Project 1: Python Coding Exercises\n",
    "\n",
    "_Authors: Joseph Nelson (DC) _\n",
    "\n",
    "---"
   ]
  },
  {
   "cell_type": "markdown",
   "metadata": {},
   "source": [
    "The following code challenges are drawn from common exercises used in technical interviews.\n",
    "\n",
    "Please note that there may be several ways to approach each challenge. If you get stuck, try mapping out your approach in pseudocode first. Finally, while solutions to problems like these may be found online, remember that if you copy/paste code that you can't explain, you'll be missing out on the point of the project. The only way to truly learn a new skill is through practice, trial, and error - we can only help you improve by understanding where you are having trouble."
   ]
  },
  {
   "cell_type": "markdown",
   "metadata": {},
   "source": [
    "### Challenge 1: Largest Palindrome\n",
    "A palindromic number reads the same both ways. For example, 1234321 is a palindrome. The largest palindrome made from the product of two two-digit numbers is 9009 = 91 × 99. Find the largest palindrome made from the product of two three-digit numbers. Afterward, write a brief explanation walking through your code's logic in markdown."
   ]
  },
  {
   "cell_type": "markdown",
   "metadata": {},
   "source": [
    "*A brute force way to do this to run nested loops of multiplication of $x\\cdot(x+y)$ with $x$ starts from 100 and $y$ starts from 1 until $x+y = 999$ while checking if the product is a palindrome.*"
   ]
  },
  {
   "cell_type": "code",
   "execution_count": 1,
   "metadata": {},
   "outputs": [],
   "source": [
    "def checkpalindrome (number):\n",
    "    n = list(str(number)) #converts number to list of strings\n",
    "    m = list(reversed(n)) #reverse list order\n",
    "    if n == m: #True if it is palindrome\n",
    "        return number"
   ]
  },
  {
   "cell_type": "code",
   "execution_count": 2,
   "metadata": {},
   "outputs": [
    {
     "name": "stdout",
     "output_type": "stream",
     "text": [
      "906609 is the largest palindrome which is the product of 913 and 993\n"
     ]
    }
   ],
   "source": [
    "x=100\n",
    "p=0\n",
    "while x < 1000: #x loop\n",
    "    y=1\n",
    "    while x+y < 1000: #x+y loop\n",
    "        z = x*(x+y)\n",
    "        if checkpalindrome (z) == z: #check if product is a palindrome \n",
    "            if p < z: #we want the largest afterall\n",
    "                p = z\n",
    "                x_max = x\n",
    "                y_max = y\n",
    "        y=y+1\n",
    "    x=x+1\n",
    "print(p, 'is the largest palindrome which is the product of', x_max, 'and', x_max+y_max)"
   ]
  },
  {
   "cell_type": "markdown",
   "metadata": {},
   "source": [
    "*Perhaps it is smarter to work from 999 instead. We are looking for largest number afterall. We work backwards following $(1000-x)\\cdot(1000-y)$.*"
   ]
  },
  {
   "cell_type": "code",
   "execution_count": 3,
   "metadata": {},
   "outputs": [
    {
     "name": "stdout",
     "output_type": "stream",
     "text": [
      "906609 is the largest palindrome which is the product of 993 and 913\n"
     ]
    }
   ],
   "source": [
    "x=1\n",
    "p=0\n",
    "while x < 100: #x loop\n",
    "    y=1\n",
    "    while x+y < 100: #x+y loop\n",
    "        z = (1000-x)*(1000-x-y)\n",
    "        if checkpalindrome (z) == z: #check if product is a palindrome \n",
    "            if p < z: #we want the largest afterall\n",
    "                p = z\n",
    "                x_max = x\n",
    "                y_max = y\n",
    "        y=y+1\n",
    "    x=x+1\n",
    "print(p, 'is the largest palindrome which is the product of', 1000-x_max, 'and', 1000-x_max-y_max)"
   ]
  },
  {
   "cell_type": "markdown",
   "metadata": {},
   "source": [
    "\n",
    "### Challenge 2: Summation of Primes\n",
    "The sum of the primes below 10 is 2 + 3 + 5 + 7 = 17. Find the sum of all the primes below 2,000. Afterward, write a brief explanation walking through your code's logic in markdown."
   ]
  },
  {
   "cell_type": "markdown",
   "metadata": {},
   "source": [
    "*This is a summation problem so it can be solved with a generic summation. The challenge is prime number check.\n",
    "A method to do this is to check if a number is divisible by all previous numbers but this is too inefficient and computationally expensive. It is much more efficient if test is done with only numbers that have been previously identified as prime. To to do this, we create an array of prime numbers to test the next numbers and extend it as we identify new primes. Here we are given 2,3,5 and 7 as known primes. Let us start the prime check with number larger than 7.*"
   ]
  },
  {
   "cell_type": "code",
   "execution_count": 19,
   "metadata": {},
   "outputs": [
    {
     "name": "stdout",
     "output_type": "stream",
     "text": [
      "277050\n"
     ]
    }
   ],
   "source": [
    "n = 8 #start point\n",
    "p = [2, 3, 5, 7 ] #starting prime array (given by question)\n",
    "while n <2000:\n",
    "    for x in p:\n",
    "        if n%x == 0: #break loop is confirmed not prime\n",
    "            break\n",
    "        else:\n",
    "            if x == p[-1]: #append to p once tested prime\n",
    "                p.append(n)\n",
    "    n = n+1\n",
    "print (sum(p)) #print the sum of p"
   ]
  },
  {
   "cell_type": "markdown",
   "metadata": {},
   "source": [
    "### Challenge 3: Multiples of 3 and 5\n",
    "If we list all of the natural numbers below 10 that are multiples of 3 or 5, we get 3, 5, 6, and 9. The sum of these multiples is 23. Find the sum of all the multiples of 3 and 5 below 1,000. Afterward, write a brief explanation walking through your code's logic in markdown."
   ]
  },
  {
   "cell_type": "code",
   "execution_count": 25,
   "metadata": {},
   "outputs": [
    {
     "name": "stdout",
     "output_type": "stream",
     "text": [
      "233168\n"
     ]
    }
   ],
   "source": [
    "s = 0\n",
    "for i in range (1,1000) : #loop to generate numbers\n",
    "    if i%3 == 0: #test if divisble by 3\n",
    "        s = s+i #add it up\n",
    "    elif i%5 == 0: #test if divisble by 5\n",
    "        s = s+i #add it up\n",
    "print (s) #print result"
   ]
  },
  {
   "cell_type": "markdown",
   "metadata": {},
   "source": [
    "### Challenge 4: String Compressor\n",
    "Implement a method to perform basic string compression using the counts of repeated characters. (This is called run-length encoding.) For example, the string \"aabcccccaaa\" would become a2b1c5a3. If the “compressed” string would not become smaller than the original string, your method should return the original string. You can assume the string has only uppercase and lowercase letters (a–z). Specify whether your solution is case sensitive or case insensitive and what you would need to change to make it the other. Afterward, write a brief explanation walking through your code's logic in markdown."
   ]
  },
  {
   "cell_type": "code",
   "execution_count": 114,
   "metadata": {},
   "outputs": [],
   "source": [
    "def compress (string):\n",
    "    list1=[]\n",
    "    list2=[]\n",
    "    n=1\n",
    "    m=1\n",
    "    length = len(string)\n",
    "    list1[:0]=string\n",
    "    list2= list1[0]\n",
    "    while n < length:\n",
    "        if list1 [n] == list1 [n-1]:\n",
    "            m=m+1\n",
    "        else:\n",
    "            list2= list2+ str(m)\n",
    "            list2= list2+list1[n]\n",
    "            m=1\n",
    "        n=n+1\n",
    "    list2=list2+ str(m)\n",
    "    if len(list2)<length:\n",
    "        return list2\n",
    "    else:\n",
    "        return string"
   ]
  },
  {
   "cell_type": "markdown",
   "metadata": {},
   "source": [
    "The function above is case sensitive, to make it case insensitive, we could either convert the input string to lower case or upper case."
   ]
  },
  {
   "cell_type": "code",
   "execution_count": 115,
   "metadata": {},
   "outputs": [],
   "source": [
    "def compressnocase (string):\n",
    "    list1=[]\n",
    "    list2=[]\n",
    "    n=1\n",
    "    m=1\n",
    "    length = len(string)\n",
    "    list1[:0]=string.lower()\n",
    "    list2= list1[0]\n",
    "    while n < length:\n",
    "        if list1 [n] == list1 [n-1]:\n",
    "            m=m+1\n",
    "        else:\n",
    "            list2= list2+ str(m)\n",
    "            list2= list2+list1[n]\n",
    "            m=1\n",
    "        n=n+1\n",
    "    list2=list2+ str(m)\n",
    "    if len(list2)<length:\n",
    "        return list2\n",
    "    else:\n",
    "        return string"
   ]
  },
  {
   "cell_type": "code",
   "execution_count": 118,
   "metadata": {},
   "outputs": [
    {
     "data": {
      "text/plain": [
       "'a4b4a6b5a7'"
      ]
     },
     "execution_count": 118,
     "metadata": {},
     "output_type": "execute_result"
    }
   ],
   "source": [
    "compress ('aaaabbbbAAAAAABBBBBAAAAaaa')\n",
    "compressnocase ('aaaabbbbAAAAAABBBBBAAAAaaa')"
   ]
  },
  {
   "cell_type": "markdown",
   "metadata": {},
   "source": [
    "### *BONUS* Challenge: FizzBuzz\n",
    "Write a program that prints all of the numbers from 1 to 100. For multiples of 3, instead of the number, print \"Fizz;\" for multiples of 5, print \"Buzz.\" For numbers that are multiples of both 3 and 5, print \"FizzBuzz.\" Afterward, write a brief explanation walking through your code's logic in markdown."
   ]
  },
  {
   "cell_type": "code",
   "execution_count": 22,
   "metadata": {},
   "outputs": [
    {
     "name": "stdout",
     "output_type": "stream",
     "text": [
      "1\n",
      "2\n",
      "Fizz\n",
      "4\n",
      "Buzz\n",
      "Fizz\n",
      "7\n",
      "8\n",
      "Fizz\n",
      "Buzz\n",
      "11\n",
      "Fizz\n",
      "13\n",
      "14\n",
      "FizzBuzz\n",
      "16\n",
      "17\n",
      "Fizz\n",
      "19\n",
      "Buzz\n",
      "Fizz\n",
      "22\n",
      "23\n",
      "Fizz\n",
      "Buzz\n",
      "26\n",
      "Fizz\n",
      "28\n",
      "29\n",
      "FizzBuzz\n",
      "31\n",
      "32\n",
      "Fizz\n",
      "34\n",
      "Buzz\n",
      "Fizz\n",
      "37\n",
      "38\n",
      "Fizz\n",
      "Buzz\n",
      "41\n",
      "Fizz\n",
      "43\n",
      "44\n",
      "FizzBuzz\n",
      "46\n",
      "47\n",
      "Fizz\n",
      "49\n",
      "Buzz\n",
      "Fizz\n",
      "52\n",
      "53\n",
      "Fizz\n",
      "Buzz\n",
      "56\n",
      "Fizz\n",
      "58\n",
      "59\n",
      "FizzBuzz\n",
      "61\n",
      "62\n",
      "Fizz\n",
      "64\n",
      "Buzz\n",
      "Fizz\n",
      "67\n",
      "68\n",
      "Fizz\n",
      "Buzz\n",
      "71\n",
      "Fizz\n",
      "73\n",
      "74\n",
      "FizzBuzz\n",
      "76\n",
      "77\n",
      "Fizz\n",
      "79\n",
      "Buzz\n",
      "Fizz\n",
      "82\n",
      "83\n",
      "Fizz\n",
      "Buzz\n",
      "86\n",
      "Fizz\n",
      "88\n",
      "89\n",
      "FizzBuzz\n",
      "91\n",
      "92\n",
      "Fizz\n",
      "94\n",
      "Buzz\n",
      "Fizz\n",
      "97\n",
      "98\n",
      "Fizz\n"
     ]
    }
   ],
   "source": [
    "for i in range (1,100) : #loop to generate numbers\n",
    "    if i%3 == 0: #test if divisble by 3\n",
    "        if i%5 == 0: #test if divisble by 5\n",
    "            print ('FizzBuzz')\n",
    "        else:\n",
    "            print ('Fizz')\n",
    "    elif i%5 == 0: #test if divisble by 5\n",
    "        print ('Buzz')\n",
    "    else:\n",
    "        print (i)"
   ]
  },
  {
   "cell_type": "code",
   "execution_count": null,
   "metadata": {},
   "outputs": [],
   "source": []
  }
 ],
 "metadata": {
  "anaconda-cloud": {},
  "kernelspec": {
   "display_name": "Python 3 (ipykernel)",
   "language": "python",
   "name": "python3"
  },
  "language_info": {
   "codemirror_mode": {
    "name": "ipython",
    "version": 3
   },
   "file_extension": ".py",
   "mimetype": "text/x-python",
   "name": "python",
   "nbconvert_exporter": "python",
   "pygments_lexer": "ipython3",
   "version": "3.7.11"
  }
 },
 "nbformat": 4,
 "nbformat_minor": 2
}
