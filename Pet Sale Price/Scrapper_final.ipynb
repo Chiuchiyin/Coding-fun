{
 "cells": [
  {
   "cell_type": "code",
   "execution_count": 54,
   "id": "8b00e099",
   "metadata": {
    "ExecuteTime": {
     "end_time": "2022-06-06T08:32:36.178686Z",
     "start_time": "2022-06-06T08:32:35.576325Z"
    }
   },
   "outputs": [],
   "source": [
    "#import libraries\n",
    "from time import time, sleep\n",
    "import random\n",
    "import urllib\n",
    "import pandas as pd\n",
    "import numpy as np\n",
    "from tqdm import tqdm\n",
    "import requests\n",
    "import bs4\n",
    "from bs4 import BeautifulSoup\n",
    "import re\n",
    "from IPython.display import clear_output\n",
    "import os\n",
    "from selenium import webdriver\n",
    "from webdriver_manager.chrome import ChromeDriverManager\n",
    "from selenium.webdriver.common.by import By\n",
    "from selenium.webdriver.support.ui import WebDriverWait\n",
    "from selenium.webdriver.support.expected_conditions import visibility_of_element_located\n",
    "from selenium.webdriver.common.action_chains import ActionChains\n",
    "import winsound"
   ]
  },
  {
   "cell_type": "code",
   "execution_count": 55,
   "id": "6e0dd755",
   "metadata": {
    "ExecuteTime": {
     "end_time": "2022-06-06T08:32:36.832602Z",
     "start_time": "2022-06-06T08:32:36.827722Z"
    }
   },
   "outputs": [],
   "source": [
    "url_template = \"https://www.pets4homes.co.uk/{}/{}/local/{}/\"\n",
    "url_template_pages = \"https://www.pets4homes.co.uk/{}/{}/local/{}/page-{}/\"\n",
    "listing_type = ['sale','adoption','stud']\n",
    "pet_type = ['dogs','cats','reptiles','rodents','rabbits','horses','invertebrates','livestock', 'poultry', 'birds','fish']\n",
    "cities = ['aberdeen','ayr_st-ives', 'barnsley_wimborne','basingstoke','bath','bedfordshire','birmingham','blackpool_plymouth',\n",
    "         'bolton_appleby-in-westmorland', 'bournemouth', 'bradford_holsworthy', 'bridgend_brechin', 'brighton',\n",
    "          'bristol_south-west-england', 'cambridge_gloucester', 'cardiff-county', 'carlisle', 'chelmsford', 'cheltenham',\n",
    "         'chester', 'chesterfield', 'colchester', 'cornwall', 'coventry', 'crawley_witney', 'crewe', 'darlington', 'derby', \n",
    "         'devon', 'doncaster', 'dorset', 'dudley_cramlington', 'dundee', 'durham', 'eastbourne', 'edinburgh', 'essex', 'exeter',\n",
    "         'glasgow', 'gloucester', 'grimsby', 'guildford', 'hampshire', 'hereford', 'hertfordshire', 'huddersfield','hull',\n",
    "          'ipswich', 'kent', 'lancashire','leeds_maidstone','leicester','lincoln', 'liverpool', 'london','luton_newton-abbot',\n",
    "         'maidstone', 'manchester', 'merseyside', 'middlesbrough', 'milton-keynes', 'newcastle-upon-tyne', \n",
    "          'newport_saffron-walden', 'northampton', 'norwich', 'nottingham', 'oxford', 'peterborough', 'plymouth', \n",
    "          'poole_nantwich']"
   ]
  },
  {
   "cell_type": "code",
   "execution_count": 56,
   "id": "62fe8b2d",
   "metadata": {
    "ExecuteTime": {
     "end_time": "2022-06-06T08:32:37.614676Z",
     "start_time": "2022-06-06T08:32:37.609796Z"
    }
   },
   "outputs": [],
   "source": [
    "def check_captcha (soup):\n",
    "    if 'I am human' in soup.get_text():\n",
    "            print('captcha detected')\n",
    "            duration = 5000  # milliseconds\n",
    "            freq = 440  # Hz\n",
    "            winsound.Beep(freq, duration) #sound alert, might get irritating, probably won't work on mac\n",
    "            input(\"Press Enter to continue...\")#this would pause the code until i press enter\n",
    "    else:\n",
    "        print('no captcha detected, proceed to scrape')"
   ]
  },
  {
   "cell_type": "code",
   "execution_count": 57,
   "id": "7a12c233",
   "metadata": {
    "ExecuteTime": {
     "end_time": "2022-06-06T08:32:38.446960Z",
     "start_time": "2022-06-06T08:32:38.441662Z"
    }
   },
   "outputs": [],
   "source": [
    "def scrape_header(soup):\n",
    "    df = pd.DataFrame(columns=[\"Title\",\"Description\",\"photo_link\",\"category\", \"price\", \"url\",\n",
    "                                              \"seller_type\", \"seller_name\", 'listing_type','pet_type'])\n",
    "    for each in soup.find_all(\"script\", type=\"application/ld+json\"):\n",
    "        entries = each.get_text()\n",
    "        split = entries.split(\"\\n\")\n",
    "        Title = split[3].replace('\"name\": \"', '').replace('\",', '')\n",
    "        Description = split[4].replace('\"description\": \"', '').replace('\",', '').replace('\\n,', '')\n",
    "        Photo = split[5].replace('\"image\": \"', '').replace('\",', '')\n",
    "        Category = split[7].replace('\"category\": \"', '').replace('\",', '')\n",
    "        Price = split[11].replace('\"price\": \"', '').replace('\",', '')\n",
    "        url =split[13].replace('\"url\": \"', '').replace('\",', '')\n",
    "        seller_type = split[15].replace('\"type\": \"', '').replace('\",', '')\n",
    "        seller_name = split[16].replace('\"name\":  \"', '').replace('\"', '')\n",
    "        df = df.append({\"Title\":Title,\"Description\":Description,\"photo_link\":Photo,\"category\":Category, \n",
    "                                      \"price\":Price,\"url\":url, \"seller_type\":seller_type, \"seller_name\":seller_name,\n",
    "                                      \"listing_type\":listing, \"pet_type\": pets},ignore_index=True)\n",
    "    return df"
   ]
  },
  {
   "cell_type": "code",
   "execution_count": 58,
   "id": "130b2335",
   "metadata": {
    "ExecuteTime": {
     "end_time": "2022-06-06T08:32:39.183930Z",
     "start_time": "2022-06-06T08:32:39.178075Z"
    }
   },
   "outputs": [],
   "source": [
    "def scrape_content(soup):\n",
    "    df1 = pd.DataFrame(columns=[\"Title\",\"price\",\"species\", \"age\", \"gender\", \"description\",\n",
    "                                \"seller_name\", \"seller_location\", \"seller_type\", \"listing_type\",\"pet_type\"])\n",
    "    for each in soup.find_all(\"div\", class_=\"rn lj\"):\n",
    "        entries = each.get_text()\n",
    "        title = each.find('h2', {'class':'Bn'}).text\n",
    "        price = each.find('span', {'class':'Cn'}).text\n",
    "        info = each.find_all('span', {'class':'qv'})\n",
    "        species = info[0].text\n",
    "        try:\n",
    "            age = info[1].text.replace('Age:  ', '')\n",
    "        except:\n",
    "            age = 'unknown'\n",
    "        try:\n",
    "            gender = info[2].text\n",
    "        except:\n",
    "            gender = 'unknown'\n",
    "        description = each.find('span', {'class':'Dn'}).text\n",
    "        seller_name = each.find('span', {'class':'Jn'}).text\n",
    "        seller_location = each.find('span', {'class':'gt'}).text\n",
    "        seller_type = each.find('div', {'class':'ef Ql ff'}).text\n",
    "        df1 = df1.append({\"Title\":title, \"price\":price, \"species\":species, \"age\":age, \"gender\":gender,\n",
    "                              \"description\":description, \"seller_name\":seller_name, \"seller_location\": seller_location,\n",
    "                              \"seller_type\":seller_type, \"listing_type\":listing, \"pet_type\": pets},ignore_index=True)\n",
    "    return df1"
   ]
  },
  {
   "cell_type": "code",
   "execution_count": null,
   "id": "f71dd351",
   "metadata": {
    "ExecuteTime": {
     "start_time": "2022-06-06T08:32:39.949Z"
    }
   },
   "outputs": [
    {
     "name": "stdout",
     "output_type": "stream",
     "text": [
      "file successfully opened\n",
      "file successfully opened\n",
      "\n"
     ]
    },
    {
     "name": "stderr",
     "output_type": "stream",
     "text": [
      "[WDM] - ====== WebDriver manager ======\n",
      "[WDM] - Current google-chrome version is 102.0.5005\n",
      "[WDM] - Get LATEST chromedriver version for 102.0.5005 google-chrome\n",
      "[WDM] - Driver [C:\\Users\\silve\\.wdm\\drivers\\chromedriver\\win32\\102.0.5005.61\\chromedriver.exe] found in cache\n"
     ]
    },
    {
     "name": "stdout",
     "output_type": "stream",
     "text": [
      "london poultry adoption 1\n",
      "no captcha detected, proceed to scrape\n",
      "next page not found\n",
      "going to next listing type\n"
     ]
    }
   ],
   "source": [
    "for city in set (cities):\n",
    "    for pets in set(pet_type):\n",
    "        for listing in set(listing_type):\n",
    "            page = 1\n",
    "            while page > 0:\n",
    "                clear_output(wait=True)\n",
    "                file = 'data_by_cities/header_'+str(city)+'.csv'\n",
    "                file1 = 'data_by_cities/body_'+str(city)+'.csv'\n",
    "                try: \n",
    "                    df_header = pd.read_csv(file , sep='\\t', encoding='utf-8', index_col=0)\n",
    "                    print('file successfully opened')\n",
    "                except:\n",
    "                    print('file not found, creating new file')\n",
    "                    df_header = pd.DataFrame(columns=[\"Title\",\"Description\",\"photo_link\",\"category\", \"price\", \"url\",\n",
    "                                              \"seller_type\", \"seller_name\", 'listing_type','pet_type'])\n",
    "                    df_header.to_csv(file, sep='\\t', encoding='utf-8')\n",
    "                try: \n",
    "                    df_body = pd.read_csv(file1 , sep='\\t', encoding='utf-8', index_col=0)\n",
    "                    print('file successfully opened')\n",
    "                except:\n",
    "                    print('file not found, creating new file')\n",
    "                    df_body = pd.DataFrame(columns=[\"Title\",\"price\",\"species\", \"age\", \"gender\", \"description\",\n",
    "                                                    \"seller_name\", \"seller_location\", \"seller_type\" , \n",
    "                                                    \"listing_type\",\"pet_type\"])\n",
    "                    df_body.to_csv(file1, sep='\\t', encoding='utf-8')\n",
    "                headersize = df_header.shape\n",
    "                bodysize = df_body.shape\n",
    "                if page == 1:\n",
    "                    url = url_template.format(listing, pets, city)\n",
    "                else:\n",
    "                    url = url_template_pages.format(listing, pets, city, page)\n",
    "                options = webdriver.ChromeOptions()\n",
    "                browser = webdriver.Chrome(ChromeDriverManager().install(),options = options)\n",
    "                browser.get(url)\n",
    "                title = (\n",
    "                    WebDriverWait(driver=browser, timeout=15)\n",
    "                    .until(visibility_of_element_located((By.CSS_SELECTOR, \"h1\"))).text\n",
    "                )\n",
    "                content = browser.page_source\n",
    "                print(city,pets,listing,page)\n",
    "                soup = BeautifulSoup(content, 'lxml')\n",
    "                check_captcha(soup)\n",
    "                if 'We found 0' in soup.get_text():\n",
    "                    print('no result found')\n",
    "                    break\n",
    "                df_header = df_header.append(scrape_header(soup))\n",
    "                df_body = df_body.append(scrape_content(soup))\n",
    "                #drop duplicates\n",
    "                df_header = df_header[~df_header.duplicated(subset=['Title','Description', 'photo_link','category','url','seller_type','listing_type','pet_type'])].reset_index(drop=True)\n",
    "                df_header.to_csv(file, sep='\\t', encoding='utf-8')\n",
    "                df_body = df_body[~df_body.duplicated()].reset_index(drop=True)\n",
    "                df_body.to_csv(file1, sep='\\t', encoding='utf-8')\n",
    "                if df_body.shape == bodysize:\n",
    "                    if df_header.shape == headersize:\n",
    "                        print('no new data')\n",
    "                    else:\n",
    "                        winsound.Beep(600, 1000)\n",
    "                        input('html tags is likely changed, please kill program')\n",
    "                next_page = soup.find('a', {'class':'Fb gh Jb'})\n",
    "                if next_page == None:\n",
    "                    print('next page not found')\n",
    "                    break\n",
    "                else:\n",
    "                    print ('next page found')\n",
    "                    print('going to next page')\n",
    "                    sleep(random.randint(10,15))\n",
    "                    page +=1\n",
    "            print('going to next listing type')\n",
    "            sleep(random.randint(10,15))\n",
    "        print('going to next pet type')\n",
    "        sleep(random.randint(10,15))\n",
    "    print('going to next city')"
   ]
  },
  {
   "cell_type": "code",
   "execution_count": 11,
   "id": "a46b3a22",
   "metadata": {},
   "outputs": [
    {
     "data": {
      "text/plain": [
       "(66, 10)"
      ]
     },
     "execution_count": 11,
     "metadata": {},
     "output_type": "execute_result"
    }
   ],
   "source": [
    "headersize"
   ]
  },
  {
   "cell_type": "code",
   "execution_count": 12,
   "id": "4489a376",
   "metadata": {},
   "outputs": [
    {
     "data": {
      "text/plain": [
       "(66, 11)"
      ]
     },
     "execution_count": 12,
     "metadata": {},
     "output_type": "execute_result"
    }
   ],
   "source": [
    "bodysize"
   ]
  },
  {
   "cell_type": "code",
   "execution_count": 13,
   "id": "e14982b2",
   "metadata": {},
   "outputs": [
    {
     "data": {
      "text/plain": [
       "(66, 11)"
      ]
     },
     "execution_count": 13,
     "metadata": {},
     "output_type": "execute_result"
    }
   ],
   "source": [
    "df_body.shape"
   ]
  },
  {
   "cell_type": "code",
   "execution_count": 14,
   "id": "6eae9b84",
   "metadata": {},
   "outputs": [
    {
     "data": {
      "text/plain": [
       "(70, 10)"
      ]
     },
     "execution_count": 14,
     "metadata": {},
     "output_type": "execute_result"
    }
   ],
   "source": [
    "df_header.shape"
   ]
  },
  {
   "cell_type": "code",
   "execution_count": 48,
   "id": "3f8d8027",
   "metadata": {},
   "outputs": [
    {
     "data": {
      "text/html": [
       "<div>\n",
       "<style scoped>\n",
       "    .dataframe tbody tr th:only-of-type {\n",
       "        vertical-align: middle;\n",
       "    }\n",
       "\n",
       "    .dataframe tbody tr th {\n",
       "        vertical-align: top;\n",
       "    }\n",
       "\n",
       "    .dataframe thead th {\n",
       "        text-align: right;\n",
       "    }\n",
       "</style>\n",
       "<table border=\"1\" class=\"dataframe\">\n",
       "  <thead>\n",
       "    <tr style=\"text-align: right;\">\n",
       "      <th></th>\n",
       "      <th>Title</th>\n",
       "      <th>Description</th>\n",
       "      <th>photo_link</th>\n",
       "      <th>category</th>\n",
       "      <th>price</th>\n",
       "      <th>url</th>\n",
       "      <th>seller_type</th>\n",
       "      <th>seller_name</th>\n",
       "      <th>listing_type</th>\n",
       "      <th>pet_type</th>\n",
       "    </tr>\n",
       "  </thead>\n",
       "  <tbody>\n",
       "    <tr>\n",
       "      <th>0</th>\n",
       "      <td>unsexed green tree python + 60cm vivtek</td>\n",
       "      <td>~3years old gtp biak x sorong\\n\\nTypical...</td>\n",
       "      <td>https://assets.pets4homes.co.uk/image/16...</td>\n",
       "      <td>Pets &gt; Reptiles &gt; Python Snake</td>\n",
       "      <td>1000</td>\n",
       "      <td>/classifieds/z9ld6e8uk-unsexed-green-t...</td>\n",
       "      <td>Person</td>\n",
       "      <td>Patryk M.</td>\n",
       "      <td>sale</td>\n",
       "      <td>reptiles</td>\n",
       "    </tr>\n",
       "    <tr>\n",
       "      <th>1</th>\n",
       "      <td>Leopard gecko (f)</td>\n",
       "      <td>Selling this leopard gecko I've had the ...</td>\n",
       "      <td>https://assets.pets4homes.co.uk/image/97...</td>\n",
       "      <td>Pets &gt; Reptiles &gt; Gecko</td>\n",
       "      <td>80</td>\n",
       "      <td>/classifieds/x19l6ke04-leopard-gecko-f...</td>\n",
       "      <td>Person</td>\n",
       "      <td>Dana I.</td>\n",
       "      <td>sale</td>\n",
       "      <td>reptiles</td>\n",
       "    </tr>\n",
       "    <tr>\n",
       "      <th>2</th>\n",
       "      <td>rexy</td>\n",
       "      <td>rexy needs a new home ASP\\n sadly I don'...</td>\n",
       "      <td>https://assets.pets4homes.co.uk/image/54...</td>\n",
       "      <td>Pets &gt; Reptiles &gt; Iguana</td>\n",
       "      <td>100</td>\n",
       "      <td>/classifieds/sxvfb08xd-rexy-aberdeen/</td>\n",
       "      <td>Person</td>\n",
       "      <td>Gillian W.</td>\n",
       "      <td>sale</td>\n",
       "      <td>reptiles</td>\n",
       "    </tr>\n",
       "    <tr>\n",
       "      <th>3</th>\n",
       "      <td>Panther Chameleon and full set up</td>\n",
       "      <td>Blue is a 6 month old Nosey Mitsio chame...</td>\n",
       "      <td>https://assets.pets4homes.co.uk/image/81...</td>\n",
       "      <td>Pets &gt; Reptiles &gt; Chameleon</td>\n",
       "      <td>550</td>\n",
       "      <td>/classifieds/8omv9mhc0-panther-chamele...</td>\n",
       "      <td>Person</td>\n",
       "      <td>Craig H.</td>\n",
       "      <td>sale</td>\n",
       "      <td>reptiles</td>\n",
       "    </tr>\n",
       "    <tr>\n",
       "      <th>4</th>\n",
       "      <td>Hand reared white Indian ringnecks</td>\n",
       "      <td>I have 2 stunning white Indian ringnecks...</td>\n",
       "      <td>https://assets.pets4homes.co.uk/image/3b...</td>\n",
       "      <td>Pets &gt; Birds &gt; Parakeets</td>\n",
       "      <td>300</td>\n",
       "      <td>/classifieds/l2t7nnf71-hand-reared-whi...</td>\n",
       "      <td>Person</td>\n",
       "      <td>Dave T.</td>\n",
       "      <td>sale</td>\n",
       "      <td>birds</td>\n",
       "    </tr>\n",
       "  </tbody>\n",
       "</table>\n",
       "</div>"
      ],
      "text/plain": [
       "                                            Title  \\\n",
       "0        unsexed green tree python + 60cm vivtek    \n",
       "1                               Leopard gecko (f)   \n",
       "2                                            rexy   \n",
       "3              Panther Chameleon and full set up    \n",
       "4             Hand reared white Indian ringnecks    \n",
       "\n",
       "                                         Description  \\\n",
       "0        ~3years old gtp biak x sorong\\n\\nTypical...   \n",
       "1        Selling this leopard gecko I've had the ...   \n",
       "2        rexy needs a new home ASP\\n sadly I don'...   \n",
       "3        Blue is a 6 month old Nosey Mitsio chame...   \n",
       "4        I have 2 stunning white Indian ringnecks...   \n",
       "\n",
       "                                          photo_link  \\\n",
       "0        https://assets.pets4homes.co.uk/image/16...   \n",
       "1        https://assets.pets4homes.co.uk/image/97...   \n",
       "2        https://assets.pets4homes.co.uk/image/54...   \n",
       "3        https://assets.pets4homes.co.uk/image/81...   \n",
       "4        https://assets.pets4homes.co.uk/image/3b...   \n",
       "\n",
       "                               category price  \\\n",
       "0        Pets > Reptiles > Python Snake  1000   \n",
       "1               Pets > Reptiles > Gecko    80   \n",
       "2              Pets > Reptiles > Iguana   100   \n",
       "3           Pets > Reptiles > Chameleon   550   \n",
       "4              Pets > Birds > Parakeets   300   \n",
       "\n",
       "                                                 url       seller_type  \\\n",
       "0          /classifieds/z9ld6e8uk-unsexed-green-t...            Person   \n",
       "1          /classifieds/x19l6ke04-leopard-gecko-f...            Person   \n",
       "2              /classifieds/sxvfb08xd-rexy-aberdeen/            Person   \n",
       "3          /classifieds/8omv9mhc0-panther-chamele...            Person   \n",
       "4          /classifieds/l2t7nnf71-hand-reared-whi...            Person   \n",
       "\n",
       "            seller_name listing_type  pet_type  \n",
       "0             Patryk M.         sale  reptiles  \n",
       "1               Dana I.         sale  reptiles  \n",
       "2            Gillian W.         sale  reptiles  \n",
       "3              Craig H.         sale  reptiles  \n",
       "4               Dave T.         sale     birds  "
      ]
     },
     "execution_count": 48,
     "metadata": {},
     "output_type": "execute_result"
    }
   ],
   "source": [
    "df_header.head()"
   ]
  },
  {
   "cell_type": "code",
   "execution_count": 49,
   "id": "c6761b94",
   "metadata": {},
   "outputs": [
    {
     "data": {
      "text/html": [
       "<div>\n",
       "<style scoped>\n",
       "    .dataframe tbody tr th:only-of-type {\n",
       "        vertical-align: middle;\n",
       "    }\n",
       "\n",
       "    .dataframe tbody tr th {\n",
       "        vertical-align: top;\n",
       "    }\n",
       "\n",
       "    .dataframe thead th {\n",
       "        text-align: right;\n",
       "    }\n",
       "</style>\n",
       "<table border=\"1\" class=\"dataframe\">\n",
       "  <thead>\n",
       "    <tr style=\"text-align: right;\">\n",
       "      <th></th>\n",
       "      <th>Title</th>\n",
       "      <th>Description</th>\n",
       "      <th>photo_link</th>\n",
       "      <th>category</th>\n",
       "      <th>price</th>\n",
       "      <th>url</th>\n",
       "      <th>seller_type</th>\n",
       "      <th>seller_name</th>\n",
       "      <th>listing_type</th>\n",
       "      <th>pet_type</th>\n",
       "    </tr>\n",
       "  </thead>\n",
       "  <tbody>\n",
       "    <tr>\n",
       "      <th>179</th>\n",
       "      <td>Mini lop</td>\n",
       "      <td>Male mini lop 8 months old \\nIs a little...</td>\n",
       "      <td>https://assets.pets4homes.co.uk/image/c6...</td>\n",
       "      <td>Pets &gt; Rabbits &gt; Mini Lop</td>\n",
       "      <td>60</td>\n",
       "      <td>/classifieds/qajwajci4-mini-lop-ellon/</td>\n",
       "      <td>Organization</td>\n",
       "      <td>Miss S.</td>\n",
       "      <td>sale</td>\n",
       "      <td>rabbits</td>\n",
       "    </tr>\n",
       "    <tr>\n",
       "      <th>180</th>\n",
       "      <td>Mini dwarf lop doe</td>\n",
       "      <td>Mini dwarf lop doe\\nHarlequin colouring\\...</td>\n",
       "      <td>https://assets.pets4homes.co.uk/image/91...</td>\n",
       "      <td>Pets &gt; Rabbits &gt; Mini Lop</td>\n",
       "      <td>50</td>\n",
       "      <td>/classifieds/wqozddeer-mini-dwarf-lop-...</td>\n",
       "      <td>Organization</td>\n",
       "      <td>Samantha L.</td>\n",
       "      <td>sale</td>\n",
       "      <td>rabbits</td>\n",
       "    </tr>\n",
       "    <tr>\n",
       "      <th>181</th>\n",
       "      <td>BEAUTIFUL Boys Bunnies REX &amp;  LOP💓 rare ...</td>\n",
       "      <td>***Only for loving homes***\\nFor sale 3 ...</td>\n",
       "      <td>https://assets.pets4homes.co.uk/image/23...</td>\n",
       "      <td>Pets &gt; Rabbits &gt; Mixed Breed</td>\n",
       "      <td>50</td>\n",
       "      <td>/classifieds/yqaoi6nmb-beautiful-bunni...</td>\n",
       "      <td>Person</td>\n",
       "      <td>Violetta O.</td>\n",
       "      <td>sale</td>\n",
       "      <td>rabbits</td>\n",
       "    </tr>\n",
       "    <tr>\n",
       "      <th>182</th>\n",
       "      <td>Pet mice</td>\n",
       "      <td>Fancy mice for sale, some curly coated a...</td>\n",
       "      <td>https://assets.pets4homes.co.uk/image/7b...</td>\n",
       "      <td>Pets &gt; Rodents &gt; Mouse</td>\n",
       "      <td>5</td>\n",
       "      <td>/classifieds/odnrdwop0-pet-mice-aberdeen/</td>\n",
       "      <td>Person</td>\n",
       "      <td>Emma J.</td>\n",
       "      <td>sale</td>\n",
       "      <td>rodents</td>\n",
       "    </tr>\n",
       "    <tr>\n",
       "      <th>183</th>\n",
       "      <td>2x giant african snails</td>\n",
       "      <td>Comes with everything I have for them fo...</td>\n",
       "      <td>https://assets.pets4homes.co.uk/image/ac...</td>\n",
       "      <td>Pets &gt; Invertebrates &gt; Snails</td>\n",
       "      <td>20</td>\n",
       "      <td>/classifieds/mspuowzkx-2x-giant-africa...</td>\n",
       "      <td>Person</td>\n",
       "      <td>Danielle S.</td>\n",
       "      <td>sale</td>\n",
       "      <td>invertebrates</td>\n",
       "    </tr>\n",
       "  </tbody>\n",
       "</table>\n",
       "</div>"
      ],
      "text/plain": [
       "                                                 Title  \\\n",
       "179                                           Mini lop   \n",
       "180                                 Mini dwarf lop doe   \n",
       "181        BEAUTIFUL Boys Bunnies REX &  LOP💓 rare ...   \n",
       "182                                           Pet mice   \n",
       "183                           2x giant african snails    \n",
       "\n",
       "                                           Description  \\\n",
       "179        Male mini lop 8 months old \\nIs a little...   \n",
       "180        Mini dwarf lop doe\\nHarlequin colouring\\...   \n",
       "181        ***Only for loving homes***\\nFor sale 3 ...   \n",
       "182        Fancy mice for sale, some curly coated a...   \n",
       "183        Comes with everything I have for them fo...   \n",
       "\n",
       "                                            photo_link  \\\n",
       "179        https://assets.pets4homes.co.uk/image/c6...   \n",
       "180        https://assets.pets4homes.co.uk/image/91...   \n",
       "181        https://assets.pets4homes.co.uk/image/23...   \n",
       "182        https://assets.pets4homes.co.uk/image/7b...   \n",
       "183        https://assets.pets4homes.co.uk/image/ac...   \n",
       "\n",
       "                                category price  \\\n",
       "179            Pets > Rabbits > Mini Lop    60   \n",
       "180            Pets > Rabbits > Mini Lop    50   \n",
       "181         Pets > Rabbits > Mixed Breed    50   \n",
       "182               Pets > Rodents > Mouse     5   \n",
       "183        Pets > Invertebrates > Snails    20   \n",
       "\n",
       "                                                   url  \\\n",
       "179             /classifieds/qajwajci4-mini-lop-ellon/   \n",
       "180          /classifieds/wqozddeer-mini-dwarf-lop-...   \n",
       "181          /classifieds/yqaoi6nmb-beautiful-bunni...   \n",
       "182          /classifieds/odnrdwop0-pet-mice-aberdeen/   \n",
       "183          /classifieds/mspuowzkx-2x-giant-africa...   \n",
       "\n",
       "                seller_type            seller_name listing_type       pet_type  \n",
       "179            Organization                Miss S.         sale        rabbits  \n",
       "180            Organization            Samantha L.         sale        rabbits  \n",
       "181                  Person            Violetta O.         sale        rabbits  \n",
       "182                  Person                Emma J.         sale        rodents  \n",
       "183                  Person            Danielle S.         sale  invertebrates  "
      ]
     },
     "execution_count": 49,
     "metadata": {},
     "output_type": "execute_result"
    }
   ],
   "source": [
    "df_header.tail()"
   ]
  },
  {
   "cell_type": "code",
   "execution_count": null,
   "id": "a24d6dcd",
   "metadata": {},
   "outputs": [],
   "source": [
    "df_header = df_header[~df_header.duplicated()].reset_index(drop=True)"
   ]
  },
  {
   "cell_type": "code",
   "execution_count": 47,
   "id": "3404b710",
   "metadata": {},
   "outputs": [
    {
     "data": {
      "text/plain": [
       "0      False\n",
       "1      False\n",
       "2      False\n",
       "3      False\n",
       "4      False\n",
       "       ...  \n",
       "179    False\n",
       "180    False\n",
       "181    False\n",
       "182    False\n",
       "183    False\n",
       "Length: 184, dtype: bool"
      ]
     },
     "execution_count": 47,
     "metadata": {},
     "output_type": "execute_result"
    }
   ],
   "source": [
    "df_header.duplicated(subset=['Title','Description', 'photo_link','category','url','seller_type','listing_type','pet_type'])"
   ]
  },
  {
   "cell_type": "code",
   "execution_count": 50,
   "id": "42ca3962",
   "metadata": {},
   "outputs": [
    {
     "name": "stdout",
     "output_type": "stream",
     "text": [
      "<class 'pandas.core.frame.DataFrame'>\n",
      "RangeIndex: 184 entries, 0 to 183\n",
      "Data columns (total 11 columns):\n",
      " #   Column           Non-Null Count  Dtype \n",
      "---  ------           --------------  ----- \n",
      " 0   Title            184 non-null    object\n",
      " 1   price            184 non-null    object\n",
      " 2   species          184 non-null    object\n",
      " 3   age              184 non-null    object\n",
      " 4   gender           184 non-null    object\n",
      " 5   description      184 non-null    object\n",
      " 6   seller_name      184 non-null    object\n",
      " 7   seller_location  184 non-null    object\n",
      " 8   seller_type      184 non-null    object\n",
      " 9   listing_type     184 non-null    object\n",
      " 10  pet_type         184 non-null    object\n",
      "dtypes: object(11)\n",
      "memory usage: 15.9+ KB\n"
     ]
    }
   ],
   "source": [
    "df_body.info()"
   ]
  },
  {
   "cell_type": "code",
   "execution_count": null,
   "id": "cc62e80c",
   "metadata": {},
   "outputs": [],
   "source": []
  }
 ],
 "metadata": {
  "kernelspec": {
   "display_name": "Python 3 (ipykernel)",
   "language": "python",
   "name": "python3"
  },
  "language_info": {
   "codemirror_mode": {
    "name": "ipython",
    "version": 3
   },
   "file_extension": ".py",
   "mimetype": "text/x-python",
   "name": "python",
   "nbconvert_exporter": "python",
   "pygments_lexer": "ipython3",
   "version": "3.9.7"
  }
 },
 "nbformat": 4,
 "nbformat_minor": 5
}
