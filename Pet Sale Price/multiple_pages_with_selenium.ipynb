{
 "cells": [
  {
   "cell_type": "code",
   "execution_count": 1,
   "id": "4d9b9105",
   "metadata": {},
   "outputs": [],
   "source": [
    "#import libraries\n",
    "from time import time, sleep\n",
    "import random\n",
    "import urllib\n",
    "import pandas as pd\n",
    "import numpy as np\n",
    "from tqdm import tqdm\n",
    "import requests\n",
    "import bs4\n",
    "from bs4 import BeautifulSoup\n",
    "import re\n",
    "from IPython.display import clear_output\n",
    "import os\n",
    "from selenium import webdriver\n",
    "from webdriver_manager.chrome import ChromeDriverManager\n",
    "from selenium.webdriver.common.by import By\n",
    "from selenium.webdriver.support.ui import WebDriverWait\n",
    "from selenium.webdriver.support.expected_conditions import visibility_of_element_located"
   ]
  },
  {
   "cell_type": "code",
   "execution_count": null,
   "id": "a183c05c",
   "metadata": {},
   "outputs": [],
   "source": [
    "#URL parsing\n",
    "#Check URL format:\n",
    "#https://www.pets4homes.co.uk/sale/reptiles/local/\n",
    "#https://www.pets4homes.co.uk/sale/reptiles/local/birmingham/\n",
    "#https://www.pets4homes.co.uk/sale/reptiles/local/birmingham/page-11/\n",
    "#https://www.pets4homes.co.uk/sale/dogs/german-shepherd/\n",
    "#https://www.pets4homes.co.uk/sale/dogs/german-shepherd/local/page-35/\n",
    "#https://www.pets4homes.co.uk/sale/dogs/german-shepherd/durham/page-2/\n",
    "#https://www.pets4homes.co.uk/sale/reptiles/hermann-tortoise/liverpool/\n",
    "#https://www.pets4homes.co.uk/adoption/reptiles/hermann-tortoise/liverpool/\n",
    "#https://www.pets4homes.co.uk/stud/reptiles/hermann-tortoise/liverpool/\n",
    "#https://www.pets4homes.co.uk/sale/dogs/local/aberdeen/\n",
    "#URL format is kind of pain to work with, probably should scrape by type of listing, type of pet and city separately.\n",
    "#species or breed would be listed in the dataframe, no need to be scraped individually.\n",
    "#so the format would be:\n",
    "#https://www.pets4homes.co.uk/<type of listing>/<type of pets>/local/<city>/<page>\n",
    "#page don't exist in URL for page 1."
   ]
  },
  {
   "cell_type": "code",
   "execution_count": 3,
   "id": "f5a31a7b",
   "metadata": {},
   "outputs": [
    {
     "name": "stdout",
     "output_type": "stream",
     "text": [
      "https://www.pets4homes.co.uk/stud/dogs/local/aberdeen/\n",
      "https://www.pets4homes.co.uk/stud/dogs/local/ayr_st-ives/\n",
      "https://www.pets4homes.co.uk/stud/dogs/local/barnsley_wimborne/\n",
      "https://www.pets4homes.co.uk/stud/reptiles/local/aberdeen/\n",
      "https://www.pets4homes.co.uk/stud/reptiles/local/ayr_st-ives/\n",
      "https://www.pets4homes.co.uk/stud/reptiles/local/barnsley_wimborne/\n",
      "https://www.pets4homes.co.uk/stud/cats/local/aberdeen/\n",
      "https://www.pets4homes.co.uk/stud/cats/local/ayr_st-ives/\n",
      "https://www.pets4homes.co.uk/stud/cats/local/barnsley_wimborne/\n",
      "https://www.pets4homes.co.uk/sale/dogs/local/aberdeen/\n",
      "https://www.pets4homes.co.uk/sale/dogs/local/ayr_st-ives/\n",
      "https://www.pets4homes.co.uk/sale/dogs/local/barnsley_wimborne/\n",
      "https://www.pets4homes.co.uk/sale/reptiles/local/aberdeen/\n",
      "https://www.pets4homes.co.uk/sale/reptiles/local/ayr_st-ives/\n",
      "https://www.pets4homes.co.uk/sale/reptiles/local/barnsley_wimborne/\n",
      "https://www.pets4homes.co.uk/sale/cats/local/aberdeen/\n",
      "https://www.pets4homes.co.uk/sale/cats/local/ayr_st-ives/\n",
      "https://www.pets4homes.co.uk/sale/cats/local/barnsley_wimborne/\n",
      "https://www.pets4homes.co.uk/adoption/dogs/local/aberdeen/\n",
      "https://www.pets4homes.co.uk/adoption/dogs/local/ayr_st-ives/\n",
      "https://www.pets4homes.co.uk/adoption/dogs/local/barnsley_wimborne/\n",
      "https://www.pets4homes.co.uk/adoption/reptiles/local/aberdeen/\n",
      "https://www.pets4homes.co.uk/adoption/reptiles/local/ayr_st-ives/\n",
      "https://www.pets4homes.co.uk/adoption/reptiles/local/barnsley_wimborne/\n",
      "https://www.pets4homes.co.uk/adoption/cats/local/aberdeen/\n",
      "https://www.pets4homes.co.uk/adoption/cats/local/ayr_st-ives/\n",
      "https://www.pets4homes.co.uk/adoption/cats/local/barnsley_wimborne/\n"
     ]
    }
   ],
   "source": [
    "url_template = \"https://www.pets4homes.co.uk/{}/{}/local/{}/\"\n",
    "for listing in set (['sale','adoption','stud']):\n",
    "    for pets in set(['dogs','cats','reptiles']):\n",
    "        for city in set(['aberdeen','ayr_st-ives', 'barnsley_wimborne']):\n",
    "            url = url_template.format(listing, pets, city)\n",
    "            print(url)"
   ]
  },
  {
   "cell_type": "code",
   "execution_count": null,
   "id": "1dba4b25",
   "metadata": {},
   "outputs": [],
   "source": []
  }
 ],
 "metadata": {
  "kernelspec": {
   "display_name": "Python 3 (ipykernel)",
   "language": "python",
   "name": "python3"
  },
  "language_info": {
   "codemirror_mode": {
    "name": "ipython",
    "version": 3
   },
   "file_extension": ".py",
   "mimetype": "text/x-python",
   "name": "python",
   "nbconvert_exporter": "python",
   "pygments_lexer": "ipython3",
   "version": "3.9.7"
  }
 },
 "nbformat": 4,
 "nbformat_minor": 5
}
