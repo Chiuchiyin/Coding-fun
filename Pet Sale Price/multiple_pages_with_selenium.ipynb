{
 "cells": [
  {
   "cell_type": "code",
   "execution_count": 1,
   "id": "4d9b9105",
   "metadata": {},
   "outputs": [],
   "source": [
    "#import libraries\n",
    "from time import time, sleep\n",
    "import random\n",
    "import urllib\n",
    "import pandas as pd\n",
    "import numpy as np\n",
    "from tqdm import tqdm\n",
    "import requests\n",
    "import bs4\n",
    "from bs4 import BeautifulSoup\n",
    "import re\n",
    "from IPython.display import clear_output\n",
    "import os\n",
    "from selenium import webdriver\n",
    "from webdriver_manager.chrome import ChromeDriverManager\n",
    "from selenium.webdriver.common.by import By\n",
    "from selenium.webdriver.support.ui import WebDriverWait\n",
    "from selenium.webdriver.support.expected_conditions import visibility_of_element_located\n",
    "from selenium.webdriver.common.action_chains import ActionChains"
   ]
  },
  {
   "cell_type": "code",
   "execution_count": 2,
   "id": "a183c05c",
   "metadata": {},
   "outputs": [],
   "source": [
    "#URL parsing\n",
    "#Check URL format:\n",
    "#https://www.pets4homes.co.uk/sale/reptiles/local/\n",
    "#https://www.pets4homes.co.uk/sale/reptiles/local/birmingham/\n",
    "#https://www.pets4homes.co.uk/sale/reptiles/local/birmingham/page-11/\n",
    "#https://www.pets4homes.co.uk/sale/dogs/german-shepherd/\n",
    "#https://www.pets4homes.co.uk/sale/dogs/german-shepherd/local/page-35/\n",
    "#https://www.pets4homes.co.uk/sale/dogs/german-shepherd/durham/page-2/\n",
    "#https://www.pets4homes.co.uk/sale/reptiles/hermann-tortoise/liverpool/\n",
    "#https://www.pets4homes.co.uk/adoption/reptiles/hermann-tortoise/liverpool/\n",
    "#https://www.pets4homes.co.uk/stud/reptiles/hermann-tortoise/liverpool/\n",
    "#https://www.pets4homes.co.uk/sale/dogs/local/aberdeen/\n",
    "#URL format is kind of pain to work with, probably should scrape by type of listing, type of pet and city separately.\n",
    "#species or breed would be listed in the dataframe, no need to be scraped individually.\n",
    "#so the format would be:\n",
    "#https://www.pets4homes.co.uk/<type of listing>/<type of pets>/local/<city>/<page>\n",
    "#page don't exist in URL for page 1."
   ]
  },
  {
   "cell_type": "code",
   "execution_count": 3,
   "id": "4f5bcb5c",
   "metadata": {},
   "outputs": [
    {
     "name": "stdout",
     "output_type": "stream",
     "text": [
      "\n"
     ]
    },
    {
     "name": "stderr",
     "output_type": "stream",
     "text": [
      "[WDM] - ====== WebDriver manager ======\n",
      "[WDM] - Current google-chrome version is 102.0.5005\n",
      "[WDM] - Get LATEST chromedriver version for 102.0.5005 google-chrome\n",
      "[WDM] - Driver [C:\\Users\\silve\\.wdm\\drivers\\chromedriver\\win32\\102.0.5005.61\\chromedriver.exe] found in cache\n",
      "C:\\Users\\silve\\AppData\\Local\\Temp/ipykernel_23384/1326188593.py:5: DeprecationWarning: executable_path has been deprecated, please pass in a Service object\n",
      "  browser = webdriver.Chrome(ChromeDriverManager().install())\n"
     ]
    }
   ],
   "source": [
    "url_template = \"https://www.pets4homes.co.uk/{}/{}/local/{}/\"\n",
    "listing_type = ['sale','adoption','stud']\n",
    "pet_type = ['dogs','cats','reptiles']\n",
    "cities = ['aberdeen','ayr_st-ives', 'barnsley_wimborne','basingstoke','bath','bedfordshire']\n",
    "browser = webdriver.Chrome(ChromeDriverManager().install())"
   ]
  },
  {
   "cell_type": "code",
   "execution_count": 4,
   "id": "1966303c",
   "metadata": {},
   "outputs": [
    {
     "name": "stdout",
     "output_type": "stream",
     "text": [
      "https://www.pets4homes.co.uk/adoption/dogs/local/basingstoke/\n"
     ]
    },
    {
     "name": "stderr",
     "output_type": "stream",
     "text": [
      "C:\\Users\\silve\\AppData\\Local\\Temp/ipykernel_23384/2946567223.py:15: DeprecationWarning: find_element_by_* commands are deprecated. Please use find_element() instead\n",
      "  target = browser.find_element_by_link_text(\"Next page\")\n"
     ]
    },
    {
     "name": "stdout",
     "output_type": "stream",
     "text": [
      "https://www.pets4homes.co.uk/adoption/reptiles/local/basingstoke/\n"
     ]
    },
    {
     "ename": "WebDriverException",
     "evalue": "Message: chrome not reachable\n  (Session info: chrome=102.0.5005.62)\nStacktrace:\nBacktrace:\n\tOrdinal0 [0x003FD953+2414931]\n\tOrdinal0 [0x0038F5E1+1963489]\n\tOrdinal0 [0x0027C580+836992]\n\tOrdinal0 [0x002701E2+786914]\n\tOrdinal0 [0x00270A18+789016]\n\tOrdinal0 [0x002722F2+795378]\n\tOrdinal0 [0x0026BCA9+769193]\n\tOrdinal0 [0x0027DA30+842288]\n\tOrdinal0 [0x002D3FF2+1196018]\n\tOrdinal0 [0x002C42B6+1131190]\n\tOrdinal0 [0x0029E860+976992]\n\tOrdinal0 [0x0029F756+980822]\n\tGetHandleVerifier [0x0066CC62+2510274]\n\tGetHandleVerifier [0x0065F760+2455744]\n\tGetHandleVerifier [0x0048EABA+551962]\n\tGetHandleVerifier [0x0048D916+547446]\n\tOrdinal0 [0x00395F3B+1990459]\n\tOrdinal0 [0x0039A898+2009240]\n\tOrdinal0 [0x0039A985+2009477]\n\tOrdinal0 [0x003A3AD1+2046673]\n\tBaseThreadInitThunk [0x766B6739+25]\n\tRtlGetFullPathName_UEx [0x77198FEF+1215]\n\tRtlGetFullPathName_UEx [0x77198FBD+1165]\n",
     "output_type": "error",
     "traceback": [
      "\u001b[1;31m---------------------------------------------------------------------------\u001b[0m",
      "\u001b[1;31mWebDriverException\u001b[0m                        Traceback (most recent call last)",
      "\u001b[1;32m~\\AppData\\Local\\Temp/ipykernel_23384/2946567223.py\u001b[0m in \u001b[0;36m<module>\u001b[1;34m\u001b[0m\n\u001b[0;32m      3\u001b[0m         \u001b[1;32mfor\u001b[0m \u001b[0mlisting\u001b[0m \u001b[1;32min\u001b[0m \u001b[0mset\u001b[0m\u001b[1;33m(\u001b[0m\u001b[0mlisting_type\u001b[0m\u001b[1;33m)\u001b[0m\u001b[1;33m:\u001b[0m\u001b[1;33m\u001b[0m\u001b[1;33m\u001b[0m\u001b[0m\n\u001b[0;32m      4\u001b[0m             \u001b[0murl\u001b[0m \u001b[1;33m=\u001b[0m \u001b[0murl_template\u001b[0m\u001b[1;33m.\u001b[0m\u001b[0mformat\u001b[0m\u001b[1;33m(\u001b[0m\u001b[0mlisting\u001b[0m\u001b[1;33m,\u001b[0m \u001b[0mpets\u001b[0m\u001b[1;33m,\u001b[0m \u001b[0mcity\u001b[0m\u001b[1;33m)\u001b[0m\u001b[1;33m\u001b[0m\u001b[1;33m\u001b[0m\u001b[0m\n\u001b[1;32m----> 5\u001b[1;33m             \u001b[0mbrowser\u001b[0m\u001b[1;33m.\u001b[0m\u001b[0mget\u001b[0m\u001b[1;33m(\u001b[0m\u001b[0murl\u001b[0m\u001b[1;33m)\u001b[0m\u001b[1;33m\u001b[0m\u001b[1;33m\u001b[0m\u001b[0m\n\u001b[0m\u001b[0;32m      6\u001b[0m             title = (\n\u001b[0;32m      7\u001b[0m                 \u001b[0mWebDriverWait\u001b[0m\u001b[1;33m(\u001b[0m\u001b[0mdriver\u001b[0m\u001b[1;33m=\u001b[0m\u001b[0mbrowser\u001b[0m\u001b[1;33m,\u001b[0m \u001b[0mtimeout\u001b[0m\u001b[1;33m=\u001b[0m\u001b[1;36m10\u001b[0m\u001b[1;33m)\u001b[0m\u001b[1;33m\u001b[0m\u001b[1;33m\u001b[0m\u001b[0m\n",
      "\u001b[1;32mC:\\ProgramData\\Anaconda3\\lib\\site-packages\\selenium\\webdriver\\remote\\webdriver.py\u001b[0m in \u001b[0;36mget\u001b[1;34m(self, url)\u001b[0m\n\u001b[0;32m    434\u001b[0m         \u001b[0mLoads\u001b[0m \u001b[0ma\u001b[0m \u001b[0mweb\u001b[0m \u001b[0mpage\u001b[0m \u001b[1;32min\u001b[0m \u001b[0mthe\u001b[0m \u001b[0mcurrent\u001b[0m \u001b[0mbrowser\u001b[0m \u001b[0msession\u001b[0m\u001b[1;33m.\u001b[0m\u001b[1;33m\u001b[0m\u001b[1;33m\u001b[0m\u001b[0m\n\u001b[0;32m    435\u001b[0m         \"\"\"\n\u001b[1;32m--> 436\u001b[1;33m         \u001b[0mself\u001b[0m\u001b[1;33m.\u001b[0m\u001b[0mexecute\u001b[0m\u001b[1;33m(\u001b[0m\u001b[0mCommand\u001b[0m\u001b[1;33m.\u001b[0m\u001b[0mGET\u001b[0m\u001b[1;33m,\u001b[0m \u001b[1;33m{\u001b[0m\u001b[1;34m'url'\u001b[0m\u001b[1;33m:\u001b[0m \u001b[0murl\u001b[0m\u001b[1;33m}\u001b[0m\u001b[1;33m)\u001b[0m\u001b[1;33m\u001b[0m\u001b[1;33m\u001b[0m\u001b[0m\n\u001b[0m\u001b[0;32m    437\u001b[0m \u001b[1;33m\u001b[0m\u001b[0m\n\u001b[0;32m    438\u001b[0m     \u001b[1;33m@\u001b[0m\u001b[0mproperty\u001b[0m\u001b[1;33m\u001b[0m\u001b[1;33m\u001b[0m\u001b[0m\n",
      "\u001b[1;32mC:\\ProgramData\\Anaconda3\\lib\\site-packages\\selenium\\webdriver\\remote\\webdriver.py\u001b[0m in \u001b[0;36mexecute\u001b[1;34m(self, driver_command, params)\u001b[0m\n\u001b[0;32m    422\u001b[0m         \u001b[0mresponse\u001b[0m \u001b[1;33m=\u001b[0m \u001b[0mself\u001b[0m\u001b[1;33m.\u001b[0m\u001b[0mcommand_executor\u001b[0m\u001b[1;33m.\u001b[0m\u001b[0mexecute\u001b[0m\u001b[1;33m(\u001b[0m\u001b[0mdriver_command\u001b[0m\u001b[1;33m,\u001b[0m \u001b[0mparams\u001b[0m\u001b[1;33m)\u001b[0m\u001b[1;33m\u001b[0m\u001b[1;33m\u001b[0m\u001b[0m\n\u001b[0;32m    423\u001b[0m         \u001b[1;32mif\u001b[0m \u001b[0mresponse\u001b[0m\u001b[1;33m:\u001b[0m\u001b[1;33m\u001b[0m\u001b[1;33m\u001b[0m\u001b[0m\n\u001b[1;32m--> 424\u001b[1;33m             \u001b[0mself\u001b[0m\u001b[1;33m.\u001b[0m\u001b[0merror_handler\u001b[0m\u001b[1;33m.\u001b[0m\u001b[0mcheck_response\u001b[0m\u001b[1;33m(\u001b[0m\u001b[0mresponse\u001b[0m\u001b[1;33m)\u001b[0m\u001b[1;33m\u001b[0m\u001b[1;33m\u001b[0m\u001b[0m\n\u001b[0m\u001b[0;32m    425\u001b[0m             response['value'] = self._unwrap_value(\n\u001b[0;32m    426\u001b[0m                 response.get('value', None))\n",
      "\u001b[1;32mC:\\ProgramData\\Anaconda3\\lib\\site-packages\\selenium\\webdriver\\remote\\errorhandler.py\u001b[0m in \u001b[0;36mcheck_response\u001b[1;34m(self, response)\u001b[0m\n\u001b[0;32m    245\u001b[0m                 \u001b[0malert_text\u001b[0m \u001b[1;33m=\u001b[0m \u001b[0mvalue\u001b[0m\u001b[1;33m[\u001b[0m\u001b[1;34m'alert'\u001b[0m\u001b[1;33m]\u001b[0m\u001b[1;33m.\u001b[0m\u001b[0mget\u001b[0m\u001b[1;33m(\u001b[0m\u001b[1;34m'text'\u001b[0m\u001b[1;33m)\u001b[0m\u001b[1;33m\u001b[0m\u001b[1;33m\u001b[0m\u001b[0m\n\u001b[0;32m    246\u001b[0m             \u001b[1;32mraise\u001b[0m \u001b[0mexception_class\u001b[0m\u001b[1;33m(\u001b[0m\u001b[0mmessage\u001b[0m\u001b[1;33m,\u001b[0m \u001b[0mscreen\u001b[0m\u001b[1;33m,\u001b[0m \u001b[0mstacktrace\u001b[0m\u001b[1;33m,\u001b[0m \u001b[0malert_text\u001b[0m\u001b[1;33m)\u001b[0m  \u001b[1;31m# type: ignore[call-arg]  # mypy is not smart enough here\u001b[0m\u001b[1;33m\u001b[0m\u001b[1;33m\u001b[0m\u001b[0m\n\u001b[1;32m--> 247\u001b[1;33m         \u001b[1;32mraise\u001b[0m \u001b[0mexception_class\u001b[0m\u001b[1;33m(\u001b[0m\u001b[0mmessage\u001b[0m\u001b[1;33m,\u001b[0m \u001b[0mscreen\u001b[0m\u001b[1;33m,\u001b[0m \u001b[0mstacktrace\u001b[0m\u001b[1;33m)\u001b[0m\u001b[1;33m\u001b[0m\u001b[1;33m\u001b[0m\u001b[0m\n\u001b[0m\u001b[0;32m    248\u001b[0m \u001b[1;33m\u001b[0m\u001b[0m\n\u001b[0;32m    249\u001b[0m     \u001b[1;32mdef\u001b[0m \u001b[0m_value_or_default\u001b[0m\u001b[1;33m(\u001b[0m\u001b[0mself\u001b[0m\u001b[1;33m,\u001b[0m \u001b[0mobj\u001b[0m\u001b[1;33m:\u001b[0m \u001b[0mMapping\u001b[0m\u001b[1;33m[\u001b[0m\u001b[0m_KT\u001b[0m\u001b[1;33m,\u001b[0m \u001b[0m_VT\u001b[0m\u001b[1;33m]\u001b[0m\u001b[1;33m,\u001b[0m \u001b[0mkey\u001b[0m\u001b[1;33m:\u001b[0m \u001b[0m_KT\u001b[0m\u001b[1;33m,\u001b[0m \u001b[0mdefault\u001b[0m\u001b[1;33m:\u001b[0m \u001b[0m_VT\u001b[0m\u001b[1;33m)\u001b[0m \u001b[1;33m->\u001b[0m \u001b[0m_VT\u001b[0m\u001b[1;33m:\u001b[0m\u001b[1;33m\u001b[0m\u001b[1;33m\u001b[0m\u001b[0m\n",
      "\u001b[1;31mWebDriverException\u001b[0m: Message: chrome not reachable\n  (Session info: chrome=102.0.5005.62)\nStacktrace:\nBacktrace:\n\tOrdinal0 [0x003FD953+2414931]\n\tOrdinal0 [0x0038F5E1+1963489]\n\tOrdinal0 [0x0027C580+836992]\n\tOrdinal0 [0x002701E2+786914]\n\tOrdinal0 [0x00270A18+789016]\n\tOrdinal0 [0x002722F2+795378]\n\tOrdinal0 [0x0026BCA9+769193]\n\tOrdinal0 [0x0027DA30+842288]\n\tOrdinal0 [0x002D3FF2+1196018]\n\tOrdinal0 [0x002C42B6+1131190]\n\tOrdinal0 [0x0029E860+976992]\n\tOrdinal0 [0x0029F756+980822]\n\tGetHandleVerifier [0x0066CC62+2510274]\n\tGetHandleVerifier [0x0065F760+2455744]\n\tGetHandleVerifier [0x0048EABA+551962]\n\tGetHandleVerifier [0x0048D916+547446]\n\tOrdinal0 [0x00395F3B+1990459]\n\tOrdinal0 [0x0039A898+2009240]\n\tOrdinal0 [0x0039A985+2009477]\n\tOrdinal0 [0x003A3AD1+2046673]\n\tBaseThreadInitThunk [0x766B6739+25]\n\tRtlGetFullPathName_UEx [0x77198FEF+1215]\n\tRtlGetFullPathName_UEx [0x77198FBD+1165]\n"
     ]
    }
   ],
   "source": [
    "for city in set (cities):\n",
    "    for pets in set(pet_type):\n",
    "        for listing in set(listing_type):\n",
    "            url = url_template.format(listing, pets, city)\n",
    "            browser.get(url)\n",
    "            title = (\n",
    "                WebDriverWait(driver=browser, timeout=10)\n",
    "                .until(visibility_of_element_located((By.CSS_SELECTOR, \"h1\"))).text\n",
    "            )\n",
    "            content = browser.page_source\n",
    "            soup = BeautifulSoup(content, 'lxml')\n",
    "            print(url)\n",
    "            sleep(random.randint(10,15))\n",
    "            try:\n",
    "                target = browser.find_element_by_link_text(\"Next page\")\n",
    "                actions = ActionChains(driver)\n",
    "                actions.move_to_element(target)\n",
    "                actions.perform()\n",
    "                print(url)\n",
    "            except:\n",
    "                break\n",
    "            sleep(random.randint(10,30))"
   ]
  },
  {
   "cell_type": "code",
   "execution_count": null,
   "id": "f5a31a7b",
   "metadata": {},
   "outputs": [],
   "source": [
    "url_template = \"https://www.pets4homes.co.uk/{}/{}/local/{}/\"\n",
    "for city in set (cities):\n",
    "    for pets in set(pet_type):\n",
    "        for listing in set(listing_type):\n",
    "            url = url_template.format(listing, pets, city)\n",
    "            browser.get(url)\n",
    "            content = browser.page_source\n",
    "            soup = BeautifulSoup(content, 'lxml')\n",
    "            print(url)"
   ]
  },
  {
   "cell_type": "code",
   "execution_count": null,
   "id": "1dba4b25",
   "metadata": {},
   "outputs": [],
   "source": []
  }
 ],
 "metadata": {
  "kernelspec": {
   "display_name": "Python 3 (ipykernel)",
   "language": "python",
   "name": "python3"
  },
  "language_info": {
   "codemirror_mode": {
    "name": "ipython",
    "version": 3
   },
   "file_extension": ".py",
   "mimetype": "text/x-python",
   "name": "python",
   "nbconvert_exporter": "python",
   "pygments_lexer": "ipython3",
   "version": "3.9.7"
  }
 },
 "nbformat": 4,
 "nbformat_minor": 5
}
