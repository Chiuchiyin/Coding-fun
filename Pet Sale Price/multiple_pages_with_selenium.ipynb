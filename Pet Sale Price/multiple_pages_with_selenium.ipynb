{
 "cells": [
  {
   "cell_type": "code",
   "execution_count": 5,
   "id": "4d9b9105",
   "metadata": {
    "ExecuteTime": {
     "end_time": "2022-05-27T08:26:20.419634Z",
     "start_time": "2022-05-27T08:26:20.404674Z"
    }
   },
   "outputs": [],
   "source": [
    "#import libraries\n",
    "from time import time, sleep\n",
    "import random\n",
    "import urllib\n",
    "import pandas as pd\n",
    "import numpy as np\n",
    "from tqdm import tqdm\n",
    "import requests\n",
    "import bs4\n",
    "from bs4 import BeautifulSoup\n",
    "import re\n",
    "from IPython.display import clear_output\n",
    "import os\n",
    "from selenium import webdriver\n",
    "from webdriver_manager.chrome import ChromeDriverManager\n",
    "from selenium.webdriver.common.by import By\n",
    "from selenium.webdriver.support.ui import WebDriverWait\n",
    "from selenium.webdriver.support.expected_conditions import visibility_of_element_located\n",
    "from selenium.webdriver.common.action_chains import ActionChains\n",
    "import winsound"
   ]
  },
  {
   "cell_type": "code",
   "execution_count": 6,
   "id": "a183c05c",
   "metadata": {
    "ExecuteTime": {
     "end_time": "2022-05-27T08:26:31.705741Z",
     "start_time": "2022-05-27T08:26:31.694771Z"
    }
   },
   "outputs": [],
   "source": [
    "#URL parsing\n",
    "#Check URL format:\n",
    "#https://www.pets4homes.co.uk/sale/reptiles/local/\n",
    "#https://www.pets4homes.co.uk/sale/reptiles/local/birmingham/\n",
    "#https://www.pets4homes.co.uk/sale/reptiles/local/birmingham/page-11/\n",
    "#https://www.pets4homes.co.uk/sale/dogs/german-shepherd/\n",
    "#https://www.pets4homes.co.uk/sale/dogs/german-shepherd/local/page-35/\n",
    "#https://www.pets4homes.co.uk/sale/dogs/german-shepherd/durham/page-2/\n",
    "#https://www.pets4homes.co.uk/sale/reptiles/hermann-tortoise/liverpool/\n",
    "#https://www.pets4homes.co.uk/adoption/reptiles/hermann-tortoise/liverpool/\n",
    "#https://www.pets4homes.co.uk/stud/reptiles/hermann-tortoise/liverpool/\n",
    "#https://www.pets4homes.co.uk/sale/dogs/local/aberdeen/\n",
    "#URL format is kind of pain to work with, probably should scrape by type of listing, type of pet and city separately.\n",
    "#species or breed would be listed in the dataframe, no need to be scraped individually.\n",
    "#so the format would be:\n",
    "#https://www.pets4homes.co.uk/<type of listing>/<type of pets>/local/<city>/<page>\n",
    "#page don't exist in URL for page 1."
   ]
  },
  {
   "cell_type": "code",
   "execution_count": 7,
   "id": "4f5bcb5c",
   "metadata": {
    "ExecuteTime": {
     "end_time": "2022-05-27T08:26:34.239178Z",
     "start_time": "2022-05-27T08:26:32.519675Z"
    }
   },
   "outputs": [
    {
     "name": "stderr",
     "output_type": "stream",
     "text": [
      "\n",
      "\n",
      "====== WebDriver manager ======\n",
      "Current google-chrome version is 101.0.4951\n",
      "Get LATEST chromedriver version for 101.0.4951 google-chrome\n",
      "Driver [C:\\Users\\fullb\\.wdm\\drivers\\chromedriver\\win32\\101.0.4951.41\\chromedriver.exe] found in cache\n",
      "C:\\Users\\fullb\\AppData\\Local\\Temp/ipykernel_20056/1326188593.py:5: DeprecationWarning: executable_path has been deprecated, please pass in a Service object\n",
      "  browser = webdriver.Chrome(ChromeDriverManager().install())\n"
     ]
    }
   ],
   "source": [
    "url_template = \"https://www.pets4homes.co.uk/{}/{}/local/{}/\"\n",
    "listing_type = ['sale','adoption','stud']\n",
    "pet_type = ['dogs','cats','reptiles','rodents','rabbits','horses','invertebrates','livestock', 'poultry', 'birds','fish']\n",
    "cities = ['aberdeen','ayr_st-ives', 'barnsley_wimborne','basingstoke','bath','bedfordshire','birmingham','blackpool_plymouth',\n",
    "         'bolton_appleby-in-westmorland', 'bournemouth', 'bradford_holsworthy', 'bridgend_brechin', 'brighton',\n",
    "          'bristol_south-west-england', 'cambridge_gloucester', 'cardiff-county', 'carlisle', 'chelmsford', 'cheltenham',\n",
    "         'chester', 'chesterfield', 'colchester', 'cornwall', 'coventry', 'crawley_witney', 'crewe', 'darlington', 'derby', \n",
    "         'devon', 'doncaster', 'dorset', 'dudley_cramlington', 'dundee', 'durham', 'eastbourne', 'edinburgh', 'essex', 'exeter',\n",
    "         'glasgow', 'gloucester', 'grimsby', 'guildford', 'hampshire', 'hereford', 'hertfordshire', '']\n",
    "browser = webdriver.Chrome(ChromeDriverManager().install())\n",
    "page = 1"
   ]
  },
  {
   "cell_type": "code",
   "execution_count": 9,
   "id": "1966303c",
   "metadata": {
    "ExecuteTime": {
     "end_time": "2022-05-27T09:43:59.019831Z",
     "start_time": "2022-05-27T09:39:23.113115Z"
    }
   },
   "outputs": [
    {
     "name": "stderr",
     "output_type": "stream",
     "text": [
      "\n",
      "\n",
      "====== WebDriver manager ======\n",
      "Current google-chrome version is 101.0.4951\n",
      "Get LATEST chromedriver version for 101.0.4951 google-chrome\n",
      "Driver [C:\\Users\\fullb\\.wdm\\drivers\\chromedriver\\win32\\101.0.4951.41\\chromedriver.exe] found in cache\n",
      "C:\\Users\\fullb\\AppData\\Local\\Temp/ipykernel_20056/3222587674.py:6: DeprecationWarning: executable_path has been deprecated, please pass in a Service object\n",
      "  browser = webdriver.Chrome(ChromeDriverManager().install(),options = options)\n"
     ]
    },
    {
     "name": "stdout",
     "output_type": "stream",
     "text": [
      "https://www.pets4homes.co.uk/adoption/dogs/local/bath/\n"
     ]
    },
    {
     "name": "stderr",
     "output_type": "stream",
     "text": [
      "C:\\Users\\fullb\\AppData\\Local\\Temp/ipykernel_20056/3222587674.py:17: DeprecationWarning: find_element_by_* commands are deprecated. Please use find_element() instead\n",
      "  target = browser.find_element_by_link_text(\"Next page\")\n",
      "\n",
      "\n",
      "====== WebDriver manager ======\n",
      "Current google-chrome version is 101.0.4951\n",
      "Get LATEST chromedriver version for 101.0.4951 google-chrome\n",
      "Driver [C:\\Users\\fullb\\.wdm\\drivers\\chromedriver\\win32\\101.0.4951.41\\chromedriver.exe] found in cache\n"
     ]
    },
    {
     "name": "stdout",
     "output_type": "stream",
     "text": [
      "https://www.pets4homes.co.uk/adoption/reptiles/local/bath/\n"
     ]
    },
    {
     "name": "stderr",
     "output_type": "stream",
     "text": [
      "\n",
      "\n",
      "====== WebDriver manager ======\n",
      "Current google-chrome version is 101.0.4951\n",
      "Get LATEST chromedriver version for 101.0.4951 google-chrome\n",
      "Driver [C:\\Users\\fullb\\.wdm\\drivers\\chromedriver\\win32\\101.0.4951.41\\chromedriver.exe] found in cache\n"
     ]
    },
    {
     "name": "stdout",
     "output_type": "stream",
     "text": [
      "https://www.pets4homes.co.uk/adoption/cats/local/bath/\n"
     ]
    },
    {
     "name": "stderr",
     "output_type": "stream",
     "text": [
      "\n",
      "\n",
      "====== WebDriver manager ======\n",
      "Current google-chrome version is 101.0.4951\n",
      "Get LATEST chromedriver version for 101.0.4951 google-chrome\n",
      "Driver [C:\\Users\\fullb\\.wdm\\drivers\\chromedriver\\win32\\101.0.4951.41\\chromedriver.exe] found in cache\n"
     ]
    },
    {
     "name": "stdout",
     "output_type": "stream",
     "text": [
      "https://www.pets4homes.co.uk/adoption/dogs/local/bedfordshire/\n"
     ]
    },
    {
     "name": "stderr",
     "output_type": "stream",
     "text": [
      "\n",
      "\n",
      "====== WebDriver manager ======\n",
      "Current google-chrome version is 101.0.4951\n",
      "Get LATEST chromedriver version for 101.0.4951 google-chrome\n",
      "Driver [C:\\Users\\fullb\\.wdm\\drivers\\chromedriver\\win32\\101.0.4951.41\\chromedriver.exe] found in cache\n"
     ]
    },
    {
     "name": "stdout",
     "output_type": "stream",
     "text": [
      "https://www.pets4homes.co.uk/adoption/reptiles/local/bedfordshire/\n"
     ]
    },
    {
     "name": "stderr",
     "output_type": "stream",
     "text": [
      "\n",
      "\n",
      "====== WebDriver manager ======\n",
      "Current google-chrome version is 101.0.4951\n",
      "Get LATEST chromedriver version for 101.0.4951 google-chrome\n",
      "Driver [C:\\Users\\fullb\\.wdm\\drivers\\chromedriver\\win32\\101.0.4951.41\\chromedriver.exe] found in cache\n"
     ]
    },
    {
     "name": "stdout",
     "output_type": "stream",
     "text": [
      "https://www.pets4homes.co.uk/adoption/cats/local/bedfordshire/\n"
     ]
    },
    {
     "name": "stderr",
     "output_type": "stream",
     "text": [
      "\n",
      "\n",
      "====== WebDriver manager ======\n",
      "Current google-chrome version is 101.0.4951\n",
      "Get LATEST chromedriver version for 101.0.4951 google-chrome\n",
      "Driver [C:\\Users\\fullb\\.wdm\\drivers\\chromedriver\\win32\\101.0.4951.41\\chromedriver.exe] found in cache\n"
     ]
    },
    {
     "name": "stdout",
     "output_type": "stream",
     "text": [
      "https://www.pets4homes.co.uk/adoption/dogs/local/barnsley_wimborne/\n"
     ]
    },
    {
     "name": "stderr",
     "output_type": "stream",
     "text": [
      "\n",
      "\n",
      "====== WebDriver manager ======\n",
      "Current google-chrome version is 101.0.4951\n",
      "Get LATEST chromedriver version for 101.0.4951 google-chrome\n",
      "Driver [C:\\Users\\fullb\\.wdm\\drivers\\chromedriver\\win32\\101.0.4951.41\\chromedriver.exe] found in cache\n"
     ]
    },
    {
     "name": "stdout",
     "output_type": "stream",
     "text": [
      "https://www.pets4homes.co.uk/adoption/reptiles/local/barnsley_wimborne/\n"
     ]
    },
    {
     "name": "stderr",
     "output_type": "stream",
     "text": [
      "\n",
      "\n",
      "====== WebDriver manager ======\n",
      "Current google-chrome version is 101.0.4951\n",
      "Get LATEST chromedriver version for 101.0.4951 google-chrome\n",
      "Driver [C:\\Users\\fullb\\.wdm\\drivers\\chromedriver\\win32\\101.0.4951.41\\chromedriver.exe] found in cache\n"
     ]
    },
    {
     "name": "stdout",
     "output_type": "stream",
     "text": [
      "https://www.pets4homes.co.uk/adoption/cats/local/barnsley_wimborne/\n"
     ]
    },
    {
     "name": "stderr",
     "output_type": "stream",
     "text": [
      "\n",
      "\n",
      "====== WebDriver manager ======\n",
      "Current google-chrome version is 101.0.4951\n",
      "Get LATEST chromedriver version for 101.0.4951 google-chrome\n",
      "Driver [C:\\Users\\fullb\\.wdm\\drivers\\chromedriver\\win32\\101.0.4951.41\\chromedriver.exe] found in cache\n"
     ]
    },
    {
     "name": "stdout",
     "output_type": "stream",
     "text": [
      "https://www.pets4homes.co.uk/adoption/dogs/local/ayr_st-ives/\n"
     ]
    },
    {
     "name": "stderr",
     "output_type": "stream",
     "text": [
      "\n",
      "\n",
      "====== WebDriver manager ======\n",
      "Current google-chrome version is 101.0.4951\n",
      "Get LATEST chromedriver version for 101.0.4951 google-chrome\n",
      "Driver [C:\\Users\\fullb\\.wdm\\drivers\\chromedriver\\win32\\101.0.4951.41\\chromedriver.exe] found in cache\n"
     ]
    },
    {
     "name": "stdout",
     "output_type": "stream",
     "text": [
      "https://www.pets4homes.co.uk/adoption/reptiles/local/ayr_st-ives/\n"
     ]
    },
    {
     "name": "stderr",
     "output_type": "stream",
     "text": [
      "\n",
      "\n",
      "====== WebDriver manager ======\n",
      "Current google-chrome version is 101.0.4951\n",
      "Get LATEST chromedriver version for 101.0.4951 google-chrome\n",
      "Driver [C:\\Users\\fullb\\.wdm\\drivers\\chromedriver\\win32\\101.0.4951.41\\chromedriver.exe] found in cache\n"
     ]
    },
    {
     "name": "stdout",
     "output_type": "stream",
     "text": [
      "https://www.pets4homes.co.uk/adoption/cats/local/ayr_st-ives/\n"
     ]
    },
    {
     "name": "stderr",
     "output_type": "stream",
     "text": [
      "\n",
      "\n",
      "====== WebDriver manager ======\n",
      "Current google-chrome version is 101.0.4951\n",
      "Get LATEST chromedriver version for 101.0.4951 google-chrome\n",
      "Driver [C:\\Users\\fullb\\.wdm\\drivers\\chromedriver\\win32\\101.0.4951.41\\chromedriver.exe] found in cache\n"
     ]
    },
    {
     "name": "stdout",
     "output_type": "stream",
     "text": [
      "https://www.pets4homes.co.uk/adoption/dogs/local/aberdeen/\n"
     ]
    },
    {
     "name": "stderr",
     "output_type": "stream",
     "text": [
      "\n",
      "\n",
      "====== WebDriver manager ======\n",
      "Current google-chrome version is 101.0.4951\n",
      "Get LATEST chromedriver version for 101.0.4951 google-chrome\n",
      "Driver [C:\\Users\\fullb\\.wdm\\drivers\\chromedriver\\win32\\101.0.4951.41\\chromedriver.exe] found in cache\n"
     ]
    },
    {
     "name": "stdout",
     "output_type": "stream",
     "text": [
      "https://www.pets4homes.co.uk/adoption/reptiles/local/aberdeen/\n"
     ]
    },
    {
     "name": "stderr",
     "output_type": "stream",
     "text": [
      "\n",
      "\n",
      "====== WebDriver manager ======\n",
      "Current google-chrome version is 101.0.4951\n",
      "Get LATEST chromedriver version for 101.0.4951 google-chrome\n",
      "Driver [C:\\Users\\fullb\\.wdm\\drivers\\chromedriver\\win32\\101.0.4951.41\\chromedriver.exe] found in cache\n"
     ]
    },
    {
     "name": "stdout",
     "output_type": "stream",
     "text": [
      "https://www.pets4homes.co.uk/adoption/cats/local/aberdeen/\n"
     ]
    },
    {
     "ename": "KeyboardInterrupt",
     "evalue": "",
     "output_type": "error",
     "traceback": [
      "\u001b[1;31m---------------------------------------------------------------------------\u001b[0m",
      "\u001b[1;31mKeyboardInterrupt\u001b[0m                         Traceback (most recent call last)",
      "\u001b[1;32m~\\AppData\\Local\\Temp/ipykernel_20056/3222587674.py\u001b[0m in \u001b[0;36m<module>\u001b[1;34m\u001b[0m\n\u001b[0;32m     13\u001b[0m             \u001b[0msoup\u001b[0m \u001b[1;33m=\u001b[0m \u001b[0mBeautifulSoup\u001b[0m\u001b[1;33m(\u001b[0m\u001b[0mcontent\u001b[0m\u001b[1;33m,\u001b[0m \u001b[1;34m'lxml'\u001b[0m\u001b[1;33m)\u001b[0m\u001b[1;33m\u001b[0m\u001b[1;33m\u001b[0m\u001b[0m\n\u001b[0;32m     14\u001b[0m             \u001b[0mprint\u001b[0m\u001b[1;33m(\u001b[0m\u001b[0murl\u001b[0m\u001b[1;33m)\u001b[0m\u001b[1;33m\u001b[0m\u001b[1;33m\u001b[0m\u001b[0m\n\u001b[1;32m---> 15\u001b[1;33m             \u001b[0msleep\u001b[0m\u001b[1;33m(\u001b[0m\u001b[0mrandom\u001b[0m\u001b[1;33m.\u001b[0m\u001b[0mrandint\u001b[0m\u001b[1;33m(\u001b[0m\u001b[1;36m10\u001b[0m\u001b[1;33m,\u001b[0m\u001b[1;36m15\u001b[0m\u001b[1;33m)\u001b[0m\u001b[1;33m)\u001b[0m\u001b[1;33m\u001b[0m\u001b[1;33m\u001b[0m\u001b[0m\n\u001b[0m\u001b[0;32m     16\u001b[0m             \u001b[1;32mtry\u001b[0m\u001b[1;33m:\u001b[0m\u001b[1;33m\u001b[0m\u001b[1;33m\u001b[0m\u001b[0m\n\u001b[0;32m     17\u001b[0m                 \u001b[0mtarget\u001b[0m \u001b[1;33m=\u001b[0m \u001b[0mbrowser\u001b[0m\u001b[1;33m.\u001b[0m\u001b[0mfind_element_by_link_text\u001b[0m\u001b[1;33m(\u001b[0m\u001b[1;34m\"Next page\"\u001b[0m\u001b[1;33m)\u001b[0m\u001b[1;33m\u001b[0m\u001b[1;33m\u001b[0m\u001b[0m\n",
      "\u001b[1;31mKeyboardInterrupt\u001b[0m: "
     ]
    }
   ],
   "source": [
    "for city in set (cities):\n",
    "    for pets in set(pet_type):\n",
    "        for listing in set(listing_type):\n",
    "            url = url_template.format(listing, pets, city)\n",
    "            options = webdriver.ChromeOptions()\n",
    "            browser = webdriver.Chrome(ChromeDriverManager().install(),options = options)\n",
    "            browser.get(url)\n",
    "            title = (\n",
    "                WebDriverWait(driver=browser, timeout=10)\n",
    "                .until(visibility_of_element_located((By.CSS_SELECTOR, \"h1\"))).text\n",
    "            )\n",
    "            content = browser.page_source\n",
    "            soup = BeautifulSoup(content, 'lxml')\n",
    "            print(url)\n",
    "            sleep(random.randint(10,15))\n",
    "            \n",
    "            sleep(random.randint(10,30))"
   ]
  },
  {
   "cell_type": "code",
   "execution_count": null,
   "id": "a14a8a50",
   "metadata": {},
   "outputs": [],
   "source": [
    "def check_captcha (soup):\n",
    "    if 'I am human' in soup.get_text():\n",
    "            print('captcha detected')\n",
    "            duration = 5000  # milliseconds\n",
    "            freq = 440  # Hz\n",
    "            winsound.Beep(freq, duration) #sound alert, might get irritating, probably won't work on mac\n",
    "            input(\"Press Enter to continue...\")#this would pause the code until i press enter"
   ]
  },
  {
   "cell_type": "code",
   "execution_count": null,
   "id": "dde194b8",
   "metadata": {},
   "outputs": [],
   "source": [
    "def check_if_empty (soup):\n",
    "    if 'We found 0' in soup.get_text():\n",
    "            print('no result found')"
   ]
  },
  {
   "cell_type": "code",
   "execution_count": null,
   "id": "f5a31a7b",
   "metadata": {},
   "outputs": [],
   "source": [
    "def scrape_header(soup):\n",
    "    file = 'data_by_cities/header_'+str(city)+'.csv'\n",
    "        try: \n",
    "            df_header = pd.read_csv(file , sep='\\t', encoding='utf-8', index_col=0)\n",
    "            print('file successfully opened')\n",
    "        except:\n",
    "            print('file not found, creating new file')\n",
    "            df_header = pd.DataFrame(columns=[\"Title\",\"Description\",\"photo_link\",\"category\", \"price\", \"url\",\n",
    "                                              \"seller_type\", \"seller_name\", 'listing_type','pet_type'])\n",
    "            df_header.to_csv(file, sep='\\t', encoding='utf-8')\n",
    "    for each in soup.find_all(\"script\", type=\"application/ld+json\"):\n",
    "    entries = each.get_text()\n",
    "    split = entries.split(\"\\n\")\n",
    "    Title = split[3].replace('\"name\": \"', '').replace('\",', '')\n",
    "    Description = split[4].replace('\"description\": \"', '').replace('\",', '').replace('\\n,', '')\n",
    "    Photo = split[5].replace('\"image\": \"', '').replace('\",', '')\n",
    "    Category = split[7].replace('\"category\": \"', '').replace('\",', '')\n",
    "    Price = split[11].replace('\"price\": \"', '').replace('\",', '')\n",
    "    url =split[13].replace('\"url\": \"', '').replace('\",', '')\n",
    "    seller_type = split[15].replace('\"type\": \"', '').replace('\",', '')\n",
    "    seller_name = split[16].replace('\"name\":  \"', '').replace('\"', '')\n",
    "    df_header = df_header.append({\"Title\":Title,\"Description\":Description,\"photo_link\":Photo,\"category\":Category, \n",
    "                                  \"price\":Price,\"url\":url, \"seller_type\":seller_type, \"seller_name\":seller_name\n",
    "                                 \"listing_type\":listing, \"pet_type\": pets},ignore_index=True)\n",
    "    return df_header"
   ]
  },
  {
   "cell_type": "code",
   "execution_count": null,
   "id": "1dba4b25",
   "metadata": {},
   "outputs": [],
   "source": [
    "def scrape_content(soup):\n",
    "    file = 'data_by_cities/body_'+str(city)+'.csv'\n",
    "        try: \n",
    "            df_body = pd.read_csv(file , sep='\\t', encoding='utf-8', index_col=0)\n",
    "            print('file successfully opened')\n",
    "        except:\n",
    "            print('file not found, creating new file')\n",
    "            df_body = pd.DataFrame(columns=[\"Title\",\"price\",\"info\",\"species\", \"age\", \"gender\", \"description\"\n",
    "                                              \"seller_name\", \"seller_location\", \"seller_type\", , 'listing_type','pet_type'])\n",
    "            df_body.to_csv(file, sep='\\t', encoding='utf-8')\n",
    "    for each in soup.find_all(\"div\", class_=\"Hm aj\"):\n",
    "    entries = each.get_text()\n",
    "    title = each.find('h2', {'class':'Rm'}).text\n",
    "    price = each.find('span', {'class':'Sm'}).text\n",
    "    info = each.find_all('span', {'class':'dv'})\n",
    "    species = info[0].text\n",
    "    age = info[1].text.replace('Age:  ', '')\n",
    "    gender = info[2].text\n",
    "    description = each.find('span', {'class':'Tm'}).text\n",
    "    seller_name = each.find('span', {'class':'Zm'}).text\n",
    "    seller_location = each.find('span', {'class':'ss'}).text\n",
    "    seller_type = each.find('div', {'class':'an'}).text\n",
    "    df_body = df_body.append({\"Title\":title, \"price\":price, \"info\":info, \"species\":species, \"age\":age, \"gender\":gender,\n",
    "                              \"description\":description, \"seller_name\":seller_name, \"seller_location\": seller_location,\n",
    "                              \"seller_type\":seller_type, \"listing_type\":listing, \"pet_type\": pets},ignore_index=True)"
   ]
  },
  {
   "cell_type": "code",
   "execution_count": null,
   "id": "7a520855",
   "metadata": {},
   "outputs": [],
   "source": [
    "            "
   ]
  }
 ],
 "metadata": {
  "kernelspec": {
   "display_name": "Python 3 (ipykernel)",
   "language": "python",
   "name": "python3"
  },
  "language_info": {
   "codemirror_mode": {
    "name": "ipython",
    "version": 3
   },
   "file_extension": ".py",
   "mimetype": "text/x-python",
   "name": "python",
   "nbconvert_exporter": "python",
   "pygments_lexer": "ipython3",
   "version": "3.9.7"
  }
 },
 "nbformat": 4,
 "nbformat_minor": 5
}
