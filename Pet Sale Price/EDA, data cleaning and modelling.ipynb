{
 "cells": [
  {
   "cell_type": "code",
   "execution_count": 157,
   "id": "1d7847ef",
   "metadata": {
    "ExecuteTime": {
     "end_time": "2022-06-15T14:32:51.425838Z",
     "start_time": "2022-06-15T14:32:51.417835Z"
    }
   },
   "outputs": [],
   "source": [
    "import pandas as pd\n",
    "import numpy as np\n",
    "import seaborn as sns\n",
    "import matplotlib.pyplot as plt\n",
    "from textblob import TextBlob\n",
    "from langdetect import detect"
   ]
  },
  {
   "cell_type": "code",
   "execution_count": 158,
   "id": "1b836e9c",
   "metadata": {
    "ExecuteTime": {
     "end_time": "2022-06-15T14:32:52.254714Z",
     "start_time": "2022-06-15T14:32:51.998399Z"
    },
    "scrolled": false
   },
   "outputs": [
    {
     "data": {
      "text/html": [
       "<div>\n",
       "<style scoped>\n",
       "    .dataframe tbody tr th:only-of-type {\n",
       "        vertical-align: middle;\n",
       "    }\n",
       "\n",
       "    .dataframe tbody tr th {\n",
       "        vertical-align: top;\n",
       "    }\n",
       "\n",
       "    .dataframe thead th {\n",
       "        text-align: right;\n",
       "    }\n",
       "</style>\n",
       "<table border=\"1\" class=\"dataframe\">\n",
       "  <thead>\n",
       "    <tr style=\"text-align: right;\">\n",
       "      <th></th>\n",
       "      <th>Title</th>\n",
       "      <th>price</th>\n",
       "      <th>species</th>\n",
       "      <th>age</th>\n",
       "      <th>gender</th>\n",
       "      <th>description</th>\n",
       "      <th>seller_name</th>\n",
       "      <th>seller_location</th>\n",
       "      <th>seller_type</th>\n",
       "      <th>listing_type</th>\n",
       "      <th>pet_type</th>\n",
       "    </tr>\n",
       "  </thead>\n",
       "  <tbody>\n",
       "    <tr>\n",
       "      <th>0</th>\n",
       "      <td>unsexed green tree python + 60cm vivtek</td>\n",
       "      <td>1000.0</td>\n",
       "      <td>Python Snake</td>\n",
       "      <td>3 years</td>\n",
       "      <td>Mixed</td>\n",
       "      <td>~3years old gtp biak x sorong    Typical gtp a...</td>\n",
       "      <td>Patryk M.</td>\n",
       "      <td>Aberdeen</td>\n",
       "      <td>Individual</td>\n",
       "      <td>sale</td>\n",
       "      <td>reptiles</td>\n",
       "    </tr>\n",
       "    <tr>\n",
       "      <th>1</th>\n",
       "      <td>Leopard gecko (f)</td>\n",
       "      <td>80.0</td>\n",
       "      <td>Gecko</td>\n",
       "      <td>1 year</td>\n",
       "      <td>Female</td>\n",
       "      <td>Selling this leopard gecko I've had the joy of...</td>\n",
       "      <td>Dana I.</td>\n",
       "      <td>Aberdeen</td>\n",
       "      <td>Individual</td>\n",
       "      <td>sale</td>\n",
       "      <td>reptiles</td>\n",
       "    </tr>\n",
       "    <tr>\n",
       "      <th>2</th>\n",
       "      <td>rexy</td>\n",
       "      <td>100.0</td>\n",
       "      <td>Iguana</td>\n",
       "      <td>4 years</td>\n",
       "      <td>Male</td>\n",
       "      <td>rexy needs a new home ASP   sadly I don't not ...</td>\n",
       "      <td>Gillian W.</td>\n",
       "      <td>Aberdeen</td>\n",
       "      <td>Individual</td>\n",
       "      <td>sale</td>\n",
       "      <td>reptiles</td>\n",
       "    </tr>\n",
       "    <tr>\n",
       "      <th>3</th>\n",
       "      <td>Panther Chameleon and full set up</td>\n",
       "      <td>550.0</td>\n",
       "      <td>Chameleon</td>\n",
       "      <td>9 months</td>\n",
       "      <td>Male</td>\n",
       "      <td>Blue is a 6 month old Nosey Mitsio chameleon. ...</td>\n",
       "      <td>Craig H.</td>\n",
       "      <td>Aberdeen</td>\n",
       "      <td>Individual</td>\n",
       "      <td>sale</td>\n",
       "      <td>reptiles</td>\n",
       "    </tr>\n",
       "    <tr>\n",
       "      <th>4</th>\n",
       "      <td>Hand reared white Indian ringnecks</td>\n",
       "      <td>300.0</td>\n",
       "      <td>Parakeets</td>\n",
       "      <td>9 weeks</td>\n",
       "      <td>Mixed</td>\n",
       "      <td>I have 2 stunning white Indian ringnecks. 1 ma...</td>\n",
       "      <td>Dave T.</td>\n",
       "      <td>Aberdeen</td>\n",
       "      <td>Individual</td>\n",
       "      <td>sale</td>\n",
       "      <td>birds</td>\n",
       "    </tr>\n",
       "    <tr>\n",
       "      <th>...</th>\n",
       "      <td>...</td>\n",
       "      <td>...</td>\n",
       "      <td>...</td>\n",
       "      <td>...</td>\n",
       "      <td>...</td>\n",
       "      <td>...</td>\n",
       "      <td>...</td>\n",
       "      <td>...</td>\n",
       "      <td>...</td>\n",
       "      <td>...</td>\n",
       "      <td>...</td>\n",
       "    </tr>\n",
       "    <tr>\n",
       "      <th>48776</th>\n",
       "      <td>canarys for sale all colour plus new colours</td>\n",
       "      <td>40.0</td>\n",
       "      <td>Canaries</td>\n",
       "      <td>7 weeks</td>\n",
       "      <td>Mixed</td>\n",
       "      <td>there are all mixed cocks and hens new volour ...</td>\n",
       "      <td>Robert n.</td>\n",
       "      <td>Knottingley</td>\n",
       "      <td>Breeder</td>\n",
       "      <td>sale</td>\n",
       "      <td>birds</td>\n",
       "    </tr>\n",
       "    <tr>\n",
       "      <th>48777</th>\n",
       "      <td>TAME &amp; TALKING HARNESS TRAINED BLUE &amp; GOLD MACAW</td>\n",
       "      <td>2150.0</td>\n",
       "      <td>Macaws</td>\n",
       "      <td>4 years</td>\n",
       "      <td>Male</td>\n",
       "      <td>Rainbow is a beautiful example of a blue and g...</td>\n",
       "      <td>The Bradford Birdman</td>\n",
       "      <td>Bradford</td>\n",
       "      <td>Licensed Breeder</td>\n",
       "      <td>sale</td>\n",
       "      <td>birds</td>\n",
       "    </tr>\n",
       "    <tr>\n",
       "      <th>48778</th>\n",
       "      <td>Hand reared indian ringnecks babys</td>\n",
       "      <td>350.0</td>\n",
       "      <td>Parrots</td>\n",
       "      <td>1 year</td>\n",
       "      <td>Male</td>\n",
       "      <td>Hand reared cuddly silly tame little babys for...</td>\n",
       "      <td>Waqar A.</td>\n",
       "      <td>Bradford</td>\n",
       "      <td>Breeder</td>\n",
       "      <td>sale</td>\n",
       "      <td>birds</td>\n",
       "    </tr>\n",
       "    <tr>\n",
       "      <th>48779</th>\n",
       "      <td>One yellow one orange canary.</td>\n",
       "      <td>60.0</td>\n",
       "      <td>Canaries</td>\n",
       "      <td>2 years</td>\n",
       "      <td>Mixed</td>\n",
       "      <td>I’m reluctantly listing my canaries (peach and...</td>\n",
       "      <td>Amylia R.</td>\n",
       "      <td>Barnsley</td>\n",
       "      <td>Individual</td>\n",
       "      <td>sale</td>\n",
       "      <td>birds</td>\n",
       "    </tr>\n",
       "    <tr>\n",
       "      <th>48780</th>\n",
       "      <td>Tame and talking African grey</td>\n",
       "      <td>1250.0</td>\n",
       "      <td>Parrots</td>\n",
       "      <td>9 years</td>\n",
       "      <td>Male</td>\n",
       "      <td>Pablo has just turned 9 not able to give him t...</td>\n",
       "      <td>Ahmad R.</td>\n",
       "      <td>Bradford</td>\n",
       "      <td>Breeder</td>\n",
       "      <td>sale</td>\n",
       "      <td>birds</td>\n",
       "    </tr>\n",
       "  </tbody>\n",
       "</table>\n",
       "<p>48781 rows × 11 columns</p>\n",
       "</div>"
      ],
      "text/plain": [
       "                                                  Title   price       species  \\\n",
       "0              unsexed green tree python + 60cm vivtek   1000.0  Python Snake   \n",
       "1                                     Leopard gecko (f)    80.0         Gecko   \n",
       "2                                                  rexy   100.0        Iguana   \n",
       "3                    Panther Chameleon and full set up    550.0     Chameleon   \n",
       "4                   Hand reared white Indian ringnecks    300.0     Parakeets   \n",
       "...                                                 ...     ...           ...   \n",
       "48776      canarys for sale all colour plus new colours    40.0      Canaries   \n",
       "48777  TAME & TALKING HARNESS TRAINED BLUE & GOLD MACAW  2150.0        Macaws   \n",
       "48778                Hand reared indian ringnecks babys   350.0       Parrots   \n",
       "48779                    One yellow one orange canary.     60.0      Canaries   \n",
       "48780                     Tame and talking African grey  1250.0       Parrots   \n",
       "\n",
       "            age  gender                                        description  \\\n",
       "0       3 years   Mixed  ~3years old gtp biak x sorong    Typical gtp a...   \n",
       "1        1 year  Female  Selling this leopard gecko I've had the joy of...   \n",
       "2       4 years    Male  rexy needs a new home ASP   sadly I don't not ...   \n",
       "3      9 months    Male  Blue is a 6 month old Nosey Mitsio chameleon. ...   \n",
       "4       9 weeks   Mixed  I have 2 stunning white Indian ringnecks. 1 ma...   \n",
       "...         ...     ...                                                ...   \n",
       "48776   7 weeks   Mixed  there are all mixed cocks and hens new volour ...   \n",
       "48777   4 years    Male  Rainbow is a beautiful example of a blue and g...   \n",
       "48778    1 year    Male  Hand reared cuddly silly tame little babys for...   \n",
       "48779   2 years   Mixed  I’m reluctantly listing my canaries (peach and...   \n",
       "48780   9 years    Male  Pablo has just turned 9 not able to give him t...   \n",
       "\n",
       "                seller_name seller_location       seller_type listing_type  \\\n",
       "0                 Patryk M.        Aberdeen        Individual         sale   \n",
       "1                   Dana I.        Aberdeen        Individual         sale   \n",
       "2                Gillian W.        Aberdeen        Individual         sale   \n",
       "3                  Craig H.        Aberdeen        Individual         sale   \n",
       "4                   Dave T.        Aberdeen        Individual         sale   \n",
       "...                     ...             ...               ...          ...   \n",
       "48776             Robert n.     Knottingley           Breeder         sale   \n",
       "48777  The Bradford Birdman        Bradford  Licensed Breeder         sale   \n",
       "48778              Waqar A.        Bradford           Breeder         sale   \n",
       "48779             Amylia R.        Barnsley        Individual         sale   \n",
       "48780              Ahmad R.        Bradford           Breeder         sale   \n",
       "\n",
       "       pet_type  \n",
       "0      reptiles  \n",
       "1      reptiles  \n",
       "2      reptiles  \n",
       "3      reptiles  \n",
       "4         birds  \n",
       "...         ...  \n",
       "48776     birds  \n",
       "48777     birds  \n",
       "48778     birds  \n",
       "48779     birds  \n",
       "48780     birds  \n",
       "\n",
       "[48781 rows x 11 columns]"
      ]
     },
     "execution_count": 158,
     "metadata": {},
     "output_type": "execute_result"
    }
   ],
   "source": [
    "df = pd.read_csv('merged.csv' , sep='\\t', encoding='utf-8', index_col=0)\n",
    "df"
   ]
  },
  {
   "cell_type": "markdown",
   "id": "7653949f",
   "metadata": {},
   "source": [
    "# EDA and Data Cleaning"
   ]
  },
  {
   "cell_type": "code",
   "execution_count": 159,
   "id": "cd9d3aa1",
   "metadata": {
    "ExecuteTime": {
     "end_time": "2022-06-15T14:32:52.534759Z",
     "start_time": "2022-06-15T14:32:52.509824Z"
    }
   },
   "outputs": [
    {
     "name": "stdout",
     "output_type": "stream",
     "text": [
      "<class 'pandas.core.frame.DataFrame'>\n",
      "Int64Index: 48781 entries, 0 to 48780\n",
      "Data columns (total 11 columns):\n",
      " #   Column           Non-Null Count  Dtype  \n",
      "---  ------           --------------  -----  \n",
      " 0   Title            48781 non-null  object \n",
      " 1   price            48781 non-null  float64\n",
      " 2   species          48781 non-null  object \n",
      " 3   age              48781 non-null  object \n",
      " 4   gender           48781 non-null  object \n",
      " 5   description      48781 non-null  object \n",
      " 6   seller_name      48781 non-null  object \n",
      " 7   seller_location  48781 non-null  object \n",
      " 8   seller_type      48781 non-null  object \n",
      " 9   listing_type     48781 non-null  object \n",
      " 10  pet_type         48781 non-null  object \n",
      "dtypes: float64(1), object(10)\n",
      "memory usage: 4.5+ MB\n"
     ]
    }
   ],
   "source": [
    "df.info()"
   ]
  },
  {
   "cell_type": "code",
   "execution_count": 160,
   "id": "114a9eef",
   "metadata": {
    "ExecuteTime": {
     "end_time": "2022-06-15T14:32:53.113358Z",
     "start_time": "2022-06-15T14:32:53.045093Z"
    }
   },
   "outputs": [
    {
     "data": {
      "text/plain": [
       "Title              37519\n",
       "price                394\n",
       "species              438\n",
       "age                  101\n",
       "gender               139\n",
       "description        44796\n",
       "seller_name        20520\n",
       "seller_location     1083\n",
       "seller_type            5\n",
       "listing_type           3\n",
       "pet_type              11\n",
       "dtype: int64"
      ]
     },
     "execution_count": 160,
     "metadata": {},
     "output_type": "execute_result"
    }
   ],
   "source": [
    "df.nunique()"
   ]
  },
  {
   "cell_type": "code",
   "execution_count": 161,
   "id": "c78ed663",
   "metadata": {
    "ExecuteTime": {
     "end_time": "2022-06-15T14:32:53.503209Z",
     "start_time": "2022-06-15T14:32:53.494232Z"
    }
   },
   "outputs": [
    {
     "data": {
      "text/plain": [
       "unknown                11934\n",
       "Mixed                   6199\n",
       "Male                    3719\n",
       "1 male                  2857\n",
       "Female                  2796\n",
       "                       ...  \n",
       "03 male / 03 female        1\n",
       "03 male / 01 female        1\n",
       "03 male / 02 female        1\n",
       "7 male / 8 female          1\n",
       "05 male / 1 female         1\n",
       "Name: gender, Length: 139, dtype: int64"
      ]
     },
     "execution_count": 161,
     "metadata": {},
     "output_type": "execute_result"
    }
   ],
   "source": [
    "df['gender'].value_counts()"
   ]
  },
  {
   "cell_type": "markdown",
   "id": "3647419b",
   "metadata": {},
   "source": [
    "We should combine these 'x number of male and y number of female' as mixed litters and remove the numbers from the others"
   ]
  },
  {
   "cell_type": "code",
   "execution_count": 162,
   "id": "4147e60b",
   "metadata": {
    "ExecuteTime": {
     "end_time": "2022-06-15T14:32:54.370660Z",
     "start_time": "2022-06-15T14:32:54.333759Z"
    }
   },
   "outputs": [
    {
     "data": {
      "text/plain": [
       "Mixed       20614\n",
       "unknown     11934\n",
       "Male         8850\n",
       "Female       7085\n",
       "Mare          139\n",
       "Gelding       117\n",
       "Stallion       42\n",
       "Name: gender, dtype: int64"
      ]
     },
     "execution_count": 162,
     "metadata": {},
     "output_type": "execute_result"
    }
   ],
   "source": [
    "df['gender'] = df['gender'].apply(lambda x: 'Mixed' if (' male' in x and 'female' in x) else x)\n",
    "df['gender'] = df['gender'].apply(lambda x: 'Female' if (' female' in x) else x)\n",
    "df['gender'] = df['gender'].apply(lambda x: 'Male' if (' male' in x) else x)\n",
    "df['gender'].value_counts()"
   ]
  },
  {
   "cell_type": "markdown",
   "id": "26412a4a",
   "metadata": {},
   "source": [
    "This is satisfactory enough. Mare, Gelding and Stallion are horses."
   ]
  },
  {
   "cell_type": "code",
   "execution_count": 163,
   "id": "a4b4e185",
   "metadata": {
    "ExecuteTime": {
     "end_time": "2022-06-15T14:32:55.385735Z",
     "start_time": "2022-06-15T14:32:55.170280Z"
    }
   },
   "outputs": [
    {
     "data": {
      "image/png": "[encoded data removed]",
      "text/plain": [
       "<Figure size 432x288 with 1 Axes>"
      ]
     },
     "metadata": {
      "needs_background": "light"
     },
     "output_type": "display_data"
    }
   ],
   "source": [
    "ax = df.gender.value_counts().plot(kind='barh')\n",
    "ax.set_xscale('log')"
   ]
  },
  {
   "cell_type": "code",
   "execution_count": 164,
   "id": "871f58c4",
   "metadata": {
    "ExecuteTime": {
     "end_time": "2022-06-15T14:32:55.669884Z",
     "start_time": "2022-06-15T14:32:55.602035Z"
    }
   },
   "outputs": [
    {
     "data": {
      "text/plain": [
       "Title              37519\n",
       "price                394\n",
       "species              438\n",
       "age                  101\n",
       "gender                 7\n",
       "description        44796\n",
       "seller_name        20520\n",
       "seller_location     1083\n",
       "seller_type            5\n",
       "listing_type           3\n",
       "pet_type              11\n",
       "dtype: int64"
      ]
     },
     "execution_count": 164,
     "metadata": {},
     "output_type": "execute_result"
    }
   ],
   "source": [
    "df.nunique()"
   ]
  },
  {
   "cell_type": "code",
   "execution_count": 165,
   "id": "b706b2db",
   "metadata": {
    "ExecuteTime": {
     "end_time": "2022-06-15T14:32:56.064434Z",
     "start_time": "2022-06-15T14:32:56.050444Z"
    }
   },
   "outputs": [
    {
     "data": {
      "text/plain": [
       "Individual          29107\n",
       "Breeder             16573\n",
       "Licensed Breeder     2388\n",
       "Rescue/Charity        707\n",
       "Company                 6\n",
       "Name: seller_type, dtype: int64"
      ]
     },
     "execution_count": 165,
     "metadata": {},
     "output_type": "execute_result"
    }
   ],
   "source": [
    "df['seller_type'].value_counts()"
   ]
  },
  {
   "cell_type": "code",
   "execution_count": 166,
   "id": "17c2a1dd",
   "metadata": {
    "ExecuteTime": {
     "end_time": "2022-06-15T14:32:56.710588Z",
     "start_time": "2022-06-15T14:32:56.457274Z"
    }
   },
   "outputs": [
    {
     "data": {
      "image/png": "[encoded data removed]",
      "text/plain": [
       "<Figure size 432x288 with 1 Axes>"
      ]
     },
     "metadata": {
      "needs_background": "light"
     },
     "output_type": "display_data"
    }
   ],
   "source": [
    "ax = df.seller_type.value_counts().plot(kind='barh')\n",
    "ax.set_xscale('log')"
   ]
  },
  {
   "cell_type": "code",
   "execution_count": 167,
   "id": "42770c86",
   "metadata": {
    "ExecuteTime": {
     "end_time": "2022-06-15T14:32:56.899789Z",
     "start_time": "2022-06-15T14:32:56.881809Z"
    },
    "scrolled": true
   },
   "outputs": [
    {
     "data": {
      "text/plain": [
       "Appleby In Westmorland    1\n",
       "Гул                       1\n",
       "Солфорд                   1\n",
       "St Austell                1\n",
       "Busveal                   1\n",
       "                         ..\n",
       "Wylam                     1\n",
       "Chester Le Street         1\n",
       "Filey                     1\n",
       "Ulceby                    1\n",
       "Ilkley                    1\n",
       "Name: seller_location, Length: 100, dtype: int64"
      ]
     },
     "execution_count": 167,
     "metadata": {},
     "output_type": "execute_result"
    }
   ],
   "source": [
    "df['seller_location'].value_counts().tail(100)"
   ]
  },
  {
   "cell_type": "markdown",
   "id": "d0a65d2d",
   "metadata": {},
   "source": [
    "Funny to have location data in foreign language. Probably should take a look at the posting."
   ]
  },
  {
   "cell_type": "code",
   "execution_count": 168,
   "id": "8ace57a5",
   "metadata": {
    "ExecuteTime": {
     "end_time": "2022-06-15T14:32:57.752540Z",
     "start_time": "2022-06-15T14:32:57.729573Z"
    }
   },
   "outputs": [
    {
     "data": {
      "text/html": [
       "<div>\n",
       "<style scoped>\n",
       "    .dataframe tbody tr th:only-of-type {\n",
       "        vertical-align: middle;\n",
       "    }\n",
       "\n",
       "    .dataframe tbody tr th {\n",
       "        vertical-align: top;\n",
       "    }\n",
       "\n",
       "    .dataframe thead th {\n",
       "        text-align: right;\n",
       "    }\n",
       "</style>\n",
       "<table border=\"1\" class=\"dataframe\">\n",
       "  <thead>\n",
       "    <tr style=\"text-align: right;\">\n",
       "      <th></th>\n",
       "      <th>Title</th>\n",
       "      <th>price</th>\n",
       "      <th>species</th>\n",
       "      <th>age</th>\n",
       "      <th>gender</th>\n",
       "      <th>description</th>\n",
       "      <th>seller_name</th>\n",
       "      <th>seller_location</th>\n",
       "      <th>seller_type</th>\n",
       "      <th>listing_type</th>\n",
       "      <th>pet_type</th>\n",
       "    </tr>\n",
       "  </thead>\n",
       "  <tbody>\n",
       "    <tr>\n",
       "      <th>41535</th>\n",
       "      <td>sold</td>\n",
       "      <td>900.0</td>\n",
       "      <td>Siamese</td>\n",
       "      <td>4 months</td>\n",
       "      <td>Mixed</td>\n",
       "      <td>We have available 1 Blue Point Siamese boy and...</td>\n",
       "      <td>Viktorija K.</td>\n",
       "      <td>Солфорд</td>\n",
       "      <td>Breeder</td>\n",
       "      <td>sale</td>\n",
       "      <td>cats</td>\n",
       "    </tr>\n",
       "  </tbody>\n",
       "</table>\n",
       "</div>"
      ],
      "text/plain": [
       "      Title  price  species       age gender  \\\n",
       "41535  sold  900.0  Siamese  4 months  Mixed   \n",
       "\n",
       "                                             description   seller_name  \\\n",
       "41535  We have available 1 Blue Point Siamese boy and...  Viktorija K.   \n",
       "\n",
       "      seller_location seller_type listing_type pet_type  \n",
       "41535         Солфорд     Breeder         sale     cats  "
      ]
     },
     "execution_count": 168,
     "metadata": {},
     "output_type": "execute_result"
    }
   ],
   "source": [
    "df.loc[df['seller_location'] == 'Солфорд']"
   ]
  },
  {
   "cell_type": "markdown",
   "id": "77707983",
   "metadata": {},
   "source": [
    "It looks fine, only location column is in foreign language. Caution have to be taken as we might have listing completely in foreign language."
   ]
  },
  {
   "cell_type": "code",
   "execution_count": 169,
   "id": "30f776e1",
   "metadata": {
    "ExecuteTime": {
     "end_time": "2022-06-15T14:32:58.621092Z",
     "start_time": "2022-06-15T14:32:58.614110Z"
    }
   },
   "outputs": [
    {
     "data": {
      "text/plain": [
       "2001              3\n",
       "16 years          3\n",
       "2000              3\n",
       "Due in 6 weeks    3\n",
       "2003 years        2\n",
       "Due in 6 days     2\n",
       "18 years          2\n",
       "2004 years        2\n",
       "20 years          2\n",
       "2002 years        2\n",
       "1998              1\n",
       "2000 years        1\n",
       "24 years          1\n",
       "Due in 7 weeks    1\n",
       "42 years          1\n",
       "1999              1\n",
       "66 years          1\n",
       "2019 years        1\n",
       "23 years          1\n",
       "17 years          1\n",
       "Name: age, dtype: int64"
      ]
     },
     "execution_count": 169,
     "metadata": {},
     "output_type": "execute_result"
    }
   ],
   "source": [
    "df['age'].value_counts().tail(20)"
   ]
  },
  {
   "cell_type": "markdown",
   "id": "54010937",
   "metadata": {},
   "source": [
    "Some of these are very funny. probably it's the year of birth. Longer living animals tends to have their year of birth recorded as age, horses in particular"
   ]
  },
  {
   "cell_type": "code",
   "execution_count": 170,
   "id": "9b525ff9",
   "metadata": {
    "ExecuteTime": {
     "end_time": "2022-06-15T14:32:59.522076Z",
     "start_time": "2022-06-15T14:32:59.502102Z"
    }
   },
   "outputs": [
    {
     "data": {
      "text/html": [
       "<div>\n",
       "<style scoped>\n",
       "    .dataframe tbody tr th:only-of-type {\n",
       "        vertical-align: middle;\n",
       "    }\n",
       "\n",
       "    .dataframe tbody tr th {\n",
       "        vertical-align: top;\n",
       "    }\n",
       "\n",
       "    .dataframe thead th {\n",
       "        text-align: right;\n",
       "    }\n",
       "</style>\n",
       "<table border=\"1\" class=\"dataframe\">\n",
       "  <thead>\n",
       "    <tr style=\"text-align: right;\">\n",
       "      <th></th>\n",
       "      <th>Title</th>\n",
       "      <th>price</th>\n",
       "      <th>species</th>\n",
       "      <th>age</th>\n",
       "      <th>gender</th>\n",
       "      <th>description</th>\n",
       "      <th>seller_name</th>\n",
       "      <th>seller_location</th>\n",
       "      <th>seller_type</th>\n",
       "      <th>listing_type</th>\n",
       "      <th>pet_type</th>\n",
       "    </tr>\n",
       "  </thead>\n",
       "  <tbody>\n",
       "    <tr>\n",
       "      <th>287</th>\n",
       "      <td>tradition gypsy cob gelding</td>\n",
       "      <td>1200.0</td>\n",
       "      <td>Other Breed</td>\n",
       "      <td>2022</td>\n",
       "      <td>Gelding</td>\n",
       "      <td>shamus is 2 years old wormed passport microchi...</td>\n",
       "      <td>nicola r.</td>\n",
       "      <td>Truro</td>\n",
       "      <td>Breeder</td>\n",
       "      <td>sale</td>\n",
       "      <td>horses</td>\n",
       "    </tr>\n",
       "    <tr>\n",
       "      <th>288</th>\n",
       "      <td>Silversmith Burlesque Queen</td>\n",
       "      <td>2700.0</td>\n",
       "      <td>Miniature</td>\n",
       "      <td>2015</td>\n",
       "      <td>Mare</td>\n",
       "      <td>Silversmith Burlesque Queen This beautiful AMH...</td>\n",
       "      <td>Z A.</td>\n",
       "      <td>Redruth</td>\n",
       "      <td>Individual</td>\n",
       "      <td>sale</td>\n",
       "      <td>horses</td>\n",
       "    </tr>\n",
       "    <tr>\n",
       "      <th>549</th>\n",
       "      <td>Hart braking sale</td>\n",
       "      <td>3000.0</td>\n",
       "      <td>Welsh Section A</td>\n",
       "      <td>2006</td>\n",
       "      <td>Mare</td>\n",
       "      <td>Sadly I’ve come to the decision to let our gor...</td>\n",
       "      <td>Pugsforlove P.</td>\n",
       "      <td>Sturminster Newton</td>\n",
       "      <td>Individual</td>\n",
       "      <td>sale</td>\n",
       "      <td>horses</td>\n",
       "    </tr>\n",
       "    <tr>\n",
       "      <th>550</th>\n",
       "      <td>3 year old registered welsh section C Mare</td>\n",
       "      <td>2000.0</td>\n",
       "      <td>Welsh Section C</td>\n",
       "      <td>2019</td>\n",
       "      <td>Mare</td>\n",
       "      <td>Walena Lucky Charm     Quality 3 year old regi...</td>\n",
       "      <td>Emily G.</td>\n",
       "      <td>Salisbury</td>\n",
       "      <td>Individual</td>\n",
       "      <td>sale</td>\n",
       "      <td>horses</td>\n",
       "    </tr>\n",
       "    <tr>\n",
       "      <th>551</th>\n",
       "      <td>9 month old mixed breed colt, slightly spotted</td>\n",
       "      <td>650.0</td>\n",
       "      <td>Welsh Section A</td>\n",
       "      <td>2021</td>\n",
       "      <td>Stallion</td>\n",
       "      <td>Ronnie is halter broken, will be groomed but n...</td>\n",
       "      <td>Tilly c.</td>\n",
       "      <td>Wincanton</td>\n",
       "      <td>Individual</td>\n",
       "      <td>sale</td>\n",
       "      <td>horses</td>\n",
       "    </tr>\n",
       "    <tr>\n",
       "      <th>...</th>\n",
       "      <td>...</td>\n",
       "      <td>...</td>\n",
       "      <td>...</td>\n",
       "      <td>...</td>\n",
       "      <td>...</td>\n",
       "      <td>...</td>\n",
       "      <td>...</td>\n",
       "      <td>...</td>\n",
       "      <td>...</td>\n",
       "      <td>...</td>\n",
       "      <td>...</td>\n",
       "    </tr>\n",
       "    <tr>\n",
       "      <th>44422</th>\n",
       "      <td>2 jenny donkeys very friendly</td>\n",
       "      <td>900.0</td>\n",
       "      <td>Other Breed</td>\n",
       "      <td>2010</td>\n",
       "      <td>Mare</td>\n",
       "      <td>Age 12 years, always been together Both passpo...</td>\n",
       "      <td>Mark G.</td>\n",
       "      <td>Wrexham</td>\n",
       "      <td>Individual</td>\n",
       "      <td>sale</td>\n",
       "      <td>horses</td>\n",
       "    </tr>\n",
       "    <tr>\n",
       "      <th>44423</th>\n",
       "      <td>Super alrounder</td>\n",
       "      <td>0.0</td>\n",
       "      <td>Welsh Section D</td>\n",
       "      <td>2009</td>\n",
       "      <td>Mare</td>\n",
       "      <td>13 year old, section D, 14.2hh  M&amp;M has a he...</td>\n",
       "      <td>Sharon P.</td>\n",
       "      <td>Holywell</td>\n",
       "      <td>Individual</td>\n",
       "      <td>sale</td>\n",
       "      <td>horses</td>\n",
       "    </tr>\n",
       "    <tr>\n",
       "      <th>46926</th>\n",
       "      <td>1 year old to make 15.2+</td>\n",
       "      <td>0.0</td>\n",
       "      <td>Welsh Section D</td>\n",
       "      <td>2021</td>\n",
       "      <td>Gelding</td>\n",
       "      <td>Not something I was planning on writing any ti...</td>\n",
       "      <td>Leah G.</td>\n",
       "      <td>Scunthorpe</td>\n",
       "      <td>Individual</td>\n",
       "      <td>sale</td>\n",
       "      <td>horses</td>\n",
       "    </tr>\n",
       "    <tr>\n",
       "      <th>46927</th>\n",
       "      <td>29” palomino 3 year old shetland colt</td>\n",
       "      <td>700.0</td>\n",
       "      <td>Shetland pony</td>\n",
       "      <td>2019</td>\n",
       "      <td>Stallion</td>\n",
       "      <td>For sale is Harry the 3 year old palomino col...</td>\n",
       "      <td>TJ V.</td>\n",
       "      <td>Doncaster</td>\n",
       "      <td>Individual</td>\n",
       "      <td>sale</td>\n",
       "      <td>horses</td>\n",
       "    </tr>\n",
       "    <tr>\n",
       "      <th>46928</th>\n",
       "      <td>Stunning welsh c mare</td>\n",
       "      <td>3500.0</td>\n",
       "      <td>Welsh Section C</td>\n",
       "      <td>2018</td>\n",
       "      <td>Mare</td>\n",
       "      <td>Stunning flashy welsh section c bay mare excel...</td>\n",
       "      <td>Alison R.</td>\n",
       "      <td>Bradford</td>\n",
       "      <td>Breeder</td>\n",
       "      <td>sale</td>\n",
       "      <td>horses</td>\n",
       "    </tr>\n",
       "  </tbody>\n",
       "</table>\n",
       "<p>298 rows × 11 columns</p>\n",
       "</div>"
      ],
      "text/plain": [
       "                                                Title   price  \\\n",
       "287                       tradition gypsy cob gelding  1200.0   \n",
       "288                      Silversmith Burlesque Queen   2700.0   \n",
       "549                                Hart braking sale   3000.0   \n",
       "550       3 year old registered welsh section C Mare   2000.0   \n",
       "551    9 month old mixed breed colt, slightly spotted   650.0   \n",
       "...                                               ...     ...   \n",
       "44422                  2 jenny donkeys very friendly    900.0   \n",
       "44423                                Super alrounder      0.0   \n",
       "46926                        1 year old to make 15.2+     0.0   \n",
       "46927           29” palomino 3 year old shetland colt   700.0   \n",
       "46928                          Stunning welsh c mare   3500.0   \n",
       "\n",
       "               species   age    gender  \\\n",
       "287        Other Breed  2022   Gelding   \n",
       "288          Miniature  2015      Mare   \n",
       "549    Welsh Section A  2006      Mare   \n",
       "550    Welsh Section C  2019      Mare   \n",
       "551    Welsh Section A  2021  Stallion   \n",
       "...                ...   ...       ...   \n",
       "44422      Other Breed  2010      Mare   \n",
       "44423  Welsh Section D  2009      Mare   \n",
       "46926  Welsh Section D  2021   Gelding   \n",
       "46927    Shetland pony  2019  Stallion   \n",
       "46928  Welsh Section C  2018      Mare   \n",
       "\n",
       "                                             description     seller_name  \\\n",
       "287    shamus is 2 years old wormed passport microchi...       nicola r.   \n",
       "288    Silversmith Burlesque Queen This beautiful AMH...            Z A.   \n",
       "549    Sadly I’ve come to the decision to let our gor...  Pugsforlove P.   \n",
       "550    Walena Lucky Charm     Quality 3 year old regi...        Emily G.   \n",
       "551    Ronnie is halter broken, will be groomed but n...        Tilly c.   \n",
       "...                                                  ...             ...   \n",
       "44422  Age 12 years, always been together Both passpo...         Mark G.   \n",
       "44423    13 year old, section D, 14.2hh  M&M has a he...       Sharon P.   \n",
       "46926  Not something I was planning on writing any ti...         Leah G.   \n",
       "46927   For sale is Harry the 3 year old palomino col...           TJ V.   \n",
       "46928  Stunning flashy welsh section c bay mare excel...       Alison R.   \n",
       "\n",
       "          seller_location seller_type listing_type pet_type  \n",
       "287                 Truro     Breeder         sale   horses  \n",
       "288               Redruth  Individual         sale   horses  \n",
       "549    Sturminster Newton  Individual         sale   horses  \n",
       "550             Salisbury  Individual         sale   horses  \n",
       "551             Wincanton  Individual         sale   horses  \n",
       "...                   ...         ...          ...      ...  \n",
       "44422             Wrexham  Individual         sale   horses  \n",
       "44423            Holywell  Individual         sale   horses  \n",
       "46926          Scunthorpe  Individual         sale   horses  \n",
       "46927           Doncaster  Individual         sale   horses  \n",
       "46928            Bradford     Breeder         sale   horses  \n",
       "\n",
       "[298 rows x 11 columns]"
      ]
     },
     "execution_count": 170,
     "metadata": {},
     "output_type": "execute_result"
    }
   ],
   "source": [
    "df.loc[df['pet_type'] == 'horses']"
   ]
  },
  {
   "cell_type": "markdown",
   "id": "484b8efc",
   "metadata": {},
   "source": [
    "298 is just right the sum of mare, gelding and stallion. We can also see that horses have their year of birth listed as their age."
   ]
  },
  {
   "cell_type": "code",
   "execution_count": 171,
   "id": "350d653e",
   "metadata": {
    "ExecuteTime": {
     "end_time": "2022-06-15T14:33:00.343832Z",
     "start_time": "2022-06-15T14:33:00.325880Z"
    }
   },
   "outputs": [
    {
     "data": {
      "text/plain": [
       "dogs             23151\n",
       "cats             11489\n",
       "rabbits           4400\n",
       "rodents           2321\n",
       "birds             2068\n",
       "reptiles          1955\n",
       "poultry           1528\n",
       "fish              1031\n",
       "invertebrates      366\n",
       "horses             298\n",
       "livestock          174\n",
       "Name: pet_type, dtype: int64"
      ]
     },
     "execution_count": 171,
     "metadata": {},
     "output_type": "execute_result"
    }
   ],
   "source": [
    "df['pet_type'].value_counts()"
   ]
  },
  {
   "cell_type": "code",
   "execution_count": 172,
   "id": "d3a3969c",
   "metadata": {
    "ExecuteTime": {
     "end_time": "2022-06-15T14:33:00.702219Z",
     "start_time": "2022-06-15T14:33:00.693735Z"
    }
   },
   "outputs": [
    {
     "data": {
      "text/plain": [
       "1000.0    2139\n",
       "200.0     1955\n",
       "500.0     1737\n",
       "1500.0    1736\n",
       "150.0     1722\n",
       "          ... \n",
       "27.0         1\n",
       "785.0        1\n",
       "1245.0       1\n",
       "2499.0       1\n",
       "1880.0       1\n",
       "Name: price, Length: 394, dtype: int64"
      ]
     },
     "execution_count": 172,
     "metadata": {},
     "output_type": "execute_result"
    }
   ],
   "source": [
    "df['price'].value_counts()"
   ]
  },
  {
   "cell_type": "code",
   "execution_count": 173,
   "id": "208d3d91",
   "metadata": {
    "ExecuteTime": {
     "end_time": "2022-06-15T14:33:01.138466Z",
     "start_time": "2022-06-15T14:33:01.114529Z"
    }
   },
   "outputs": [
    {
     "data": {
      "text/html": [
       "<div>\n",
       "<style scoped>\n",
       "    .dataframe tbody tr th:only-of-type {\n",
       "        vertical-align: middle;\n",
       "    }\n",
       "\n",
       "    .dataframe tbody tr th {\n",
       "        vertical-align: top;\n",
       "    }\n",
       "\n",
       "    .dataframe thead th {\n",
       "        text-align: right;\n",
       "    }\n",
       "</style>\n",
       "<table border=\"1\" class=\"dataframe\">\n",
       "  <thead>\n",
       "    <tr style=\"text-align: right;\">\n",
       "      <th></th>\n",
       "      <th>Title</th>\n",
       "      <th>price</th>\n",
       "      <th>species</th>\n",
       "      <th>age</th>\n",
       "      <th>gender</th>\n",
       "      <th>description</th>\n",
       "      <th>seller_name</th>\n",
       "      <th>seller_location</th>\n",
       "      <th>seller_type</th>\n",
       "      <th>listing_type</th>\n",
       "      <th>pet_type</th>\n",
       "    </tr>\n",
       "  </thead>\n",
       "  <tbody>\n",
       "    <tr>\n",
       "      <th>24577</th>\n",
       "      <td>For TEMPORARY Foster/Temporary Adoption</td>\n",
       "      <td>11111111.0</td>\n",
       "      <td>British Shorthair</td>\n",
       "      <td>3 years</td>\n",
       "      <td>Male</td>\n",
       "      <td>I'm looking for a loving TEMPORARY foster home...</td>\n",
       "      <td>Amy W.</td>\n",
       "      <td>Newark</td>\n",
       "      <td>Individual</td>\n",
       "      <td>adoption</td>\n",
       "      <td>cats</td>\n",
       "    </tr>\n",
       "    <tr>\n",
       "      <th>1530</th>\n",
       "      <td>Working Cocker spaniel dog pup</td>\n",
       "      <td>9999999.0</td>\n",
       "      <td>Cocker Spaniel</td>\n",
       "      <td>12 weeks</td>\n",
       "      <td>Male</td>\n",
       "      <td>One Liver Working cocker spaniel dog pup for s...</td>\n",
       "      <td>Joanne b.</td>\n",
       "      <td>Lymington</td>\n",
       "      <td>Licensed Breeder</td>\n",
       "      <td>sale</td>\n",
       "      <td>dogs</td>\n",
       "    </tr>\n",
       "    <tr>\n",
       "      <th>9625</th>\n",
       "      <td>2 male Chihuahua puppies for sale</td>\n",
       "      <td>9999999.0</td>\n",
       "      <td>Chihuahua</td>\n",
       "      <td>9 weeks</td>\n",
       "      <td>Male</td>\n",
       "      <td>Here we have two beautiful stunning chihuahua ...</td>\n",
       "      <td>Danielle E.</td>\n",
       "      <td>Kidderminster</td>\n",
       "      <td>Individual</td>\n",
       "      <td>sale</td>\n",
       "      <td>dogs</td>\n",
       "    </tr>\n",
       "    <tr>\n",
       "      <th>42999</th>\n",
       "      <td>OUTSTANDING 53 CHAMPS IN 5G BL</td>\n",
       "      <td>3333333.0</td>\n",
       "      <td>Cocker Spaniel</td>\n",
       "      <td>1 week</td>\n",
       "      <td>unknown</td>\n",
       "      <td>THE BEST IN BREED are here 🤗  SIRE is KC - slo...</td>\n",
       "      <td>Sarah sherman s.</td>\n",
       "      <td>Stoke-on-Trent</td>\n",
       "      <td>Individual</td>\n",
       "      <td>sale</td>\n",
       "      <td>dogs</td>\n",
       "    </tr>\n",
       "    <tr>\n",
       "      <th>28646</th>\n",
       "      <td>OUTSTANDING 53 CHAMPS IN 5G BL</td>\n",
       "      <td>3333333.0</td>\n",
       "      <td>Cocker Spaniel</td>\n",
       "      <td>1 week</td>\n",
       "      <td>unknown</td>\n",
       "      <td>THE BEST IN BREED are here 🤗    SIRE is KC - s...</td>\n",
       "      <td>Sarah sherman s.</td>\n",
       "      <td>Stoke-on-Trent</td>\n",
       "      <td>Individual</td>\n",
       "      <td>sale</td>\n",
       "      <td>dogs</td>\n",
       "    </tr>\n",
       "    <tr>\n",
       "      <th>200</th>\n",
       "      <td>Franco</td>\n",
       "      <td>1234567.0</td>\n",
       "      <td>Golden Retriever</td>\n",
       "      <td>3 years</td>\n",
       "      <td>unknown</td>\n",
       "      <td>Lovely natured golden retriever.  Great with c...</td>\n",
       "      <td>Colin M.</td>\n",
       "      <td>Inverurie</td>\n",
       "      <td>Breeder</td>\n",
       "      <td>stud</td>\n",
       "      <td>dogs</td>\n",
       "    </tr>\n",
       "    <tr>\n",
       "      <th>1144</th>\n",
       "      <td>Top Basset for Stud</td>\n",
       "      <td>1111111.0</td>\n",
       "      <td>Basset Hound</td>\n",
       "      <td>1 year</td>\n",
       "      <td>unknown</td>\n",
       "      <td>Looking to stud out my big boy  probably only ...</td>\n",
       "      <td>Darren P.</td>\n",
       "      <td>Romsey</td>\n",
       "      <td>Individual</td>\n",
       "      <td>stud</td>\n",
       "      <td>dogs</td>\n",
       "    </tr>\n",
       "    <tr>\n",
       "      <th>17105</th>\n",
       "      <td>❌••L4 FLUFFY CARRIERS••❌Coco girl❌</td>\n",
       "      <td>987654.0</td>\n",
       "      <td>French Bulldog</td>\n",
       "      <td>14 weeks</td>\n",
       "      <td>Mixed</td>\n",
       "      <td>❤️Beautiful pups from our blue girl❤️ Romeo ...</td>\n",
       "      <td>JACQUELINE I.</td>\n",
       "      <td>Hailsham</td>\n",
       "      <td>Individual</td>\n",
       "      <td>sale</td>\n",
       "      <td>dogs</td>\n",
       "    </tr>\n",
       "    <tr>\n",
       "      <th>2821</th>\n",
       "      <td>Stolen coco</td>\n",
       "      <td>888888.0</td>\n",
       "      <td>Bengal</td>\n",
       "      <td>2 years</td>\n",
       "      <td>unknown</td>\n",
       "      <td>Good morning we haven't seen coco since 15th F...</td>\n",
       "      <td>Nic I.</td>\n",
       "      <td>Stonehouse</td>\n",
       "      <td>Individual</td>\n",
       "      <td>sale</td>\n",
       "      <td>cats</td>\n",
       "    </tr>\n",
       "    <tr>\n",
       "      <th>23757</th>\n",
       "      <td>ragdoll cross</td>\n",
       "      <td>150350.0</td>\n",
       "      <td>Ragdoll</td>\n",
       "      <td>10 weeks</td>\n",
       "      <td>Mixed</td>\n",
       "      <td>5 stunning ragdoll cross kittens, 3 girls 2 bo...</td>\n",
       "      <td>Layna L.</td>\n",
       "      <td>Runcorn</td>\n",
       "      <td>Breeder</td>\n",
       "      <td>sale</td>\n",
       "      <td>cats</td>\n",
       "    </tr>\n",
       "    <tr>\n",
       "      <th>4943</th>\n",
       "      <td>LOVELY BLACK GIRL TICA REG NO SILLY OFFERS PLEASE</td>\n",
       "      <td>123654.0</td>\n",
       "      <td>Sphynx</td>\n",
       "      <td>1 year</td>\n",
       "      <td>unknown</td>\n",
       "      <td>Hi. We have for sale our beautiful girl that w...</td>\n",
       "      <td>Arkadiusz B.</td>\n",
       "      <td>Sandy</td>\n",
       "      <td>Individual</td>\n",
       "      <td>sale</td>\n",
       "      <td>cats</td>\n",
       "    </tr>\n",
       "    <tr>\n",
       "      <th>22206</th>\n",
       "      <td>Stunning. ...Proven</td>\n",
       "      <td>123456.0</td>\n",
       "      <td>Golden Retriever</td>\n",
       "      <td>6 years</td>\n",
       "      <td>unknown</td>\n",
       "      <td>Stanley is our 3rd generation KC retriever bre...</td>\n",
       "      <td>Rebecca P.</td>\n",
       "      <td>Faringdon</td>\n",
       "      <td>Individual</td>\n",
       "      <td>stud</td>\n",
       "      <td>dogs</td>\n",
       "    </tr>\n",
       "    <tr>\n",
       "      <th>16776</th>\n",
       "      <td>Exceptional GCCF Proven Siberian for stud</td>\n",
       "      <td>123456.0</td>\n",
       "      <td>Siberian</td>\n",
       "      <td>7 months</td>\n",
       "      <td>unknown</td>\n",
       "      <td>For Stud only.  Price on application.   I have...</td>\n",
       "      <td>Hannah J.</td>\n",
       "      <td>Worthing</td>\n",
       "      <td>Breeder</td>\n",
       "      <td>sale</td>\n",
       "      <td>cats</td>\n",
       "    </tr>\n",
       "    <tr>\n",
       "      <th>45807</th>\n",
       "      <td>Createabullz LOADED-LUX full suit lilac and tan</td>\n",
       "      <td>123456.0</td>\n",
       "      <td>English Bulldog</td>\n",
       "      <td>2 years</td>\n",
       "      <td>unknown</td>\n",
       "      <td>Createabullz Romeo aka  👑🇬🇧LOADED-LUX🇬🇧👑  Now ...</td>\n",
       "      <td>CREATEABULLZ</td>\n",
       "      <td>Chester</td>\n",
       "      <td>Breeder</td>\n",
       "      <td>stud</td>\n",
       "      <td>dogs</td>\n",
       "    </tr>\n",
       "    <tr>\n",
       "      <th>27336</th>\n",
       "      <td>BLACK AND BI COLOUR BABIES 🖤💙</td>\n",
       "      <td>123456.0</td>\n",
       "      <td>Sphynx</td>\n",
       "      <td>10 weeks</td>\n",
       "      <td>Mixed</td>\n",
       "      <td>our beautiful blue eye seal point queen has gi...</td>\n",
       "      <td>Rose J.</td>\n",
       "      <td>Stockport</td>\n",
       "      <td>Individual</td>\n",
       "      <td>sale</td>\n",
       "      <td>cats</td>\n",
       "    </tr>\n",
       "    <tr>\n",
       "      <th>26635</th>\n",
       "      <td>XL BULLY girls and boys avalable</td>\n",
       "      <td>123456.0</td>\n",
       "      <td>American Bully</td>\n",
       "      <td>4 weeks</td>\n",
       "      <td>Mixed</td>\n",
       "      <td>here we have a 1 of litter of xl bullys full A...</td>\n",
       "      <td>Jake D.</td>\n",
       "      <td>Redditch</td>\n",
       "      <td>Individual</td>\n",
       "      <td>sale</td>\n",
       "      <td>dogs</td>\n",
       "    </tr>\n",
       "    <tr>\n",
       "      <th>42576</th>\n",
       "      <td>CREATEABULLZ LOADED LUX PUPS lilac and blue tan</td>\n",
       "      <td>123456.0</td>\n",
       "      <td>English Bulldog</td>\n",
       "      <td>6 weeks</td>\n",
       "      <td>Mixed</td>\n",
       "      <td>🚨we are having an extremely lot of interest in...</td>\n",
       "      <td>CREATEABULLZ</td>\n",
       "      <td>Manchester</td>\n",
       "      <td>Breeder</td>\n",
       "      <td>sale</td>\n",
       "      <td>dogs</td>\n",
       "    </tr>\n",
       "    <tr>\n",
       "      <th>21183</th>\n",
       "      <td>Khaleesi</td>\n",
       "      <td>123456.0</td>\n",
       "      <td>Leopard Gecko</td>\n",
       "      <td>4 years</td>\n",
       "      <td>Female</td>\n",
       "      <td>Here is my lovely Leopard Gecko (tangerine mor...</td>\n",
       "      <td>Harry T.</td>\n",
       "      <td>Maldon</td>\n",
       "      <td>Individual</td>\n",
       "      <td>adoption</td>\n",
       "      <td>reptiles</td>\n",
       "    </tr>\n",
       "    <tr>\n",
       "      <th>16739</th>\n",
       "      <td>Outstanding GCCF potential breed / show Siberian</td>\n",
       "      <td>123456.0</td>\n",
       "      <td>Siberian</td>\n",
       "      <td>1 year</td>\n",
       "      <td>unknown</td>\n",
       "      <td>Please read the full advert before enquiring. ...</td>\n",
       "      <td>Hannah J.</td>\n",
       "      <td>Worthing</td>\n",
       "      <td>Breeder</td>\n",
       "      <td>sale</td>\n",
       "      <td>cats</td>\n",
       "    </tr>\n",
       "    <tr>\n",
       "      <th>22207</th>\n",
       "      <td>Duke, Proven KC registered  for stud.</td>\n",
       "      <td>123456.0</td>\n",
       "      <td>Golden Retriever</td>\n",
       "      <td>2 years</td>\n",
       "      <td>unknown</td>\n",
       "      <td>Duke, is our gorgeous 4th generation boy. Son ...</td>\n",
       "      <td>Rebecca P.</td>\n",
       "      <td>Faringdon</td>\n",
       "      <td>Individual</td>\n",
       "      <td>stud</td>\n",
       "      <td>dogs</td>\n",
       "    </tr>\n",
       "    <tr>\n",
       "      <th>38315</th>\n",
       "      <td>Various Tarantulas For Sale</td>\n",
       "      <td>123456.0</td>\n",
       "      <td>Tarantulas</td>\n",
       "      <td>1 year</td>\n",
       "      <td>Mixed</td>\n",
       "      <td>SLINGS  0.0.8 Caribena Veriscolor 1-2cm £20  0...</td>\n",
       "      <td>Lady Amherst’s Gundogs</td>\n",
       "      <td>Diss</td>\n",
       "      <td>Licensed Breeder</td>\n",
       "      <td>sale</td>\n",
       "      <td>invertebrates</td>\n",
       "    </tr>\n",
       "    <tr>\n",
       "      <th>16261</th>\n",
       "      <td>Exceptional GCCF Proven Siberian for stud</td>\n",
       "      <td>123456.0</td>\n",
       "      <td>Siberian</td>\n",
       "      <td>3 years</td>\n",
       "      <td>unknown</td>\n",
       "      <td>Hi,  Price on application.  I have an exceptio...</td>\n",
       "      <td>Hannah J.</td>\n",
       "      <td>Worthing</td>\n",
       "      <td>Breeder</td>\n",
       "      <td>stud</td>\n",
       "      <td>cats</td>\n",
       "    </tr>\n",
       "    <tr>\n",
       "      <th>32980</th>\n",
       "      <td>Quince monitor Melinus offers?</td>\n",
       "      <td>123456.0</td>\n",
       "      <td>Monitor</td>\n",
       "      <td>6 years</td>\n",
       "      <td>Male</td>\n",
       "      <td>Accepting offers on the pair  Quince Monitors ...</td>\n",
       "      <td>christopher s.</td>\n",
       "      <td>Marlow</td>\n",
       "      <td>Individual</td>\n",
       "      <td>sale</td>\n",
       "      <td>reptiles</td>\n",
       "    </tr>\n",
       "    <tr>\n",
       "      <th>28066</th>\n",
       "      <td>Createabullz LOADED-LUX full suit lilac and tan</td>\n",
       "      <td>123456.0</td>\n",
       "      <td>English Bulldog</td>\n",
       "      <td>2 years</td>\n",
       "      <td>unknown</td>\n",
       "      <td>Createabullz Romeo aka    👑🇬🇧LOADED-LUX🇬🇧👑    ...</td>\n",
       "      <td>CREATEABULLZ</td>\n",
       "      <td>Chester</td>\n",
       "      <td>Breeder</td>\n",
       "      <td>stud</td>\n",
       "      <td>dogs</td>\n",
       "    </tr>\n",
       "    <tr>\n",
       "      <th>7391</th>\n",
       "      <td>Ball pythons with full vivariums</td>\n",
       "      <td>123456.0</td>\n",
       "      <td>Python Snake</td>\n",
       "      <td>2 years</td>\n",
       "      <td>Mixed</td>\n",
       "      <td>Due to closing my snake collection down due to...</td>\n",
       "      <td>Billy B.</td>\n",
       "      <td>Nuneaton</td>\n",
       "      <td>Breeder</td>\n",
       "      <td>sale</td>\n",
       "      <td>reptiles</td>\n",
       "    </tr>\n",
       "    <tr>\n",
       "      <th>12088</th>\n",
       "      <td>Female African Grey Parrot</td>\n",
       "      <td>123456.0</td>\n",
       "      <td>Parrots</td>\n",
       "      <td>10 years</td>\n",
       "      <td>Female</td>\n",
       "      <td>I am currently looking for a forever home for ...</td>\n",
       "      <td>Linzi E.</td>\n",
       "      <td>Dudley</td>\n",
       "      <td>Individual</td>\n",
       "      <td>sale</td>\n",
       "      <td>birds</td>\n",
       "    </tr>\n",
       "    <tr>\n",
       "      <th>9121</th>\n",
       "      <td>XL BULLY girls and boys avalable</td>\n",
       "      <td>123456.0</td>\n",
       "      <td>American Bully</td>\n",
       "      <td>5 weeks</td>\n",
       "      <td>Mixed</td>\n",
       "      <td>here we have a 1 of litter of xl bullys full A...</td>\n",
       "      <td>Jake D.</td>\n",
       "      <td>Redditch</td>\n",
       "      <td>Individual</td>\n",
       "      <td>sale</td>\n",
       "      <td>dogs</td>\n",
       "    </tr>\n",
       "    <tr>\n",
       "      <th>26903</th>\n",
       "      <td>KC REGISTERED GOLDEN RETRIEVER STUD ONLY</td>\n",
       "      <td>111111.0</td>\n",
       "      <td>Golden Retriever</td>\n",
       "      <td>1 year</td>\n",
       "      <td>unknown</td>\n",
       "      <td>Jax is the most laid back gentle retriever I k...</td>\n",
       "      <td>golden g.</td>\n",
       "      <td>Wantage</td>\n",
       "      <td>Individual</td>\n",
       "      <td>stud</td>\n",
       "      <td>dogs</td>\n",
       "    </tr>\n",
       "    <tr>\n",
       "      <th>20367</th>\n",
       "      <td>kc reg red poodle puppies</td>\n",
       "      <td>22000.0</td>\n",
       "      <td>Poodle</td>\n",
       "      <td>8 weeks</td>\n",
       "      <td>Mixed</td>\n",
       "      <td>beautiful thick coats and very sociable happy ...</td>\n",
       "      <td>Norma bosley</td>\n",
       "      <td>Bridgend</td>\n",
       "      <td>Breeder</td>\n",
       "      <td>sale</td>\n",
       "      <td>dogs</td>\n",
       "    </tr>\n",
       "    <tr>\n",
       "      <th>32003</th>\n",
       "      <td>Stunning Cream Boy Carrying PINK 💗 ❌Pied ❌Brindle</td>\n",
       "      <td>20000.0</td>\n",
       "      <td>French Bulldog</td>\n",
       "      <td>8 weeks</td>\n",
       "      <td>Male</td>\n",
       "      <td>I have one stunning quality boy available. No ...</td>\n",
       "      <td>Lottiebullz</td>\n",
       "      <td>Durham</td>\n",
       "      <td>Breeder</td>\n",
       "      <td>sale</td>\n",
       "      <td>dogs</td>\n",
       "    </tr>\n",
       "  </tbody>\n",
       "</table>\n",
       "</div>"
      ],
      "text/plain": [
       "                                                   Title       price  \\\n",
       "24577            For TEMPORARY Foster/Temporary Adoption  11111111.0   \n",
       "1530                      Working Cocker spaniel dog pup   9999999.0   \n",
       "9625                  2 male Chihuahua puppies for sale    9999999.0   \n",
       "42999                     OUTSTANDING 53 CHAMPS IN 5G BL   3333333.0   \n",
       "28646                     OUTSTANDING 53 CHAMPS IN 5G BL   3333333.0   \n",
       "200                                              Franco    1234567.0   \n",
       "1144                                 Top Basset for Stud   1111111.0   \n",
       "17105                 ❌••L4 FLUFFY CARRIERS••❌Coco girl❌    987654.0   \n",
       "2821                                         Stolen coco    888888.0   \n",
       "23757                                      ragdoll cross    150350.0   \n",
       "4943   LOVELY BLACK GIRL TICA REG NO SILLY OFFERS PLEASE    123654.0   \n",
       "22206                                Stunning. ...Proven    123456.0   \n",
       "16776          Exceptional GCCF Proven Siberian for stud    123456.0   \n",
       "45807   Createabullz LOADED-LUX full suit lilac and tan     123456.0   \n",
       "27336                      BLACK AND BI COLOUR BABIES 🖤💙    123456.0   \n",
       "26635                  XL BULLY girls and boys avalable     123456.0   \n",
       "42576    CREATEABULLZ LOADED LUX PUPS lilac and blue tan    123456.0   \n",
       "21183                                           Khaleesi    123456.0   \n",
       "16739   Outstanding GCCF potential breed / show Siberian    123456.0   \n",
       "22207              Duke, Proven KC registered  for stud.    123456.0   \n",
       "38315                        Various Tarantulas For Sale    123456.0   \n",
       "16261          Exceptional GCCF Proven Siberian for stud    123456.0   \n",
       "32980                     Quince monitor Melinus offers?    123456.0   \n",
       "28066   Createabullz LOADED-LUX full suit lilac and tan     123456.0   \n",
       "7391                    Ball pythons with full vivariums    123456.0   \n",
       "12088                        Female African Grey Parrot     123456.0   \n",
       "9121                   XL BULLY girls and boys avalable     123456.0   \n",
       "26903           KC REGISTERED GOLDEN RETRIEVER STUD ONLY    111111.0   \n",
       "20367                          kc reg red poodle puppies     22000.0   \n",
       "32003  Stunning Cream Boy Carrying PINK 💗 ❌Pied ❌Brindle     20000.0   \n",
       "\n",
       "                 species       age   gender  \\\n",
       "24577  British Shorthair   3 years     Male   \n",
       "1530      Cocker Spaniel  12 weeks     Male   \n",
       "9625           Chihuahua   9 weeks     Male   \n",
       "42999     Cocker Spaniel    1 week  unknown   \n",
       "28646     Cocker Spaniel    1 week  unknown   \n",
       "200     Golden Retriever   3 years  unknown   \n",
       "1144        Basset Hound    1 year  unknown   \n",
       "17105     French Bulldog  14 weeks    Mixed   \n",
       "2821              Bengal   2 years  unknown   \n",
       "23757            Ragdoll  10 weeks    Mixed   \n",
       "4943              Sphynx    1 year  unknown   \n",
       "22206   Golden Retriever   6 years  unknown   \n",
       "16776           Siberian  7 months  unknown   \n",
       "45807    English Bulldog   2 years  unknown   \n",
       "27336             Sphynx  10 weeks    Mixed   \n",
       "26635     American Bully   4 weeks    Mixed   \n",
       "42576    English Bulldog   6 weeks    Mixed   \n",
       "21183      Leopard Gecko   4 years   Female   \n",
       "16739           Siberian    1 year  unknown   \n",
       "22207   Golden Retriever   2 years  unknown   \n",
       "38315         Tarantulas    1 year    Mixed   \n",
       "16261           Siberian   3 years  unknown   \n",
       "32980            Monitor   6 years     Male   \n",
       "28066    English Bulldog   2 years  unknown   \n",
       "7391        Python Snake   2 years    Mixed   \n",
       "12088            Parrots  10 years   Female   \n",
       "9121      American Bully   5 weeks    Mixed   \n",
       "26903   Golden Retriever    1 year  unknown   \n",
       "20367             Poodle   8 weeks    Mixed   \n",
       "32003     French Bulldog   8 weeks     Male   \n",
       "\n",
       "                                             description  \\\n",
       "24577  I'm looking for a loving TEMPORARY foster home...   \n",
       "1530   One Liver Working cocker spaniel dog pup for s...   \n",
       "9625   Here we have two beautiful stunning chihuahua ...   \n",
       "42999  THE BEST IN BREED are here 🤗  SIRE is KC - slo...   \n",
       "28646  THE BEST IN BREED are here 🤗    SIRE is KC - s...   \n",
       "200    Lovely natured golden retriever.  Great with c...   \n",
       "1144   Looking to stud out my big boy  probably only ...   \n",
       "17105    ❤️Beautiful pups from our blue girl❤️ Romeo ...   \n",
       "2821   Good morning we haven't seen coco since 15th F...   \n",
       "23757  5 stunning ragdoll cross kittens, 3 girls 2 bo...   \n",
       "4943   Hi. We have for sale our beautiful girl that w...   \n",
       "22206  Stanley is our 3rd generation KC retriever bre...   \n",
       "16776  For Stud only.  Price on application.   I have...   \n",
       "45807  Createabullz Romeo aka  👑🇬🇧LOADED-LUX🇬🇧👑  Now ...   \n",
       "27336  our beautiful blue eye seal point queen has gi...   \n",
       "26635  here we have a 1 of litter of xl bullys full A...   \n",
       "42576  🚨we are having an extremely lot of interest in...   \n",
       "21183  Here is my lovely Leopard Gecko (tangerine mor...   \n",
       "16739  Please read the full advert before enquiring. ...   \n",
       "22207  Duke, is our gorgeous 4th generation boy. Son ...   \n",
       "38315  SLINGS  0.0.8 Caribena Veriscolor 1-2cm £20  0...   \n",
       "16261  Hi,  Price on application.  I have an exceptio...   \n",
       "32980  Accepting offers on the pair  Quince Monitors ...   \n",
       "28066  Createabullz Romeo aka    👑🇬🇧LOADED-LUX🇬🇧👑    ...   \n",
       "7391   Due to closing my snake collection down due to...   \n",
       "12088  I am currently looking for a forever home for ...   \n",
       "9121   here we have a 1 of litter of xl bullys full A...   \n",
       "26903  Jax is the most laid back gentle retriever I k...   \n",
       "20367  beautiful thick coats and very sociable happy ...   \n",
       "32003  I have one stunning quality boy available. No ...   \n",
       "\n",
       "                  seller_name seller_location       seller_type listing_type  \\\n",
       "24577                  Amy W.          Newark        Individual     adoption   \n",
       "1530                Joanne b.       Lymington  Licensed Breeder         sale   \n",
       "9625              Danielle E.   Kidderminster        Individual         sale   \n",
       "42999        Sarah sherman s.  Stoke-on-Trent        Individual         sale   \n",
       "28646        Sarah sherman s.  Stoke-on-Trent        Individual         sale   \n",
       "200                  Colin M.       Inverurie           Breeder         stud   \n",
       "1144                Darren P.          Romsey        Individual         stud   \n",
       "17105           JACQUELINE I.        Hailsham        Individual         sale   \n",
       "2821                   Nic I.      Stonehouse        Individual         sale   \n",
       "23757                Layna L.         Runcorn           Breeder         sale   \n",
       "4943             Arkadiusz B.           Sandy        Individual         sale   \n",
       "22206              Rebecca P.       Faringdon        Individual         stud   \n",
       "16776               Hannah J.        Worthing           Breeder         sale   \n",
       "45807            CREATEABULLZ         Chester           Breeder         stud   \n",
       "27336                 Rose J.       Stockport        Individual         sale   \n",
       "26635                 Jake D.        Redditch        Individual         sale   \n",
       "42576            CREATEABULLZ      Manchester           Breeder         sale   \n",
       "21183                Harry T.          Maldon        Individual     adoption   \n",
       "16739               Hannah J.        Worthing           Breeder         sale   \n",
       "22207              Rebecca P.       Faringdon        Individual         stud   \n",
       "38315  Lady Amherst’s Gundogs            Diss  Licensed Breeder         sale   \n",
       "16261               Hannah J.        Worthing           Breeder         stud   \n",
       "32980          christopher s.          Marlow        Individual         sale   \n",
       "28066            CREATEABULLZ         Chester           Breeder         stud   \n",
       "7391                 Billy B.        Nuneaton           Breeder         sale   \n",
       "12088                Linzi E.          Dudley        Individual         sale   \n",
       "9121                  Jake D.        Redditch        Individual         sale   \n",
       "26903               golden g.         Wantage        Individual         stud   \n",
       "20367            Norma bosley        Bridgend           Breeder         sale   \n",
       "32003             Lottiebullz          Durham           Breeder         sale   \n",
       "\n",
       "            pet_type  \n",
       "24577           cats  \n",
       "1530            dogs  \n",
       "9625            dogs  \n",
       "42999           dogs  \n",
       "28646           dogs  \n",
       "200             dogs  \n",
       "1144            dogs  \n",
       "17105           dogs  \n",
       "2821            cats  \n",
       "23757           cats  \n",
       "4943            cats  \n",
       "22206           dogs  \n",
       "16776           cats  \n",
       "45807           dogs  \n",
       "27336           cats  \n",
       "26635           dogs  \n",
       "42576           dogs  \n",
       "21183       reptiles  \n",
       "16739           cats  \n",
       "22207           dogs  \n",
       "38315  invertebrates  \n",
       "16261           cats  \n",
       "32980       reptiles  \n",
       "28066           dogs  \n",
       "7391        reptiles  \n",
       "12088          birds  \n",
       "9121            dogs  \n",
       "26903           dogs  \n",
       "20367           dogs  \n",
       "32003           dogs  "
      ]
     },
     "execution_count": 173,
     "metadata": {},
     "output_type": "execute_result"
    }
   ],
   "source": [
    "df.sort_values(by=['price'], ascending=False).head(30)"
   ]
  },
  {
   "cell_type": "markdown",
   "id": "7b341839",
   "metadata": {},
   "source": [
    "some of the pricing makes no sense, owner probably want potential buyer to contact them. We should drop these. these outliers make price histogram unworkable. We may use boxplot to identify them."
   ]
  },
  {
   "cell_type": "code",
   "execution_count": 174,
   "id": "927c8724",
   "metadata": {
    "ExecuteTime": {
     "end_time": "2022-06-15T14:33:02.092866Z",
     "start_time": "2022-06-15T14:33:02.073917Z"
    }
   },
   "outputs": [
    {
     "data": {
      "text/html": [
       "<div>\n",
       "<style scoped>\n",
       "    .dataframe tbody tr th:only-of-type {\n",
       "        vertical-align: middle;\n",
       "    }\n",
       "\n",
       "    .dataframe tbody tr th {\n",
       "        vertical-align: top;\n",
       "    }\n",
       "\n",
       "    .dataframe thead th {\n",
       "        text-align: right;\n",
       "    }\n",
       "</style>\n",
       "<table border=\"1\" class=\"dataframe\">\n",
       "  <thead>\n",
       "    <tr style=\"text-align: right;\">\n",
       "      <th></th>\n",
       "      <th>Title</th>\n",
       "      <th>price</th>\n",
       "      <th>species</th>\n",
       "      <th>age</th>\n",
       "      <th>gender</th>\n",
       "      <th>description</th>\n",
       "      <th>seller_name</th>\n",
       "      <th>seller_location</th>\n",
       "      <th>seller_type</th>\n",
       "      <th>listing_type</th>\n",
       "      <th>pet_type</th>\n",
       "    </tr>\n",
       "  </thead>\n",
       "  <tbody>\n",
       "    <tr>\n",
       "      <th>32</th>\n",
       "      <td>African Cichlids bundle</td>\n",
       "      <td>0.0</td>\n",
       "      <td>Cichlids</td>\n",
       "      <td>1 year</td>\n",
       "      <td>unknown</td>\n",
       "      <td>hi, I have got around 19 African cichlids look...</td>\n",
       "      <td>Margaret B</td>\n",
       "      <td>Peterculter</td>\n",
       "      <td>Breeder</td>\n",
       "      <td>sale</td>\n",
       "      <td>fish</td>\n",
       "    </tr>\n",
       "    <tr>\n",
       "      <th>33</th>\n",
       "      <td>Guppies for sale</td>\n",
       "      <td>0.0</td>\n",
       "      <td>Other/Mixed Breed</td>\n",
       "      <td>12 weeks</td>\n",
       "      <td>unknown</td>\n",
       "      <td>2 1/2 months old mixed guppies for sale:  make...</td>\n",
       "      <td>Anil G.</td>\n",
       "      <td>Aberdeen</td>\n",
       "      <td>Individual</td>\n",
       "      <td>sale</td>\n",
       "      <td>fish</td>\n",
       "    </tr>\n",
       "    <tr>\n",
       "      <th>234</th>\n",
       "      <td>2 Beautiful Mini Lops</td>\n",
       "      <td>0.0</td>\n",
       "      <td>Mini Lop</td>\n",
       "      <td>1 year</td>\n",
       "      <td>Mixed</td>\n",
       "      <td>We are looking to rehome our 2 gorgeous bunnie...</td>\n",
       "      <td>Abigail W.</td>\n",
       "      <td>Helston</td>\n",
       "      <td>Individual</td>\n",
       "      <td>adoption</td>\n",
       "      <td>rabbits</td>\n",
       "    </tr>\n",
       "    <tr>\n",
       "      <th>296</th>\n",
       "      <td>HORSFIELD TORTOISES - 2 years old.</td>\n",
       "      <td>0.0</td>\n",
       "      <td>Tortoise</td>\n",
       "      <td>2 years</td>\n",
       "      <td>Female</td>\n",
       "      <td>Adoption only!  Poppy &amp; Penny are two beautifu...</td>\n",
       "      <td>Caley A.</td>\n",
       "      <td>Truro</td>\n",
       "      <td>Individual</td>\n",
       "      <td>adoption</td>\n",
       "      <td>reptiles</td>\n",
       "    </tr>\n",
       "    <tr>\n",
       "      <th>441</th>\n",
       "      <td>Full list baby ball python CB21</td>\n",
       "      <td>0.0</td>\n",
       "      <td>Python Snake</td>\n",
       "      <td>1 year</td>\n",
       "      <td>Mixed</td>\n",
       "      <td>Passione breeder based in Southampton, here to...</td>\n",
       "      <td>Eden Garden Reptiles</td>\n",
       "      <td>Southampton</td>\n",
       "      <td>Breeder</td>\n",
       "      <td>sale</td>\n",
       "      <td>reptiles</td>\n",
       "    </tr>\n",
       "    <tr>\n",
       "      <th>...</th>\n",
       "      <td>...</td>\n",
       "      <td>...</td>\n",
       "      <td>...</td>\n",
       "      <td>...</td>\n",
       "      <td>...</td>\n",
       "      <td>...</td>\n",
       "      <td>...</td>\n",
       "      <td>...</td>\n",
       "      <td>...</td>\n",
       "      <td>...</td>\n",
       "      <td>...</td>\n",
       "    </tr>\n",
       "    <tr>\n",
       "      <th>46726</th>\n",
       "      <td>chocolate seal point female mini lop</td>\n",
       "      <td>0.0</td>\n",
       "      <td>Mini Lop</td>\n",
       "      <td>1 year</td>\n",
       "      <td>Female</td>\n",
       "      <td>daisy ❤️ chocolate seal point pure bred mini l...</td>\n",
       "      <td>Hip Hop B</td>\n",
       "      <td>Leeds</td>\n",
       "      <td>Breeder</td>\n",
       "      <td>sale</td>\n",
       "      <td>rabbits</td>\n",
       "    </tr>\n",
       "    <tr>\n",
       "      <th>46846</th>\n",
       "      <td>BABY BLUE HOLICER RABBITS</td>\n",
       "      <td>0.0</td>\n",
       "      <td>Mixed Breed</td>\n",
       "      <td>6 months</td>\n",
       "      <td>Male</td>\n",
       "      <td>Iv had to put these babies under mixed breed a...</td>\n",
       "      <td>Mini F Stud</td>\n",
       "      <td>Leeds</td>\n",
       "      <td>Breeder</td>\n",
       "      <td>sale</td>\n",
       "      <td>rabbits</td>\n",
       "    </tr>\n",
       "    <tr>\n",
       "      <th>46885</th>\n",
       "      <td>RARE BABY HOLICER BABIES - READ DESCRIPTION</td>\n",
       "      <td>0.0</td>\n",
       "      <td>Continental Giant</td>\n",
       "      <td>14 weeks</td>\n",
       "      <td>Mixed</td>\n",
       "      <td>- I have put them into the continental giant c...</td>\n",
       "      <td>Mini F Stud</td>\n",
       "      <td>Leeds</td>\n",
       "      <td>Breeder</td>\n",
       "      <td>sale</td>\n",
       "      <td>rabbits</td>\n",
       "    </tr>\n",
       "    <tr>\n",
       "      <th>46888</th>\n",
       "      <td>Rabbits for sale</td>\n",
       "      <td>0.0</td>\n",
       "      <td>English Lop</td>\n",
       "      <td>15 weeks</td>\n",
       "      <td>Mixed</td>\n",
       "      <td>We have 5 beautiful rabbits for sale,they are ...</td>\n",
       "      <td>Kian R.</td>\n",
       "      <td>Wakefield</td>\n",
       "      <td>Individual</td>\n",
       "      <td>sale</td>\n",
       "      <td>rabbits</td>\n",
       "    </tr>\n",
       "    <tr>\n",
       "      <th>46926</th>\n",
       "      <td>1 year old to make 15.2+</td>\n",
       "      <td>0.0</td>\n",
       "      <td>Welsh Section D</td>\n",
       "      <td>2021</td>\n",
       "      <td>Gelding</td>\n",
       "      <td>Not something I was planning on writing any ti...</td>\n",
       "      <td>Leah G.</td>\n",
       "      <td>Scunthorpe</td>\n",
       "      <td>Individual</td>\n",
       "      <td>sale</td>\n",
       "      <td>horses</td>\n",
       "    </tr>\n",
       "  </tbody>\n",
       "</table>\n",
       "<p>774 rows × 11 columns</p>\n",
       "</div>"
      ],
      "text/plain": [
       "                                             Title  price            species  \\\n",
       "32                         African Cichlids bundle    0.0           Cichlids   \n",
       "33                                Guppies for sale    0.0  Other/Mixed Breed   \n",
       "234                          2 Beautiful Mini Lops    0.0           Mini Lop   \n",
       "296            HORSFIELD TORTOISES - 2 years old.     0.0           Tortoise   \n",
       "441                Full list baby ball python CB21    0.0       Python Snake   \n",
       "...                                            ...    ...                ...   \n",
       "46726         chocolate seal point female mini lop    0.0           Mini Lop   \n",
       "46846                    BABY BLUE HOLICER RABBITS    0.0        Mixed Breed   \n",
       "46885  RARE BABY HOLICER BABIES - READ DESCRIPTION    0.0  Continental Giant   \n",
       "46888                             Rabbits for sale    0.0        English Lop   \n",
       "46926                     1 year old to make 15.2+    0.0    Welsh Section D   \n",
       "\n",
       "            age   gender                                        description  \\\n",
       "32       1 year  unknown  hi, I have got around 19 African cichlids look...   \n",
       "33     12 weeks  unknown  2 1/2 months old mixed guppies for sale:  make...   \n",
       "234      1 year    Mixed  We are looking to rehome our 2 gorgeous bunnie...   \n",
       "296     2 years   Female  Adoption only!  Poppy & Penny are two beautifu...   \n",
       "441      1 year    Mixed  Passione breeder based in Southampton, here to...   \n",
       "...         ...      ...                                                ...   \n",
       "46726    1 year   Female  daisy ❤️ chocolate seal point pure bred mini l...   \n",
       "46846  6 months     Male  Iv had to put these babies under mixed breed a...   \n",
       "46885  14 weeks    Mixed  - I have put them into the continental giant c...   \n",
       "46888  15 weeks    Mixed  We have 5 beautiful rabbits for sale,they are ...   \n",
       "46926      2021  Gelding  Not something I was planning on writing any ti...   \n",
       "\n",
       "                seller_name seller_location seller_type listing_type  pet_type  \n",
       "32               Margaret B     Peterculter     Breeder         sale      fish  \n",
       "33                  Anil G.        Aberdeen  Individual         sale      fish  \n",
       "234              Abigail W.         Helston  Individual     adoption   rabbits  \n",
       "296                Caley A.           Truro  Individual     adoption  reptiles  \n",
       "441    Eden Garden Reptiles     Southampton     Breeder         sale  reptiles  \n",
       "...                     ...             ...         ...          ...       ...  \n",
       "46726             Hip Hop B           Leeds     Breeder         sale   rabbits  \n",
       "46846           Mini F Stud           Leeds     Breeder         sale   rabbits  \n",
       "46885           Mini F Stud           Leeds     Breeder         sale   rabbits  \n",
       "46888               Kian R.       Wakefield  Individual         sale   rabbits  \n",
       "46926               Leah G.      Scunthorpe  Individual         sale    horses  \n",
       "\n",
       "[774 rows x 11 columns]"
      ]
     },
     "execution_count": 174,
     "metadata": {},
     "output_type": "execute_result"
    }
   ],
   "source": [
    "df.loc[df['price'] == 0.0]"
   ]
  },
  {
   "cell_type": "markdown",
   "id": "ce3dc1ab",
   "metadata": {},
   "source": [
    "Make sense for adoption, questionable for sale. These are either misplaced listing or placeholder price."
   ]
  },
  {
   "cell_type": "code",
   "execution_count": 175,
   "id": "b4fe95ee",
   "metadata": {
    "ExecuteTime": {
     "end_time": "2022-06-15T14:33:03.085753Z",
     "start_time": "2022-06-15T14:33:03.081763Z"
    }
   },
   "outputs": [],
   "source": [
    "def price_plot_hist (data, column):\n",
    "    entries = data[column].unique()\n",
    "    for entry in entries:\n",
    "        plt.figure(figsize=(8,6))\n",
    "        plt.xlabel(entry)\n",
    "        plt.xticks(rotation=90)\n",
    "        sns.distplot(x = data.loc[data[column] == entry].price)\n",
    "        plt.show()"
   ]
  },
  {
   "cell_type": "code",
   "execution_count": 176,
   "id": "f547df84",
   "metadata": {
    "ExecuteTime": {
     "end_time": "2022-06-15T14:33:05.632447Z",
     "start_time": "2022-06-15T14:33:03.586333Z"
    }
   },
   "outputs": [
    {
     "name": "stderr",
     "output_type": "stream",
     "text": [
      "C:\\ProgramData\\Anaconda3\\lib\\site-packages\\seaborn\\distributions.py:2619: FutureWarning: `distplot` is a deprecated function and will be removed in a future version. Please adapt your code to use either `displot` (a figure-level function with similar flexibility) or `histplot` (an axes-level function for histograms).\n",
      "  warnings.warn(msg, FutureWarning)\n"
     ]
    },
    {
     "data": {
      "image/png": "[encoded data removed]",
      "text/plain": [
       "<Figure size 576x432 with 1 Axes>"
      ]
     },
     "metadata": {
      "needs_background": "light"
     },
     "output_type": "display_data"
    },
    {
     "name": "stderr",
     "output_type": "stream",
     "text": [
      "C:\\ProgramData\\Anaconda3\\lib\\site-packages\\seaborn\\distributions.py:2619: FutureWarning: `distplot` is a deprecated function and will be removed in a future version. Please adapt your code to use either `displot` (a figure-level function with similar flexibility) or `histplot` (an axes-level function for histograms).\n",
      "  warnings.warn(msg, FutureWarning)\n"
     ]
    },
    {
     "data": {
      "image/png": "[encoded data removed]",
      "text/plain": [
       "<Figure size 576x432 with 1 Axes>"
      ]
     },
     "metadata": {
      "needs_background": "light"
     },
     "output_type": "display_data"
    },
    {
     "name": "stderr",
     "output_type": "stream",
     "text": [
      "C:\\ProgramData\\Anaconda3\\lib\\site-packages\\seaborn\\distributions.py:2619: FutureWarning: `distplot` is a deprecated function and will be removed in a future version. Please adapt your code to use either `displot` (a figure-level function with similar flexibility) or `histplot` (an axes-level function for histograms).\n",
      "  warnings.warn(msg, FutureWarning)\n"
     ]
    },
    {
     "data": {
      "image/png": "[encoded data removed]",
      "text/plain": [
       "<Figure size 576x432 with 1 Axes>"
      ]
     },
     "metadata": {
      "needs_background": "light"
     },
     "output_type": "display_data"
    },
    {
     "name": "stderr",
     "output_type": "stream",
     "text": [
      "C:\\ProgramData\\Anaconda3\\lib\\site-packages\\seaborn\\distributions.py:2619: FutureWarning: `distplot` is a deprecated function and will be removed in a future version. Please adapt your code to use either `displot` (a figure-level function with similar flexibility) or `histplot` (an axes-level function for histograms).\n",
      "  warnings.warn(msg, FutureWarning)\n"
     ]
    },
    {
     "data": {
      "image/png": "[encoded data removed]",
      "text/plain": [
       "<Figure size 576x432 with 1 Axes>"
      ]
     },
     "metadata": {
      "needs_background": "light"
     },
     "output_type": "display_data"
    },
    {
     "name": "stderr",
     "output_type": "stream",
     "text": [
      "C:\\ProgramData\\Anaconda3\\lib\\site-packages\\seaborn\\distributions.py:2619: FutureWarning: `distplot` is a deprecated function and will be removed in a future version. Please adapt your code to use either `displot` (a figure-level function with similar flexibility) or `histplot` (an axes-level function for histograms).\n",
      "  warnings.warn(msg, FutureWarning)\n"
     ]
    },
    {
     "data": {
      "image/png": "[encoded data removed]",
      "text/plain": [
       "<Figure size 576x432 with 1 Axes>"
      ]
     },
     "metadata": {
      "needs_background": "light"
     },
     "output_type": "display_data"
    },
    {
     "name": "stderr",
     "output_type": "stream",
     "text": [
      "C:\\ProgramData\\Anaconda3\\lib\\site-packages\\seaborn\\distributions.py:2619: FutureWarning: `distplot` is a deprecated function and will be removed in a future version. Please adapt your code to use either `displot` (a figure-level function with similar flexibility) or `histplot` (an axes-level function for histograms).\n",
      "  warnings.warn(msg, FutureWarning)\n"
     ]
    },
    {
     "data": {
      "image/png": "[encoded data removed]",
      "text/plain": [
       "<Figure size 576x432 with 1 Axes>"
      ]
     },
     "metadata": {
      "needs_background": "light"
     },
     "output_type": "display_data"
    },
    {
     "name": "stderr",
     "output_type": "stream",
     "text": [
      "C:\\ProgramData\\Anaconda3\\lib\\site-packages\\seaborn\\distributions.py:2619: FutureWarning: `distplot` is a deprecated function and will be removed in a future version. Please adapt your code to use either `displot` (a figure-level function with similar flexibility) or `histplot` (an axes-level function for histograms).\n",
      "  warnings.warn(msg, FutureWarning)\n"
     ]
    },
    {
     "data": {
      "image/png": "[encoded data removed]",
      "text/plain": [
       "<Figure size 576x432 with 1 Axes>"
      ]
     },
     "metadata": {
      "needs_background": "light"
     },
     "output_type": "display_data"
    },
    {
     "name": "stderr",
     "output_type": "stream",
     "text": [
      "C:\\ProgramData\\Anaconda3\\lib\\site-packages\\seaborn\\distributions.py:2619: FutureWarning: `distplot` is a deprecated function and will be removed in a future version. Please adapt your code to use either `displot` (a figure-level function with similar flexibility) or `histplot` (an axes-level function for histograms).\n",
      "  warnings.warn(msg, FutureWarning)\n"
     ]
    },
    {
     "data": {
      "image/png": "[encoded data removed]",
      "text/plain": [
       "<Figure size 576x432 with 1 Axes>"
      ]
     },
     "metadata": {
      "needs_background": "light"
     },
     "output_type": "display_data"
    },
    {
     "name": "stderr",
     "output_type": "stream",
     "text": [
      "C:\\ProgramData\\Anaconda3\\lib\\site-packages\\seaborn\\distributions.py:2619: FutureWarning: `distplot` is a deprecated function and will be removed in a future version. Please adapt your code to use either `displot` (a figure-level function with similar flexibility) or `histplot` (an axes-level function for histograms).\n",
      "  warnings.warn(msg, FutureWarning)\n"
     ]
    },
    {
     "data": {
      "image/png": "[encoded data removed]",
      "text/plain": [
       "<Figure size 576x432 with 1 Axes>"
      ]
     },
     "metadata": {
      "needs_background": "light"
     },
     "output_type": "display_data"
    },
    {
     "name": "stderr",
     "output_type": "stream",
     "text": [
      "C:\\ProgramData\\Anaconda3\\lib\\site-packages\\seaborn\\distributions.py:2619: FutureWarning: `distplot` is a deprecated function and will be removed in a future version. Please adapt your code to use either `displot` (a figure-level function with similar flexibility) or `histplot` (an axes-level function for histograms).\n",
      "  warnings.warn(msg, FutureWarning)\n"
     ]
    },
    {
     "data": {
      "image/png": "[encoded data removed]",
      "text/plain": [
       "<Figure size 576x432 with 1 Axes>"
      ]
     },
     "metadata": {
      "needs_background": "light"
     },
     "output_type": "display_data"
    },
    {
     "name": "stderr",
     "output_type": "stream",
     "text": [
      "C:\\ProgramData\\Anaconda3\\lib\\site-packages\\seaborn\\distributions.py:2619: FutureWarning: `distplot` is a deprecated function and will be removed in a future version. Please adapt your code to use either `displot` (a figure-level function with similar flexibility) or `histplot` (an axes-level function for histograms).\n",
      "  warnings.warn(msg, FutureWarning)\n"
     ]
    },
    {
     "data": {
      "image/png": "[encoded data removed]",
      "text/plain": [
       "<Figure size 576x432 with 1 Axes>"
      ]
     },
     "metadata": {
      "needs_background": "light"
     },
     "output_type": "display_data"
    }
   ],
   "source": [
    "price_plot_hist (df,'pet_type')"
   ]
  },
  {
   "cell_type": "markdown",
   "id": "7f3591fd",
   "metadata": {},
   "source": [
    "Histogram don't look good because of extreme outliers. Horses and Lifestock look rather fine."
   ]
  },
  {
   "cell_type": "code",
   "execution_count": 177,
   "id": "8827cf5c",
   "metadata": {
    "ExecuteTime": {
     "end_time": "2022-06-15T14:33:05.647407Z",
     "start_time": "2022-06-15T14:33:05.633444Z"
    }
   },
   "outputs": [],
   "source": [
    "def price_plot_box (data, column):\n",
    "    entries = data[column].unique()\n",
    "    for entry in entries:\n",
    "        plt.figure(figsize=(8,6))\n",
    "        plt.xticks(rotation=90)\n",
    "        sns.boxplot(x = data.loc[data[column] == entry].price).set_title(entry)\n",
    "        plt.show()"
   ]
  },
  {
   "cell_type": "code",
   "execution_count": 178,
   "id": "6f85c602",
   "metadata": {
    "ExecuteTime": {
     "end_time": "2022-06-15T14:33:06.450893Z",
     "start_time": "2022-06-15T14:33:05.648405Z"
    }
   },
   "outputs": [
    {
     "data": {
      "image/png": "[encoded data removed]",
      "text/plain": [
       "<Figure size 576x432 with 1 Axes>"
      ]
     },
     "metadata": {
      "needs_background": "light"
     },
     "output_type": "display_data"
    },
    {
     "data": {
      "image/png": "[encoded data removed]",
      "text/plain": [
       "<Figure size 576x432 with 1 Axes>"
      ]
     },
     "metadata": {
      "needs_background": "light"
     },
     "output_type": "display_data"
    },
    {
     "data": {
      "image/png": "[encoded data removed]",
      "text/plain": [
       "<Figure size 576x432 with 1 Axes>"
      ]
     },
     "metadata": {
      "needs_background": "light"
     },
     "output_type": "display_data"
    },
    {
     "data": {
      "image/png": "[encoded data removed]",
      "text/plain": [
       "<Figure size 576x432 with 1 Axes>"
      ]
     },
     "metadata": {
      "needs_background": "light"
     },
     "output_type": "display_data"
    },
    {
     "data": {
      "image/png": "[encoded data removed]",
      "text/plain": [
       "<Figure size 576x432 with 1 Axes>"
      ]
     },
     "metadata": {
      "needs_background": "light"
     },
     "output_type": "display_data"
    },
    {
     "data": {
      "image/png": "[encoded data removed]",
      "text/plain": [
       "<Figure size 576x432 with 1 Axes>"
      ]
     },
     "metadata": {
      "needs_background": "light"
     },
     "output_type": "display_data"
    },
    {
     "data": {
      "image/png": "[encoded data removed]",
      "text/plain": [
       "<Figure size 576x432 with 1 Axes>"
      ]
     },
     "metadata": {
      "needs_background": "light"
     },
     "output_type": "display_data"
    },
    {
     "data": {
      "image/png": "[encoded data removed]",
      "text/plain": [
       "<Figure size 576x432 with 1 Axes>"
      ]
     },
     "metadata": {
      "needs_background": "light"
     },
     "output_type": "display_data"
    },
    {
     "data": {
      "image/png": "[encoded data removed]",
      "text/plain": [
       "<Figure size 576x432 with 1 Axes>"
      ]
     },
     "metadata": {
      "needs_background": "light"
     },
     "output_type": "display_data"
    },
    {
     "data": {
      "image/png": "[encoded data removed]",
      "text/plain": [
       "<Figure size 576x432 with 1 Axes>"
      ]
     },
     "metadata": {
      "needs_background": "light"
     },
     "output_type": "display_data"
    },
    {
     "data": {
      "image/png": "[encoded data removed]",
      "text/plain": [
       "<Figure size 576x432 with 1 Axes>"
      ]
     },
     "metadata": {
      "needs_background": "light"
     },
     "output_type": "display_data"
    }
   ],
   "source": [
    "price_plot_box (df,'pet_type')"
   ]
  },
  {
   "cell_type": "markdown",
   "id": "236513fc",
   "metadata": {},
   "source": [
    "We could see that each pet types have their own outliers. 2000 doesn't look strange for dogs or cats but it's a sore thumb for poultry. This shows us that we should remove outliers by pet types."
   ]
  },
  {
   "cell_type": "code",
   "execution_count": 179,
   "id": "6ad12522",
   "metadata": {
    "ExecuteTime": {
     "end_time": "2022-06-15T14:33:06.735706Z",
     "start_time": "2022-06-15T14:33:06.526260Z"
    }
   },
   "outputs": [
    {
     "data": {
      "image/png": "[encoded data removed]",
      "text/plain": [
       "<Figure size 432x288 with 1 Axes>"
      ]
     },
     "metadata": {
      "needs_background": "light"
     },
     "output_type": "display_data"
    }
   ],
   "source": [
    "# plot value_counts of Series\n",
    "ax = df.pet_type.value_counts().plot(kind='barh')\n",
    "ax.set_xscale('log')"
   ]
  },
  {
   "cell_type": "code",
   "execution_count": 180,
   "id": "14ee7dd9",
   "metadata": {
    "ExecuteTime": {
     "end_time": "2022-06-15T14:33:07.157076Z",
     "start_time": "2022-06-15T14:33:07.130149Z"
    }
   },
   "outputs": [
    {
     "data": {
      "text/plain": [
       "False    48636\n",
       "True       145\n",
       "Name: age, dtype: int64"
      ]
     },
     "execution_count": 180,
     "metadata": {},
     "output_type": "execute_result"
    }
   ],
   "source": [
    "df['age'].str.startswith('Due').value_counts()"
   ]
  },
  {
   "cell_type": "markdown",
   "id": "22459b95",
   "metadata": {},
   "source": [
    "135 of the listing aren't born yet. Let us convert age to workable numbers, it might provide some useful insight. We can convert those that aren't due yet or just born to zero while the rest are converted to number of years."
   ]
  },
  {
   "cell_type": "code",
   "execution_count": 181,
   "id": "6b2be1a9",
   "metadata": {
    "ExecuteTime": {
     "end_time": "2022-06-15T14:33:08.289306Z",
     "start_time": "2022-06-15T14:33:08.281364Z"
    }
   },
   "outputs": [],
   "source": [
    "def isfloat(value):\n",
    "    try:\n",
    "        float(value)\n",
    "        return True\n",
    "    except ValueError:\n",
    "        return False"
   ]
  },
  {
   "cell_type": "code",
   "execution_count": 182,
   "id": "ce50a758",
   "metadata": {
    "ExecuteTime": {
     "end_time": "2022-06-15T14:33:08.936249Z",
     "start_time": "2022-06-15T14:33:08.921289Z"
    }
   },
   "outputs": [],
   "source": [
    "def process_age_to_year(age):\n",
    "    age = str(age)\n",
    "    value = np.mean([int(s) for s in age.split() if s.isdigit()])\n",
    "    if \"Due\" in age:\n",
    "        newage = 0\n",
    "    elif \"Just Born\" in age:\n",
    "        newage = 0\n",
    "    elif \"month\" in age: \n",
    "        newage = value/12\n",
    "    elif \"week\" in age: \n",
    "        newage = value/52\n",
    "    elif \"day\" in age: \n",
    "        newage = value/365\n",
    "    elif \"year\" in age: \n",
    "        if value > 100:\n",
    "            newage = 2022 - value\n",
    "        else:\n",
    "            newage = value\n",
    "    else:\n",
    "        if age == 'unknown':\n",
    "            newage = np.nan\n",
    "        else:\n",
    "            age = int(age)\n",
    "            if age > 100:\n",
    "                newage = 2022 - age\n",
    "            else:\n",
    "                newage = age\n",
    "    return newage"
   ]
  },
  {
   "cell_type": "code",
   "execution_count": 183,
   "id": "5821a3f4",
   "metadata": {
    "ExecuteTime": {
     "end_time": "2022-06-15T14:33:09.979304Z",
     "start_time": "2022-06-15T14:33:09.425960Z"
    }
   },
   "outputs": [
    {
     "name": "stderr",
     "output_type": "stream",
     "text": [
      "C:\\ProgramData\\Anaconda3\\lib\\site-packages\\numpy\\core\\fromnumeric.py:3419: RuntimeWarning: Mean of empty slice.\n",
      "  return _methods._mean(a, axis=axis, dtype=dtype,\n",
      "C:\\ProgramData\\Anaconda3\\lib\\site-packages\\numpy\\core\\_methods.py:188: RuntimeWarning: invalid value encountered in double_scalars\n",
      "  ret = ret.dtype.type(ret / rcount)\n"
     ]
    }
   ],
   "source": [
    "df['year'] = df['age'].map(lambda x: process_age_to_year(x))"
   ]
  },
  {
   "cell_type": "code",
   "execution_count": 184,
   "id": "09914e7e",
   "metadata": {
    "ExecuteTime": {
     "end_time": "2022-06-15T14:33:10.102136Z",
     "start_time": "2022-06-15T14:33:10.078199Z"
    }
   },
   "outputs": [
    {
     "data": {
      "text/html": [
       "<div>\n",
       "<style scoped>\n",
       "    .dataframe tbody tr th:only-of-type {\n",
       "        vertical-align: middle;\n",
       "    }\n",
       "\n",
       "    .dataframe tbody tr th {\n",
       "        vertical-align: top;\n",
       "    }\n",
       "\n",
       "    .dataframe thead th {\n",
       "        text-align: right;\n",
       "    }\n",
       "</style>\n",
       "<table border=\"1\" class=\"dataframe\">\n",
       "  <thead>\n",
       "    <tr style=\"text-align: right;\">\n",
       "      <th></th>\n",
       "      <th>Title</th>\n",
       "      <th>price</th>\n",
       "      <th>species</th>\n",
       "      <th>age</th>\n",
       "      <th>gender</th>\n",
       "      <th>description</th>\n",
       "      <th>seller_name</th>\n",
       "      <th>seller_location</th>\n",
       "      <th>seller_type</th>\n",
       "      <th>listing_type</th>\n",
       "      <th>pet_type</th>\n",
       "      <th>year</th>\n",
       "    </tr>\n",
       "  </thead>\n",
       "  <tbody>\n",
       "    <tr>\n",
       "      <th>0</th>\n",
       "      <td>unsexed green tree python + 60cm vivtek</td>\n",
       "      <td>1000.0</td>\n",
       "      <td>Python Snake</td>\n",
       "      <td>3 years</td>\n",
       "      <td>Mixed</td>\n",
       "      <td>~3years old gtp biak x sorong    Typical gtp a...</td>\n",
       "      <td>Patryk M.</td>\n",
       "      <td>Aberdeen</td>\n",
       "      <td>Individual</td>\n",
       "      <td>sale</td>\n",
       "      <td>reptiles</td>\n",
       "      <td>3.000000</td>\n",
       "    </tr>\n",
       "    <tr>\n",
       "      <th>1</th>\n",
       "      <td>Leopard gecko (f)</td>\n",
       "      <td>80.0</td>\n",
       "      <td>Gecko</td>\n",
       "      <td>1 year</td>\n",
       "      <td>Female</td>\n",
       "      <td>Selling this leopard gecko I've had the joy of...</td>\n",
       "      <td>Dana I.</td>\n",
       "      <td>Aberdeen</td>\n",
       "      <td>Individual</td>\n",
       "      <td>sale</td>\n",
       "      <td>reptiles</td>\n",
       "      <td>1.000000</td>\n",
       "    </tr>\n",
       "    <tr>\n",
       "      <th>2</th>\n",
       "      <td>rexy</td>\n",
       "      <td>100.0</td>\n",
       "      <td>Iguana</td>\n",
       "      <td>4 years</td>\n",
       "      <td>Male</td>\n",
       "      <td>rexy needs a new home ASP   sadly I don't not ...</td>\n",
       "      <td>Gillian W.</td>\n",
       "      <td>Aberdeen</td>\n",
       "      <td>Individual</td>\n",
       "      <td>sale</td>\n",
       "      <td>reptiles</td>\n",
       "      <td>4.000000</td>\n",
       "    </tr>\n",
       "    <tr>\n",
       "      <th>3</th>\n",
       "      <td>Panther Chameleon and full set up</td>\n",
       "      <td>550.0</td>\n",
       "      <td>Chameleon</td>\n",
       "      <td>9 months</td>\n",
       "      <td>Male</td>\n",
       "      <td>Blue is a 6 month old Nosey Mitsio chameleon. ...</td>\n",
       "      <td>Craig H.</td>\n",
       "      <td>Aberdeen</td>\n",
       "      <td>Individual</td>\n",
       "      <td>sale</td>\n",
       "      <td>reptiles</td>\n",
       "      <td>0.750000</td>\n",
       "    </tr>\n",
       "    <tr>\n",
       "      <th>4</th>\n",
       "      <td>Hand reared white Indian ringnecks</td>\n",
       "      <td>300.0</td>\n",
       "      <td>Parakeets</td>\n",
       "      <td>9 weeks</td>\n",
       "      <td>Mixed</td>\n",
       "      <td>I have 2 stunning white Indian ringnecks. 1 ma...</td>\n",
       "      <td>Dave T.</td>\n",
       "      <td>Aberdeen</td>\n",
       "      <td>Individual</td>\n",
       "      <td>sale</td>\n",
       "      <td>birds</td>\n",
       "      <td>0.173077</td>\n",
       "    </tr>\n",
       "    <tr>\n",
       "      <th>...</th>\n",
       "      <td>...</td>\n",
       "      <td>...</td>\n",
       "      <td>...</td>\n",
       "      <td>...</td>\n",
       "      <td>...</td>\n",
       "      <td>...</td>\n",
       "      <td>...</td>\n",
       "      <td>...</td>\n",
       "      <td>...</td>\n",
       "      <td>...</td>\n",
       "      <td>...</td>\n",
       "      <td>...</td>\n",
       "    </tr>\n",
       "    <tr>\n",
       "      <th>48776</th>\n",
       "      <td>canarys for sale all colour plus new colours</td>\n",
       "      <td>40.0</td>\n",
       "      <td>Canaries</td>\n",
       "      <td>7 weeks</td>\n",
       "      <td>Mixed</td>\n",
       "      <td>there are all mixed cocks and hens new volour ...</td>\n",
       "      <td>Robert n.</td>\n",
       "      <td>Knottingley</td>\n",
       "      <td>Breeder</td>\n",
       "      <td>sale</td>\n",
       "      <td>birds</td>\n",
       "      <td>0.134615</td>\n",
       "    </tr>\n",
       "    <tr>\n",
       "      <th>48777</th>\n",
       "      <td>TAME &amp; TALKING HARNESS TRAINED BLUE &amp; GOLD MACAW</td>\n",
       "      <td>2150.0</td>\n",
       "      <td>Macaws</td>\n",
       "      <td>4 years</td>\n",
       "      <td>Male</td>\n",
       "      <td>Rainbow is a beautiful example of a blue and g...</td>\n",
       "      <td>The Bradford Birdman</td>\n",
       "      <td>Bradford</td>\n",
       "      <td>Licensed Breeder</td>\n",
       "      <td>sale</td>\n",
       "      <td>birds</td>\n",
       "      <td>4.000000</td>\n",
       "    </tr>\n",
       "    <tr>\n",
       "      <th>48778</th>\n",
       "      <td>Hand reared indian ringnecks babys</td>\n",
       "      <td>350.0</td>\n",
       "      <td>Parrots</td>\n",
       "      <td>1 year</td>\n",
       "      <td>Male</td>\n",
       "      <td>Hand reared cuddly silly tame little babys for...</td>\n",
       "      <td>Waqar A.</td>\n",
       "      <td>Bradford</td>\n",
       "      <td>Breeder</td>\n",
       "      <td>sale</td>\n",
       "      <td>birds</td>\n",
       "      <td>1.000000</td>\n",
       "    </tr>\n",
       "    <tr>\n",
       "      <th>48779</th>\n",
       "      <td>One yellow one orange canary.</td>\n",
       "      <td>60.0</td>\n",
       "      <td>Canaries</td>\n",
       "      <td>2 years</td>\n",
       "      <td>Mixed</td>\n",
       "      <td>I’m reluctantly listing my canaries (peach and...</td>\n",
       "      <td>Amylia R.</td>\n",
       "      <td>Barnsley</td>\n",
       "      <td>Individual</td>\n",
       "      <td>sale</td>\n",
       "      <td>birds</td>\n",
       "      <td>2.000000</td>\n",
       "    </tr>\n",
       "    <tr>\n",
       "      <th>48780</th>\n",
       "      <td>Tame and talking African grey</td>\n",
       "      <td>1250.0</td>\n",
       "      <td>Parrots</td>\n",
       "      <td>9 years</td>\n",
       "      <td>Male</td>\n",
       "      <td>Pablo has just turned 9 not able to give him t...</td>\n",
       "      <td>Ahmad R.</td>\n",
       "      <td>Bradford</td>\n",
       "      <td>Breeder</td>\n",
       "      <td>sale</td>\n",
       "      <td>birds</td>\n",
       "      <td>9.000000</td>\n",
       "    </tr>\n",
       "  </tbody>\n",
       "</table>\n",
       "<p>48781 rows × 12 columns</p>\n",
       "</div>"
      ],
      "text/plain": [
       "                                                  Title   price       species  \\\n",
       "0              unsexed green tree python + 60cm vivtek   1000.0  Python Snake   \n",
       "1                                     Leopard gecko (f)    80.0         Gecko   \n",
       "2                                                  rexy   100.0        Iguana   \n",
       "3                    Panther Chameleon and full set up    550.0     Chameleon   \n",
       "4                   Hand reared white Indian ringnecks    300.0     Parakeets   \n",
       "...                                                 ...     ...           ...   \n",
       "48776      canarys for sale all colour plus new colours    40.0      Canaries   \n",
       "48777  TAME & TALKING HARNESS TRAINED BLUE & GOLD MACAW  2150.0        Macaws   \n",
       "48778                Hand reared indian ringnecks babys   350.0       Parrots   \n",
       "48779                    One yellow one orange canary.     60.0      Canaries   \n",
       "48780                     Tame and talking African grey  1250.0       Parrots   \n",
       "\n",
       "            age  gender                                        description  \\\n",
       "0       3 years   Mixed  ~3years old gtp biak x sorong    Typical gtp a...   \n",
       "1        1 year  Female  Selling this leopard gecko I've had the joy of...   \n",
       "2       4 years    Male  rexy needs a new home ASP   sadly I don't not ...   \n",
       "3      9 months    Male  Blue is a 6 month old Nosey Mitsio chameleon. ...   \n",
       "4       9 weeks   Mixed  I have 2 stunning white Indian ringnecks. 1 ma...   \n",
       "...         ...     ...                                                ...   \n",
       "48776   7 weeks   Mixed  there are all mixed cocks and hens new volour ...   \n",
       "48777   4 years    Male  Rainbow is a beautiful example of a blue and g...   \n",
       "48778    1 year    Male  Hand reared cuddly silly tame little babys for...   \n",
       "48779   2 years   Mixed  I’m reluctantly listing my canaries (peach and...   \n",
       "48780   9 years    Male  Pablo has just turned 9 not able to give him t...   \n",
       "\n",
       "                seller_name seller_location       seller_type listing_type  \\\n",
       "0                 Patryk M.        Aberdeen        Individual         sale   \n",
       "1                   Dana I.        Aberdeen        Individual         sale   \n",
       "2                Gillian W.        Aberdeen        Individual         sale   \n",
       "3                  Craig H.        Aberdeen        Individual         sale   \n",
       "4                   Dave T.        Aberdeen        Individual         sale   \n",
       "...                     ...             ...               ...          ...   \n",
       "48776             Robert n.     Knottingley           Breeder         sale   \n",
       "48777  The Bradford Birdman        Bradford  Licensed Breeder         sale   \n",
       "48778              Waqar A.        Bradford           Breeder         sale   \n",
       "48779             Amylia R.        Barnsley        Individual         sale   \n",
       "48780              Ahmad R.        Bradford           Breeder         sale   \n",
       "\n",
       "       pet_type      year  \n",
       "0      reptiles  3.000000  \n",
       "1      reptiles  1.000000  \n",
       "2      reptiles  4.000000  \n",
       "3      reptiles  0.750000  \n",
       "4         birds  0.173077  \n",
       "...         ...       ...  \n",
       "48776     birds  0.134615  \n",
       "48777     birds  4.000000  \n",
       "48778     birds  1.000000  \n",
       "48779     birds  2.000000  \n",
       "48780     birds  9.000000  \n",
       "\n",
       "[48781 rows x 12 columns]"
      ]
     },
     "execution_count": 184,
     "metadata": {},
     "output_type": "execute_result"
    }
   ],
   "source": [
    "df"
   ]
  },
  {
   "cell_type": "markdown",
   "id": "c072ada4",
   "metadata": {},
   "source": [
    "It looks good."
   ]
  },
  {
   "cell_type": "code",
   "execution_count": 185,
   "id": "61962e9a",
   "metadata": {
    "ExecuteTime": {
     "end_time": "2022-06-15T14:33:11.128073Z",
     "start_time": "2022-06-15T14:33:11.110121Z"
    }
   },
   "outputs": [
    {
     "data": {
      "text/html": [
       "<div>\n",
       "<style scoped>\n",
       "    .dataframe tbody tr th:only-of-type {\n",
       "        vertical-align: middle;\n",
       "    }\n",
       "\n",
       "    .dataframe tbody tr th {\n",
       "        vertical-align: top;\n",
       "    }\n",
       "\n",
       "    .dataframe thead th {\n",
       "        text-align: right;\n",
       "    }\n",
       "</style>\n",
       "<table border=\"1\" class=\"dataframe\">\n",
       "  <thead>\n",
       "    <tr style=\"text-align: right;\">\n",
       "      <th></th>\n",
       "      <th>price</th>\n",
       "      <th>year</th>\n",
       "    </tr>\n",
       "  </thead>\n",
       "  <tbody>\n",
       "    <tr>\n",
       "      <th>count</th>\n",
       "      <td>4.878100e+04</td>\n",
       "      <td>48766.000000</td>\n",
       "    </tr>\n",
       "    <tr>\n",
       "      <th>mean</th>\n",
       "      <td>1.559520e+03</td>\n",
       "      <td>0.958430</td>\n",
       "    </tr>\n",
       "    <tr>\n",
       "      <th>std</th>\n",
       "      <td>8.475819e+04</td>\n",
       "      <td>1.727980</td>\n",
       "    </tr>\n",
       "    <tr>\n",
       "      <th>min</th>\n",
       "      <td>0.000000e+00</td>\n",
       "      <td>0.000000</td>\n",
       "    </tr>\n",
       "    <tr>\n",
       "      <th>25%</th>\n",
       "      <td>8.500000e+01</td>\n",
       "      <td>0.153846</td>\n",
       "    </tr>\n",
       "    <tr>\n",
       "      <th>50%</th>\n",
       "      <td>3.500000e+02</td>\n",
       "      <td>0.250000</td>\n",
       "    </tr>\n",
       "    <tr>\n",
       "      <th>75%</th>\n",
       "      <td>1.000000e+03</td>\n",
       "      <td>1.000000</td>\n",
       "    </tr>\n",
       "    <tr>\n",
       "      <th>max</th>\n",
       "      <td>1.111111e+07</td>\n",
       "      <td>66.000000</td>\n",
       "    </tr>\n",
       "  </tbody>\n",
       "</table>\n",
       "</div>"
      ],
      "text/plain": [
       "              price          year\n",
       "count  4.878100e+04  48766.000000\n",
       "mean   1.559520e+03      0.958430\n",
       "std    8.475819e+04      1.727980\n",
       "min    0.000000e+00      0.000000\n",
       "25%    8.500000e+01      0.153846\n",
       "50%    3.500000e+02      0.250000\n",
       "75%    1.000000e+03      1.000000\n",
       "max    1.111111e+07     66.000000"
      ]
     },
     "execution_count": 185,
     "metadata": {},
     "output_type": "execute_result"
    }
   ],
   "source": [
    "df.describe()"
   ]
  },
  {
   "cell_type": "code",
   "execution_count": 186,
   "id": "d796a7a9",
   "metadata": {
    "ExecuteTime": {
     "end_time": "2022-06-15T14:33:11.606201Z",
     "start_time": "2022-06-15T14:33:11.597224Z"
    }
   },
   "outputs": [],
   "source": [
    "def year_plot_box (data, column):\n",
    "    entries = data[column].unique()\n",
    "    for entry in entries:\n",
    "        plt.figure(figsize=(8,6))\n",
    "        plt.xticks(rotation=90)\n",
    "        sns.boxplot(x = data.loc[data[column] == entry].year).set_title(entry)\n",
    "        plt.show()"
   ]
  },
  {
   "cell_type": "code",
   "execution_count": 187,
   "id": "bd2c3ee9",
   "metadata": {
    "ExecuteTime": {
     "end_time": "2022-06-15T14:33:12.874030Z",
     "start_time": "2022-06-15T14:33:12.069743Z"
    }
   },
   "outputs": [
    {
     "data": {
      "image/png": "[encoded data removed]",
      "text/plain": [
       "<Figure size 576x432 with 1 Axes>"
      ]
     },
     "metadata": {
      "needs_background": "light"
     },
     "output_type": "display_data"
    },
    {
     "data": {
      "image/png": "[encoded data removed]",
      "text/plain": [
       "<Figure size 576x432 with 1 Axes>"
      ]
     },
     "metadata": {
      "needs_background": "light"
     },
     "output_type": "display_data"
    },
    {
     "data": {
      "image/png": "[encoded data removed]",
      "text/plain": [
       "<Figure size 576x432 with 1 Axes>"
      ]
     },
     "metadata": {
      "needs_background": "light"
     },
     "output_type": "display_data"
    },
    {
     "data": {
      "image/png": "[encoded data removed]",
      "text/plain": [
       "<Figure size 576x432 with 1 Axes>"
      ]
     },
     "metadata": {
      "needs_background": "light"
     },
     "output_type": "display_data"
    },
    {
     "data": {
      "image/png": "[encoded data removed]",
      "text/plain": [
       "<Figure size 576x432 with 1 Axes>"
      ]
     },
     "metadata": {
      "needs_background": "light"
     },
     "output_type": "display_data"
    },
    {
     "data": {
      "image/png": "[encoded data removed]",
      "text/plain": [
       "<Figure size 576x432 with 1 Axes>"
      ]
     },
     "metadata": {
      "needs_background": "light"
     },
     "output_type": "display_data"
    },
    {
     "data": {
      "image/png": "[encoded data removed]",
      "text/plain": [
       "<Figure size 576x432 with 1 Axes>"
      ]
     },
     "metadata": {
      "needs_background": "light"
     },
     "output_type": "display_data"
    },
    {
     "data": {
      "image/png": "[encoded data removed]",
      "text/plain": [
       "<Figure size 576x432 with 1 Axes>"
      ]
     },
     "metadata": {
      "needs_background": "light"
     },
     "output_type": "display_data"
    },
    {
     "data": {
      "image/png": "[encoded data removed]",
      "text/plain": [
       "<Figure size 576x432 with 1 Axes>"
      ]
     },
     "metadata": {
      "needs_background": "light"
     },
     "output_type": "display_data"
    },
    {
     "data": {
      "image/png": "[encoded data removed]",
      "text/plain": [
       "<Figure size 576x432 with 1 Axes>"
      ]
     },
     "metadata": {
      "needs_background": "light"
     },
     "output_type": "display_data"
    },
    {
     "data": {
      "image/png": "[encoded data removed]",
      "text/plain": [
       "<Figure size 576x432 with 1 Axes>"
      ]
     },
     "metadata": {
      "needs_background": "light"
     },
     "output_type": "display_data"
    }
   ],
   "source": [
    "year_plot_box (df,'pet_type')"
   ]
  },
  {
   "cell_type": "markdown",
   "id": "5277f07e",
   "metadata": {},
   "source": [
    "There are some strange values that look rather unrealistic."
   ]
  },
  {
   "cell_type": "code",
   "execution_count": 188,
   "id": "599cda91",
   "metadata": {
    "ExecuteTime": {
     "end_time": "2022-06-15T14:33:14.572622Z",
     "start_time": "2022-06-15T14:33:14.425027Z"
    }
   },
   "outputs": [
    {
     "data": {
      "image/png": "[encoded data removed]",
      "text/plain": [
       "<Figure size 432x288 with 1 Axes>"
      ]
     },
     "metadata": {
      "needs_background": "light"
     },
     "output_type": "display_data"
    }
   ],
   "source": [
    "ax = df.listing_type.value_counts().plot(kind='barh')\n",
    "ax.set_xscale('log')"
   ]
  },
  {
   "cell_type": "code",
   "execution_count": 189,
   "id": "d2b6ad65",
   "metadata": {
    "ExecuteTime": {
     "end_time": "2022-06-15T14:33:14.932094Z",
     "start_time": "2022-06-15T14:33:14.919130Z"
    }
   },
   "outputs": [
    {
     "data": {
      "text/html": [
       "<div>\n",
       "<style scoped>\n",
       "    .dataframe tbody tr th:only-of-type {\n",
       "        vertical-align: middle;\n",
       "    }\n",
       "\n",
       "    .dataframe tbody tr th {\n",
       "        vertical-align: top;\n",
       "    }\n",
       "\n",
       "    .dataframe thead th {\n",
       "        text-align: right;\n",
       "    }\n",
       "</style>\n",
       "<table border=\"1\" class=\"dataframe\">\n",
       "  <thead>\n",
       "    <tr style=\"text-align: right;\">\n",
       "      <th></th>\n",
       "      <th>price</th>\n",
       "      <th>year</th>\n",
       "    </tr>\n",
       "  </thead>\n",
       "  <tbody>\n",
       "    <tr>\n",
       "      <th>price</th>\n",
       "      <td>1.000000</td>\n",
       "      <td>0.000045</td>\n",
       "    </tr>\n",
       "    <tr>\n",
       "      <th>year</th>\n",
       "      <td>0.000045</td>\n",
       "      <td>1.000000</td>\n",
       "    </tr>\n",
       "  </tbody>\n",
       "</table>\n",
       "</div>"
      ],
      "text/plain": [
       "          price      year\n",
       "price  1.000000  0.000045\n",
       "year   0.000045  1.000000"
      ]
     },
     "execution_count": 189,
     "metadata": {},
     "output_type": "execute_result"
    }
   ],
   "source": [
    "df.corr()"
   ]
  },
  {
   "cell_type": "markdown",
   "id": "2b4a90b8",
   "metadata": {},
   "source": [
    "After looking more at the data, what I'm sure of:\n",
    "- There are duplicates that scraper couldn't identify. This is likely because title and description changed during scraping.\n",
    "- Some sellers put deposit as sale price, which explains why some listing looks extremely cheap\n",
    "- Some cheap listing is because owner couldn't take care of the pet anymore and look for new family to take over\n",
    "- Odd entries are because owner want to get in contact before deciding the sale\n",
    "- Some listing are service offers which we are not interested in\n",
    "- Correlation between price and age is weak\n",
    "\n",
    "Data that we need to remove:\n",
    "- Duplicates\n",
    "- Those that aren't actual sale price. The hard part is identifiying them.\n",
    "- Listing that are not in English. Those are likely to cause problems with NLP model.\n",
    "- Those that service (microchipping, dog walking, etc)\n",
    "\n",
    "To remove duplicates, we could ignore description and title column. The other columns are less likely to change after reposting.\n",
    "\n",
    "Identify those listing not in english with langdetect."
   ]
  },
  {
   "cell_type": "markdown",
   "id": "b9e8e62c",
   "metadata": {},
   "source": [
    "### Dropping outliers for each pet type"
   ]
  },
  {
   "cell_type": "code",
   "execution_count": 198,
   "id": "eb9fd04d",
   "metadata": {
    "ExecuteTime": {
     "end_time": "2022-06-15T15:03:59.188290Z",
     "start_time": "2022-06-15T15:03:59.007746Z"
    }
   },
   "outputs": [],
   "source": [
    "df1=df\n",
    "df1.dropna(inplace=True)\n",
    "df1.drop(df1[(df1['price'] > 22000)].index, inplace=True) #those above 22000 are exceedingly exhorbitant\n",
    "df1.drop(df1[(df1['price'] == 12345.0)].index, inplace=True) #the number look suspicious, checking the entry proved suspicion\n",
    "df1.drop(df1[(df1['price'] == 1234.0)].index, inplace=True) #same as above\n",
    "df1.drop(df1[(df1['pet_type'] == 'reptiles') & (df1['price'] > 1200)].index, inplace=True)\n",
    "df1.drop(df1[(df1['pet_type'] == 'birds') & (df1['price'] > 10000)].index, inplace=True)\n",
    "df1.drop(df1[(df1['pet_type'] == 'fish') & (df1['price'] > 2000)].index, inplace=True)\n",
    "df1.drop(df1[(df1['pet_type'] == 'poultry') & (df1['price'] > 1000)].index, inplace=True)\n",
    "df1.drop(df1[(df1['pet_type'] == 'rabbits') & (df1['price'] > 1000)].index, inplace=True)\n",
    "df1.drop(df1[(df1['listing_type'] == 'sale') & (df1['Title'].str.contains('service'))].index, inplace=True)\n",
    "df1.drop(df1[(df1['listing_type'] == 'sale') & (df1['Title'].str.contains('Services'))].index, inplace=True)\n",
    "df1.drop(df1[(df1['listing_type'] == 'sale') & (df1['price'] == 0.0)].index, inplace=True) #sale couldn't be zero\n",
    "#other listings don't look unusual enough to drop\n",
    "#sometimes title and description changes during scraping and we need to remove those.\n",
    "df1 = df1[~df1.duplicated(subset=['price', 'species', 'age', 'gender', 'seller_name', 'seller_location','seller_type',\n",
    "                                  'listing_type','pet_type'])].reset_index(drop=True)"
   ]
  },
  {
   "cell_type": "code",
   "execution_count": 199,
   "id": "50aaca11",
   "metadata": {
    "ExecuteTime": {
     "end_time": "2022-06-15T15:04:00.528079Z",
     "start_time": "2022-06-15T15:03:59.728436Z"
    }
   },
   "outputs": [
    {
     "data": {
      "image/png": "[encoded data removed]",
      "text/plain": [
       "<Figure size 576x432 with 1 Axes>"
      ]
     },
     "metadata": {
      "needs_background": "light"
     },
     "output_type": "display_data"
    },
    {
     "data": {
      "image/png": "[encoded data removed]",
      "text/plain": [
       "<Figure size 576x432 with 1 Axes>"
      ]
     },
     "metadata": {
      "needs_background": "light"
     },
     "output_type": "display_data"
    },
    {
     "data": {
      "image/png": "[encoded data removed]",
      "text/plain": [
       "<Figure size 576x432 with 1 Axes>"
      ]
     },
     "metadata": {
      "needs_background": "light"
     },
     "output_type": "display_data"
    },
    {
     "data": {
      "image/png": "[encoded data removed]",
      "text/plain": [
       "<Figure size 576x432 with 1 Axes>"
      ]
     },
     "metadata": {
      "needs_background": "light"
     },
     "output_type": "display_data"
    },
    {
     "data": {
      "image/png": "[encoded data removed]",
      "text/plain": [
       "<Figure size 576x432 with 1 Axes>"
      ]
     },
     "metadata": {
      "needs_background": "light"
     },
     "output_type": "display_data"
    },
    {
     "data": {
      "image/png": "[encoded data removed]",
      "text/plain": [
       "<Figure size 576x432 with 1 Axes>"
      ]
     },
     "metadata": {
      "needs_background": "light"
     },
     "output_type": "display_data"
    },
    {
     "data": {
      "image/png": "[encoded data removed]",
      "text/plain": [
       "<Figure size 576x432 with 1 Axes>"
      ]
     },
     "metadata": {
      "needs_background": "light"
     },
     "output_type": "display_data"
    },
    {
     "data": {
      "image/png": "[encoded data removed]",
      "text/plain": [
       "<Figure size 576x432 with 1 Axes>"
      ]
     },
     "metadata": {
      "needs_background": "light"
     },
     "output_type": "display_data"
    },
    {
     "data": {
      "image/png": "[encoded data removed]",
      "text/plain": [
       "<Figure size 576x432 with 1 Axes>"
      ]
     },
     "metadata": {
      "needs_background": "light"
     },
     "output_type": "display_data"
    },
    {
     "data": {
      "image/png": "[encoded data removed]",
      "text/plain": [
       "<Figure size 576x432 with 1 Axes>"
      ]
     },
     "metadata": {
      "needs_background": "light"
     },
     "output_type": "display_data"
    },
    {
     "data": {
      "image/png": "[encoded data removed]",
      "text/plain": [
       "<Figure size 576x432 with 1 Axes>"
      ]
     },
     "metadata": {
      "needs_background": "light"
     },
     "output_type": "display_data"
    }
   ],
   "source": [
    "price_plot_box (df1,'pet_type')"
   ]
  },
  {
   "cell_type": "code",
   "execution_count": 211,
   "id": "c6504b93",
   "metadata": {
    "ExecuteTime": {
     "end_time": "2022-06-15T15:23:20.918914Z",
     "start_time": "2022-06-15T15:23:20.889990Z"
    }
   },
   "outputs": [
    {
     "data": {
      "text/html": [
       "<div>\n",
       "<style scoped>\n",
       "    .dataframe tbody tr th:only-of-type {\n",
       "        vertical-align: middle;\n",
       "    }\n",
       "\n",
       "    .dataframe tbody tr th {\n",
       "        vertical-align: top;\n",
       "    }\n",
       "\n",
       "    .dataframe thead th {\n",
       "        text-align: right;\n",
       "    }\n",
       "</style>\n",
       "<table border=\"1\" class=\"dataframe\">\n",
       "  <thead>\n",
       "    <tr style=\"text-align: right;\">\n",
       "      <th></th>\n",
       "      <th>Title</th>\n",
       "      <th>price</th>\n",
       "      <th>species</th>\n",
       "      <th>age</th>\n",
       "      <th>gender</th>\n",
       "      <th>description</th>\n",
       "      <th>seller_name</th>\n",
       "      <th>seller_location</th>\n",
       "      <th>seller_type</th>\n",
       "      <th>listing_type</th>\n",
       "      <th>pet_type</th>\n",
       "      <th>year</th>\n",
       "    </tr>\n",
       "  </thead>\n",
       "  <tbody>\n",
       "    <tr>\n",
       "      <th>18089</th>\n",
       "      <td>kc reg red poodle puppies</td>\n",
       "      <td>22000.0</td>\n",
       "      <td>Poodle</td>\n",
       "      <td>8 weeks</td>\n",
       "      <td>Mixed</td>\n",
       "      <td>beautiful thick coats and very sociable happy ...</td>\n",
       "      <td>Norma bosley</td>\n",
       "      <td>Bridgend</td>\n",
       "      <td>Breeder</td>\n",
       "      <td>sale</td>\n",
       "      <td>dogs</td>\n",
       "      <td>0.153846</td>\n",
       "    </tr>\n",
       "    <tr>\n",
       "      <th>27907</th>\n",
       "      <td>Stunning Cream Boy Carrying PINK 💗 ❌Pied ❌Brindle</td>\n",
       "      <td>20000.0</td>\n",
       "      <td>French Bulldog</td>\n",
       "      <td>8 weeks</td>\n",
       "      <td>Male</td>\n",
       "      <td>I have one stunning quality boy available. No ...</td>\n",
       "      <td>Lottiebullz</td>\n",
       "      <td>Durham</td>\n",
       "      <td>Breeder</td>\n",
       "      <td>sale</td>\n",
       "      <td>dogs</td>\n",
       "      <td>0.153846</td>\n",
       "    </tr>\n",
       "    <tr>\n",
       "      <th>28247</th>\n",
       "      <td>Lilac &amp; Tan Platinum Carrying Pink (caL)</td>\n",
       "      <td>18000.0</td>\n",
       "      <td>French Bulldog</td>\n",
       "      <td>8 weeks</td>\n",
       "      <td>unknown</td>\n",
       "      <td>I have one stunning quality boy available. No ...</td>\n",
       "      <td>Lottiebullz</td>\n",
       "      <td>Durham</td>\n",
       "      <td>Breeder</td>\n",
       "      <td>sale</td>\n",
       "      <td>dogs</td>\n",
       "      <td>0.153846</td>\n",
       "    </tr>\n",
       "    <tr>\n",
       "      <th>8738</th>\n",
       "      <td>2 female fluffy frenchies</td>\n",
       "      <td>18000.0</td>\n",
       "      <td>French Bulldog</td>\n",
       "      <td>12 weeks</td>\n",
       "      <td>Female</td>\n",
       "      <td>1xfluffy carrier girl -blue and tan B/b E/e £6...</td>\n",
       "      <td>miranda w.</td>\n",
       "      <td>Alcester</td>\n",
       "      <td>Individual</td>\n",
       "      <td>sale</td>\n",
       "      <td>dogs</td>\n",
       "      <td>0.230769</td>\n",
       "    </tr>\n",
       "    <tr>\n",
       "      <th>38862</th>\n",
       "      <td>*STUNNING LITTER ALL FLUFF0Y L1 CARRIERS*</td>\n",
       "      <td>17148.0</td>\n",
       "      <td>French Bulldog</td>\n",
       "      <td>1 year</td>\n",
       "      <td>unknown</td>\n",
       "      <td>Our amazing Nala coat color   DNA: ? AtAt/dd/c...</td>\n",
       "      <td>Daniel A.</td>\n",
       "      <td>Liverpool</td>\n",
       "      <td>Individual</td>\n",
       "      <td>sale</td>\n",
       "      <td>dogs</td>\n",
       "      <td>1.000000</td>\n",
       "    </tr>\n",
       "    <tr>\n",
       "      <th>21445</th>\n",
       "      <td>VISUAL FLUFFY LILAC FRENCHIES GIRL \\BOYS</td>\n",
       "      <td>17000.0</td>\n",
       "      <td>French Bulldog</td>\n",
       "      <td>3 weeks</td>\n",
       "      <td>Mixed</td>\n",
       "      <td>Our lovely girl gave birth to 3 beautiful babi...</td>\n",
       "      <td>Beth E.</td>\n",
       "      <td>Rotherham</td>\n",
       "      <td>Breeder</td>\n",
       "      <td>adoption</td>\n",
       "      <td>dogs</td>\n",
       "      <td>0.057692</td>\n",
       "    </tr>\n",
       "    <tr>\n",
       "      <th>7388</th>\n",
       "      <td>Fluffy Frenchie and Fluffy Carrier</td>\n",
       "      <td>16000.0</td>\n",
       "      <td>French Bulldog</td>\n",
       "      <td>12 weeks</td>\n",
       "      <td>Female</td>\n",
       "      <td>We have 2 Sister for sale.The first is a full ...</td>\n",
       "      <td>Wesley s.</td>\n",
       "      <td>Alcester</td>\n",
       "      <td>Individual</td>\n",
       "      <td>sale</td>\n",
       "      <td>dogs</td>\n",
       "      <td>0.230769</td>\n",
       "    </tr>\n",
       "    <tr>\n",
       "      <th>36801</th>\n",
       "      <td>Merle Fluffy Carrier Female</td>\n",
       "      <td>15000.0</td>\n",
       "      <td>French Bulldog</td>\n",
       "      <td>1 year</td>\n",
       "      <td>Female</td>\n",
       "      <td>Black merle carrying tan, coco, fluffy. Up to ...</td>\n",
       "      <td>Hilltop Bulldogs</td>\n",
       "      <td>Saint Helens</td>\n",
       "      <td>Licensed Breeder</td>\n",
       "      <td>sale</td>\n",
       "      <td>dogs</td>\n",
       "      <td>1.000000</td>\n",
       "    </tr>\n",
       "    <tr>\n",
       "      <th>28066</th>\n",
       "      <td>Outstading Cream, Pink (caL) Carrier Boy</td>\n",
       "      <td>15000.0</td>\n",
       "      <td>French Bulldog</td>\n",
       "      <td>8 weeks</td>\n",
       "      <td>Male</td>\n",
       "      <td>I have one stunning quality boy available. No ...</td>\n",
       "      <td>Lottiebullz</td>\n",
       "      <td>Durham</td>\n",
       "      <td>Breeder</td>\n",
       "      <td>sale</td>\n",
       "      <td>dogs</td>\n",
       "      <td>0.153846</td>\n",
       "    </tr>\n",
       "    <tr>\n",
       "      <th>25097</th>\n",
       "      <td>French bulldogs for sale</td>\n",
       "      <td>15000.0</td>\n",
       "      <td>French Bulldog</td>\n",
       "      <td>10 weeks</td>\n",
       "      <td>Mixed</td>\n",
       "      <td>1 x female lilac and tan carrying testable cho...</td>\n",
       "      <td>Connor D.</td>\n",
       "      <td>Manchester</td>\n",
       "      <td>Breeder</td>\n",
       "      <td>sale</td>\n",
       "      <td>dogs</td>\n",
       "      <td>0.192308</td>\n",
       "    </tr>\n",
       "    <tr>\n",
       "      <th>15602</th>\n",
       "      <td>Isabella Merle Male</td>\n",
       "      <td>12500.0</td>\n",
       "      <td>French Bulldog</td>\n",
       "      <td>8 weeks</td>\n",
       "      <td>Male</td>\n",
       "      <td>Only male in the litter, ready to go to his ne...</td>\n",
       "      <td>Nicola H.</td>\n",
       "      <td>Chichester</td>\n",
       "      <td>Individual</td>\n",
       "      <td>sale</td>\n",
       "      <td>dogs</td>\n",
       "      <td>0.153846</td>\n",
       "    </tr>\n",
       "    <tr>\n",
       "      <th>40021</th>\n",
       "      <td>4 Pedigree Shihtzu Boys left</td>\n",
       "      <td>12500.0</td>\n",
       "      <td>Shih Tzu</td>\n",
       "      <td>5 weeks</td>\n",
       "      <td>Male</td>\n",
       "      <td>Our sweet calm girl Roxxi had 6 pedigree  shih...</td>\n",
       "      <td>Monte Shihtzu</td>\n",
       "      <td>Bradford</td>\n",
       "      <td>Breeder</td>\n",
       "      <td>sale</td>\n",
       "      <td>dogs</td>\n",
       "      <td>0.096154</td>\n",
       "    </tr>\n",
       "    <tr>\n",
       "      <th>23243</th>\n",
       "      <td>First merle Billy the kid pups in the world!</td>\n",
       "      <td>12000.0</td>\n",
       "      <td>American Bully</td>\n",
       "      <td>12 weeks</td>\n",
       "      <td>Mixed</td>\n",
       "      <td>We have 4 females💖 (2 lilac tri merles and 2 l...</td>\n",
       "      <td>Kyle K.</td>\n",
       "      <td>Leicester</td>\n",
       "      <td>Breeder</td>\n",
       "      <td>sale</td>\n",
       "      <td>dogs</td>\n",
       "      <td>0.230769</td>\n",
       "    </tr>\n",
       "    <tr>\n",
       "      <th>1735</th>\n",
       "      <td>Exceptionally well Marked Skewbald mare</td>\n",
       "      <td>12000.0</td>\n",
       "      <td>British Warmblood</td>\n",
       "      <td>2018</td>\n",
       "      <td>Mare</td>\n",
       "      <td>Stunning 4yr old skewbald mare who has been pr...</td>\n",
       "      <td>Mark F.</td>\n",
       "      <td>Windlesham</td>\n",
       "      <td>Individual</td>\n",
       "      <td>sale</td>\n",
       "      <td>horses</td>\n",
       "      <td>4.000000</td>\n",
       "    </tr>\n",
       "    <tr>\n",
       "      <th>23023</th>\n",
       "      <td>VITA X BILLY THE KID !</td>\n",
       "      <td>10000.0</td>\n",
       "      <td>American Bully</td>\n",
       "      <td>7 weeks</td>\n",
       "      <td>Mixed</td>\n",
       "      <td>Prize bullz Billy the kid meets Our stunning V...</td>\n",
       "      <td>French Connection UK</td>\n",
       "      <td>Sutton Coldfield</td>\n",
       "      <td>Breeder</td>\n",
       "      <td>sale</td>\n",
       "      <td>dogs</td>\n",
       "      <td>0.134615</td>\n",
       "    </tr>\n",
       "    <tr>\n",
       "      <th>7288</th>\n",
       "      <td>Lilac and Tan carrying isabella</td>\n",
       "      <td>10000.0</td>\n",
       "      <td>French Bulldog</td>\n",
       "      <td>3 years</td>\n",
       "      <td>unknown</td>\n",
       "      <td>Winter is my baby and this is a very sad sale ...</td>\n",
       "      <td>Barbara  W.</td>\n",
       "      <td>Leicester</td>\n",
       "      <td>Individual</td>\n",
       "      <td>sale</td>\n",
       "      <td>dogs</td>\n",
       "      <td>3.000000</td>\n",
       "    </tr>\n",
       "    <tr>\n",
       "      <th>5648</th>\n",
       "      <td>lilac and tan fluffy carrier adult female</td>\n",
       "      <td>10000.0</td>\n",
       "      <td>French Bulldog</td>\n",
       "      <td>9 months</td>\n",
       "      <td>unknown</td>\n",
       "      <td>a huge opportunity to boost any breeding progr...</td>\n",
       "      <td>New city bulls</td>\n",
       "      <td>Milton Keynes</td>\n",
       "      <td>Breeder</td>\n",
       "      <td>sale</td>\n",
       "      <td>dogs</td>\n",
       "      <td>0.750000</td>\n",
       "    </tr>\n",
       "    <tr>\n",
       "      <th>25012</th>\n",
       "      <td>BOSSY CONGO X MAJESTY BREEDING</td>\n",
       "      <td>10000.0</td>\n",
       "      <td>American Bully</td>\n",
       "      <td>7 weeks</td>\n",
       "      <td>unknown</td>\n",
       "      <td>*PLEASE VISIT OUR INSTAGRAM @APEXKENNELZ FOR P...</td>\n",
       "      <td>George H.</td>\n",
       "      <td>Liverpool</td>\n",
       "      <td>Individual</td>\n",
       "      <td>sale</td>\n",
       "      <td>dogs</td>\n",
       "      <td>0.134615</td>\n",
       "    </tr>\n",
       "    <tr>\n",
       "      <th>8325</th>\n",
       "      <td>VITA X BILLY THE KID !</td>\n",
       "      <td>10000.0</td>\n",
       "      <td>American Bully</td>\n",
       "      <td>8 weeks</td>\n",
       "      <td>Mixed</td>\n",
       "      <td>Prize bullz Billy the kid meets Our stunning V...</td>\n",
       "      <td>French Connection UK</td>\n",
       "      <td>Sutton Coldfield</td>\n",
       "      <td>Breeder</td>\n",
       "      <td>sale</td>\n",
       "      <td>dogs</td>\n",
       "      <td>0.153846</td>\n",
       "    </tr>\n",
       "    <tr>\n",
       "      <th>18106</th>\n",
       "      <td>KC* 2nd in the world STARBUCKS Litter ！</td>\n",
       "      <td>10000.0</td>\n",
       "      <td>Chow Chow</td>\n",
       "      <td>3 weeks</td>\n",
       "      <td>Mixed</td>\n",
       "      <td>We are Proud to present the 2nd Starbucks litt...</td>\n",
       "      <td>Danny Y.</td>\n",
       "      <td>Cardiff</td>\n",
       "      <td>Individual</td>\n",
       "      <td>sale</td>\n",
       "      <td>dogs</td>\n",
       "      <td>0.057692</td>\n",
       "    </tr>\n",
       "    <tr>\n",
       "      <th>3244</th>\n",
       "      <td>Catahoula Leopard Dog puppies puppy not pointer</td>\n",
       "      <td>9999.0</td>\n",
       "      <td>Mixed Breed</td>\n",
       "      <td>14 weeks</td>\n",
       "      <td>Mixed</td>\n",
       "      <td>SOLD SOLD  TO VERY GOOD FOREVER HOMES ONLY  Th...</td>\n",
       "      <td>Kernow  C.</td>\n",
       "      <td>Bristol</td>\n",
       "      <td>Individual</td>\n",
       "      <td>sale</td>\n",
       "      <td>dogs</td>\n",
       "      <td>0.269231</td>\n",
       "    </tr>\n",
       "    <tr>\n",
       "      <th>9274</th>\n",
       "      <td>Visual fluffy frenchie</td>\n",
       "      <td>8500.0</td>\n",
       "      <td>French Bulldog</td>\n",
       "      <td>10 months</td>\n",
       "      <td>unknown</td>\n",
       "      <td>For sale at a bargain of a price visual fluffy...</td>\n",
       "      <td>Jessica H.</td>\n",
       "      <td>Solihull</td>\n",
       "      <td>Breeder</td>\n",
       "      <td>sale</td>\n",
       "      <td>dogs</td>\n",
       "      <td>0.833333</td>\n",
       "    </tr>\n",
       "    <tr>\n",
       "      <th>13445</th>\n",
       "      <td>Visual fluffy frenchie</td>\n",
       "      <td>8500.0</td>\n",
       "      <td>French Bulldog</td>\n",
       "      <td>11 months</td>\n",
       "      <td>unknown</td>\n",
       "      <td>For sale at a bargain of a price visual fluffy...</td>\n",
       "      <td>Jessica H.</td>\n",
       "      <td>Solihull</td>\n",
       "      <td>Breeder</td>\n",
       "      <td>sale</td>\n",
       "      <td>dogs</td>\n",
       "      <td>0.916667</td>\n",
       "    </tr>\n",
       "    <tr>\n",
       "      <th>25455</th>\n",
       "      <td>Perfect Allrounder Teenagers Dream 14.2</td>\n",
       "      <td>8500.0</td>\n",
       "      <td>Connemara</td>\n",
       "      <td>2011</td>\n",
       "      <td>Gelding</td>\n",
       "      <td>⭐️⭐️ Husky ⭐️⭐️    10Yo Connemara x Newforest ...</td>\n",
       "      <td>Erica W.</td>\n",
       "      <td>Middlesbrough</td>\n",
       "      <td>Breeder</td>\n",
       "      <td>sale</td>\n",
       "      <td>horses</td>\n",
       "      <td>11.000000</td>\n",
       "    </tr>\n",
       "    <tr>\n",
       "      <th>18824</th>\n",
       "      <td>Bow 15.2hh cob</td>\n",
       "      <td>8500.0</td>\n",
       "      <td>Irish Cob</td>\n",
       "      <td>2008</td>\n",
       "      <td>Mare</td>\n",
       "      <td>Introducing bow 15\"2 thirteen year old been th...</td>\n",
       "      <td>BROOK G.</td>\n",
       "      <td>Hatfield</td>\n",
       "      <td>Individual</td>\n",
       "      <td>sale</td>\n",
       "      <td>horses</td>\n",
       "      <td>14.000000</td>\n",
       "    </tr>\n",
       "    <tr>\n",
       "      <th>25834</th>\n",
       "      <td>Kc baby cookies fozzy male testable and l4 car...</td>\n",
       "      <td>8000.0</td>\n",
       "      <td>French Bulldog</td>\n",
       "      <td>7 months</td>\n",
       "      <td>unknown</td>\n",
       "      <td>Absolutely flawless 🔥 kc males for sale 7 mont...</td>\n",
       "      <td>Danielle H.</td>\n",
       "      <td>Gainsborough</td>\n",
       "      <td>Breeder</td>\n",
       "      <td>sale</td>\n",
       "      <td>dogs</td>\n",
       "      <td>0.583333</td>\n",
       "    </tr>\n",
       "    <tr>\n",
       "      <th>31745</th>\n",
       "      <td>Amazing Chow Chows. Merles &amp; Solids</td>\n",
       "      <td>8000.0</td>\n",
       "      <td>Chow Chow</td>\n",
       "      <td>5 weeks</td>\n",
       "      <td>Mixed</td>\n",
       "      <td>Amazing 3 week old chow chow puppies!  We own ...</td>\n",
       "      <td>SOPHIE J.</td>\n",
       "      <td>High Wycombe</td>\n",
       "      <td>Individual</td>\n",
       "      <td>sale</td>\n",
       "      <td>dogs</td>\n",
       "      <td>0.096154</td>\n",
       "    </tr>\n",
       "    <tr>\n",
       "      <th>28331</th>\n",
       "      <td>Fluffy carrier French bull dog</td>\n",
       "      <td>8000.0</td>\n",
       "      <td>French Bulldog</td>\n",
       "      <td>7 weeks</td>\n",
       "      <td>unknown</td>\n",
       "      <td>We have available: 1 choc merl female fluffy c...</td>\n",
       "      <td>angel s</td>\n",
       "      <td>Newcastle upon Tyne</td>\n",
       "      <td>Breeder</td>\n",
       "      <td>sale</td>\n",
       "      <td>dogs</td>\n",
       "      <td>0.134615</td>\n",
       "    </tr>\n",
       "    <tr>\n",
       "      <th>38501</th>\n",
       "      <td>Full Isabella female ready to for her new home</td>\n",
       "      <td>8000.0</td>\n",
       "      <td>French Bulldog</td>\n",
       "      <td>13 weeks</td>\n",
       "      <td>Mixed</td>\n",
       "      <td>Full Isabella female carrying co/co!  Wasn’t g...</td>\n",
       "      <td>Real Frenchies of Cheshire</td>\n",
       "      <td>Runcorn</td>\n",
       "      <td>Breeder</td>\n",
       "      <td>sale</td>\n",
       "      <td>dogs</td>\n",
       "      <td>0.250000</td>\n",
       "    </tr>\n",
       "    <tr>\n",
       "      <th>15620</th>\n",
       "      <td>Top Champion Pedigree Pocket Bullies</td>\n",
       "      <td>7999.0</td>\n",
       "      <td>American Bully</td>\n",
       "      <td>6 weeks</td>\n",
       "      <td>Mixed</td>\n",
       "      <td>Top Champion, 5th generation pedigree pocket b...</td>\n",
       "      <td>Matthew Q.</td>\n",
       "      <td>Forest Row</td>\n",
       "      <td>Individual</td>\n",
       "      <td>sale</td>\n",
       "      <td>dogs</td>\n",
       "      <td>0.115385</td>\n",
       "    </tr>\n",
       "  </tbody>\n",
       "</table>\n",
       "</div>"
      ],
      "text/plain": [
       "                                                   Title    price  \\\n",
       "18089                          kc reg red poodle puppies  22000.0   \n",
       "27907  Stunning Cream Boy Carrying PINK 💗 ❌Pied ❌Brindle  20000.0   \n",
       "28247           Lilac & Tan Platinum Carrying Pink (caL)  18000.0   \n",
       "8738                           2 female fluffy frenchies  18000.0   \n",
       "38862          *STUNNING LITTER ALL FLUFF0Y L1 CARRIERS*  17148.0   \n",
       "21445           VISUAL FLUFFY LILAC FRENCHIES GIRL \\BOYS  17000.0   \n",
       "7388                  Fluffy Frenchie and Fluffy Carrier  16000.0   \n",
       "36801                       Merle Fluffy Carrier Female   15000.0   \n",
       "28066           Outstading Cream, Pink (caL) Carrier Boy  15000.0   \n",
       "25097                          French bulldogs for sale   15000.0   \n",
       "15602                                Isabella Merle Male  12500.0   \n",
       "40021                       4 Pedigree Shihtzu Boys left  12500.0   \n",
       "23243      First merle Billy the kid pups in the world!   12000.0   \n",
       "1735            Exceptionally well Marked Skewbald mare   12000.0   \n",
       "23023                            VITA X BILLY THE KID !   10000.0   \n",
       "7288                    Lilac and Tan carrying isabella   10000.0   \n",
       "5648           lilac and tan fluffy carrier adult female  10000.0   \n",
       "25012                     BOSSY CONGO X MAJESTY BREEDING  10000.0   \n",
       "8325                             VITA X BILLY THE KID !   10000.0   \n",
       "18106            KC* 2nd in the world STARBUCKS Litter ！  10000.0   \n",
       "3244     Catahoula Leopard Dog puppies puppy not pointer   9999.0   \n",
       "9274                             Visual fluffy frenchie    8500.0   \n",
       "13445                            Visual fluffy frenchie    8500.0   \n",
       "25455           Perfect Allrounder Teenagers Dream 14.2    8500.0   \n",
       "18824                                    Bow 15.2hh cob    8500.0   \n",
       "25834  Kc baby cookies fozzy male testable and l4 car...   8000.0   \n",
       "31745               Amazing Chow Chows. Merles & Solids    8000.0   \n",
       "28331                    Fluffy carrier French bull dog    8000.0   \n",
       "38501     Full Isabella female ready to for her new home   8000.0   \n",
       "15620               Top Champion Pedigree Pocket Bullies   7999.0   \n",
       "\n",
       "                 species        age   gender  \\\n",
       "18089             Poodle    8 weeks    Mixed   \n",
       "27907     French Bulldog    8 weeks     Male   \n",
       "28247     French Bulldog    8 weeks  unknown   \n",
       "8738      French Bulldog   12 weeks   Female   \n",
       "38862     French Bulldog     1 year  unknown   \n",
       "21445     French Bulldog    3 weeks    Mixed   \n",
       "7388      French Bulldog   12 weeks   Female   \n",
       "36801     French Bulldog     1 year   Female   \n",
       "28066     French Bulldog    8 weeks     Male   \n",
       "25097     French Bulldog   10 weeks    Mixed   \n",
       "15602     French Bulldog    8 weeks     Male   \n",
       "40021           Shih Tzu    5 weeks     Male   \n",
       "23243     American Bully   12 weeks    Mixed   \n",
       "1735   British Warmblood       2018     Mare   \n",
       "23023     American Bully    7 weeks    Mixed   \n",
       "7288      French Bulldog    3 years  unknown   \n",
       "5648      French Bulldog   9 months  unknown   \n",
       "25012     American Bully    7 weeks  unknown   \n",
       "8325      American Bully    8 weeks    Mixed   \n",
       "18106          Chow Chow    3 weeks    Mixed   \n",
       "3244         Mixed Breed   14 weeks    Mixed   \n",
       "9274      French Bulldog  10 months  unknown   \n",
       "13445     French Bulldog  11 months  unknown   \n",
       "25455          Connemara       2011  Gelding   \n",
       "18824          Irish Cob       2008     Mare   \n",
       "25834     French Bulldog   7 months  unknown   \n",
       "31745          Chow Chow    5 weeks    Mixed   \n",
       "28331     French Bulldog    7 weeks  unknown   \n",
       "38501     French Bulldog   13 weeks    Mixed   \n",
       "15620     American Bully    6 weeks    Mixed   \n",
       "\n",
       "                                             description  \\\n",
       "18089  beautiful thick coats and very sociable happy ...   \n",
       "27907  I have one stunning quality boy available. No ...   \n",
       "28247  I have one stunning quality boy available. No ...   \n",
       "8738   1xfluffy carrier girl -blue and tan B/b E/e £6...   \n",
       "38862  Our amazing Nala coat color   DNA: ? AtAt/dd/c...   \n",
       "21445  Our lovely girl gave birth to 3 beautiful babi...   \n",
       "7388   We have 2 Sister for sale.The first is a full ...   \n",
       "36801  Black merle carrying tan, coco, fluffy. Up to ...   \n",
       "28066  I have one stunning quality boy available. No ...   \n",
       "25097  1 x female lilac and tan carrying testable cho...   \n",
       "15602  Only male in the litter, ready to go to his ne...   \n",
       "40021  Our sweet calm girl Roxxi had 6 pedigree  shih...   \n",
       "23243  We have 4 females💖 (2 lilac tri merles and 2 l...   \n",
       "1735   Stunning 4yr old skewbald mare who has been pr...   \n",
       "23023  Prize bullz Billy the kid meets Our stunning V...   \n",
       "7288   Winter is my baby and this is a very sad sale ...   \n",
       "5648   a huge opportunity to boost any breeding progr...   \n",
       "25012  *PLEASE VISIT OUR INSTAGRAM @APEXKENNELZ FOR P...   \n",
       "8325   Prize bullz Billy the kid meets Our stunning V...   \n",
       "18106  We are Proud to present the 2nd Starbucks litt...   \n",
       "3244   SOLD SOLD  TO VERY GOOD FOREVER HOMES ONLY  Th...   \n",
       "9274   For sale at a bargain of a price visual fluffy...   \n",
       "13445  For sale at a bargain of a price visual fluffy...   \n",
       "25455  ⭐️⭐️ Husky ⭐️⭐️    10Yo Connemara x Newforest ...   \n",
       "18824  Introducing bow 15\"2 thirteen year old been th...   \n",
       "25834  Absolutely flawless 🔥 kc males for sale 7 mont...   \n",
       "31745  Amazing 3 week old chow chow puppies!  We own ...   \n",
       "28331  We have available: 1 choc merl female fluffy c...   \n",
       "38501  Full Isabella female carrying co/co!  Wasn’t g...   \n",
       "15620  Top Champion, 5th generation pedigree pocket b...   \n",
       "\n",
       "                      seller_name      seller_location       seller_type  \\\n",
       "18089                Norma bosley             Bridgend           Breeder   \n",
       "27907                 Lottiebullz               Durham           Breeder   \n",
       "28247                 Lottiebullz               Durham           Breeder   \n",
       "8738                   miranda w.             Alcester        Individual   \n",
       "38862                   Daniel A.            Liverpool        Individual   \n",
       "21445                     Beth E.            Rotherham           Breeder   \n",
       "7388                    Wesley s.             Alcester        Individual   \n",
       "36801            Hilltop Bulldogs         Saint Helens  Licensed Breeder   \n",
       "28066                 Lottiebullz               Durham           Breeder   \n",
       "25097                   Connor D.           Manchester           Breeder   \n",
       "15602                   Nicola H.           Chichester        Individual   \n",
       "40021               Monte Shihtzu             Bradford           Breeder   \n",
       "23243                     Kyle K.            Leicester           Breeder   \n",
       "1735                      Mark F.           Windlesham        Individual   \n",
       "23023        French Connection UK     Sutton Coldfield           Breeder   \n",
       "7288                  Barbara  W.            Leicester        Individual   \n",
       "5648               New city bulls        Milton Keynes           Breeder   \n",
       "25012                   George H.            Liverpool        Individual   \n",
       "8325         French Connection UK     Sutton Coldfield           Breeder   \n",
       "18106                    Danny Y.              Cardiff        Individual   \n",
       "3244                   Kernow  C.              Bristol        Individual   \n",
       "9274                   Jessica H.             Solihull           Breeder   \n",
       "13445                  Jessica H.             Solihull           Breeder   \n",
       "25455                    Erica W.        Middlesbrough           Breeder   \n",
       "18824                    BROOK G.             Hatfield        Individual   \n",
       "25834                 Danielle H.         Gainsborough           Breeder   \n",
       "31745                   SOPHIE J.         High Wycombe        Individual   \n",
       "28331                     angel s  Newcastle upon Tyne           Breeder   \n",
       "38501  Real Frenchies of Cheshire              Runcorn           Breeder   \n",
       "15620                  Matthew Q.           Forest Row        Individual   \n",
       "\n",
       "      listing_type pet_type       year  \n",
       "18089         sale     dogs   0.153846  \n",
       "27907         sale     dogs   0.153846  \n",
       "28247         sale     dogs   0.153846  \n",
       "8738          sale     dogs   0.230769  \n",
       "38862         sale     dogs   1.000000  \n",
       "21445     adoption     dogs   0.057692  \n",
       "7388          sale     dogs   0.230769  \n",
       "36801         sale     dogs   1.000000  \n",
       "28066         sale     dogs   0.153846  \n",
       "25097         sale     dogs   0.192308  \n",
       "15602         sale     dogs   0.153846  \n",
       "40021         sale     dogs   0.096154  \n",
       "23243         sale     dogs   0.230769  \n",
       "1735          sale   horses   4.000000  \n",
       "23023         sale     dogs   0.134615  \n",
       "7288          sale     dogs   3.000000  \n",
       "5648          sale     dogs   0.750000  \n",
       "25012         sale     dogs   0.134615  \n",
       "8325          sale     dogs   0.153846  \n",
       "18106         sale     dogs   0.057692  \n",
       "3244          sale     dogs   0.269231  \n",
       "9274          sale     dogs   0.833333  \n",
       "13445         sale     dogs   0.916667  \n",
       "25455         sale   horses  11.000000  \n",
       "18824         sale   horses  14.000000  \n",
       "25834         sale     dogs   0.583333  \n",
       "31745         sale     dogs   0.096154  \n",
       "28331         sale     dogs   0.134615  \n",
       "38501         sale     dogs   0.250000  \n",
       "15620         sale     dogs   0.115385  "
      ]
     },
     "execution_count": 211,
     "metadata": {},
     "output_type": "execute_result"
    }
   ],
   "source": [
    "df1.sort_values(by=['price'], ascending=False).head(30)"
   ]
  },
  {
   "cell_type": "code",
   "execution_count": 209,
   "id": "d349fef4",
   "metadata": {
    "ExecuteTime": {
     "end_time": "2022-06-15T15:18:00.861747Z",
     "start_time": "2022-06-15T15:18:00.836841Z"
    }
   },
   "outputs": [
    {
     "data": {
      "text/html": [
       "<div>\n",
       "<style scoped>\n",
       "    .dataframe tbody tr th:only-of-type {\n",
       "        vertical-align: middle;\n",
       "    }\n",
       "\n",
       "    .dataframe tbody tr th {\n",
       "        vertical-align: top;\n",
       "    }\n",
       "\n",
       "    .dataframe thead th {\n",
       "        text-align: right;\n",
       "    }\n",
       "</style>\n",
       "<table border=\"1\" class=\"dataframe\">\n",
       "  <thead>\n",
       "    <tr style=\"text-align: right;\">\n",
       "      <th></th>\n",
       "      <th>price</th>\n",
       "      <th>year</th>\n",
       "    </tr>\n",
       "  </thead>\n",
       "  <tbody>\n",
       "    <tr>\n",
       "      <th>count</th>\n",
       "      <td>41709.000000</td>\n",
       "      <td>41709.000000</td>\n",
       "    </tr>\n",
       "    <tr>\n",
       "      <th>mean</th>\n",
       "      <td>656.785922</td>\n",
       "      <td>0.946241</td>\n",
       "    </tr>\n",
       "    <tr>\n",
       "      <th>std</th>\n",
       "      <td>805.731562</td>\n",
       "      <td>1.722083</td>\n",
       "    </tr>\n",
       "    <tr>\n",
       "      <th>min</th>\n",
       "      <td>0.000000</td>\n",
       "      <td>0.000000</td>\n",
       "    </tr>\n",
       "    <tr>\n",
       "      <th>25%</th>\n",
       "      <td>100.000000</td>\n",
       "      <td>0.153846</td>\n",
       "    </tr>\n",
       "    <tr>\n",
       "      <th>50%</th>\n",
       "      <td>395.000000</td>\n",
       "      <td>0.250000</td>\n",
       "    </tr>\n",
       "    <tr>\n",
       "      <th>75%</th>\n",
       "      <td>1000.000000</td>\n",
       "      <td>1.000000</td>\n",
       "    </tr>\n",
       "    <tr>\n",
       "      <th>max</th>\n",
       "      <td>22000.000000</td>\n",
       "      <td>66.000000</td>\n",
       "    </tr>\n",
       "  </tbody>\n",
       "</table>\n",
       "</div>"
      ],
      "text/plain": [
       "              price          year\n",
       "count  41709.000000  41709.000000\n",
       "mean     656.785922      0.946241\n",
       "std      805.731562      1.722083\n",
       "min        0.000000      0.000000\n",
       "25%      100.000000      0.153846\n",
       "50%      395.000000      0.250000\n",
       "75%     1000.000000      1.000000\n",
       "max    22000.000000     66.000000"
      ]
     },
     "execution_count": 209,
     "metadata": {},
     "output_type": "execute_result"
    }
   ],
   "source": [
    "df1.describe()"
   ]
  },
  {
   "cell_type": "markdown",
   "id": "163c07bc",
   "metadata": {},
   "source": [
    "### Saving the data so I don't have to rerun the code above again."
   ]
  },
  {
   "cell_type": "code",
   "execution_count": 219,
   "id": "50f102ee",
   "metadata": {
    "ExecuteTime": {
     "end_time": "2022-06-15T15:37:58.769109Z",
     "start_time": "2022-06-15T15:37:58.404863Z"
    }
   },
   "outputs": [],
   "source": [
    "df1.to_csv('cleaned_data.csv', sep='\\t', encoding='utf-8')"
   ]
  },
  {
   "cell_type": "markdown",
   "id": "6892aa88",
   "metadata": {},
   "source": [
    "### Load in the the cleaned data"
   ]
  },
  {
   "cell_type": "code",
   "execution_count": null,
   "id": "ea876c49",
   "metadata": {},
   "outputs": [],
   "source": []
  },
  {
   "cell_type": "code",
   "execution_count": null,
   "id": "81846741",
   "metadata": {},
   "outputs": [],
   "source": []
  },
  {
   "cell_type": "code",
   "execution_count": 217,
   "id": "761fa24e",
   "metadata": {
    "ExecuteTime": {
     "end_time": "2022-06-15T15:27:07.124163Z",
     "start_time": "2022-06-15T15:27:06.720119Z"
    }
   },
   "outputs": [
    {
     "data": {
      "text/plain": [
       "<matplotlib.lines.Line2D at 0x142bb8ac6d0>"
      ]
     },
     "execution_count": 217,
     "metadata": {},
     "output_type": "execute_result"
    },
    {
     "data": {
      "image/png": "[encoded data removed]",
      "text/plain": [
       "<Figure size 432x288 with 1 Axes>"
      ]
     },
     "metadata": {
      "needs_background": "light"
     },
     "output_type": "display_data"
    }
   ],
   "source": [
    "ax = sns.histplot(df1['price'], bins=20)\n",
    "ax.axvline(df1['price'].mean(), c='r')\n",
    "ax.axvline(df1['price'].median(), c='g')"
   ]
  },
  {
   "cell_type": "markdown",
   "id": "f674996b",
   "metadata": {},
   "source": [
    "Cleaned data looks rather satisfactory"
   ]
  },
  {
   "cell_type": "code",
   "execution_count": null,
   "id": "19d1a0f5",
   "metadata": {},
   "outputs": [],
   "source": []
  },
  {
   "cell_type": "code",
   "execution_count": null,
   "id": "a0f6e1a5",
   "metadata": {},
   "outputs": [],
   "source": []
  },
  {
   "cell_type": "code",
   "execution_count": null,
   "id": "23fece48",
   "metadata": {},
   "outputs": [],
   "source": []
  },
  {
   "cell_type": "markdown",
   "id": "09c27071",
   "metadata": {
    "ExecuteTime": {
     "end_time": "2022-06-10T08:56:41.316435Z",
     "start_time": "2022-06-10T08:56:41.204714Z"
    }
   },
   "source": [
    "From this alone, we can see that there's outliers need to be removed. But first, let us separate the listing by listing type."
   ]
  },
  {
   "cell_type": "code",
   "execution_count": null,
   "id": "447c8d11",
   "metadata": {
    "ExecuteTime": {
     "end_time": "2022-06-13T07:40:02.570227Z",
     "start_time": "2022-06-13T07:40:02.558492Z"
    }
   },
   "outputs": [],
   "source": [
    "sale = df.loc[df['listing_type'] == 'sale']"
   ]
  },
  {
   "cell_type": "code",
   "execution_count": null,
   "id": "14f58205",
   "metadata": {
    "ExecuteTime": {
     "end_time": "2022-06-13T07:40:14.260774Z",
     "start_time": "2022-06-13T07:40:14.250030Z"
    }
   },
   "outputs": [],
   "source": [
    "sale.describe()"
   ]
  },
  {
   "cell_type": "markdown",
   "id": "f6c5ded5",
   "metadata": {},
   "source": [
    "Let us take a look at 0.0 sale price"
   ]
  },
  {
   "cell_type": "code",
   "execution_count": null,
   "id": "b36ad1dd",
   "metadata": {
    "ExecuteTime": {
     "end_time": "2022-06-13T07:40:15.373177Z",
     "start_time": "2022-06-13T07:40:15.358673Z"
    }
   },
   "outputs": [],
   "source": [
    "sale.loc[sale['price'] == 0 ]"
   ]
  },
  {
   "cell_type": "markdown",
   "id": "a65e393b",
   "metadata": {},
   "source": [
    "It's less than 2% of our data, how about the outliers?"
   ]
  },
  {
   "cell_type": "code",
   "execution_count": null,
   "id": "b0cdcae7",
   "metadata": {
    "ExecuteTime": {
     "end_time": "2022-06-13T07:40:16.415485Z",
     "start_time": "2022-06-13T07:40:16.392323Z"
    }
   },
   "outputs": [],
   "source": [
    "sale.sort_values(by=['price'], ascending=False).head(30)"
   ]
  },
  {
   "cell_type": "code",
   "execution_count": null,
   "id": "d91291ab",
   "metadata": {
    "ExecuteTime": {
     "end_time": "2022-06-13T07:40:17.356179Z",
     "start_time": "2022-06-13T07:40:17.350324Z"
    },
    "scrolled": true
   },
   "outputs": [],
   "source": [
    "sale['price'].value_counts()"
   ]
  },
  {
   "cell_type": "code",
   "execution_count": null,
   "id": "a6e55085",
   "metadata": {
    "ExecuteTime": {
     "end_time": "2022-06-13T07:40:17.844266Z",
     "start_time": "2022-06-13T07:40:17.830602Z"
    }
   },
   "outputs": [],
   "source": [
    "sale.loc[sale['pet_type'] == 'dogs' ].describe()"
   ]
  },
  {
   "cell_type": "code",
   "execution_count": null,
   "id": "4b9cf11b",
   "metadata": {
    "ExecuteTime": {
     "end_time": "2022-06-13T07:40:18.314103Z",
     "start_time": "2022-06-13T07:40:18.291595Z"
    }
   },
   "outputs": [],
   "source": [
    "sale.loc[sale['pet_type'] == 'dogs' ].sort_values(by=['price'], ascending=True).head(30)"
   ]
  },
  {
   "cell_type": "code",
   "execution_count": null,
   "id": "f784890b",
   "metadata": {
    "ExecuteTime": {
     "end_time": "2022-06-13T07:40:18.831490Z",
     "start_time": "2022-06-13T07:40:18.802206Z"
    },
    "scrolled": true
   },
   "outputs": [],
   "source": [
    "sale.loc[(sale['pet_type'] == 'dogs') & (sale['Title'].str.contains('deposit')) ].sort_values(by=['price'], ascending=True)"
   ]
  },
  {
   "cell_type": "code",
   "execution_count": null,
   "id": "4daa3d7f",
   "metadata": {
    "ExecuteTime": {
     "end_time": "2022-06-13T07:40:20.099517Z",
     "start_time": "2022-06-13T07:40:20.050940Z"
    }
   },
   "outputs": [],
   "source": [
    "df = df[~df.duplicated(subset=['price', 'species', 'age', 'gender', 'seller_name', 'seller_location','seller_type',\n",
    "                               'listing_type','pet_type'])].reset_index(drop=True)\n",
    "df"
   ]
  },
  {
   "cell_type": "code",
   "execution_count": null,
   "id": "f1f45701",
   "metadata": {
    "ExecuteTime": {
     "end_time": "2022-06-13T07:41:01.343946Z",
     "start_time": "2022-06-13T07:40:20.722958Z"
    }
   },
   "outputs": [],
   "source": [
    "df['language'] = df['description'].apply(detect)"
   ]
  },
  {
   "cell_type": "code",
   "execution_count": null,
   "id": "79debc8f",
   "metadata": {
    "ExecuteTime": {
     "end_time": "2022-06-13T07:41:01.345415Z",
     "start_time": "2022-06-13T07:41:01.345415Z"
    }
   },
   "outputs": [],
   "source": [
    "df"
   ]
  },
  {
   "cell_type": "markdown",
   "id": "efc6df3a",
   "metadata": {},
   "source": []
  },
  {
   "cell_type": "code",
   "execution_count": null,
   "id": "631e80a0",
   "metadata": {
    "ExecuteTime": {
     "end_time": "2022-06-13T07:41:01.345415Z",
     "start_time": "2022-06-13T07:41:01.345415Z"
    }
   },
   "outputs": [],
   "source": [
    "#dropping values\n",
    "sale.drop(sale[sale['price'] > 5000].index, inplace=True)\n",
    "sale.drop(sale[sale['price'] == 0.0].index, inplace=True)"
   ]
  },
  {
   "cell_type": "code",
   "execution_count": null,
   "id": "3da9bc96",
   "metadata": {
    "ExecuteTime": {
     "end_time": "2022-06-13T07:41:01.346385Z",
     "start_time": "2022-06-13T07:41:01.346385Z"
    }
   },
   "outputs": [],
   "source": [
    "sale.sort_values(by=['price'], ascending=False).head(30)"
   ]
  },
  {
   "cell_type": "code",
   "execution_count": null,
   "id": "641a5cb3",
   "metadata": {
    "ExecuteTime": {
     "end_time": "2022-06-13T07:41:01.347360Z",
     "start_time": "2022-06-13T07:41:01.347360Z"
    }
   },
   "outputs": [],
   "source": [
    "sale.describe()"
   ]
  },
  {
   "cell_type": "code",
   "execution_count": null,
   "id": "cc1da500",
   "metadata": {
    "ExecuteTime": {
     "end_time": "2022-06-13T07:41:01.348335Z",
     "start_time": "2022-06-13T07:41:01.348335Z"
    }
   },
   "outputs": [],
   "source": [
    "histogram (sale,'pet_type')"
   ]
  },
  {
   "cell_type": "code",
   "execution_count": null,
   "id": "02a34424",
   "metadata": {},
   "outputs": [],
   "source": []
  },
  {
   "cell_type": "code",
   "execution_count": null,
   "id": "a804782f",
   "metadata": {
    "ExecuteTime": {
     "end_time": "2022-06-13T07:17:14.053101Z",
     "start_time": "2022-06-13T07:17:14.050143Z"
    }
   },
   "outputs": [],
   "source": [
    "def isfloat(value):\n",
    "    try:\n",
    "        float(value)\n",
    "        return True\n",
    "    except ValueError:\n",
    "        return False"
   ]
  },
  {
   "cell_type": "code",
   "execution_count": null,
   "id": "2f492adb",
   "metadata": {},
   "outputs": [],
   "source": [
    "def process_age_to_year(age):\n",
    "    age = str(age)\n",
    "    value = np.mean([float(s) for s in sal.split() if s.isdecimal() or isfloat(s)])\n",
    "    if \"year\" in sal:\n",
    "        newsal = value\n",
    "    elif \"month\" in sal: \n",
    "        newsal = value*12\n",
    "    elif \"week\" in sal: \n",
    "        newsal = value*50\n",
    "    elif \"day\" in sal: \n",
    "        newsal = value*200\n",
    "    elif \"hour\" in sal: \n",
    "        newsal = value*2000\n",
    "    else:\n",
    "        newsal = sal\n",
    "    return newsal"
   ]
  },
  {
   "cell_type": "code",
   "execution_count": null,
   "id": "adcb5522",
   "metadata": {
    "ExecuteTime": {
     "end_time": "2022-06-13T07:03:30.687389Z",
     "start_time": "2022-06-13T07:03:30.499449Z"
    }
   },
   "outputs": [],
   "source": [
    "df['year'] = df['age']\n",
    "df['year'] = df['year'].apply(lambda x: 0 if ('Due' in x) else x)\n",
    "df['year'] = df['year'].apply(lambda x: float(str(x).replace(' weeks',''))/52 if ('weeks' in x) else x)\n",
    "df['year'] = df['year'].apply(lambda x: float(x) if (float(x)>100) else float(x))"
   ]
  }
 ],
 "metadata": {
  "kernelspec": {
   "display_name": "Python 3 (ipykernel)",
   "language": "python",
   "name": "python3"
  },
  "language_info": {
   "codemirror_mode": {
    "name": "ipython",
    "version": 3
   },
   "file_extension": ".py",
   "mimetype": "text/x-python",
   "name": "python",
   "nbconvert_exporter": "python",
   "pygments_lexer": "ipython3",
   "version": "3.9.7"
  }
 },
 "nbformat": 4,
 "nbformat_minor": 5
}
