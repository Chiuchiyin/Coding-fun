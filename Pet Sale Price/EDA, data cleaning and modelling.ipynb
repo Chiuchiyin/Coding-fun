{
 "cells": [
  {
   "cell_type": "code",
   "execution_count": null,
   "id": "1d7847ef",
   "metadata": {
    "ExecuteTime": {
     "end_time": "2022-06-15T14:32:51.425838Z",
     "start_time": "2022-06-15T14:32:51.417835Z"
    }
   },
   "outputs": [],
   "source": [
    "import pandas as pd\n",
    "import numpy as np\n",
    "import seaborn as sns\n",
    "import matplotlib.pyplot as plt\n",
    "from textblob import TextBlob\n",
    "from langdetect import detect"
   ]
  },
  {
   "cell_type": "code",
   "execution_count": null,
   "id": "1b836e9c",
   "metadata": {
    "ExecuteTime": {
     "end_time": "2022-06-15T14:32:52.254714Z",
     "start_time": "2022-06-15T14:32:51.998399Z"
    },
    "scrolled": false
   },
   "outputs": [],
   "source": [
    "df = pd.read_csv('merged.csv' , sep='\\t', encoding='utf-8', index_col=0)\n",
    "df"
   ]
  },
  {
   "cell_type": "markdown",
   "id": "04be2804",
   "metadata": {},
   "source": [
    "# EDA and Data Cleaning"
   ]
  },
  {
   "cell_type": "code",
   "execution_count": null,
   "id": "cd9d3aa1",
   "metadata": {
    "ExecuteTime": {
     "end_time": "2022-06-15T14:32:52.534759Z",
     "start_time": "2022-06-15T14:32:52.509824Z"
    }
   },
   "outputs": [],
   "source": [
    "df.info()"
   ]
  },
  {
   "cell_type": "code",
   "execution_count": null,
   "id": "114a9eef",
   "metadata": {
    "ExecuteTime": {
     "end_time": "2022-06-15T14:32:53.113358Z",
     "start_time": "2022-06-15T14:32:53.045093Z"
    }
   },
   "outputs": [],
   "source": [
    "df.nunique()"
   ]
  },
  {
   "cell_type": "code",
   "execution_count": null,
   "id": "c78ed663",
   "metadata": {
    "ExecuteTime": {
     "end_time": "2022-06-15T14:32:53.503209Z",
     "start_time": "2022-06-15T14:32:53.494232Z"
    }
   },
   "outputs": [],
   "source": [
    "df['gender'].value_counts()"
   ]
  },
  {
   "cell_type": "markdown",
   "id": "3647419b",
   "metadata": {},
   "source": [
    "We should combine these 'x number of male and y number of female' as mixed litters and remove the numbers from the others"
   ]
  },
  {
   "cell_type": "code",
   "execution_count": null,
   "id": "4147e60b",
   "metadata": {
    "ExecuteTime": {
     "end_time": "2022-06-15T14:32:54.370660Z",
     "start_time": "2022-06-15T14:32:54.333759Z"
    }
   },
   "outputs": [],
   "source": [
    "df['gender'] = df['gender'].apply(lambda x: 'Mixed' if (' male' in x and 'female' in x) else x)\n",
    "df['gender'] = df['gender'].apply(lambda x: 'Female' if (' female' in x) else x)\n",
    "df['gender'] = df['gender'].apply(lambda x: 'Male' if (' male' in x) else x)\n",
    "df['gender'].value_counts()"
   ]
  },
  {
   "cell_type": "markdown",
   "id": "26412a4a",
   "metadata": {},
   "source": [
    "This is satisfactory enough. Mare, Gelding and Stallion are horses."
   ]
  },
  {
   "cell_type": "code",
   "execution_count": null,
   "id": "a4b4e185",
   "metadata": {
    "ExecuteTime": {
     "end_time": "2022-06-15T14:32:55.385735Z",
     "start_time": "2022-06-15T14:32:55.170280Z"
    }
   },
   "outputs": [],
   "source": [
    "ax = df.gender.value_counts().plot(kind='barh')\n",
    "ax.set_xscale('log')"
   ]
  },
  {
   "cell_type": "code",
   "execution_count": null,
   "id": "871f58c4",
   "metadata": {
    "ExecuteTime": {
     "end_time": "2022-06-15T14:32:55.669884Z",
     "start_time": "2022-06-15T14:32:55.602035Z"
    }
   },
   "outputs": [],
   "source": [
    "df.nunique()"
   ]
  },
  {
   "cell_type": "code",
   "execution_count": null,
   "id": "b706b2db",
   "metadata": {
    "ExecuteTime": {
     "end_time": "2022-06-15T14:32:56.064434Z",
     "start_time": "2022-06-15T14:32:56.050444Z"
    }
   },
   "outputs": [],
   "source": [
    "df['seller_type'].value_counts()"
   ]
  },
  {
   "cell_type": "code",
   "execution_count": null,
   "id": "17c2a1dd",
   "metadata": {
    "ExecuteTime": {
     "end_time": "2022-06-15T14:32:56.710588Z",
     "start_time": "2022-06-15T14:32:56.457274Z"
    }
   },
   "outputs": [],
   "source": [
    "ax = df.seller_type.value_counts().plot(kind='barh')\n",
    "ax.set_xscale('log')"
   ]
  },
  {
   "cell_type": "code",
   "execution_count": null,
   "id": "42770c86",
   "metadata": {
    "ExecuteTime": {
     "end_time": "2022-06-15T14:32:56.899789Z",
     "start_time": "2022-06-15T14:32:56.881809Z"
    },
    "scrolled": true
   },
   "outputs": [],
   "source": [
    "df['seller_location'].value_counts().tail(100)"
   ]
  },
  {
   "cell_type": "markdown",
   "id": "d0a65d2d",
   "metadata": {},
   "source": [
    "Funny to have location data in foreign language. Probably should take a look at the posting."
   ]
  },
  {
   "cell_type": "code",
   "execution_count": null,
   "id": "8ace57a5",
   "metadata": {
    "ExecuteTime": {
     "end_time": "2022-06-15T14:32:57.752540Z",
     "start_time": "2022-06-15T14:32:57.729573Z"
    }
   },
   "outputs": [],
   "source": [
    "df.loc[df['seller_location'] == 'Солфорд']"
   ]
  },
  {
   "cell_type": "markdown",
   "id": "e2181dfe",
   "metadata": {},
   "source": [
    "It looks fine, only location column is in foreign language. Caution have to be taken as we might have listing completely in foreign language."
   ]
  },
  {
   "cell_type": "code",
   "execution_count": null,
   "id": "30f776e1",
   "metadata": {
    "ExecuteTime": {
     "end_time": "2022-06-15T14:32:58.621092Z",
     "start_time": "2022-06-15T14:32:58.614110Z"
    }
   },
   "outputs": [],
   "source": [
    "df['age'].value_counts().tail(20)"
   ]
  },
  {
   "cell_type": "markdown",
   "id": "54010937",
   "metadata": {},
   "source": [
    "Some of these are very funny. probably it's the year of birth. Longer living animals tends to have their year of birth recorded as age, horses in particular"
   ]
  },
  {
   "cell_type": "code",
   "execution_count": null,
   "id": "9b525ff9",
   "metadata": {
    "ExecuteTime": {
     "end_time": "2022-06-15T14:32:59.522076Z",
     "start_time": "2022-06-15T14:32:59.502102Z"
    }
   },
   "outputs": [],
   "source": [
    "df.loc[df['pet_type'] == 'horses']"
   ]
  },
  {
   "cell_type": "markdown",
   "id": "484b8efc",
   "metadata": {},
   "source": [
    "298 is just right the sum of mare, gelding and stallion. We can also see that horses have their year of birth listed as their age."
   ]
  },
  {
   "cell_type": "code",
   "execution_count": null,
   "id": "350d653e",
   "metadata": {
    "ExecuteTime": {
     "end_time": "2022-06-15T14:33:00.343832Z",
     "start_time": "2022-06-15T14:33:00.325880Z"
    }
   },
   "outputs": [],
   "source": [
    "df['pet_type'].value_counts()"
   ]
  },
  {
   "cell_type": "code",
   "execution_count": null,
   "id": "d3a3969c",
   "metadata": {
    "ExecuteTime": {
     "end_time": "2022-06-15T14:33:00.702219Z",
     "start_time": "2022-06-15T14:33:00.693735Z"
    }
   },
   "outputs": [],
   "source": [
    "df['price'].value_counts()"
   ]
  },
  {
   "cell_type": "code",
   "execution_count": null,
   "id": "208d3d91",
   "metadata": {
    "ExecuteTime": {
     "end_time": "2022-06-15T14:33:01.138466Z",
     "start_time": "2022-06-15T14:33:01.114529Z"
    }
   },
   "outputs": [],
   "source": [
    "df.sort_values(by=['price'], ascending=False).head(30)"
   ]
  },
  {
   "cell_type": "markdown",
   "id": "7b341839",
   "metadata": {},
   "source": [
    "some of the pricing makes no sense, owner probably want potential buyer to contact them. We should drop these. these outliers make price histogram unworkable. We may use boxplot to identify them."
   ]
  },
  {
   "cell_type": "code",
   "execution_count": null,
   "id": "927c8724",
   "metadata": {
    "ExecuteTime": {
     "end_time": "2022-06-15T14:33:02.092866Z",
     "start_time": "2022-06-15T14:33:02.073917Z"
    }
   },
   "outputs": [],
   "source": [
    "df.loc[df['price'] == 0.0]"
   ]
  },
  {
   "cell_type": "markdown",
   "id": "1df5027b",
   "metadata": {},
   "source": [
    "Make sense for adoption, questionable for sale. These are either misplaced listing or placeholder price."
   ]
  },
  {
   "cell_type": "code",
   "execution_count": null,
   "id": "b4fe95ee",
   "metadata": {
    "ExecuteTime": {
     "end_time": "2022-06-15T14:33:03.085753Z",
     "start_time": "2022-06-15T14:33:03.081763Z"
    }
   },
   "outputs": [],
   "source": [
    "def price_plot_hist (data, column):\n",
    "    entries = data[column].unique()\n",
    "    for entry in entries:\n",
    "        plt.figure(figsize=(8,6))\n",
    "        plt.xlabel(entry)\n",
    "        plt.xticks(rotation=90)\n",
    "        sns.distplot(x = data.loc[data[column] == entry].price)\n",
    "        plt.show()"
   ]
  },
  {
   "cell_type": "code",
   "execution_count": null,
   "id": "f547df84",
   "metadata": {
    "ExecuteTime": {
     "end_time": "2022-06-15T14:33:05.632447Z",
     "start_time": "2022-06-15T14:33:03.586333Z"
    }
   },
   "outputs": [],
   "source": [
    "price_plot_hist (df,'pet_type')"
   ]
  },
  {
   "cell_type": "markdown",
   "id": "51051ac5",
   "metadata": {},
   "source": [
    "Histogram don't look good because of extreme outliers. Horses and Lifestock look rather fine."
   ]
  },
  {
   "cell_type": "code",
   "execution_count": null,
   "id": "8827cf5c",
   "metadata": {
    "ExecuteTime": {
     "end_time": "2022-06-15T14:33:05.647407Z",
     "start_time": "2022-06-15T14:33:05.633444Z"
    }
   },
   "outputs": [],
   "source": [
    "def price_plot_box (data, column):\n",
    "    entries = data[column].unique()\n",
    "    for entry in entries:\n",
    "        plt.figure(figsize=(8,6))\n",
    "        plt.xticks(rotation=90)\n",
    "        sns.boxplot(x = data.loc[data[column] == entry].price).set_title(entry)\n",
    "        plt.show()"
   ]
  },
  {
   "cell_type": "code",
   "execution_count": null,
   "id": "6f85c602",
   "metadata": {
    "ExecuteTime": {
     "end_time": "2022-06-15T14:33:06.450893Z",
     "start_time": "2022-06-15T14:33:05.648405Z"
    }
   },
   "outputs": [],
   "source": [
    "price_plot_box (df,'pet_type')"
   ]
  },
  {
   "cell_type": "markdown",
   "id": "b78d4da4",
   "metadata": {},
   "source": [
    "We could see that each pet types have their own outliers. 2000 doesn't look strange for dogs or cats but it's a sore thumb for poultry. This shows us that we should remove outliers by pet types."
   ]
  },
  {
   "cell_type": "code",
   "execution_count": null,
   "id": "6ad12522",
   "metadata": {
    "ExecuteTime": {
     "end_time": "2022-06-15T14:33:06.735706Z",
     "start_time": "2022-06-15T14:33:06.526260Z"
    }
   },
   "outputs": [],
   "source": [
    "# plot value_counts of Series\n",
    "ax = df.pet_type.value_counts().plot(kind='barh')\n",
    "ax.set_xscale('log')"
   ]
  },
  {
   "cell_type": "code",
   "execution_count": null,
   "id": "14ee7dd9",
   "metadata": {
    "ExecuteTime": {
     "end_time": "2022-06-15T14:33:07.157076Z",
     "start_time": "2022-06-15T14:33:07.130149Z"
    }
   },
   "outputs": [],
   "source": [
    "df['age'].str.startswith('Due').value_counts()"
   ]
  },
  {
   "cell_type": "markdown",
   "id": "22459b95",
   "metadata": {},
   "source": [
    "135 of the listing aren't born yet. Let us convert age to workable numbers, it might provide some useful insight. We can convert those that aren't due yet or just born to zero while the rest are converted to number of years."
   ]
  },
  {
   "cell_type": "code",
   "execution_count": null,
   "id": "6b2be1a9",
   "metadata": {
    "ExecuteTime": {
     "end_time": "2022-06-15T14:33:08.289306Z",
     "start_time": "2022-06-15T14:33:08.281364Z"
    }
   },
   "outputs": [],
   "source": [
    "def isfloat(value):\n",
    "    try:\n",
    "        float(value)\n",
    "        return True\n",
    "    except ValueError:\n",
    "        return False"
   ]
  },
  {
   "cell_type": "code",
   "execution_count": null,
   "id": "ce50a758",
   "metadata": {
    "ExecuteTime": {
     "end_time": "2022-06-15T14:33:08.936249Z",
     "start_time": "2022-06-15T14:33:08.921289Z"
    }
   },
   "outputs": [],
   "source": [
    "def process_age_to_year(age):\n",
    "    age = str(age)\n",
    "    value = np.mean([int(s) for s in age.split() if s.isdigit()])\n",
    "    if \"Due\" in age:\n",
    "        newage = 0\n",
    "    elif \"Just Born\" in age:\n",
    "        newage = 0\n",
    "    elif \"month\" in age: \n",
    "        newage = value/12\n",
    "    elif \"week\" in age: \n",
    "        newage = value/52\n",
    "    elif \"day\" in age: \n",
    "        newage = value/365\n",
    "    elif \"year\" in age: \n",
    "        if value > 100:\n",
    "            newage = 2022 - value\n",
    "        else:\n",
    "            newage = value\n",
    "    else:\n",
    "        if age == 'unknown':\n",
    "            newage = np.nan\n",
    "        else:\n",
    "            age = int(age)\n",
    "            if age > 100:\n",
    "                newage = 2022 - age\n",
    "            else:\n",
    "                newage = age\n",
    "    return newage"
   ]
  },
  {
   "cell_type": "code",
   "execution_count": null,
   "id": "5821a3f4",
   "metadata": {
    "ExecuteTime": {
     "end_time": "2022-06-15T14:33:09.979304Z",
     "start_time": "2022-06-15T14:33:09.425960Z"
    }
   },
   "outputs": [],
   "source": [
    "df['year'] = df['age'].map(lambda x: process_age_to_year(x))"
   ]
  },
  {
   "cell_type": "code",
   "execution_count": null,
   "id": "09914e7e",
   "metadata": {
    "ExecuteTime": {
     "end_time": "2022-06-15T14:33:10.102136Z",
     "start_time": "2022-06-15T14:33:10.078199Z"
    }
   },
   "outputs": [],
   "source": [
    "df"
   ]
  },
  {
   "cell_type": "markdown",
   "id": "a3808f0c",
   "metadata": {},
   "source": [
    "It looks good."
   ]
  },
  {
   "cell_type": "code",
   "execution_count": null,
   "id": "61962e9a",
   "metadata": {
    "ExecuteTime": {
     "end_time": "2022-06-15T14:33:11.128073Z",
     "start_time": "2022-06-15T14:33:11.110121Z"
    }
   },
   "outputs": [],
   "source": [
    "df.describe()"
   ]
  },
  {
   "cell_type": "code",
   "execution_count": null,
   "id": "d796a7a9",
   "metadata": {
    "ExecuteTime": {
     "end_time": "2022-06-15T14:33:11.606201Z",
     "start_time": "2022-06-15T14:33:11.597224Z"
    }
   },
   "outputs": [],
   "source": [
    "def year_plot_box (data, column):\n",
    "    entries = data[column].unique()\n",
    "    for entry in entries:\n",
    "        plt.figure(figsize=(8,6))\n",
    "        plt.xticks(rotation=90)\n",
    "        sns.boxplot(x = data.loc[data[column] == entry].year).set_title(entry)\n",
    "        plt.show()"
   ]
  },
  {
   "cell_type": "code",
   "execution_count": null,
   "id": "bd2c3ee9",
   "metadata": {
    "ExecuteTime": {
     "end_time": "2022-06-15T14:33:12.874030Z",
     "start_time": "2022-06-15T14:33:12.069743Z"
    }
   },
   "outputs": [],
   "source": [
    "year_plot_box (df,'pet_type')"
   ]
  },
  {
   "cell_type": "markdown",
   "id": "a73db725",
   "metadata": {},
   "source": [
    "There are some strange values that look rather unrealistic."
   ]
  },
  {
   "cell_type": "code",
   "execution_count": null,
   "id": "599cda91",
   "metadata": {
    "ExecuteTime": {
     "end_time": "2022-06-15T14:33:14.572622Z",
     "start_time": "2022-06-15T14:33:14.425027Z"
    }
   },
   "outputs": [],
   "source": [
    "ax = df.listing_type.value_counts().plot(kind='barh')\n",
    "ax.set_xscale('log')"
   ]
  },
  {
   "cell_type": "code",
   "execution_count": null,
   "id": "d2b6ad65",
   "metadata": {
    "ExecuteTime": {
     "end_time": "2022-06-15T14:33:14.932094Z",
     "start_time": "2022-06-15T14:33:14.919130Z"
    }
   },
   "outputs": [],
   "source": [
    "df.corr()"
   ]
  },
  {
   "cell_type": "markdown",
   "id": "2b4a90b8",
   "metadata": {},
   "source": [
    "After looking more at the data, what I'm sure of:\n",
    "- There are duplicates that scraper couldn't identify. This is likely because title and description changed during scraping.\n",
    "- Some sellers put deposit as sale price, which explains why some listing looks extremely cheap\n",
    "- Some cheap listing is because owner couldn't take care of the pet anymore and look for new family to take over\n",
    "- Odd entries are because owner want to get in contact before deciding the sale\n",
    "- Some listing are service offers which we are not interested in\n",
    "- Correlation between price and age is weak\n",
    "\n",
    "Data that we need to remove:\n",
    "- Duplicates\n",
    "- Those that aren't actual sale price. The hard part is identifiying them.\n",
    "- Listing that are not in English. Those are likely to cause problems with NLP model.\n",
    "- Those that service (microchipping, dog walking, etc)\n",
    "\n",
    "To remove duplicates, we could ignore description and title column. The other columns are less likely to change after reposting.\n",
    "\n",
    "Identify those listing not in english with langdetect."
   ]
  },
  {
   "cell_type": "markdown",
   "id": "037d0b56",
   "metadata": {},
   "source": [
    "### Dropping outliers for each pet type"
   ]
  },
  {
   "cell_type": "code",
   "execution_count": null,
   "id": "eb9fd04d",
   "metadata": {
    "ExecuteTime": {
     "end_time": "2022-06-15T15:03:59.188290Z",
     "start_time": "2022-06-15T15:03:59.007746Z"
    }
   },
   "outputs": [],
   "source": [
    "df1=df\n",
    "df1.dropna(inplace=True)\n",
    "df1.drop(df1[(df1['price'] > 22000)].index, inplace=True) #those above 22000 are exceedingly exhorbitant\n",
    "df1.drop(df1[(df1['price'] == 12345.0)].index, inplace=True) #the number look suspicious, checking the entry proved suspicion\n",
    "df1.drop(df1[(df1['price'] == 1234.0)].index, inplace=True) #same as above\n",
    "df1.drop(df1[(df1['pet_type'] == 'reptiles') & (df1['price'] > 1200)].index, inplace=True)\n",
    "df1.drop(df1[(df1['pet_type'] == 'birds') & (df1['price'] > 10000)].index, inplace=True)\n",
    "df1.drop(df1[(df1['pet_type'] == 'fish') & (df1['price'] > 2000)].index, inplace=True)\n",
    "df1.drop(df1[(df1['pet_type'] == 'poultry') & (df1['price'] > 1000)].index, inplace=True)\n",
    "df1.drop(df1[(df1['pet_type'] == 'rabbits') & (df1['price'] > 1000)].index, inplace=True)\n",
    "df1.drop(df1[(df1['listing_type'] == 'sale') & (df1['Title'].str.contains('service'))].index, inplace=True)\n",
    "df1.drop(df1[(df1['listing_type'] == 'sale') & (df1['Title'].str.contains('Services'))].index, inplace=True)\n",
    "df1.drop(df1[(df1['listing_type'] == 'sale') & (df1['price'] == 0.0)].index, inplace=True) #sale couldn't be zero\n",
    "#other listings don't look unusual enough to drop\n",
    "#sometimes title and description changes during scraping and we need to remove those.\n",
    "df1 = df1[~df1.duplicated(subset=['price', 'species', 'age', 'gender', 'seller_name', 'seller_location','seller_type',\n",
    "                                  'listing_type','pet_type'])].reset_index(drop=True)"
   ]
  },
  {
   "cell_type": "code",
   "execution_count": null,
   "id": "50aaca11",
   "metadata": {
    "ExecuteTime": {
     "end_time": "2022-06-15T15:04:00.528079Z",
     "start_time": "2022-06-15T15:03:59.728436Z"
    }
   },
   "outputs": [],
   "source": [
    "price_plot_box (df1,'pet_type')"
   ]
  },
  {
   "cell_type": "code",
   "execution_count": null,
   "id": "c6504b93",
   "metadata": {
    "ExecuteTime": {
     "end_time": "2022-06-15T15:23:20.918914Z",
     "start_time": "2022-06-15T15:23:20.889990Z"
    }
   },
   "outputs": [],
   "source": [
    "df1.sort_values(by=['price'], ascending=False).head(30)"
   ]
  },
  {
   "cell_type": "code",
   "execution_count": null,
   "id": "d349fef4",
   "metadata": {
    "ExecuteTime": {
     "end_time": "2022-06-15T15:18:00.861747Z",
     "start_time": "2022-06-15T15:18:00.836841Z"
    }
   },
   "outputs": [],
   "source": [
    "df1.describe()"
   ]
  },
  {
   "cell_type": "markdown",
   "id": "ff4bafa1",
   "metadata": {},
   "source": [
    "### Saving the data so I don't have to rerun the code above again."
   ]
  },
  {
   "cell_type": "code",
   "execution_count": null,
   "id": "ec5cab06",
   "metadata": {
    "ExecuteTime": {
     "end_time": "2022-06-15T15:37:58.769109Z",
     "start_time": "2022-06-15T15:37:58.404863Z"
    }
   },
   "outputs": [],
   "source": [
    "df1.to_csv('cleaned_data.csv', sep='\\t', encoding='utf-8')"
   ]
  },
  {
   "cell_type": "markdown",
   "id": "f4690f78",
   "metadata": {},
   "source": [
    "# Building the models\n",
    "\n",
    "### Load in the the cleaned data"
   ]
  },
  {
   "cell_type": "code",
   "execution_count": 1,
   "id": "f2d07d95",
   "metadata": {
    "ExecuteTime": {
     "end_time": "2022-06-15T15:41:37.639562Z",
     "start_time": "2022-06-15T15:41:37.409149Z"
    }
   },
   "outputs": [],
   "source": [
    "import pandas as pd\n",
    "import numpy as np\n",
    "import seaborn as sns\n",
    "import matplotlib.pyplot as plt\n",
    "df_clean = pd.read_csv('cleaned_data.csv' , sep='\\t', encoding='utf-8', index_col=0)"
   ]
  },
  {
   "cell_type": "code",
   "execution_count": 2,
   "id": "bbbd80c0",
   "metadata": {
    "ExecuteTime": {
     "end_time": "2022-06-15T15:41:38.290501Z",
     "start_time": "2022-06-15T15:41:38.268528Z"
    }
   },
   "outputs": [
    {
     "data": {
      "text/html": [
       "<div>\n",
       "<style scoped>\n",
       "    .dataframe tbody tr th:only-of-type {\n",
       "        vertical-align: middle;\n",
       "    }\n",
       "\n",
       "    .dataframe tbody tr th {\n",
       "        vertical-align: top;\n",
       "    }\n",
       "\n",
       "    .dataframe thead th {\n",
       "        text-align: right;\n",
       "    }\n",
       "</style>\n",
       "<table border=\"1\" class=\"dataframe\">\n",
       "  <thead>\n",
       "    <tr style=\"text-align: right;\">\n",
       "      <th></th>\n",
       "      <th>Title</th>\n",
       "      <th>price</th>\n",
       "      <th>species</th>\n",
       "      <th>age</th>\n",
       "      <th>gender</th>\n",
       "      <th>description</th>\n",
       "      <th>seller_name</th>\n",
       "      <th>seller_location</th>\n",
       "      <th>seller_type</th>\n",
       "      <th>listing_type</th>\n",
       "      <th>pet_type</th>\n",
       "      <th>year</th>\n",
       "    </tr>\n",
       "  </thead>\n",
       "  <tbody>\n",
       "    <tr>\n",
       "      <th>0</th>\n",
       "      <td>unsexed green tree python + 60cm vivtek</td>\n",
       "      <td>1000.0</td>\n",
       "      <td>Python Snake</td>\n",
       "      <td>3 years</td>\n",
       "      <td>Mixed</td>\n",
       "      <td>~3years old gtp biak x sorong    Typical gtp a...</td>\n",
       "      <td>Patryk M.</td>\n",
       "      <td>Aberdeen</td>\n",
       "      <td>Individual</td>\n",
       "      <td>sale</td>\n",
       "      <td>reptiles</td>\n",
       "      <td>3.000000</td>\n",
       "    </tr>\n",
       "    <tr>\n",
       "      <th>1</th>\n",
       "      <td>Leopard gecko (f)</td>\n",
       "      <td>80.0</td>\n",
       "      <td>Gecko</td>\n",
       "      <td>1 year</td>\n",
       "      <td>Female</td>\n",
       "      <td>Selling this leopard gecko I've had the joy of...</td>\n",
       "      <td>Dana I.</td>\n",
       "      <td>Aberdeen</td>\n",
       "      <td>Individual</td>\n",
       "      <td>sale</td>\n",
       "      <td>reptiles</td>\n",
       "      <td>1.000000</td>\n",
       "    </tr>\n",
       "    <tr>\n",
       "      <th>2</th>\n",
       "      <td>rexy</td>\n",
       "      <td>100.0</td>\n",
       "      <td>Iguana</td>\n",
       "      <td>4 years</td>\n",
       "      <td>Male</td>\n",
       "      <td>rexy needs a new home ASP   sadly I don't not ...</td>\n",
       "      <td>Gillian W.</td>\n",
       "      <td>Aberdeen</td>\n",
       "      <td>Individual</td>\n",
       "      <td>sale</td>\n",
       "      <td>reptiles</td>\n",
       "      <td>4.000000</td>\n",
       "    </tr>\n",
       "    <tr>\n",
       "      <th>3</th>\n",
       "      <td>Panther Chameleon and full set up</td>\n",
       "      <td>550.0</td>\n",
       "      <td>Chameleon</td>\n",
       "      <td>9 months</td>\n",
       "      <td>Male</td>\n",
       "      <td>Blue is a 6 month old Nosey Mitsio chameleon. ...</td>\n",
       "      <td>Craig H.</td>\n",
       "      <td>Aberdeen</td>\n",
       "      <td>Individual</td>\n",
       "      <td>sale</td>\n",
       "      <td>reptiles</td>\n",
       "      <td>0.750000</td>\n",
       "    </tr>\n",
       "    <tr>\n",
       "      <th>4</th>\n",
       "      <td>Hand reared white Indian ringnecks</td>\n",
       "      <td>300.0</td>\n",
       "      <td>Parakeets</td>\n",
       "      <td>9 weeks</td>\n",
       "      <td>Mixed</td>\n",
       "      <td>I have 2 stunning white Indian ringnecks. 1 ma...</td>\n",
       "      <td>Dave T.</td>\n",
       "      <td>Aberdeen</td>\n",
       "      <td>Individual</td>\n",
       "      <td>sale</td>\n",
       "      <td>birds</td>\n",
       "      <td>0.173077</td>\n",
       "    </tr>\n",
       "    <tr>\n",
       "      <th>...</th>\n",
       "      <td>...</td>\n",
       "      <td>...</td>\n",
       "      <td>...</td>\n",
       "      <td>...</td>\n",
       "      <td>...</td>\n",
       "      <td>...</td>\n",
       "      <td>...</td>\n",
       "      <td>...</td>\n",
       "      <td>...</td>\n",
       "      <td>...</td>\n",
       "      <td>...</td>\n",
       "      <td>...</td>\n",
       "    </tr>\n",
       "    <tr>\n",
       "      <th>41704</th>\n",
       "      <td>canarys for sale all colour plus new colours</td>\n",
       "      <td>40.0</td>\n",
       "      <td>Canaries</td>\n",
       "      <td>7 weeks</td>\n",
       "      <td>Mixed</td>\n",
       "      <td>there are all mixed cocks and hens new volour ...</td>\n",
       "      <td>Robert n.</td>\n",
       "      <td>Knottingley</td>\n",
       "      <td>Breeder</td>\n",
       "      <td>sale</td>\n",
       "      <td>birds</td>\n",
       "      <td>0.134615</td>\n",
       "    </tr>\n",
       "    <tr>\n",
       "      <th>41705</th>\n",
       "      <td>TAME &amp; TALKING HARNESS TRAINED BLUE &amp; GOLD MACAW</td>\n",
       "      <td>2150.0</td>\n",
       "      <td>Macaws</td>\n",
       "      <td>4 years</td>\n",
       "      <td>Male</td>\n",
       "      <td>Rainbow is a beautiful example of a blue and g...</td>\n",
       "      <td>The Bradford Birdman</td>\n",
       "      <td>Bradford</td>\n",
       "      <td>Licensed Breeder</td>\n",
       "      <td>sale</td>\n",
       "      <td>birds</td>\n",
       "      <td>4.000000</td>\n",
       "    </tr>\n",
       "    <tr>\n",
       "      <th>41706</th>\n",
       "      <td>Hand reared indian ringnecks babys</td>\n",
       "      <td>350.0</td>\n",
       "      <td>Parrots</td>\n",
       "      <td>1 year</td>\n",
       "      <td>Male</td>\n",
       "      <td>Hand reared cuddly silly tame little babys for...</td>\n",
       "      <td>Waqar A.</td>\n",
       "      <td>Bradford</td>\n",
       "      <td>Breeder</td>\n",
       "      <td>sale</td>\n",
       "      <td>birds</td>\n",
       "      <td>1.000000</td>\n",
       "    </tr>\n",
       "    <tr>\n",
       "      <th>41707</th>\n",
       "      <td>One yellow one orange canary.</td>\n",
       "      <td>60.0</td>\n",
       "      <td>Canaries</td>\n",
       "      <td>2 years</td>\n",
       "      <td>Mixed</td>\n",
       "      <td>I’m reluctantly listing my canaries (peach and...</td>\n",
       "      <td>Amylia R.</td>\n",
       "      <td>Barnsley</td>\n",
       "      <td>Individual</td>\n",
       "      <td>sale</td>\n",
       "      <td>birds</td>\n",
       "      <td>2.000000</td>\n",
       "    </tr>\n",
       "    <tr>\n",
       "      <th>41708</th>\n",
       "      <td>Tame and talking African grey</td>\n",
       "      <td>1250.0</td>\n",
       "      <td>Parrots</td>\n",
       "      <td>9 years</td>\n",
       "      <td>Male</td>\n",
       "      <td>Pablo has just turned 9 not able to give him t...</td>\n",
       "      <td>Ahmad R.</td>\n",
       "      <td>Bradford</td>\n",
       "      <td>Breeder</td>\n",
       "      <td>sale</td>\n",
       "      <td>birds</td>\n",
       "      <td>9.000000</td>\n",
       "    </tr>\n",
       "  </tbody>\n",
       "</table>\n",
       "<p>41709 rows × 12 columns</p>\n",
       "</div>"
      ],
      "text/plain": [
       "                                                  Title   price       species  \\\n",
       "0              unsexed green tree python + 60cm vivtek   1000.0  Python Snake   \n",
       "1                                     Leopard gecko (f)    80.0         Gecko   \n",
       "2                                                  rexy   100.0        Iguana   \n",
       "3                    Panther Chameleon and full set up    550.0     Chameleon   \n",
       "4                   Hand reared white Indian ringnecks    300.0     Parakeets   \n",
       "...                                                 ...     ...           ...   \n",
       "41704      canarys for sale all colour plus new colours    40.0      Canaries   \n",
       "41705  TAME & TALKING HARNESS TRAINED BLUE & GOLD MACAW  2150.0        Macaws   \n",
       "41706                Hand reared indian ringnecks babys   350.0       Parrots   \n",
       "41707                    One yellow one orange canary.     60.0      Canaries   \n",
       "41708                     Tame and talking African grey  1250.0       Parrots   \n",
       "\n",
       "            age  gender                                        description  \\\n",
       "0       3 years   Mixed  ~3years old gtp biak x sorong    Typical gtp a...   \n",
       "1        1 year  Female  Selling this leopard gecko I've had the joy of...   \n",
       "2       4 years    Male  rexy needs a new home ASP   sadly I don't not ...   \n",
       "3      9 months    Male  Blue is a 6 month old Nosey Mitsio chameleon. ...   \n",
       "4       9 weeks   Mixed  I have 2 stunning white Indian ringnecks. 1 ma...   \n",
       "...         ...     ...                                                ...   \n",
       "41704   7 weeks   Mixed  there are all mixed cocks and hens new volour ...   \n",
       "41705   4 years    Male  Rainbow is a beautiful example of a blue and g...   \n",
       "41706    1 year    Male  Hand reared cuddly silly tame little babys for...   \n",
       "41707   2 years   Mixed  I’m reluctantly listing my canaries (peach and...   \n",
       "41708   9 years    Male  Pablo has just turned 9 not able to give him t...   \n",
       "\n",
       "                seller_name seller_location       seller_type listing_type  \\\n",
       "0                 Patryk M.        Aberdeen        Individual         sale   \n",
       "1                   Dana I.        Aberdeen        Individual         sale   \n",
       "2                Gillian W.        Aberdeen        Individual         sale   \n",
       "3                  Craig H.        Aberdeen        Individual         sale   \n",
       "4                   Dave T.        Aberdeen        Individual         sale   \n",
       "...                     ...             ...               ...          ...   \n",
       "41704             Robert n.     Knottingley           Breeder         sale   \n",
       "41705  The Bradford Birdman        Bradford  Licensed Breeder         sale   \n",
       "41706              Waqar A.        Bradford           Breeder         sale   \n",
       "41707             Amylia R.        Barnsley        Individual         sale   \n",
       "41708              Ahmad R.        Bradford           Breeder         sale   \n",
       "\n",
       "       pet_type      year  \n",
       "0      reptiles  3.000000  \n",
       "1      reptiles  1.000000  \n",
       "2      reptiles  4.000000  \n",
       "3      reptiles  0.750000  \n",
       "4         birds  0.173077  \n",
       "...         ...       ...  \n",
       "41704     birds  0.134615  \n",
       "41705     birds  4.000000  \n",
       "41706     birds  1.000000  \n",
       "41707     birds  2.000000  \n",
       "41708     birds  9.000000  \n",
       "\n",
       "[41709 rows x 12 columns]"
      ]
     },
     "execution_count": 2,
     "metadata": {},
     "output_type": "execute_result"
    }
   ],
   "source": [
    "df_clean"
   ]
  },
  {
   "cell_type": "markdown",
   "id": "244c6189",
   "metadata": {},
   "source": [
    "## Predict if the pet is expensive or affordable\n",
    "\n",
    "Our cleaned data has 41709 rows. Before we build a model to predict price (the actual number), let us build a model to predict a binary variable if a pet is expensive or affordable (ignoring mantenance cost). We could use the median as separator, expensive if the price is above median, affordable if below it."
   ]
  },
  {
   "cell_type": "code",
   "execution_count": 3,
   "id": "3fea7e72",
   "metadata": {
    "ExecuteTime": {
     "end_time": "2022-06-15T15:51:27.422111Z",
     "start_time": "2022-06-15T15:51:27.405128Z"
    }
   },
   "outputs": [
    {
     "data": {
      "text/html": [
       "<div>\n",
       "<style scoped>\n",
       "    .dataframe tbody tr th:only-of-type {\n",
       "        vertical-align: middle;\n",
       "    }\n",
       "\n",
       "    .dataframe tbody tr th {\n",
       "        vertical-align: top;\n",
       "    }\n",
       "\n",
       "    .dataframe thead th {\n",
       "        text-align: right;\n",
       "    }\n",
       "</style>\n",
       "<table border=\"1\" class=\"dataframe\">\n",
       "  <thead>\n",
       "    <tr style=\"text-align: right;\">\n",
       "      <th></th>\n",
       "      <th>price</th>\n",
       "      <th>year</th>\n",
       "    </tr>\n",
       "  </thead>\n",
       "  <tbody>\n",
       "    <tr>\n",
       "      <th>count</th>\n",
       "      <td>41709.000000</td>\n",
       "      <td>41709.000000</td>\n",
       "    </tr>\n",
       "    <tr>\n",
       "      <th>mean</th>\n",
       "      <td>656.785922</td>\n",
       "      <td>0.946241</td>\n",
       "    </tr>\n",
       "    <tr>\n",
       "      <th>std</th>\n",
       "      <td>805.731562</td>\n",
       "      <td>1.722083</td>\n",
       "    </tr>\n",
       "    <tr>\n",
       "      <th>min</th>\n",
       "      <td>0.000000</td>\n",
       "      <td>0.000000</td>\n",
       "    </tr>\n",
       "    <tr>\n",
       "      <th>25%</th>\n",
       "      <td>100.000000</td>\n",
       "      <td>0.153846</td>\n",
       "    </tr>\n",
       "    <tr>\n",
       "      <th>50%</th>\n",
       "      <td>395.000000</td>\n",
       "      <td>0.250000</td>\n",
       "    </tr>\n",
       "    <tr>\n",
       "      <th>75%</th>\n",
       "      <td>1000.000000</td>\n",
       "      <td>1.000000</td>\n",
       "    </tr>\n",
       "    <tr>\n",
       "      <th>max</th>\n",
       "      <td>22000.000000</td>\n",
       "      <td>66.000000</td>\n",
       "    </tr>\n",
       "  </tbody>\n",
       "</table>\n",
       "</div>"
      ],
      "text/plain": [
       "              price          year\n",
       "count  41709.000000  41709.000000\n",
       "mean     656.785922      0.946241\n",
       "std      805.731562      1.722083\n",
       "min        0.000000      0.000000\n",
       "25%      100.000000      0.153846\n",
       "50%      395.000000      0.250000\n",
       "75%     1000.000000      1.000000\n",
       "max    22000.000000     66.000000"
      ]
     },
     "execution_count": 3,
     "metadata": {},
     "output_type": "execute_result"
    }
   ],
   "source": [
    "df_clean.describe()"
   ]
  },
  {
   "cell_type": "code",
   "execution_count": 4,
   "id": "07c79fd0",
   "metadata": {
    "ExecuteTime": {
     "end_time": "2022-06-15T15:58:14.710841Z",
     "start_time": "2022-06-15T15:58:14.645987Z"
    }
   },
   "outputs": [
    {
     "data": {
      "text/plain": [
       "Title              35401\n",
       "price                378\n",
       "species              436\n",
       "age                   98\n",
       "gender                 7\n",
       "description        38842\n",
       "seller_name        20384\n",
       "seller_location     1081\n",
       "seller_type            5\n",
       "listing_type           3\n",
       "pet_type              11\n",
       "year                  56\n",
       "dtype: int64"
      ]
     },
     "execution_count": 4,
     "metadata": {},
     "output_type": "execute_result"
    }
   ],
   "source": [
    "df_clean.nunique()"
   ]
  },
  {
   "cell_type": "code",
   "execution_count": 5,
   "id": "419c7be9",
   "metadata": {
    "ExecuteTime": {
     "end_time": "2022-06-15T15:41:41.316606Z",
     "start_time": "2022-06-15T15:41:41.176993Z"
    }
   },
   "outputs": [
    {
     "data": {
      "text/plain": [
       "<matplotlib.lines.Line2D at 0x1c758a6a880>"
      ]
     },
     "execution_count": 5,
     "metadata": {},
     "output_type": "execute_result"
    },
    {
     "data": {
      "image/png": "[encoded data removed]",
      "text/plain": [
       "<Figure size 432x288 with 1 Axes>"
      ]
     },
     "metadata": {
      "needs_background": "light"
     },
     "output_type": "display_data"
    }
   ],
   "source": [
    "ax = sns.histplot(df_clean['price'], bins=20)\n",
    "ax.axvline(df_clean['price'].mean(), c='r')\n",
    "ax.axvline(df_clean['price'].median(), c='g')"
   ]
  },
  {
   "cell_type": "markdown",
   "id": "7412c578",
   "metadata": {},
   "source": [
    "Our data is rather skewed on one side. This is probably because there are a lot of expensive dogs. Dogs overall have higher price range."
   ]
  },
  {
   "cell_type": "code",
   "execution_count": 6,
   "id": "63b95ea6",
   "metadata": {
    "ExecuteTime": {
     "end_time": "2022-06-15T15:43:35.621696Z",
     "start_time": "2022-06-15T15:43:35.608703Z"
    }
   },
   "outputs": [
    {
     "data": {
      "text/plain": [
       "395.0"
      ]
     },
     "execution_count": 6,
     "metadata": {},
     "output_type": "execute_result"
    }
   ],
   "source": [
    "median_price = np.median(df_clean.price)\n",
    "median_price"
   ]
  },
  {
   "cell_type": "code",
   "execution_count": 7,
   "id": "b50c9036",
   "metadata": {
    "ExecuteTime": {
     "end_time": "2022-06-15T15:44:22.185636Z",
     "start_time": "2022-06-15T15:44:22.164692Z"
    }
   },
   "outputs": [],
   "source": [
    "df_clean['price_class'] = [1 if i > median_price else 0 for i in df_clean.price]"
   ]
  },
  {
   "cell_type": "code",
   "execution_count": 8,
   "id": "6e2b4a01",
   "metadata": {
    "ExecuteTime": {
     "end_time": "2022-06-15T15:44:37.738964Z",
     "start_time": "2022-06-15T15:44:37.725002Z"
    }
   },
   "outputs": [
    {
     "data": {
      "text/plain": [
       "0    20885\n",
       "1    20824\n",
       "Name: price_class, dtype: int64"
      ]
     },
     "execution_count": 8,
     "metadata": {},
     "output_type": "execute_result"
    }
   ],
   "source": [
    "df_clean.price_class.value_counts()"
   ]
  },
  {
   "cell_type": "markdown",
   "id": "09c27071",
   "metadata": {
    "ExecuteTime": {
     "end_time": "2022-06-10T08:56:41.316435Z",
     "start_time": "2022-06-10T08:56:41.204714Z"
    }
   },
   "source": [
    "And the baseline accuracy is"
   ]
  },
  {
   "cell_type": "code",
   "execution_count": 9,
   "id": "3725b776",
   "metadata": {
    "ExecuteTime": {
     "end_time": "2022-06-15T15:45:21.822090Z",
     "start_time": "2022-06-15T15:45:21.805112Z"
    }
   },
   "outputs": [
    {
     "data": {
      "text/plain": [
       "0    0.500731\n",
       "1    0.499269\n",
       "Name: price_class, dtype: float64"
      ]
     },
     "execution_count": 9,
     "metadata": {},
     "output_type": "execute_result"
    }
   ],
   "source": [
    "df_clean.price_class.value_counts(normalize=True)"
   ]
  },
  {
   "cell_type": "markdown",
   "id": "74d848bf",
   "metadata": {},
   "source": [
    "### Create a classification model to predict High/Low price."
   ]
  },
  {
   "cell_type": "code",
   "execution_count": 10,
   "id": "1d150b0d",
   "metadata": {
    "ExecuteTime": {
     "end_time": "2022-06-15T15:54:27.428781Z",
     "start_time": "2022-06-15T15:54:27.077638Z"
    }
   },
   "outputs": [],
   "source": [
    "from sklearn.linear_model import LogisticRegression, LogisticRegressionCV\n",
    "from sklearn.model_selection import train_test_split\n",
    "from sklearn.model_selection import cross_val_score, GridSearchCV\n",
    "from sklearn.metrics import r2_score\n",
    "from sklearn.preprocessing import StandardScaler\n",
    "from sklearn.metrics import accuracy_score, roc_auc_score, confusion_matrix,classification_report, roc_curve, auc, precision_recall_curve\n",
    "from sklearn.tree import DecisionTreeClassifier\n",
    "from sklearn.ensemble import BaggingClassifier\n",
    "from sklearn.ensemble import RandomForestClassifier\n",
    "from sklearn.neighbors import KNeighborsClassifier\n",
    "import plotly.express as px\n",
    "scaler = StandardScaler()"
   ]
  },
  {
   "cell_type": "code",
   "execution_count": 11,
   "id": "8ef2bf58",
   "metadata": {
    "ExecuteTime": {
     "end_time": "2022-06-15T15:54:40.539696Z",
     "start_time": "2022-06-15T15:54:40.521716Z"
    }
   },
   "outputs": [],
   "source": [
    "def model_fitter(model, X_train, y_train, X_test, y_test, cv=5):\n",
    "    model.fit(X_train, y_train)\n",
    "    cv_score = np.mean(cross_val_score(model, X_train, y_train, cv=cv))\n",
    "    training_score = model.score(X_train, y_train)\n",
    "    test_score = model.score(X_test, y_test)\n",
    "    print ('the cv score is',cv_score)\n",
    "    print ('the training score is',training_score)\n",
    "    print ('the test score is',test_score)"
   ]
  },
  {
   "cell_type": "code",
   "execution_count": 12,
   "id": "da7edb0e",
   "metadata": {
    "ExecuteTime": {
     "end_time": "2022-06-15T17:59:46.490790Z",
     "start_time": "2022-06-15T17:59:46.112131Z"
    }
   },
   "outputs": [
    {
     "name": "stdout",
     "output_type": "stream",
     "text": [
      "the cv score is 0.7902791925808275\n",
      "the training score is 0.7902794903411426\n",
      "the test score is 0.7938144329896907\n"
     ]
    }
   ],
   "source": [
    "#dummify and train test split\n",
    "X = pd.get_dummies(df_clean[['pet_type']])\n",
    "X = pd.DataFrame(scaler.fit_transform(X), columns=X.columns)\n",
    "y = df_clean.price_class\n",
    "X_train, X_test, y_train, y_test = train_test_split(X,\n",
    "                                                    y, test_size=0.3, random_state=8)\n",
    "model = LogisticRegression()\n",
    "model_fitter(model, X_train, y_train, X_test, y_test)"
   ]
  },
  {
   "cell_type": "code",
   "execution_count": 13,
   "id": "a42edb86",
   "metadata": {
    "ExecuteTime": {
     "end_time": "2022-06-15T15:56:30.699134Z",
     "start_time": "2022-06-15T15:56:30.277746Z"
    }
   },
   "outputs": [
    {
     "data": {
      "image/png": "[encoded data removed]",
      "text/plain": [
       "<Figure size 576x1152 with 1 Axes>"
      ]
     },
     "metadata": {
      "needs_background": "light"
     },
     "output_type": "display_data"
    }
   ],
   "source": [
    "pd.DataFrame(list(zip(X.columns, model.coef_[0])), \n",
    "             columns=['feature', 'coef'])\\\n",
    "    .sort_values(by='coef') \\\n",
    "    .plot(kind='barh', x='feature', y='coef', figsize=(8, 16))\n",
    "plt.show()"
   ]
  },
  {
   "cell_type": "markdown",
   "id": "700d5ea8",
   "metadata": {},
   "source": [
    "Dogs are more expensive compared with others as expected. Rather surprising that rabbits have the lowest coefficient."
   ]
  },
  {
   "cell_type": "code",
   "execution_count": 14,
   "id": "f1143958",
   "metadata": {
    "ExecuteTime": {
     "end_time": "2022-06-15T16:03:05.861905Z",
     "start_time": "2022-06-15T16:02:36.730596Z"
    }
   },
   "outputs": [
    {
     "name": "stdout",
     "output_type": "stream",
     "text": [
      "the cv score is 0.7902791925808275\n",
      "the training score is 0.7902794903411426\n",
      "the test score is 0.7938144329896907\n"
     ]
    }
   ],
   "source": [
    "knn = KNeighborsClassifier(n_neighbors=5)\n",
    "model_fitter(knn, X_train, y_train, X_test, y_test)"
   ]
  },
  {
   "cell_type": "markdown",
   "id": "804ef5d0",
   "metadata": {},
   "source": [
    "Let's build another model, with more variables this time."
   ]
  },
  {
   "cell_type": "code",
   "execution_count": 15,
   "id": "88cd486c",
   "metadata": {},
   "outputs": [],
   "source": [
    "#dummify and train test split\n",
    "X_more = pd.get_dummies(df_clean[['pet_type','seller_type','listing_type', 'species' , 'gender']])\n",
    "X_more = pd.DataFrame(scaler.fit_transform(X_more), columns=X_more.columns)\n",
    "y_more = df_clean.price_class\n",
    "X_more_train, X_more_test, y_more_train, y_more_test = train_test_split(X_more,\n",
    "                                                    y_more, test_size=0.3, random_state=8)"
   ]
  },
  {
   "cell_type": "code",
   "execution_count": 16,
   "id": "1cab6cdb",
   "metadata": {},
   "outputs": [
    {
     "name": "stdout",
     "output_type": "stream",
     "text": [
      "the cv score is 0.8993355378454277\n",
      "the training score is 0.9029661597479107\n",
      "the test score is 0.8987453048829218\n"
     ]
    }
   ],
   "source": [
    "log_more = LogisticRegression(penalty='none', max_iter=1000)\n",
    "model_fitter(log_more, X_more_train, y_more_train, X_more_test, y_more_test)"
   ]
  },
  {
   "cell_type": "code",
   "execution_count": 17,
   "id": "2b66ec09",
   "metadata": {
    "ExecuteTime": {
     "end_time": "2022-06-15T16:05:22.993453Z",
     "start_time": "2022-06-15T16:05:22.965480Z"
    }
   },
   "outputs": [
    {
     "name": "stdout",
     "output_type": "stream",
     "text": [
      "the cv score is 0.894300657834542\n",
      "the training score is 0.9009110837100973\n",
      "the test score is 0.8904339486933589\n"
     ]
    }
   ],
   "source": [
    "knn_more = KNeighborsClassifier(n_neighbors=5)\n",
    "model_fitter(knn_more, X_more_train, y_more_train, X_more_test, y_more_test)"
   ]
  },
  {
   "cell_type": "markdown",
   "id": "b1210bb9",
   "metadata": {},
   "source": [
    "Increasing the number of variables gives overall better results. The current model is approximately 90% accurate. We can further improve it by looking at the title and description."
   ]
  },
  {
   "cell_type": "markdown",
   "id": "f36a8b39",
   "metadata": {},
   "source": [
    "### NLP model to predict high or low"
   ]
  },
  {
   "cell_type": "code",
   "execution_count": null,
   "id": "bc164a3c",
   "metadata": {},
   "outputs": [],
   "source": [
    "# Create a few new variables in dataframe to represent interesting features of a listing title and description\n",
    "# I'm not sure how to do it in elegant way, so I would just create a function for this.\n",
    "# converts text to raw text with no punctuations or numbers.\n",
    "import re\n",
    "def clean_text(row):\n",
    "\n",
    "    regex = re.compile(\"[^a-zA-Z']\")\n",
    "    row = row.lower()\n",
    "    row = regex.sub(' ', row)\n",
    "    row = ' '.join(row.split())\n",
    "    regex = re.compile(\"\\'\")\n",
    "    row = regex.sub('', row)\n",
    "\n",
    "    return row\n",
    "def standardize(row):\n",
    "    \"\"\"\n",
    "       Standardize text variations: 'gtp' -> 'green tree python',\n",
    "                                    'JR' -> 'Jack Russell',\n",
    "        The list would be expanding\n",
    "     \"\"\"\n",
    "    \n",
    "    row = row.replace(r'gtp', 'green tree python')\n",
    "    row = row.replace(r'JR','Jack Russell')\n",
    "    row = row.replace(r'canarys','canary').replace(r'canaries','canary')\n",
    "    row = row.replace(r'babys','baby').replace(r'babies','baby')\n",
    "    row = row.replace(r'aailable','available')\n",
    "    row = row.replace(r'asp','as soon as possible')\n",
    "    return row\n",
    "\n",
    "def combine_text(row):\n",
    "    \n",
    "    city = row['seller_location']\n",
    "    summary = row['description']\n",
    "    title = row['Title']\n",
    "    text = city + ' ' + title + ' ' + summary\n",
    "    \n",
    "    return text"
   ]
  },
  {
   "cell_type": "code",
   "execution_count": 19,
   "id": "212a86ad",
   "metadata": {
    "ExecuteTime": {
     "end_time": "2022-06-15T18:00:17.755928Z",
     "start_time": "2022-06-15T18:00:17.742271Z"
    }
   },
   "outputs": [
    {
     "data": {
      "text/html": [
       "<div>\n",
       "<style scoped>\n",
       "    .dataframe tbody tr th:only-of-type {\n",
       "        vertical-align: middle;\n",
       "    }\n",
       "\n",
       "    .dataframe tbody tr th {\n",
       "        vertical-align: top;\n",
       "    }\n",
       "\n",
       "    .dataframe thead th {\n",
       "        text-align: right;\n",
       "    }\n",
       "</style>\n",
       "<table border=\"1\" class=\"dataframe\">\n",
       "  <thead>\n",
       "    <tr style=\"text-align: right;\">\n",
       "      <th></th>\n",
       "      <th>Title</th>\n",
       "      <th>price</th>\n",
       "      <th>species</th>\n",
       "      <th>age</th>\n",
       "      <th>gender</th>\n",
       "      <th>description</th>\n",
       "      <th>seller_name</th>\n",
       "      <th>seller_location</th>\n",
       "      <th>seller_type</th>\n",
       "      <th>listing_type</th>\n",
       "      <th>pet_type</th>\n",
       "      <th>year</th>\n",
       "      <th>price_class</th>\n",
       "      <th>text</th>\n",
       "    </tr>\n",
       "  </thead>\n",
       "  <tbody>\n",
       "    <tr>\n",
       "      <th>0</th>\n",
       "      <td>unsexed green tree python + 60cm vivtek</td>\n",
       "      <td>1000.0</td>\n",
       "      <td>Python Snake</td>\n",
       "      <td>3 years</td>\n",
       "      <td>Mixed</td>\n",
       "      <td>~3years old gtp biak x sorong    Typical gtp a...</td>\n",
       "      <td>Patryk M.</td>\n",
       "      <td>Aberdeen</td>\n",
       "      <td>Individual</td>\n",
       "      <td>sale</td>\n",
       "      <td>reptiles</td>\n",
       "      <td>3.000000</td>\n",
       "      <td>1</td>\n",
       "      <td>aberdeen unsexed green tree python cm vivtek y...</td>\n",
       "    </tr>\n",
       "    <tr>\n",
       "      <th>1</th>\n",
       "      <td>Leopard gecko (f)</td>\n",
       "      <td>80.0</td>\n",
       "      <td>Gecko</td>\n",
       "      <td>1 year</td>\n",
       "      <td>Female</td>\n",
       "      <td>Selling this leopard gecko I've had the joy of...</td>\n",
       "      <td>Dana I.</td>\n",
       "      <td>Aberdeen</td>\n",
       "      <td>Individual</td>\n",
       "      <td>sale</td>\n",
       "      <td>reptiles</td>\n",
       "      <td>1.000000</td>\n",
       "      <td>0</td>\n",
       "      <td>aberdeen leopard gecko f selling this leopard ...</td>\n",
       "    </tr>\n",
       "    <tr>\n",
       "      <th>2</th>\n",
       "      <td>rexy</td>\n",
       "      <td>100.0</td>\n",
       "      <td>Iguana</td>\n",
       "      <td>4 years</td>\n",
       "      <td>Male</td>\n",
       "      <td>rexy needs a new home ASP   sadly I don't not ...</td>\n",
       "      <td>Gillian W.</td>\n",
       "      <td>Aberdeen</td>\n",
       "      <td>Individual</td>\n",
       "      <td>sale</td>\n",
       "      <td>reptiles</td>\n",
       "      <td>4.000000</td>\n",
       "      <td>0</td>\n",
       "      <td>aberdeen rexy rexy needs a new home asp sadly ...</td>\n",
       "    </tr>\n",
       "    <tr>\n",
       "      <th>3</th>\n",
       "      <td>Panther Chameleon and full set up</td>\n",
       "      <td>550.0</td>\n",
       "      <td>Chameleon</td>\n",
       "      <td>9 months</td>\n",
       "      <td>Male</td>\n",
       "      <td>Blue is a 6 month old Nosey Mitsio chameleon. ...</td>\n",
       "      <td>Craig H.</td>\n",
       "      <td>Aberdeen</td>\n",
       "      <td>Individual</td>\n",
       "      <td>sale</td>\n",
       "      <td>reptiles</td>\n",
       "      <td>0.750000</td>\n",
       "      <td>1</td>\n",
       "      <td>aberdeen panther chameleon and full set up blu...</td>\n",
       "    </tr>\n",
       "    <tr>\n",
       "      <th>4</th>\n",
       "      <td>Hand reared white Indian ringnecks</td>\n",
       "      <td>300.0</td>\n",
       "      <td>Parakeets</td>\n",
       "      <td>9 weeks</td>\n",
       "      <td>Mixed</td>\n",
       "      <td>I have 2 stunning white Indian ringnecks. 1 ma...</td>\n",
       "      <td>Dave T.</td>\n",
       "      <td>Aberdeen</td>\n",
       "      <td>Individual</td>\n",
       "      <td>sale</td>\n",
       "      <td>birds</td>\n",
       "      <td>0.173077</td>\n",
       "      <td>0</td>\n",
       "      <td>aberdeen hand reared white indian ringnecks i ...</td>\n",
       "    </tr>\n",
       "    <tr>\n",
       "      <th>...</th>\n",
       "      <td>...</td>\n",
       "      <td>...</td>\n",
       "      <td>...</td>\n",
       "      <td>...</td>\n",
       "      <td>...</td>\n",
       "      <td>...</td>\n",
       "      <td>...</td>\n",
       "      <td>...</td>\n",
       "      <td>...</td>\n",
       "      <td>...</td>\n",
       "      <td>...</td>\n",
       "      <td>...</td>\n",
       "      <td>...</td>\n",
       "      <td>...</td>\n",
       "    </tr>\n",
       "    <tr>\n",
       "      <th>41704</th>\n",
       "      <td>canarys for sale all colour plus new colours</td>\n",
       "      <td>40.0</td>\n",
       "      <td>Canaries</td>\n",
       "      <td>7 weeks</td>\n",
       "      <td>Mixed</td>\n",
       "      <td>there are all mixed cocks and hens new volour ...</td>\n",
       "      <td>Robert n.</td>\n",
       "      <td>Knottingley</td>\n",
       "      <td>Breeder</td>\n",
       "      <td>sale</td>\n",
       "      <td>birds</td>\n",
       "      <td>0.134615</td>\n",
       "      <td>0</td>\n",
       "      <td>knottingley canary for sale all colour plus ne...</td>\n",
       "    </tr>\n",
       "    <tr>\n",
       "      <th>41705</th>\n",
       "      <td>TAME &amp; TALKING HARNESS TRAINED BLUE &amp; GOLD MACAW</td>\n",
       "      <td>2150.0</td>\n",
       "      <td>Macaws</td>\n",
       "      <td>4 years</td>\n",
       "      <td>Male</td>\n",
       "      <td>Rainbow is a beautiful example of a blue and g...</td>\n",
       "      <td>The Bradford Birdman</td>\n",
       "      <td>Bradford</td>\n",
       "      <td>Licensed Breeder</td>\n",
       "      <td>sale</td>\n",
       "      <td>birds</td>\n",
       "      <td>4.000000</td>\n",
       "      <td>1</td>\n",
       "      <td>bradford tame talking harness trained blue gol...</td>\n",
       "    </tr>\n",
       "    <tr>\n",
       "      <th>41706</th>\n",
       "      <td>Hand reared indian ringnecks babys</td>\n",
       "      <td>350.0</td>\n",
       "      <td>Parrots</td>\n",
       "      <td>1 year</td>\n",
       "      <td>Male</td>\n",
       "      <td>Hand reared cuddly silly tame little babys for...</td>\n",
       "      <td>Waqar A.</td>\n",
       "      <td>Bradford</td>\n",
       "      <td>Breeder</td>\n",
       "      <td>sale</td>\n",
       "      <td>birds</td>\n",
       "      <td>1.000000</td>\n",
       "      <td>0</td>\n",
       "      <td>bradford hand reared indian ringnecks baby han...</td>\n",
       "    </tr>\n",
       "    <tr>\n",
       "      <th>41707</th>\n",
       "      <td>One yellow one orange canary.</td>\n",
       "      <td>60.0</td>\n",
       "      <td>Canaries</td>\n",
       "      <td>2 years</td>\n",
       "      <td>Mixed</td>\n",
       "      <td>I’m reluctantly listing my canaries (peach and...</td>\n",
       "      <td>Amylia R.</td>\n",
       "      <td>Barnsley</td>\n",
       "      <td>Individual</td>\n",
       "      <td>sale</td>\n",
       "      <td>birds</td>\n",
       "      <td>2.000000</td>\n",
       "      <td>0</td>\n",
       "      <td>barnsley one yellow one orange canary i m relu...</td>\n",
       "    </tr>\n",
       "    <tr>\n",
       "      <th>41708</th>\n",
       "      <td>Tame and talking African grey</td>\n",
       "      <td>1250.0</td>\n",
       "      <td>Parrots</td>\n",
       "      <td>9 years</td>\n",
       "      <td>Male</td>\n",
       "      <td>Pablo has just turned 9 not able to give him t...</td>\n",
       "      <td>Ahmad R.</td>\n",
       "      <td>Bradford</td>\n",
       "      <td>Breeder</td>\n",
       "      <td>sale</td>\n",
       "      <td>birds</td>\n",
       "      <td>9.000000</td>\n",
       "      <td>1</td>\n",
       "      <td>bradford tame and talking african grey pablo h...</td>\n",
       "    </tr>\n",
       "  </tbody>\n",
       "</table>\n",
       "<p>41709 rows × 14 columns</p>\n",
       "</div>"
      ],
      "text/plain": [
       "                                                  Title   price       species  \\\n",
       "0              unsexed green tree python + 60cm vivtek   1000.0  Python Snake   \n",
       "1                                     Leopard gecko (f)    80.0         Gecko   \n",
       "2                                                  rexy   100.0        Iguana   \n",
       "3                    Panther Chameleon and full set up    550.0     Chameleon   \n",
       "4                   Hand reared white Indian ringnecks    300.0     Parakeets   \n",
       "...                                                 ...     ...           ...   \n",
       "41704      canarys for sale all colour plus new colours    40.0      Canaries   \n",
       "41705  TAME & TALKING HARNESS TRAINED BLUE & GOLD MACAW  2150.0        Macaws   \n",
       "41706                Hand reared indian ringnecks babys   350.0       Parrots   \n",
       "41707                    One yellow one orange canary.     60.0      Canaries   \n",
       "41708                     Tame and talking African grey  1250.0       Parrots   \n",
       "\n",
       "            age  gender                                        description  \\\n",
       "0       3 years   Mixed  ~3years old gtp biak x sorong    Typical gtp a...   \n",
       "1        1 year  Female  Selling this leopard gecko I've had the joy of...   \n",
       "2       4 years    Male  rexy needs a new home ASP   sadly I don't not ...   \n",
       "3      9 months    Male  Blue is a 6 month old Nosey Mitsio chameleon. ...   \n",
       "4       9 weeks   Mixed  I have 2 stunning white Indian ringnecks. 1 ma...   \n",
       "...         ...     ...                                                ...   \n",
       "41704   7 weeks   Mixed  there are all mixed cocks and hens new volour ...   \n",
       "41705   4 years    Male  Rainbow is a beautiful example of a blue and g...   \n",
       "41706    1 year    Male  Hand reared cuddly silly tame little babys for...   \n",
       "41707   2 years   Mixed  I’m reluctantly listing my canaries (peach and...   \n",
       "41708   9 years    Male  Pablo has just turned 9 not able to give him t...   \n",
       "\n",
       "                seller_name seller_location       seller_type listing_type  \\\n",
       "0                 Patryk M.        Aberdeen        Individual         sale   \n",
       "1                   Dana I.        Aberdeen        Individual         sale   \n",
       "2                Gillian W.        Aberdeen        Individual         sale   \n",
       "3                  Craig H.        Aberdeen        Individual         sale   \n",
       "4                   Dave T.        Aberdeen        Individual         sale   \n",
       "...                     ...             ...               ...          ...   \n",
       "41704             Robert n.     Knottingley           Breeder         sale   \n",
       "41705  The Bradford Birdman        Bradford  Licensed Breeder         sale   \n",
       "41706              Waqar A.        Bradford           Breeder         sale   \n",
       "41707             Amylia R.        Barnsley        Individual         sale   \n",
       "41708              Ahmad R.        Bradford           Breeder         sale   \n",
       "\n",
       "       pet_type      year  price_class  \\\n",
       "0      reptiles  3.000000            1   \n",
       "1      reptiles  1.000000            0   \n",
       "2      reptiles  4.000000            0   \n",
       "3      reptiles  0.750000            1   \n",
       "4         birds  0.173077            0   \n",
       "...         ...       ...          ...   \n",
       "41704     birds  0.134615            0   \n",
       "41705     birds  4.000000            1   \n",
       "41706     birds  1.000000            0   \n",
       "41707     birds  2.000000            0   \n",
       "41708     birds  9.000000            1   \n",
       "\n",
       "                                                    text  \n",
       "0      aberdeen unsexed green tree python cm vivtek y...  \n",
       "1      aberdeen leopard gecko f selling this leopard ...  \n",
       "2      aberdeen rexy rexy needs a new home asp sadly ...  \n",
       "3      aberdeen panther chameleon and full set up blu...  \n",
       "4      aberdeen hand reared white indian ringnecks i ...  \n",
       "...                                                  ...  \n",
       "41704  knottingley canary for sale all colour plus ne...  \n",
       "41705  bradford tame talking harness trained blue gol...  \n",
       "41706  bradford hand reared indian ringnecks baby han...  \n",
       "41707  barnsley one yellow one orange canary i m relu...  \n",
       "41708  bradford tame and talking african grey pablo h...  \n",
       "\n",
       "[41709 rows x 14 columns]"
      ]
     },
     "execution_count": 19,
     "metadata": {},
     "output_type": "execute_result"
    }
   ],
   "source": [
    "df_text = df_clean\n",
    "df_text['text'] = df_text.apply(combine_text, axis=1)\n",
    "df_text['text'] = df_text['text'].apply(clean_text)\n",
    "df_text['text'] = df_text['text'].apply(standardize)\n",
    "df_text"
   ]
  },
  {
   "cell_type": "code",
   "execution_count": 20,
   "id": "c4b0fb38",
   "metadata": {},
   "outputs": [],
   "source": [
    "from sklearn.feature_extraction.text import TfidfVectorizer\n",
    "vectorizer = TfidfVectorizer(stop_words='english', token_pattern=u'(?ui)\\\\b\\\\w*[a-z]+\\\\w*[a-z]\\\\b')"
   ]
  },
  {
   "cell_type": "code",
   "execution_count": 21,
   "id": "3388140b",
   "metadata": {},
   "outputs": [
    {
     "data": {
      "text/plain": [
       "<41709x26152 sparse matrix of type '<class 'numpy.float64'>'\n",
       "\twith 882299 stored elements in Compressed Sparse Row format>"
      ]
     },
     "execution_count": 21,
     "metadata": {},
     "output_type": "execute_result"
    }
   ],
   "source": [
    "vectorizer.fit(df_text.text)\n",
    "text_vec = vectorizer.transform(df_text.text)\n",
    "text_vec"
   ]
  },
  {
   "cell_type": "code",
   "execution_count": 22,
   "id": "e39decd5",
   "metadata": {},
   "outputs": [
    {
     "data": {
      "text/html": [
       "<div>\n",
       "<style scoped>\n",
       "    .dataframe tbody tr th:only-of-type {\n",
       "        vertical-align: middle;\n",
       "    }\n",
       "\n",
       "    .dataframe tbody tr th {\n",
       "        vertical-align: top;\n",
       "    }\n",
       "\n",
       "    .dataframe thead th {\n",
       "        text-align: right;\n",
       "    }\n",
       "</style>\n",
       "<table border=\"1\" class=\"dataframe\">\n",
       "  <thead>\n",
       "    <tr style=\"text-align: right;\">\n",
       "      <th></th>\n",
       "      <th>aa</th>\n",
       "      <th>aaa</th>\n",
       "      <th>aal</th>\n",
       "      <th>aardeens</th>\n",
       "      <th>aarden</th>\n",
       "      <th>aare</th>\n",
       "      <th>ab</th>\n",
       "      <th>aba</th>\n",
       "      <th>abacot</th>\n",
       "      <th>abandoned</th>\n",
       "      <th>...</th>\n",
       "      <th>abigail</th>\n",
       "      <th>abili</th>\n",
       "      <th>abilities</th>\n",
       "      <th>ability</th>\n",
       "      <th>abingdon</th>\n",
       "      <th>abit</th>\n",
       "      <th>abk</th>\n",
       "      <th>abkc</th>\n",
       "      <th>abl</th>\n",
       "      <th>able</th>\n",
       "    </tr>\n",
       "  </thead>\n",
       "  <tbody>\n",
       "    <tr>\n",
       "      <th>0</th>\n",
       "      <td>0.0</td>\n",
       "      <td>0.0</td>\n",
       "      <td>0.0</td>\n",
       "      <td>0.0</td>\n",
       "      <td>0.0</td>\n",
       "      <td>0.0</td>\n",
       "      <td>0.0</td>\n",
       "      <td>0.0</td>\n",
       "      <td>0.0</td>\n",
       "      <td>0.0</td>\n",
       "      <td>...</td>\n",
       "      <td>0.0</td>\n",
       "      <td>0.0</td>\n",
       "      <td>0.0</td>\n",
       "      <td>0.0</td>\n",
       "      <td>0.0</td>\n",
       "      <td>0.0</td>\n",
       "      <td>0.0</td>\n",
       "      <td>0.0</td>\n",
       "      <td>0.0</td>\n",
       "      <td>0.00000</td>\n",
       "    </tr>\n",
       "    <tr>\n",
       "      <th>1</th>\n",
       "      <td>0.0</td>\n",
       "      <td>0.0</td>\n",
       "      <td>0.0</td>\n",
       "      <td>0.0</td>\n",
       "      <td>0.0</td>\n",
       "      <td>0.0</td>\n",
       "      <td>0.0</td>\n",
       "      <td>0.0</td>\n",
       "      <td>0.0</td>\n",
       "      <td>0.0</td>\n",
       "      <td>...</td>\n",
       "      <td>0.0</td>\n",
       "      <td>0.0</td>\n",
       "      <td>0.0</td>\n",
       "      <td>0.0</td>\n",
       "      <td>0.0</td>\n",
       "      <td>0.0</td>\n",
       "      <td>0.0</td>\n",
       "      <td>0.0</td>\n",
       "      <td>0.0</td>\n",
       "      <td>0.00000</td>\n",
       "    </tr>\n",
       "    <tr>\n",
       "      <th>2</th>\n",
       "      <td>0.0</td>\n",
       "      <td>0.0</td>\n",
       "      <td>0.0</td>\n",
       "      <td>0.0</td>\n",
       "      <td>0.0</td>\n",
       "      <td>0.0</td>\n",
       "      <td>0.0</td>\n",
       "      <td>0.0</td>\n",
       "      <td>0.0</td>\n",
       "      <td>0.0</td>\n",
       "      <td>...</td>\n",
       "      <td>0.0</td>\n",
       "      <td>0.0</td>\n",
       "      <td>0.0</td>\n",
       "      <td>0.0</td>\n",
       "      <td>0.0</td>\n",
       "      <td>0.0</td>\n",
       "      <td>0.0</td>\n",
       "      <td>0.0</td>\n",
       "      <td>0.0</td>\n",
       "      <td>0.00000</td>\n",
       "    </tr>\n",
       "    <tr>\n",
       "      <th>3</th>\n",
       "      <td>0.0</td>\n",
       "      <td>0.0</td>\n",
       "      <td>0.0</td>\n",
       "      <td>0.0</td>\n",
       "      <td>0.0</td>\n",
       "      <td>0.0</td>\n",
       "      <td>0.0</td>\n",
       "      <td>0.0</td>\n",
       "      <td>0.0</td>\n",
       "      <td>0.0</td>\n",
       "      <td>...</td>\n",
       "      <td>0.0</td>\n",
       "      <td>0.0</td>\n",
       "      <td>0.0</td>\n",
       "      <td>0.0</td>\n",
       "      <td>0.0</td>\n",
       "      <td>0.0</td>\n",
       "      <td>0.0</td>\n",
       "      <td>0.0</td>\n",
       "      <td>0.0</td>\n",
       "      <td>0.00000</td>\n",
       "    </tr>\n",
       "    <tr>\n",
       "      <th>4</th>\n",
       "      <td>0.0</td>\n",
       "      <td>0.0</td>\n",
       "      <td>0.0</td>\n",
       "      <td>0.0</td>\n",
       "      <td>0.0</td>\n",
       "      <td>0.0</td>\n",
       "      <td>0.0</td>\n",
       "      <td>0.0</td>\n",
       "      <td>0.0</td>\n",
       "      <td>0.0</td>\n",
       "      <td>...</td>\n",
       "      <td>0.0</td>\n",
       "      <td>0.0</td>\n",
       "      <td>0.0</td>\n",
       "      <td>0.0</td>\n",
       "      <td>0.0</td>\n",
       "      <td>0.0</td>\n",
       "      <td>0.0</td>\n",
       "      <td>0.0</td>\n",
       "      <td>0.0</td>\n",
       "      <td>0.00000</td>\n",
       "    </tr>\n",
       "    <tr>\n",
       "      <th>...</th>\n",
       "      <td>...</td>\n",
       "      <td>...</td>\n",
       "      <td>...</td>\n",
       "      <td>...</td>\n",
       "      <td>...</td>\n",
       "      <td>...</td>\n",
       "      <td>...</td>\n",
       "      <td>...</td>\n",
       "      <td>...</td>\n",
       "      <td>...</td>\n",
       "      <td>...</td>\n",
       "      <td>...</td>\n",
       "      <td>...</td>\n",
       "      <td>...</td>\n",
       "      <td>...</td>\n",
       "      <td>...</td>\n",
       "      <td>...</td>\n",
       "      <td>...</td>\n",
       "      <td>...</td>\n",
       "      <td>...</td>\n",
       "      <td>...</td>\n",
       "    </tr>\n",
       "    <tr>\n",
       "      <th>41704</th>\n",
       "      <td>0.0</td>\n",
       "      <td>0.0</td>\n",
       "      <td>0.0</td>\n",
       "      <td>0.0</td>\n",
       "      <td>0.0</td>\n",
       "      <td>0.0</td>\n",
       "      <td>0.0</td>\n",
       "      <td>0.0</td>\n",
       "      <td>0.0</td>\n",
       "      <td>0.0</td>\n",
       "      <td>...</td>\n",
       "      <td>0.0</td>\n",
       "      <td>0.0</td>\n",
       "      <td>0.0</td>\n",
       "      <td>0.0</td>\n",
       "      <td>0.0</td>\n",
       "      <td>0.0</td>\n",
       "      <td>0.0</td>\n",
       "      <td>0.0</td>\n",
       "      <td>0.0</td>\n",
       "      <td>0.00000</td>\n",
       "    </tr>\n",
       "    <tr>\n",
       "      <th>41705</th>\n",
       "      <td>0.0</td>\n",
       "      <td>0.0</td>\n",
       "      <td>0.0</td>\n",
       "      <td>0.0</td>\n",
       "      <td>0.0</td>\n",
       "      <td>0.0</td>\n",
       "      <td>0.0</td>\n",
       "      <td>0.0</td>\n",
       "      <td>0.0</td>\n",
       "      <td>0.0</td>\n",
       "      <td>...</td>\n",
       "      <td>0.0</td>\n",
       "      <td>0.0</td>\n",
       "      <td>0.0</td>\n",
       "      <td>0.0</td>\n",
       "      <td>0.0</td>\n",
       "      <td>0.0</td>\n",
       "      <td>0.0</td>\n",
       "      <td>0.0</td>\n",
       "      <td>0.0</td>\n",
       "      <td>0.00000</td>\n",
       "    </tr>\n",
       "    <tr>\n",
       "      <th>41706</th>\n",
       "      <td>0.0</td>\n",
       "      <td>0.0</td>\n",
       "      <td>0.0</td>\n",
       "      <td>0.0</td>\n",
       "      <td>0.0</td>\n",
       "      <td>0.0</td>\n",
       "      <td>0.0</td>\n",
       "      <td>0.0</td>\n",
       "      <td>0.0</td>\n",
       "      <td>0.0</td>\n",
       "      <td>...</td>\n",
       "      <td>0.0</td>\n",
       "      <td>0.0</td>\n",
       "      <td>0.0</td>\n",
       "      <td>0.0</td>\n",
       "      <td>0.0</td>\n",
       "      <td>0.0</td>\n",
       "      <td>0.0</td>\n",
       "      <td>0.0</td>\n",
       "      <td>0.0</td>\n",
       "      <td>0.00000</td>\n",
       "    </tr>\n",
       "    <tr>\n",
       "      <th>41707</th>\n",
       "      <td>0.0</td>\n",
       "      <td>0.0</td>\n",
       "      <td>0.0</td>\n",
       "      <td>0.0</td>\n",
       "      <td>0.0</td>\n",
       "      <td>0.0</td>\n",
       "      <td>0.0</td>\n",
       "      <td>0.0</td>\n",
       "      <td>0.0</td>\n",
       "      <td>0.0</td>\n",
       "      <td>...</td>\n",
       "      <td>0.0</td>\n",
       "      <td>0.0</td>\n",
       "      <td>0.0</td>\n",
       "      <td>0.0</td>\n",
       "      <td>0.0</td>\n",
       "      <td>0.0</td>\n",
       "      <td>0.0</td>\n",
       "      <td>0.0</td>\n",
       "      <td>0.0</td>\n",
       "      <td>0.00000</td>\n",
       "    </tr>\n",
       "    <tr>\n",
       "      <th>41708</th>\n",
       "      <td>0.0</td>\n",
       "      <td>0.0</td>\n",
       "      <td>0.0</td>\n",
       "      <td>0.0</td>\n",
       "      <td>0.0</td>\n",
       "      <td>0.0</td>\n",
       "      <td>0.0</td>\n",
       "      <td>0.0</td>\n",
       "      <td>0.0</td>\n",
       "      <td>0.0</td>\n",
       "      <td>...</td>\n",
       "      <td>0.0</td>\n",
       "      <td>0.0</td>\n",
       "      <td>0.0</td>\n",
       "      <td>0.0</td>\n",
       "      <td>0.0</td>\n",
       "      <td>0.0</td>\n",
       "      <td>0.0</td>\n",
       "      <td>0.0</td>\n",
       "      <td>0.0</td>\n",
       "      <td>0.18468</td>\n",
       "    </tr>\n",
       "  </tbody>\n",
       "</table>\n",
       "<p>41709 rows × 50 columns</p>\n",
       "</div>"
      ],
      "text/plain": [
       "        aa  aaa  aal  aardeens  aarden  aare   ab  aba  abacot  abandoned  \\\n",
       "0      0.0  0.0  0.0       0.0     0.0   0.0  0.0  0.0     0.0        0.0   \n",
       "1      0.0  0.0  0.0       0.0     0.0   0.0  0.0  0.0     0.0        0.0   \n",
       "2      0.0  0.0  0.0       0.0     0.0   0.0  0.0  0.0     0.0        0.0   \n",
       "3      0.0  0.0  0.0       0.0     0.0   0.0  0.0  0.0     0.0        0.0   \n",
       "4      0.0  0.0  0.0       0.0     0.0   0.0  0.0  0.0     0.0        0.0   \n",
       "...    ...  ...  ...       ...     ...   ...  ...  ...     ...        ...   \n",
       "41704  0.0  0.0  0.0       0.0     0.0   0.0  0.0  0.0     0.0        0.0   \n",
       "41705  0.0  0.0  0.0       0.0     0.0   0.0  0.0  0.0     0.0        0.0   \n",
       "41706  0.0  0.0  0.0       0.0     0.0   0.0  0.0  0.0     0.0        0.0   \n",
       "41707  0.0  0.0  0.0       0.0     0.0   0.0  0.0  0.0     0.0        0.0   \n",
       "41708  0.0  0.0  0.0       0.0     0.0   0.0  0.0  0.0     0.0        0.0   \n",
       "\n",
       "       ...  abigail  abili  abilities  ability  abingdon  abit  abk  abkc  \\\n",
       "0      ...      0.0    0.0        0.0      0.0       0.0   0.0  0.0   0.0   \n",
       "1      ...      0.0    0.0        0.0      0.0       0.0   0.0  0.0   0.0   \n",
       "2      ...      0.0    0.0        0.0      0.0       0.0   0.0  0.0   0.0   \n",
       "3      ...      0.0    0.0        0.0      0.0       0.0   0.0  0.0   0.0   \n",
       "4      ...      0.0    0.0        0.0      0.0       0.0   0.0  0.0   0.0   \n",
       "...    ...      ...    ...        ...      ...       ...   ...  ...   ...   \n",
       "41704  ...      0.0    0.0        0.0      0.0       0.0   0.0  0.0   0.0   \n",
       "41705  ...      0.0    0.0        0.0      0.0       0.0   0.0  0.0   0.0   \n",
       "41706  ...      0.0    0.0        0.0      0.0       0.0   0.0  0.0   0.0   \n",
       "41707  ...      0.0    0.0        0.0      0.0       0.0   0.0  0.0   0.0   \n",
       "41708  ...      0.0    0.0        0.0      0.0       0.0   0.0  0.0   0.0   \n",
       "\n",
       "       abl     able  \n",
       "0      0.0  0.00000  \n",
       "1      0.0  0.00000  \n",
       "2      0.0  0.00000  \n",
       "3      0.0  0.00000  \n",
       "4      0.0  0.00000  \n",
       "...    ...      ...  \n",
       "41704  0.0  0.00000  \n",
       "41705  0.0  0.00000  \n",
       "41706  0.0  0.00000  \n",
       "41707  0.0  0.00000  \n",
       "41708  0.0  0.18468  \n",
       "\n",
       "[41709 rows x 50 columns]"
      ]
     },
     "execution_count": 22,
     "metadata": {},
     "output_type": "execute_result"
    }
   ],
   "source": [
    "# convert the text_vec to dataframe\n",
    "df  = pd.DataFrame(text_vec.todense(),\n",
    "                   columns = vectorizer.get_feature_names())\n",
    "\n",
    "df.transpose().head(50).transpose()"
   ]
  },
  {
   "cell_type": "code",
   "execution_count": 23,
   "id": "e5f0904a",
   "metadata": {},
   "outputs": [],
   "source": [
    "#train test split for nlp featured models\n",
    "X_nlp = df\n",
    "X_nlp_train, X_nlp_test, y_nlp_train, y_nlp_test = train_test_split(X_nlp,\n",
    "                                                    y, test_size=0.3, random_state=8)"
   ]
  },
  {
   "cell_type": "markdown",
   "id": "47cc882a",
   "metadata": {},
   "source": [
    "These models would take a while to run, proceed with that in mind."
   ]
  },
  {
   "cell_type": "code",
   "execution_count": 24,
   "id": "28385ce8",
   "metadata": {},
   "outputs": [
    {
     "name": "stdout",
     "output_type": "stream",
     "text": [
      "the cv score is 0.825592461647824\n",
      "the training score is 0.8650842581175503\n",
      "the test score is 0.8280987772716375\n"
     ]
    }
   ],
   "source": [
    "dtc = DecisionTreeClassifier(max_depth=15)\n",
    "model_fitter(dtc, X_nlp_train, y_nlp_train, X_nlp_test, y_nlp_test)"
   ]
  },
  {
   "cell_type": "code",
   "execution_count": 25,
   "id": "352bd5db",
   "metadata": {},
   "outputs": [
    {
     "name": "stdout",
     "output_type": "stream",
     "text": [
      "the cv score is 0.8342580358336832\n",
      "the training score is 0.870769968488834\n",
      "the test score is 0.8368097178933909\n"
     ]
    }
   ],
   "source": [
    "bagger_dtc = BaggingClassifier(base_estimator = dtc, max_samples=1.)\n",
    "model_fitter(bagger_dtc, X_nlp_train, y_nlp_train, X_nlp_test, y_nlp_test)"
   ]
  },
  {
   "cell_type": "code",
   "execution_count": 26,
   "id": "e748b4e4",
   "metadata": {},
   "outputs": [
    {
     "name": "stdout",
     "output_type": "stream",
     "text": [
      "the cv score is 0.8615564449720466\n",
      "the training score is 0.9942115358268256\n",
      "the test score is 0.8682170542635659\n"
     ]
    }
   ],
   "source": [
    "random_forest_dtc = RandomForestClassifier(max_depth=None, n_estimators=10, max_features = 300)\n",
    "model_fitter(random_forest_dtc, X_nlp_train, y_nlp_train, X_nlp_test, y_nlp_test)"
   ]
  },
  {
   "cell_type": "code",
   "execution_count": null,
   "id": "ee2b6404",
   "metadata": {},
   "outputs": [
    {
     "name": "stdout",
     "output_type": "stream",
     "text": [
      "Fitting 5 folds for each of 125 candidates, totalling 625 fits\n"
     ]
    }
   ],
   "source": [
    "# set up parameter for gridsearchCV\n",
    "# this takes pretty long, go grab some coffee\n",
    "dtc_params = {\n",
    "    'max_depth':[None, 5,10,15,20],\n",
    "    'max_features':[None, 50, 100, 200, 300],\n",
    "    'min_samples_split':[10,15,20,25,30]\n",
    "}\n",
    "dtc_gs = GridSearchCV(DecisionTreeClassifier(), dtc_params, cv=5, verbose=1)\n",
    "model_fitter(dtc_gs, X_nlp_train, y_nlp_train, X_nlp_test, y_nlp_test)"
   ]
  },
  {
   "cell_type": "markdown",
   "id": "158555ee",
   "metadata": {},
   "source": [
    "Random forest model likely overfits."
   ]
  },
  {
   "cell_type": "markdown",
   "id": "4b6db75b",
   "metadata": {},
   "source": [
    "### Model accuracy of NLP model"
   ]
  },
  {
   "cell_type": "code",
   "execution_count": null,
   "id": "66415b7c",
   "metadata": {},
   "outputs": [],
   "source": [
    "def model_accuracy(model, X, y):\n",
    "    y_pred = model.predict(X)\n",
    "    accuracy = accuracy_score(y, y_pred)\n",
    "    auc_score = roc_auc_score(y, y_pred)\n",
    "    con_matrix = confusion_matrix(y, y_pred)\n",
    "    class_report = classification_report(y, y_pred, target_names=['lower price', 'higher price'])\n",
    "    y_score = model.predict_proba(X)[:, 1]\n",
    "    fpr, tpr, thresholds = roc_curve(y, y_score)\n",
    "    print (str(model))\n",
    "    print ('accuracy score is',accuracy)\n",
    "    print ('auc score is',auc_score)\n",
    "    print ('-'*55, '\\n')\n",
    "    print ('the confusion matrix is:\\n',con_matrix)\n",
    "    print ('-'*55, '\\n')\n",
    "    print ('and the classification report:\\n', class_report)\n",
    "    fig = px.area(\n",
    "        x=fpr, y=tpr,\n",
    "        title=f'ROC Curve (AUC={auc(fpr, tpr):.4f})',\n",
    "        labels=dict(x='False Positive Rate', y='True Positive Rate'),\n",
    "        width=700, height=500)\n",
    "    fig.add_shape(\n",
    "        type='line', line=dict(dash='dash'),\n",
    "        x0=0, x1=1, y0=0, y1=1)\n",
    "    fig.update_yaxes(scaleanchor=\"x\", scaleratio=1)\n",
    "    fig.update_xaxes(constrain='domain')\n",
    "    fig.show()\n",
    "    precision, recall, thresholds = precision_recall_curve(y, y_score)\n",
    "    fig1 = px.area(\n",
    "        x=recall, y=precision,\n",
    "        title=f'Precision-Recall Curve (AUC={auc(fpr, tpr):.4f})',\n",
    "        labels=dict(x='Recall', y='Precision'),\n",
    "        width=700, height=500)\n",
    "    fig1.add_shape(\n",
    "        type='line', line=dict(dash='dash'),\n",
    "        x0=0, x1=1, y0=1, y1=0)\n",
    "    fig1.update_yaxes(scaleanchor=\"x\", scaleratio=1)\n",
    "    fig1.update_xaxes(constrain='domain')\n",
    "    fig1.show()"
   ]
  },
  {
   "cell_type": "code",
   "execution_count": null,
   "id": "81efc97e",
   "metadata": {},
   "outputs": [],
   "source": [
    "model_accuracy(log_more, X_more, y_more)"
   ]
  },
  {
   "cell_type": "code",
   "execution_count": null,
   "id": "4c5b483c",
   "metadata": {},
   "outputs": [],
   "source": [
    "model_accuracy(bagger_dtc, X_nlp, y)"
   ]
  },
  {
   "cell_type": "code",
   "execution_count": null,
   "id": "21f8eacc",
   "metadata": {},
   "outputs": [],
   "source": [
    "model_accuracy(random_forest_dtc, X_nlp, y)"
   ]
  },
  {
   "cell_type": "code",
   "execution_count": null,
   "id": "e22ba340",
   "metadata": {},
   "outputs": [],
   "source": [
    "model_accuracy(dtc_gs, X_nlp, y)"
   ]
  },
  {
   "cell_type": "markdown",
   "id": "7e4a370f",
   "metadata": {},
   "source": []
  },
  {
   "cell_type": "markdown",
   "id": "ee655cd5",
   "metadata": {},
   "source": [
    "## Price Prediction\n",
    "\n",
    "We would now dive deeper into the subject and make predition of the price"
   ]
  },
  {
   "cell_type": "code",
   "execution_count": null,
   "id": "432bfd77",
   "metadata": {},
   "outputs": [],
   "source": [
    "#dummify and train test split\n",
    "X_more_price = pd.get_dummies(df_clean[['pet_type','seller_type','listing_type', 'species' , 'gender']])\n",
    "X_more_price = pd.DataFrame(scaler.fit_transform(X_more_price), columns=X_more_price.columns)\n",
    "y_more_price = df_clean.price\n",
    "X_more_price_train, X_more_price_test, y_more_price_train, y_more_price_test = train_test_split(X_more_price,\n",
    "                                                    y_more_price, test_size=0.3, random_state=8)"
   ]
  },
  {
   "cell_type": "code",
   "execution_count": null,
   "id": "39e638c2",
   "metadata": {},
   "outputs": [],
   "source": [
    "#linear regression\n",
    "from sklearn.linear_model import LinearRegression\n",
    "model = LinearRegression()\n",
    "model_fitter(model, X_more_price_train, y_more_price_train, X_more_price_test, y_more_price_test)"
   ]
  },
  {
   "cell_type": "code",
   "execution_count": null,
   "id": "6eb98870",
   "metadata": {},
   "outputs": [],
   "source": []
  },
  {
   "cell_type": "code",
   "execution_count": null,
   "id": "447c8d11",
   "metadata": {
    "ExecuteTime": {
     "end_time": "2022-06-13T07:40:02.570227Z",
     "start_time": "2022-06-13T07:40:02.558492Z"
    }
   },
   "outputs": [],
   "source": [
    "sale = df.loc[df['listing_type'] == 'sale']"
   ]
  },
  {
   "cell_type": "code",
   "execution_count": null,
   "id": "14f58205",
   "metadata": {
    "ExecuteTime": {
     "end_time": "2022-06-13T07:40:14.260774Z",
     "start_time": "2022-06-13T07:40:14.250030Z"
    }
   },
   "outputs": [],
   "source": [
    "sale.describe()"
   ]
  },
  {
   "cell_type": "markdown",
   "id": "f6c5ded5",
   "metadata": {},
   "source": [
    "Let us take a look at 0.0 sale price"
   ]
  },
  {
   "cell_type": "code",
   "execution_count": null,
   "id": "b36ad1dd",
   "metadata": {
    "ExecuteTime": {
     "end_time": "2022-06-13T07:40:15.373177Z",
     "start_time": "2022-06-13T07:40:15.358673Z"
    }
   },
   "outputs": [],
   "source": [
    "sale.loc[sale['price'] == 0 ]"
   ]
  },
  {
   "cell_type": "markdown",
   "id": "a65e393b",
   "metadata": {},
   "source": [
    "It's less than 2% of our data, how about the outliers?"
   ]
  },
  {
   "cell_type": "code",
   "execution_count": null,
   "id": "b0cdcae7",
   "metadata": {
    "ExecuteTime": {
     "end_time": "2022-06-13T07:40:16.415485Z",
     "start_time": "2022-06-13T07:40:16.392323Z"
    }
   },
   "outputs": [],
   "source": [
    "sale.sort_values(by=['price'], ascending=False).head(30)"
   ]
  },
  {
   "cell_type": "code",
   "execution_count": null,
   "id": "d91291ab",
   "metadata": {
    "ExecuteTime": {
     "end_time": "2022-06-13T07:40:17.356179Z",
     "start_time": "2022-06-13T07:40:17.350324Z"
    },
    "scrolled": true
   },
   "outputs": [],
   "source": [
    "sale['price'].value_counts()"
   ]
  },
  {
   "cell_type": "code",
   "execution_count": null,
   "id": "a6e55085",
   "metadata": {
    "ExecuteTime": {
     "end_time": "2022-06-13T07:40:17.844266Z",
     "start_time": "2022-06-13T07:40:17.830602Z"
    }
   },
   "outputs": [],
   "source": [
    "sale.loc[sale['pet_type'] == 'dogs' ].describe()"
   ]
  },
  {
   "cell_type": "code",
   "execution_count": null,
   "id": "4b9cf11b",
   "metadata": {
    "ExecuteTime": {
     "end_time": "2022-06-13T07:40:18.314103Z",
     "start_time": "2022-06-13T07:40:18.291595Z"
    }
   },
   "outputs": [],
   "source": [
    "sale.loc[sale['pet_type'] == 'dogs' ].sort_values(by=['price'], ascending=True).head(30)"
   ]
  },
  {
   "cell_type": "code",
   "execution_count": null,
   "id": "f784890b",
   "metadata": {
    "ExecuteTime": {
     "end_time": "2022-06-13T07:40:18.831490Z",
     "start_time": "2022-06-13T07:40:18.802206Z"
    },
    "scrolled": true
   },
   "outputs": [],
   "source": [
    "sale.loc[(sale['pet_type'] == 'dogs') & (sale['Title'].str.contains('deposit')) ].sort_values(by=['price'], ascending=True)"
   ]
  },
  {
   "cell_type": "code",
   "execution_count": null,
   "id": "4daa3d7f",
   "metadata": {
    "ExecuteTime": {
     "end_time": "2022-06-13T07:40:20.099517Z",
     "start_time": "2022-06-13T07:40:20.050940Z"
    }
   },
   "outputs": [],
   "source": [
    "df = df[~df.duplicated(subset=['price', 'species', 'age', 'gender', 'seller_name', 'seller_location','seller_type',\n",
    "                               'listing_type','pet_type'])].reset_index(drop=True)\n",
    "df"
   ]
  },
  {
   "cell_type": "code",
   "execution_count": null,
   "id": "f1f45701",
   "metadata": {
    "ExecuteTime": {
     "end_time": "2022-06-13T07:41:01.343946Z",
     "start_time": "2022-06-13T07:40:20.722958Z"
    }
   },
   "outputs": [],
   "source": [
    "df['language'] = df['description'].apply(detect)"
   ]
  },
  {
   "cell_type": "code",
   "execution_count": null,
   "id": "79debc8f",
   "metadata": {
    "ExecuteTime": {
     "end_time": "2022-06-13T07:41:01.345415Z",
     "start_time": "2022-06-13T07:41:01.345415Z"
    }
   },
   "outputs": [],
   "source": [
    "df"
   ]
  },
  {
   "cell_type": "markdown",
   "id": "efc6df3a",
   "metadata": {},
   "source": []
  },
  {
   "cell_type": "code",
   "execution_count": null,
   "id": "631e80a0",
   "metadata": {
    "ExecuteTime": {
     "end_time": "2022-06-13T07:41:01.345415Z",
     "start_time": "2022-06-13T07:41:01.345415Z"
    }
   },
   "outputs": [],
   "source": [
    "#dropping values\n",
    "sale.drop(sale[sale['price'] > 5000].index, inplace=True)\n",
    "sale.drop(sale[sale['price'] == 0.0].index, inplace=True)"
   ]
  },
  {
   "cell_type": "code",
   "execution_count": null,
   "id": "3da9bc96",
   "metadata": {
    "ExecuteTime": {
     "end_time": "2022-06-13T07:41:01.346385Z",
     "start_time": "2022-06-13T07:41:01.346385Z"
    }
   },
   "outputs": [],
   "source": [
    "sale.sort_values(by=['price'], ascending=False).head(30)"
   ]
  },
  {
   "cell_type": "code",
   "execution_count": null,
   "id": "641a5cb3",
   "metadata": {
    "ExecuteTime": {
     "end_time": "2022-06-13T07:41:01.347360Z",
     "start_time": "2022-06-13T07:41:01.347360Z"
    }
   },
   "outputs": [],
   "source": [
    "sale.describe()"
   ]
  },
  {
   "cell_type": "code",
   "execution_count": null,
   "id": "cc1da500",
   "metadata": {
    "ExecuteTime": {
     "end_time": "2022-06-13T07:41:01.348335Z",
     "start_time": "2022-06-13T07:41:01.348335Z"
    }
   },
   "outputs": [],
   "source": [
    "histogram (sale,'pet_type')"
   ]
  },
  {
   "cell_type": "code",
   "execution_count": null,
   "id": "02a34424",
   "metadata": {},
   "outputs": [],
   "source": []
  },
  {
   "cell_type": "code",
   "execution_count": null,
   "id": "a804782f",
   "metadata": {
    "ExecuteTime": {
     "end_time": "2022-06-13T07:17:14.053101Z",
     "start_time": "2022-06-13T07:17:14.050143Z"
    }
   },
   "outputs": [],
   "source": [
    "def isfloat(value):\n",
    "    try:\n",
    "        float(value)\n",
    "        return True\n",
    "    except ValueError:\n",
    "        return False"
   ]
  },
  {
   "cell_type": "code",
   "execution_count": null,
   "id": "2f492adb",
   "metadata": {},
   "outputs": [],
   "source": [
    "def process_age_to_year(age):\n",
    "    age = str(age)\n",
    "    value = np.mean([float(s) for s in sal.split() if s.isdecimal() or isfloat(s)])\n",
    "    if \"year\" in sal:\n",
    "        newsal = value\n",
    "    elif \"month\" in sal: \n",
    "        newsal = value*12\n",
    "    elif \"week\" in sal: \n",
    "        newsal = value*50\n",
    "    elif \"day\" in sal: \n",
    "        newsal = value*200\n",
    "    elif \"hour\" in sal: \n",
    "        newsal = value*2000\n",
    "    else:\n",
    "        newsal = sal\n",
    "    return newsal"
   ]
  },
  {
   "cell_type": "code",
   "execution_count": null,
   "id": "adcb5522",
   "metadata": {
    "ExecuteTime": {
     "end_time": "2022-06-13T07:03:30.687389Z",
     "start_time": "2022-06-13T07:03:30.499449Z"
    }
   },
   "outputs": [],
   "source": [
    "df['year'] = df['age']\n",
    "df['year'] = df['year'].apply(lambda x: 0 if ('Due' in x) else x)\n",
    "df['year'] = df['year'].apply(lambda x: float(str(x).replace(' weeks',''))/52 if ('weeks' in x) else x)\n",
    "df['year'] = df['year'].apply(lambda x: float(x) if (float(x)>100) else float(x))"
   ]
  }
 ],
 "metadata": {
  "kernelspec": {
   "display_name": "Python 3 (ipykernel)",
   "language": "python",
   "name": "python3"
  },
  "language_info": {
   "codemirror_mode": {
    "name": "ipython",
    "version": 3
   },
   "file_extension": ".py",
   "mimetype": "text/x-python",
   "name": "python",
   "nbconvert_exporter": "python",
   "pygments_lexer": "ipython3",
   "version": "3.9.7"
  }
 },
 "nbformat": 4,
 "nbformat_minor": 5
}
