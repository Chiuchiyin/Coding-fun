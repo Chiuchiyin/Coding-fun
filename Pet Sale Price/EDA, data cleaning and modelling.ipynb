{
 "cells": [
  {
   "cell_type": "code",
   "execution_count": 2,
   "id": "1d7847ef",
   "metadata": {
    "ExecuteTime": {
     "end_time": "2022-06-10T14:20:51.683467Z",
     "start_time": "2022-06-10T14:20:51.666512Z"
    }
   },
   "outputs": [],
   "source": [
    "import pandas as pd\n",
    "import numpy as np\n",
    "import seaborn as sns\n",
    "import matplotlib.pyplot as plt\n",
    "from textblob import TextBlob\n",
    "from langdetect import detect"
   ]
  },
  {
   "cell_type": "code",
   "execution_count": 3,
   "id": "1b836e9c",
   "metadata": {
    "ExecuteTime": {
     "end_time": "2022-06-10T15:28:01.075844Z",
     "start_time": "2022-06-10T15:28:00.803572Z"
    },
    "scrolled": false
   },
   "outputs": [
    {
     "data": {
      "text/html": [
       "<div>\n",
       "<style scoped>\n",
       "    .dataframe tbody tr th:only-of-type {\n",
       "        vertical-align: middle;\n",
       "    }\n",
       "\n",
       "    .dataframe tbody tr th {\n",
       "        vertical-align: top;\n",
       "    }\n",
       "\n",
       "    .dataframe thead th {\n",
       "        text-align: right;\n",
       "    }\n",
       "</style>\n",
       "<table border=\"1\" class=\"dataframe\">\n",
       "  <thead>\n",
       "    <tr style=\"text-align: right;\">\n",
       "      <th></th>\n",
       "      <th>Title</th>\n",
       "      <th>price</th>\n",
       "      <th>species</th>\n",
       "      <th>age</th>\n",
       "      <th>gender</th>\n",
       "      <th>description</th>\n",
       "      <th>seller_name</th>\n",
       "      <th>seller_location</th>\n",
       "      <th>seller_type</th>\n",
       "      <th>listing_type</th>\n",
       "      <th>pet_type</th>\n",
       "    </tr>\n",
       "  </thead>\n",
       "  <tbody>\n",
       "    <tr>\n",
       "      <th>0</th>\n",
       "      <td>unsexed green tree python + 60cm vivtek</td>\n",
       "      <td>1000.0</td>\n",
       "      <td>Python Snake</td>\n",
       "      <td>3 years</td>\n",
       "      <td>Mixed</td>\n",
       "      <td>~3years old gtp biak x sorong    Typical gtp a...</td>\n",
       "      <td>Patryk M.</td>\n",
       "      <td>Aberdeen</td>\n",
       "      <td>Individual</td>\n",
       "      <td>sale</td>\n",
       "      <td>reptiles</td>\n",
       "    </tr>\n",
       "    <tr>\n",
       "      <th>1</th>\n",
       "      <td>Leopard gecko (f)</td>\n",
       "      <td>80.0</td>\n",
       "      <td>Gecko</td>\n",
       "      <td>1 year</td>\n",
       "      <td>Female</td>\n",
       "      <td>Selling this leopard gecko I've had the joy of...</td>\n",
       "      <td>Dana I.</td>\n",
       "      <td>Aberdeen</td>\n",
       "      <td>Individual</td>\n",
       "      <td>sale</td>\n",
       "      <td>reptiles</td>\n",
       "    </tr>\n",
       "    <tr>\n",
       "      <th>2</th>\n",
       "      <td>rexy</td>\n",
       "      <td>100.0</td>\n",
       "      <td>Iguana</td>\n",
       "      <td>4 years</td>\n",
       "      <td>Male</td>\n",
       "      <td>rexy needs a new home ASP   sadly I don't not ...</td>\n",
       "      <td>Gillian W.</td>\n",
       "      <td>Aberdeen</td>\n",
       "      <td>Individual</td>\n",
       "      <td>sale</td>\n",
       "      <td>reptiles</td>\n",
       "    </tr>\n",
       "    <tr>\n",
       "      <th>3</th>\n",
       "      <td>Panther Chameleon and full set up</td>\n",
       "      <td>550.0</td>\n",
       "      <td>Chameleon</td>\n",
       "      <td>9 months</td>\n",
       "      <td>Male</td>\n",
       "      <td>Blue is a 6 month old Nosey Mitsio chameleon. ...</td>\n",
       "      <td>Craig H.</td>\n",
       "      <td>Aberdeen</td>\n",
       "      <td>Individual</td>\n",
       "      <td>sale</td>\n",
       "      <td>reptiles</td>\n",
       "    </tr>\n",
       "    <tr>\n",
       "      <th>4</th>\n",
       "      <td>Hand reared white Indian ringnecks</td>\n",
       "      <td>300.0</td>\n",
       "      <td>Parakeets</td>\n",
       "      <td>9 weeks</td>\n",
       "      <td>Mixed</td>\n",
       "      <td>I have 2 stunning white Indian ringnecks. 1 ma...</td>\n",
       "      <td>Dave T.</td>\n",
       "      <td>Aberdeen</td>\n",
       "      <td>Individual</td>\n",
       "      <td>sale</td>\n",
       "      <td>birds</td>\n",
       "    </tr>\n",
       "    <tr>\n",
       "      <th>...</th>\n",
       "      <td>...</td>\n",
       "      <td>...</td>\n",
       "      <td>...</td>\n",
       "      <td>...</td>\n",
       "      <td>...</td>\n",
       "      <td>...</td>\n",
       "      <td>...</td>\n",
       "      <td>...</td>\n",
       "      <td>...</td>\n",
       "      <td>...</td>\n",
       "      <td>...</td>\n",
       "    </tr>\n",
       "    <tr>\n",
       "      <th>48776</th>\n",
       "      <td>canarys for sale all colour plus new colours</td>\n",
       "      <td>40.0</td>\n",
       "      <td>Canaries</td>\n",
       "      <td>7 weeks</td>\n",
       "      <td>Mixed</td>\n",
       "      <td>there are all mixed cocks and hens new volour ...</td>\n",
       "      <td>Robert n.</td>\n",
       "      <td>Knottingley</td>\n",
       "      <td>Breeder</td>\n",
       "      <td>sale</td>\n",
       "      <td>birds</td>\n",
       "    </tr>\n",
       "    <tr>\n",
       "      <th>48777</th>\n",
       "      <td>TAME &amp; TALKING HARNESS TRAINED BLUE &amp; GOLD MACAW</td>\n",
       "      <td>2150.0</td>\n",
       "      <td>Macaws</td>\n",
       "      <td>4 years</td>\n",
       "      <td>Male</td>\n",
       "      <td>Rainbow is a beautiful example of a blue and g...</td>\n",
       "      <td>The Bradford Birdman</td>\n",
       "      <td>Bradford</td>\n",
       "      <td>Licensed Breeder</td>\n",
       "      <td>sale</td>\n",
       "      <td>birds</td>\n",
       "    </tr>\n",
       "    <tr>\n",
       "      <th>48778</th>\n",
       "      <td>Hand reared indian ringnecks babys</td>\n",
       "      <td>350.0</td>\n",
       "      <td>Parrots</td>\n",
       "      <td>1 year</td>\n",
       "      <td>Male</td>\n",
       "      <td>Hand reared cuddly silly tame little babys for...</td>\n",
       "      <td>Waqar A.</td>\n",
       "      <td>Bradford</td>\n",
       "      <td>Breeder</td>\n",
       "      <td>sale</td>\n",
       "      <td>birds</td>\n",
       "    </tr>\n",
       "    <tr>\n",
       "      <th>48779</th>\n",
       "      <td>One yellow one orange canary.</td>\n",
       "      <td>60.0</td>\n",
       "      <td>Canaries</td>\n",
       "      <td>2 years</td>\n",
       "      <td>Mixed</td>\n",
       "      <td>I’m reluctantly listing my canaries (peach and...</td>\n",
       "      <td>Amylia R.</td>\n",
       "      <td>Barnsley</td>\n",
       "      <td>Individual</td>\n",
       "      <td>sale</td>\n",
       "      <td>birds</td>\n",
       "    </tr>\n",
       "    <tr>\n",
       "      <th>48780</th>\n",
       "      <td>Tame and talking African grey</td>\n",
       "      <td>1250.0</td>\n",
       "      <td>Parrots</td>\n",
       "      <td>9 years</td>\n",
       "      <td>Male</td>\n",
       "      <td>Pablo has just turned 9 not able to give him t...</td>\n",
       "      <td>Ahmad R.</td>\n",
       "      <td>Bradford</td>\n",
       "      <td>Breeder</td>\n",
       "      <td>sale</td>\n",
       "      <td>birds</td>\n",
       "    </tr>\n",
       "  </tbody>\n",
       "</table>\n",
       "<p>48781 rows × 11 columns</p>\n",
       "</div>"
      ],
      "text/plain": [
       "                                                  Title   price       species  \\\n",
       "0              unsexed green tree python + 60cm vivtek   1000.0  Python Snake   \n",
       "1                                     Leopard gecko (f)    80.0         Gecko   \n",
       "2                                                  rexy   100.0        Iguana   \n",
       "3                    Panther Chameleon and full set up    550.0     Chameleon   \n",
       "4                   Hand reared white Indian ringnecks    300.0     Parakeets   \n",
       "...                                                 ...     ...           ...   \n",
       "48776      canarys for sale all colour plus new colours    40.0      Canaries   \n",
       "48777  TAME & TALKING HARNESS TRAINED BLUE & GOLD MACAW  2150.0        Macaws   \n",
       "48778                Hand reared indian ringnecks babys   350.0       Parrots   \n",
       "48779                    One yellow one orange canary.     60.0      Canaries   \n",
       "48780                     Tame and talking African grey  1250.0       Parrots   \n",
       "\n",
       "            age  gender                                        description  \\\n",
       "0       3 years   Mixed  ~3years old gtp biak x sorong    Typical gtp a...   \n",
       "1        1 year  Female  Selling this leopard gecko I've had the joy of...   \n",
       "2       4 years    Male  rexy needs a new home ASP   sadly I don't not ...   \n",
       "3      9 months    Male  Blue is a 6 month old Nosey Mitsio chameleon. ...   \n",
       "4       9 weeks   Mixed  I have 2 stunning white Indian ringnecks. 1 ma...   \n",
       "...         ...     ...                                                ...   \n",
       "48776   7 weeks   Mixed  there are all mixed cocks and hens new volour ...   \n",
       "48777   4 years    Male  Rainbow is a beautiful example of a blue and g...   \n",
       "48778    1 year    Male  Hand reared cuddly silly tame little babys for...   \n",
       "48779   2 years   Mixed  I’m reluctantly listing my canaries (peach and...   \n",
       "48780   9 years    Male  Pablo has just turned 9 not able to give him t...   \n",
       "\n",
       "                seller_name seller_location       seller_type listing_type  \\\n",
       "0                 Patryk M.        Aberdeen        Individual         sale   \n",
       "1                   Dana I.        Aberdeen        Individual         sale   \n",
       "2                Gillian W.        Aberdeen        Individual         sale   \n",
       "3                  Craig H.        Aberdeen        Individual         sale   \n",
       "4                   Dave T.        Aberdeen        Individual         sale   \n",
       "...                     ...             ...               ...          ...   \n",
       "48776             Robert n.     Knottingley           Breeder         sale   \n",
       "48777  The Bradford Birdman        Bradford  Licensed Breeder         sale   \n",
       "48778              Waqar A.        Bradford           Breeder         sale   \n",
       "48779             Amylia R.        Barnsley        Individual         sale   \n",
       "48780              Ahmad R.        Bradford           Breeder         sale   \n",
       "\n",
       "       pet_type  \n",
       "0      reptiles  \n",
       "1      reptiles  \n",
       "2      reptiles  \n",
       "3      reptiles  \n",
       "4         birds  \n",
       "...         ...  \n",
       "48776     birds  \n",
       "48777     birds  \n",
       "48778     birds  \n",
       "48779     birds  \n",
       "48780     birds  \n",
       "\n",
       "[48781 rows x 11 columns]"
      ]
     },
     "execution_count": 3,
     "metadata": {},
     "output_type": "execute_result"
    }
   ],
   "source": [
    "df = pd.read_csv('merged.csv' , sep='\\t', encoding='utf-8', index_col=0)\n",
    "df"
   ]
  },
  {
   "cell_type": "code",
   "execution_count": 4,
   "id": "cd9d3aa1",
   "metadata": {
    "ExecuteTime": {
     "end_time": "2022-06-10T15:28:04.196944Z",
     "start_time": "2022-06-10T15:28:04.166996Z"
    }
   },
   "outputs": [
    {
     "name": "stdout",
     "output_type": "stream",
     "text": [
      "<class 'pandas.core.frame.DataFrame'>\n",
      "Int64Index: 48781 entries, 0 to 48780\n",
      "Data columns (total 11 columns):\n",
      " #   Column           Non-Null Count  Dtype  \n",
      "---  ------           --------------  -----  \n",
      " 0   Title            48781 non-null  object \n",
      " 1   price            48781 non-null  float64\n",
      " 2   species          48781 non-null  object \n",
      " 3   age              48781 non-null  object \n",
      " 4   gender           48781 non-null  object \n",
      " 5   description      48781 non-null  object \n",
      " 6   seller_name      48781 non-null  object \n",
      " 7   seller_location  48781 non-null  object \n",
      " 8   seller_type      48781 non-null  object \n",
      " 9   listing_type     48781 non-null  object \n",
      " 10  pet_type         48781 non-null  object \n",
      "dtypes: float64(1), object(10)\n",
      "memory usage: 4.5+ MB\n"
     ]
    }
   ],
   "source": [
    "df.info()"
   ]
  },
  {
   "cell_type": "code",
   "execution_count": 16,
   "id": "114a9eef",
   "metadata": {
    "ExecuteTime": {
     "end_time": "2022-06-10T15:28:07.108202Z",
     "start_time": "2022-06-10T15:28:07.030338Z"
    }
   },
   "outputs": [
    {
     "data": {
      "text/plain": [
       "Title              37519\n",
       "price                394\n",
       "species              438\n",
       "age                   89\n",
       "gender                 7\n",
       "description        44796\n",
       "seller_name        20520\n",
       "seller_location     1083\n",
       "seller_type            5\n",
       "listing_type           3\n",
       "pet_type              11\n",
       "dtype: int64"
      ]
     },
     "execution_count": 16,
     "metadata": {},
     "output_type": "execute_result"
    }
   ],
   "source": [
    "df.nunique()"
   ]
  },
  {
   "cell_type": "code",
   "execution_count": 6,
   "id": "c78ed663",
   "metadata": {
    "ExecuteTime": {
     "end_time": "2022-06-10T15:28:07.851637Z",
     "start_time": "2022-06-10T15:28:07.838647Z"
    }
   },
   "outputs": [
    {
     "data": {
      "text/plain": [
       "unknown                11934\n",
       "Mixed                   6199\n",
       "Male                    3719\n",
       "1 male                  2857\n",
       "Female                  2796\n",
       "                       ...  \n",
       "03 male / 03 female        1\n",
       "03 male / 01 female        1\n",
       "03 male / 02 female        1\n",
       "7 male / 8 female          1\n",
       "05 male / 1 female         1\n",
       "Name: gender, Length: 139, dtype: int64"
      ]
     },
     "execution_count": 6,
     "metadata": {},
     "output_type": "execute_result"
    }
   ],
   "source": [
    "df['gender'].value_counts()"
   ]
  },
  {
   "cell_type": "markdown",
   "id": "3647419b",
   "metadata": {},
   "source": [
    "We should combine these 'x number of male and y number of female' as mixed litters and remove the numbers from the others"
   ]
  },
  {
   "cell_type": "code",
   "execution_count": 7,
   "id": "4147e60b",
   "metadata": {
    "ExecuteTime": {
     "end_time": "2022-06-10T15:28:10.482967Z",
     "start_time": "2022-06-10T15:28:10.442049Z"
    }
   },
   "outputs": [
    {
     "data": {
      "text/plain": [
       "Mixed       20614\n",
       "unknown     11934\n",
       "Male         8850\n",
       "Female       7085\n",
       "Mare          139\n",
       "Gelding       117\n",
       "Stallion       42\n",
       "Name: gender, dtype: int64"
      ]
     },
     "execution_count": 7,
     "metadata": {},
     "output_type": "execute_result"
    }
   ],
   "source": [
    "df['gender'] = df['gender'].apply(lambda x: 'Mixed' if (' male' in x and 'female' in x) else x)\n",
    "df['gender'] = df['gender'].apply(lambda x: 'Female' if (' female' in x) else x)\n",
    "df['gender'] = df['gender'].apply(lambda x: 'Male' if (' male' in x) else x)\n",
    "df['gender'].value_counts()"
   ]
  },
  {
   "cell_type": "markdown",
   "id": "26412a4a",
   "metadata": {},
   "source": [
    "This is satisfactory enough. Mare, Gelding and Stallion are horses."
   ]
  },
  {
   "cell_type": "code",
   "execution_count": 8,
   "id": "871f58c4",
   "metadata": {
    "ExecuteTime": {
     "end_time": "2022-06-10T15:28:11.799044Z",
     "start_time": "2022-06-10T15:28:11.739177Z"
    }
   },
   "outputs": [
    {
     "data": {
      "text/plain": [
       "Title              37519\n",
       "price                394\n",
       "species              438\n",
       "age                  101\n",
       "gender                 7\n",
       "description        44796\n",
       "seller_name        20520\n",
       "seller_location     1083\n",
       "seller_type            5\n",
       "listing_type           3\n",
       "pet_type              11\n",
       "dtype: int64"
      ]
     },
     "execution_count": 8,
     "metadata": {},
     "output_type": "execute_result"
    }
   ],
   "source": [
    "df.nunique()"
   ]
  },
  {
   "cell_type": "code",
   "execution_count": 9,
   "id": "b706b2db",
   "metadata": {
    "ExecuteTime": {
     "end_time": "2022-06-10T15:28:50.228288Z",
     "start_time": "2022-06-10T15:28:50.218314Z"
    }
   },
   "outputs": [
    {
     "data": {
      "text/plain": [
       "Individual          29107\n",
       "Breeder             16573\n",
       "Licensed Breeder     2388\n",
       "Rescue/Charity        707\n",
       "Company                 6\n",
       "Name: seller_type, dtype: int64"
      ]
     },
     "execution_count": 9,
     "metadata": {},
     "output_type": "execute_result"
    }
   ],
   "source": [
    "df['seller_type'].value_counts()"
   ]
  },
  {
   "cell_type": "code",
   "execution_count": 10,
   "id": "42770c86",
   "metadata": {
    "ExecuteTime": {
     "end_time": "2022-06-10T15:28:50.716252Z",
     "start_time": "2022-06-10T15:28:50.699297Z"
    },
    "scrolled": true
   },
   "outputs": [
    {
     "data": {
      "text/plain": [
       "Appleby In Westmorland    1\n",
       "Гул                       1\n",
       "Солфорд                   1\n",
       "St Austell                1\n",
       "Busveal                   1\n",
       "                         ..\n",
       "Wylam                     1\n",
       "Chester Le Street         1\n",
       "Filey                     1\n",
       "Ulceby                    1\n",
       "Ilkley                    1\n",
       "Name: seller_location, Length: 100, dtype: int64"
      ]
     },
     "execution_count": 10,
     "metadata": {},
     "output_type": "execute_result"
    }
   ],
   "source": [
    "df['seller_location'].value_counts().tail(100)"
   ]
  },
  {
   "cell_type": "markdown",
   "id": "d0a65d2d",
   "metadata": {},
   "source": [
    "Funny to have location data in foreign language. Probably should take a look at the posting."
   ]
  },
  {
   "cell_type": "code",
   "execution_count": 11,
   "id": "8ace57a5",
   "metadata": {
    "ExecuteTime": {
     "end_time": "2022-06-10T15:28:51.879479Z",
     "start_time": "2022-06-10T15:28:51.863522Z"
    }
   },
   "outputs": [
    {
     "data": {
      "text/html": [
       "<div>\n",
       "<style scoped>\n",
       "    .dataframe tbody tr th:only-of-type {\n",
       "        vertical-align: middle;\n",
       "    }\n",
       "\n",
       "    .dataframe tbody tr th {\n",
       "        vertical-align: top;\n",
       "    }\n",
       "\n",
       "    .dataframe thead th {\n",
       "        text-align: right;\n",
       "    }\n",
       "</style>\n",
       "<table border=\"1\" class=\"dataframe\">\n",
       "  <thead>\n",
       "    <tr style=\"text-align: right;\">\n",
       "      <th></th>\n",
       "      <th>Title</th>\n",
       "      <th>price</th>\n",
       "      <th>species</th>\n",
       "      <th>age</th>\n",
       "      <th>gender</th>\n",
       "      <th>description</th>\n",
       "      <th>seller_name</th>\n",
       "      <th>seller_location</th>\n",
       "      <th>seller_type</th>\n",
       "      <th>listing_type</th>\n",
       "      <th>pet_type</th>\n",
       "    </tr>\n",
       "  </thead>\n",
       "  <tbody>\n",
       "    <tr>\n",
       "      <th>41535</th>\n",
       "      <td>sold</td>\n",
       "      <td>900.0</td>\n",
       "      <td>Siamese</td>\n",
       "      <td>4 months</td>\n",
       "      <td>Mixed</td>\n",
       "      <td>We have available 1 Blue Point Siamese boy and...</td>\n",
       "      <td>Viktorija K.</td>\n",
       "      <td>Солфорд</td>\n",
       "      <td>Breeder</td>\n",
       "      <td>sale</td>\n",
       "      <td>cats</td>\n",
       "    </tr>\n",
       "  </tbody>\n",
       "</table>\n",
       "</div>"
      ],
      "text/plain": [
       "      Title  price  species       age gender  \\\n",
       "41535  sold  900.0  Siamese  4 months  Mixed   \n",
       "\n",
       "                                             description   seller_name  \\\n",
       "41535  We have available 1 Blue Point Siamese boy and...  Viktorija K.   \n",
       "\n",
       "      seller_location seller_type listing_type pet_type  \n",
       "41535         Солфорд     Breeder         sale     cats  "
      ]
     },
     "execution_count": 11,
     "metadata": {},
     "output_type": "execute_result"
    }
   ],
   "source": [
    "df.loc[df['seller_location'] == 'Солфорд']"
   ]
  },
  {
   "cell_type": "code",
   "execution_count": 12,
   "id": "30f776e1",
   "metadata": {
    "ExecuteTime": {
     "end_time": "2022-06-10T15:28:52.426828Z",
     "start_time": "2022-06-10T15:28:52.406880Z"
    }
   },
   "outputs": [
    {
     "data": {
      "text/plain": [
       "2001              3\n",
       "16 years          3\n",
       "2000              3\n",
       "Due in 6 weeks    3\n",
       "2003 years        2\n",
       "Due in 6 days     2\n",
       "18 years          2\n",
       "2004 years        2\n",
       "20 years          2\n",
       "2002 years        2\n",
       "1998              1\n",
       "2000 years        1\n",
       "24 years          1\n",
       "Due in 7 weeks    1\n",
       "42 years          1\n",
       "1999              1\n",
       "66 years          1\n",
       "2019 years        1\n",
       "23 years          1\n",
       "17 years          1\n",
       "Name: age, dtype: int64"
      ]
     },
     "execution_count": 12,
     "metadata": {},
     "output_type": "execute_result"
    }
   ],
   "source": [
    "df['age'].value_counts().tail(20)"
   ]
  },
  {
   "cell_type": "markdown",
   "id": "54010937",
   "metadata": {},
   "source": [
    "Some of these are very funny. probably it's the year of birth. Longer living animals tends to have their year of birth recorded as age, horses in particular"
   ]
  },
  {
   "cell_type": "code",
   "execution_count": 15,
   "id": "9b525ff9",
   "metadata": {},
   "outputs": [
    {
     "data": {
      "text/plain": [
       "2021 years    3\n",
       "unknown       3\n",
       "2001          3\n",
       "16 years      3\n",
       "2000          3\n",
       "2003          3\n",
       "2004 years    2\n",
       "2003 years    2\n",
       "18 years      2\n",
       "20 years      2\n",
       "2002 years    2\n",
       "1999          1\n",
       "2000 years    1\n",
       "24 years      1\n",
       "1998          1\n",
       "42 years      1\n",
       "66 years      1\n",
       "2019 years    1\n",
       "23 years      1\n",
       "17 years      1\n",
       "Name: age, dtype: int64"
      ]
     },
     "execution_count": 15,
     "metadata": {},
     "output_type": "execute_result"
    }
   ],
   "source": [
    "df['age'] = df['age'].apply(lambda x: 0 if ('Due' in x) else x)\n",
    "df['age'].value_counts().tail(20)"
   ]
  },
  {
   "cell_type": "code",
   "execution_count": 152,
   "id": "350d653e",
   "metadata": {
    "ExecuteTime": {
     "end_time": "2022-06-10T15:28:53.530439Z",
     "start_time": "2022-06-10T15:28:53.510493Z"
    }
   },
   "outputs": [
    {
     "data": {
      "text/plain": [
       "dogs             23151\n",
       "cats             11489\n",
       "rabbits           4400\n",
       "rodents           2321\n",
       "birds             2068\n",
       "reptiles          1955\n",
       "poultry           1528\n",
       "fish              1031\n",
       "invertebrates      366\n",
       "horses             298\n",
       "livestock          174\n",
       "Name: pet_type, dtype: int64"
      ]
     },
     "execution_count": 152,
     "metadata": {},
     "output_type": "execute_result"
    }
   ],
   "source": [
    "df['pet_type'].value_counts()"
   ]
  },
  {
   "cell_type": "code",
   "execution_count": 153,
   "id": "d3a3969c",
   "metadata": {
    "ExecuteTime": {
     "end_time": "2022-06-10T15:28:54.013868Z",
     "start_time": "2022-06-10T15:28:53.998908Z"
    }
   },
   "outputs": [
    {
     "data": {
      "text/plain": [
       "1000.0    2139\n",
       "200.0     1955\n",
       "500.0     1737\n",
       "1500.0    1736\n",
       "150.0     1722\n",
       "          ... \n",
       "27.0         1\n",
       "785.0        1\n",
       "1245.0       1\n",
       "2499.0       1\n",
       "1880.0       1\n",
       "Name: price, Length: 394, dtype: int64"
      ]
     },
     "execution_count": 153,
     "metadata": {},
     "output_type": "execute_result"
    }
   ],
   "source": [
    "df['price'].value_counts()"
   ]
  },
  {
   "cell_type": "code",
   "execution_count": 154,
   "id": "208d3d91",
   "metadata": {
    "ExecuteTime": {
     "end_time": "2022-06-10T15:28:54.621076Z",
     "start_time": "2022-06-10T15:28:54.588164Z"
    }
   },
   "outputs": [
    {
     "data": {
      "text/html": [
       "<div>\n",
       "<style scoped>\n",
       "    .dataframe tbody tr th:only-of-type {\n",
       "        vertical-align: middle;\n",
       "    }\n",
       "\n",
       "    .dataframe tbody tr th {\n",
       "        vertical-align: top;\n",
       "    }\n",
       "\n",
       "    .dataframe thead th {\n",
       "        text-align: right;\n",
       "    }\n",
       "</style>\n",
       "<table border=\"1\" class=\"dataframe\">\n",
       "  <thead>\n",
       "    <tr style=\"text-align: right;\">\n",
       "      <th></th>\n",
       "      <th>Title</th>\n",
       "      <th>price</th>\n",
       "      <th>species</th>\n",
       "      <th>age</th>\n",
       "      <th>gender</th>\n",
       "      <th>description</th>\n",
       "      <th>seller_name</th>\n",
       "      <th>seller_location</th>\n",
       "      <th>seller_type</th>\n",
       "      <th>listing_type</th>\n",
       "      <th>pet_type</th>\n",
       "    </tr>\n",
       "  </thead>\n",
       "  <tbody>\n",
       "    <tr>\n",
       "      <th>24577</th>\n",
       "      <td>For TEMPORARY Foster/Temporary Adoption</td>\n",
       "      <td>11111111.0</td>\n",
       "      <td>British Shorthair</td>\n",
       "      <td>3 years</td>\n",
       "      <td>Male</td>\n",
       "      <td>I'm looking for a loving TEMPORARY foster home...</td>\n",
       "      <td>Amy W.</td>\n",
       "      <td>Newark</td>\n",
       "      <td>Individual</td>\n",
       "      <td>adoption</td>\n",
       "      <td>cats</td>\n",
       "    </tr>\n",
       "    <tr>\n",
       "      <th>1530</th>\n",
       "      <td>Working Cocker spaniel dog pup</td>\n",
       "      <td>9999999.0</td>\n",
       "      <td>Cocker Spaniel</td>\n",
       "      <td>12 weeks</td>\n",
       "      <td>Male</td>\n",
       "      <td>One Liver Working cocker spaniel dog pup for s...</td>\n",
       "      <td>Joanne b.</td>\n",
       "      <td>Lymington</td>\n",
       "      <td>Licensed Breeder</td>\n",
       "      <td>sale</td>\n",
       "      <td>dogs</td>\n",
       "    </tr>\n",
       "    <tr>\n",
       "      <th>9625</th>\n",
       "      <td>2 male Chihuahua puppies for sale</td>\n",
       "      <td>9999999.0</td>\n",
       "      <td>Chihuahua</td>\n",
       "      <td>9 weeks</td>\n",
       "      <td>Male</td>\n",
       "      <td>Here we have two beautiful stunning chihuahua ...</td>\n",
       "      <td>Danielle E.</td>\n",
       "      <td>Kidderminster</td>\n",
       "      <td>Individual</td>\n",
       "      <td>sale</td>\n",
       "      <td>dogs</td>\n",
       "    </tr>\n",
       "    <tr>\n",
       "      <th>42999</th>\n",
       "      <td>OUTSTANDING 53 CHAMPS IN 5G BL</td>\n",
       "      <td>3333333.0</td>\n",
       "      <td>Cocker Spaniel</td>\n",
       "      <td>1 week</td>\n",
       "      <td>unknown</td>\n",
       "      <td>THE BEST IN BREED are here 🤗  SIRE is KC - slo...</td>\n",
       "      <td>Sarah sherman s.</td>\n",
       "      <td>Stoke-on-Trent</td>\n",
       "      <td>Individual</td>\n",
       "      <td>sale</td>\n",
       "      <td>dogs</td>\n",
       "    </tr>\n",
       "    <tr>\n",
       "      <th>28646</th>\n",
       "      <td>OUTSTANDING 53 CHAMPS IN 5G BL</td>\n",
       "      <td>3333333.0</td>\n",
       "      <td>Cocker Spaniel</td>\n",
       "      <td>1 week</td>\n",
       "      <td>unknown</td>\n",
       "      <td>THE BEST IN BREED are here 🤗    SIRE is KC - s...</td>\n",
       "      <td>Sarah sherman s.</td>\n",
       "      <td>Stoke-on-Trent</td>\n",
       "      <td>Individual</td>\n",
       "      <td>sale</td>\n",
       "      <td>dogs</td>\n",
       "    </tr>\n",
       "    <tr>\n",
       "      <th>200</th>\n",
       "      <td>Franco</td>\n",
       "      <td>1234567.0</td>\n",
       "      <td>Golden Retriever</td>\n",
       "      <td>3 years</td>\n",
       "      <td>unknown</td>\n",
       "      <td>Lovely natured golden retriever.  Great with c...</td>\n",
       "      <td>Colin M.</td>\n",
       "      <td>Inverurie</td>\n",
       "      <td>Breeder</td>\n",
       "      <td>stud</td>\n",
       "      <td>dogs</td>\n",
       "    </tr>\n",
       "    <tr>\n",
       "      <th>1144</th>\n",
       "      <td>Top Basset for Stud</td>\n",
       "      <td>1111111.0</td>\n",
       "      <td>Basset Hound</td>\n",
       "      <td>1 year</td>\n",
       "      <td>unknown</td>\n",
       "      <td>Looking to stud out my big boy  probably only ...</td>\n",
       "      <td>Darren P.</td>\n",
       "      <td>Romsey</td>\n",
       "      <td>Individual</td>\n",
       "      <td>stud</td>\n",
       "      <td>dogs</td>\n",
       "    </tr>\n",
       "    <tr>\n",
       "      <th>17105</th>\n",
       "      <td>❌••L4 FLUFFY CARRIERS••❌Coco girl❌</td>\n",
       "      <td>987654.0</td>\n",
       "      <td>French Bulldog</td>\n",
       "      <td>14 weeks</td>\n",
       "      <td>Mixed</td>\n",
       "      <td>❤️Beautiful pups from our blue girl❤️ Romeo ...</td>\n",
       "      <td>JACQUELINE I.</td>\n",
       "      <td>Hailsham</td>\n",
       "      <td>Individual</td>\n",
       "      <td>sale</td>\n",
       "      <td>dogs</td>\n",
       "    </tr>\n",
       "    <tr>\n",
       "      <th>2821</th>\n",
       "      <td>Stolen coco</td>\n",
       "      <td>888888.0</td>\n",
       "      <td>Bengal</td>\n",
       "      <td>2 years</td>\n",
       "      <td>unknown</td>\n",
       "      <td>Good morning we haven't seen coco since 15th F...</td>\n",
       "      <td>Nic I.</td>\n",
       "      <td>Stonehouse</td>\n",
       "      <td>Individual</td>\n",
       "      <td>sale</td>\n",
       "      <td>cats</td>\n",
       "    </tr>\n",
       "    <tr>\n",
       "      <th>23757</th>\n",
       "      <td>ragdoll cross</td>\n",
       "      <td>150350.0</td>\n",
       "      <td>Ragdoll</td>\n",
       "      <td>10 weeks</td>\n",
       "      <td>Mixed</td>\n",
       "      <td>5 stunning ragdoll cross kittens, 3 girls 2 bo...</td>\n",
       "      <td>Layna L.</td>\n",
       "      <td>Runcorn</td>\n",
       "      <td>Breeder</td>\n",
       "      <td>sale</td>\n",
       "      <td>cats</td>\n",
       "    </tr>\n",
       "    <tr>\n",
       "      <th>4943</th>\n",
       "      <td>LOVELY BLACK GIRL TICA REG NO SILLY OFFERS PLEASE</td>\n",
       "      <td>123654.0</td>\n",
       "      <td>Sphynx</td>\n",
       "      <td>1 year</td>\n",
       "      <td>unknown</td>\n",
       "      <td>Hi. We have for sale our beautiful girl that w...</td>\n",
       "      <td>Arkadiusz B.</td>\n",
       "      <td>Sandy</td>\n",
       "      <td>Individual</td>\n",
       "      <td>sale</td>\n",
       "      <td>cats</td>\n",
       "    </tr>\n",
       "    <tr>\n",
       "      <th>22206</th>\n",
       "      <td>Stunning. ...Proven</td>\n",
       "      <td>123456.0</td>\n",
       "      <td>Golden Retriever</td>\n",
       "      <td>6 years</td>\n",
       "      <td>unknown</td>\n",
       "      <td>Stanley is our 3rd generation KC retriever bre...</td>\n",
       "      <td>Rebecca P.</td>\n",
       "      <td>Faringdon</td>\n",
       "      <td>Individual</td>\n",
       "      <td>stud</td>\n",
       "      <td>dogs</td>\n",
       "    </tr>\n",
       "    <tr>\n",
       "      <th>16776</th>\n",
       "      <td>Exceptional GCCF Proven Siberian for stud</td>\n",
       "      <td>123456.0</td>\n",
       "      <td>Siberian</td>\n",
       "      <td>7 months</td>\n",
       "      <td>unknown</td>\n",
       "      <td>For Stud only.  Price on application.   I have...</td>\n",
       "      <td>Hannah J.</td>\n",
       "      <td>Worthing</td>\n",
       "      <td>Breeder</td>\n",
       "      <td>sale</td>\n",
       "      <td>cats</td>\n",
       "    </tr>\n",
       "    <tr>\n",
       "      <th>45807</th>\n",
       "      <td>Createabullz LOADED-LUX full suit lilac and tan</td>\n",
       "      <td>123456.0</td>\n",
       "      <td>English Bulldog</td>\n",
       "      <td>2 years</td>\n",
       "      <td>unknown</td>\n",
       "      <td>Createabullz Romeo aka  👑🇬🇧LOADED-LUX🇬🇧👑  Now ...</td>\n",
       "      <td>CREATEABULLZ</td>\n",
       "      <td>Chester</td>\n",
       "      <td>Breeder</td>\n",
       "      <td>stud</td>\n",
       "      <td>dogs</td>\n",
       "    </tr>\n",
       "    <tr>\n",
       "      <th>27336</th>\n",
       "      <td>BLACK AND BI COLOUR BABIES 🖤💙</td>\n",
       "      <td>123456.0</td>\n",
       "      <td>Sphynx</td>\n",
       "      <td>10 weeks</td>\n",
       "      <td>Mixed</td>\n",
       "      <td>our beautiful blue eye seal point queen has gi...</td>\n",
       "      <td>Rose J.</td>\n",
       "      <td>Stockport</td>\n",
       "      <td>Individual</td>\n",
       "      <td>sale</td>\n",
       "      <td>cats</td>\n",
       "    </tr>\n",
       "    <tr>\n",
       "      <th>26635</th>\n",
       "      <td>XL BULLY girls and boys avalable</td>\n",
       "      <td>123456.0</td>\n",
       "      <td>American Bully</td>\n",
       "      <td>4 weeks</td>\n",
       "      <td>Mixed</td>\n",
       "      <td>here we have a 1 of litter of xl bullys full A...</td>\n",
       "      <td>Jake D.</td>\n",
       "      <td>Redditch</td>\n",
       "      <td>Individual</td>\n",
       "      <td>sale</td>\n",
       "      <td>dogs</td>\n",
       "    </tr>\n",
       "    <tr>\n",
       "      <th>42576</th>\n",
       "      <td>CREATEABULLZ LOADED LUX PUPS lilac and blue tan</td>\n",
       "      <td>123456.0</td>\n",
       "      <td>English Bulldog</td>\n",
       "      <td>6 weeks</td>\n",
       "      <td>Mixed</td>\n",
       "      <td>🚨we are having an extremely lot of interest in...</td>\n",
       "      <td>CREATEABULLZ</td>\n",
       "      <td>Manchester</td>\n",
       "      <td>Breeder</td>\n",
       "      <td>sale</td>\n",
       "      <td>dogs</td>\n",
       "    </tr>\n",
       "    <tr>\n",
       "      <th>21183</th>\n",
       "      <td>Khaleesi</td>\n",
       "      <td>123456.0</td>\n",
       "      <td>Leopard Gecko</td>\n",
       "      <td>4 years</td>\n",
       "      <td>Female</td>\n",
       "      <td>Here is my lovely Leopard Gecko (tangerine mor...</td>\n",
       "      <td>Harry T.</td>\n",
       "      <td>Maldon</td>\n",
       "      <td>Individual</td>\n",
       "      <td>adoption</td>\n",
       "      <td>reptiles</td>\n",
       "    </tr>\n",
       "    <tr>\n",
       "      <th>16739</th>\n",
       "      <td>Outstanding GCCF potential breed / show Siberian</td>\n",
       "      <td>123456.0</td>\n",
       "      <td>Siberian</td>\n",
       "      <td>1 year</td>\n",
       "      <td>unknown</td>\n",
       "      <td>Please read the full advert before enquiring. ...</td>\n",
       "      <td>Hannah J.</td>\n",
       "      <td>Worthing</td>\n",
       "      <td>Breeder</td>\n",
       "      <td>sale</td>\n",
       "      <td>cats</td>\n",
       "    </tr>\n",
       "    <tr>\n",
       "      <th>22207</th>\n",
       "      <td>Duke, Proven KC registered  for stud.</td>\n",
       "      <td>123456.0</td>\n",
       "      <td>Golden Retriever</td>\n",
       "      <td>2 years</td>\n",
       "      <td>unknown</td>\n",
       "      <td>Duke, is our gorgeous 4th generation boy. Son ...</td>\n",
       "      <td>Rebecca P.</td>\n",
       "      <td>Faringdon</td>\n",
       "      <td>Individual</td>\n",
       "      <td>stud</td>\n",
       "      <td>dogs</td>\n",
       "    </tr>\n",
       "  </tbody>\n",
       "</table>\n",
       "</div>"
      ],
      "text/plain": [
       "                                                   Title       price  \\\n",
       "24577            For TEMPORARY Foster/Temporary Adoption  11111111.0   \n",
       "1530                      Working Cocker spaniel dog pup   9999999.0   \n",
       "9625                  2 male Chihuahua puppies for sale    9999999.0   \n",
       "42999                     OUTSTANDING 53 CHAMPS IN 5G BL   3333333.0   \n",
       "28646                     OUTSTANDING 53 CHAMPS IN 5G BL   3333333.0   \n",
       "200                                              Franco    1234567.0   \n",
       "1144                                 Top Basset for Stud   1111111.0   \n",
       "17105                 ❌••L4 FLUFFY CARRIERS••❌Coco girl❌    987654.0   \n",
       "2821                                         Stolen coco    888888.0   \n",
       "23757                                      ragdoll cross    150350.0   \n",
       "4943   LOVELY BLACK GIRL TICA REG NO SILLY OFFERS PLEASE    123654.0   \n",
       "22206                                Stunning. ...Proven    123456.0   \n",
       "16776          Exceptional GCCF Proven Siberian for stud    123456.0   \n",
       "45807   Createabullz LOADED-LUX full suit lilac and tan     123456.0   \n",
       "27336                      BLACK AND BI COLOUR BABIES 🖤💙    123456.0   \n",
       "26635                  XL BULLY girls and boys avalable     123456.0   \n",
       "42576    CREATEABULLZ LOADED LUX PUPS lilac and blue tan    123456.0   \n",
       "21183                                           Khaleesi    123456.0   \n",
       "16739   Outstanding GCCF potential breed / show Siberian    123456.0   \n",
       "22207              Duke, Proven KC registered  for stud.    123456.0   \n",
       "\n",
       "                 species       age   gender  \\\n",
       "24577  British Shorthair   3 years     Male   \n",
       "1530      Cocker Spaniel  12 weeks     Male   \n",
       "9625           Chihuahua   9 weeks     Male   \n",
       "42999     Cocker Spaniel    1 week  unknown   \n",
       "28646     Cocker Spaniel    1 week  unknown   \n",
       "200     Golden Retriever   3 years  unknown   \n",
       "1144        Basset Hound    1 year  unknown   \n",
       "17105     French Bulldog  14 weeks    Mixed   \n",
       "2821              Bengal   2 years  unknown   \n",
       "23757            Ragdoll  10 weeks    Mixed   \n",
       "4943              Sphynx    1 year  unknown   \n",
       "22206   Golden Retriever   6 years  unknown   \n",
       "16776           Siberian  7 months  unknown   \n",
       "45807    English Bulldog   2 years  unknown   \n",
       "27336             Sphynx  10 weeks    Mixed   \n",
       "26635     American Bully   4 weeks    Mixed   \n",
       "42576    English Bulldog   6 weeks    Mixed   \n",
       "21183      Leopard Gecko   4 years   Female   \n",
       "16739           Siberian    1 year  unknown   \n",
       "22207   Golden Retriever   2 years  unknown   \n",
       "\n",
       "                                             description       seller_name  \\\n",
       "24577  I'm looking for a loving TEMPORARY foster home...            Amy W.   \n",
       "1530   One Liver Working cocker spaniel dog pup for s...         Joanne b.   \n",
       "9625   Here we have two beautiful stunning chihuahua ...       Danielle E.   \n",
       "42999  THE BEST IN BREED are here 🤗  SIRE is KC - slo...  Sarah sherman s.   \n",
       "28646  THE BEST IN BREED are here 🤗    SIRE is KC - s...  Sarah sherman s.   \n",
       "200    Lovely natured golden retriever.  Great with c...          Colin M.   \n",
       "1144   Looking to stud out my big boy  probably only ...         Darren P.   \n",
       "17105    ❤️Beautiful pups from our blue girl❤️ Romeo ...     JACQUELINE I.   \n",
       "2821   Good morning we haven't seen coco since 15th F...            Nic I.   \n",
       "23757  5 stunning ragdoll cross kittens, 3 girls 2 bo...          Layna L.   \n",
       "4943   Hi. We have for sale our beautiful girl that w...      Arkadiusz B.   \n",
       "22206  Stanley is our 3rd generation KC retriever bre...        Rebecca P.   \n",
       "16776  For Stud only.  Price on application.   I have...         Hannah J.   \n",
       "45807  Createabullz Romeo aka  👑🇬🇧LOADED-LUX🇬🇧👑  Now ...      CREATEABULLZ   \n",
       "27336  our beautiful blue eye seal point queen has gi...           Rose J.   \n",
       "26635  here we have a 1 of litter of xl bullys full A...           Jake D.   \n",
       "42576  🚨we are having an extremely lot of interest in...      CREATEABULLZ   \n",
       "21183  Here is my lovely Leopard Gecko (tangerine mor...          Harry T.   \n",
       "16739  Please read the full advert before enquiring. ...         Hannah J.   \n",
       "22207  Duke, is our gorgeous 4th generation boy. Son ...        Rebecca P.   \n",
       "\n",
       "      seller_location       seller_type listing_type  pet_type  \n",
       "24577          Newark        Individual     adoption      cats  \n",
       "1530        Lymington  Licensed Breeder         sale      dogs  \n",
       "9625    Kidderminster        Individual         sale      dogs  \n",
       "42999  Stoke-on-Trent        Individual         sale      dogs  \n",
       "28646  Stoke-on-Trent        Individual         sale      dogs  \n",
       "200         Inverurie           Breeder         stud      dogs  \n",
       "1144           Romsey        Individual         stud      dogs  \n",
       "17105        Hailsham        Individual         sale      dogs  \n",
       "2821       Stonehouse        Individual         sale      cats  \n",
       "23757         Runcorn           Breeder         sale      cats  \n",
       "4943            Sandy        Individual         sale      cats  \n",
       "22206       Faringdon        Individual         stud      dogs  \n",
       "16776        Worthing           Breeder         sale      cats  \n",
       "45807         Chester           Breeder         stud      dogs  \n",
       "27336       Stockport        Individual         sale      cats  \n",
       "26635        Redditch        Individual         sale      dogs  \n",
       "42576      Manchester           Breeder         sale      dogs  \n",
       "21183          Maldon        Individual     adoption  reptiles  \n",
       "16739        Worthing           Breeder         sale      cats  \n",
       "22207       Faringdon        Individual         stud      dogs  "
      ]
     },
     "execution_count": 154,
     "metadata": {},
     "output_type": "execute_result"
    }
   ],
   "source": [
    "df.sort_values(by=['price'], ascending=False).head(20)"
   ]
  },
  {
   "cell_type": "markdown",
   "id": "7b341839",
   "metadata": {},
   "source": [
    "some of the pricing makes no sense, owner probably want potential buyer to contact them. We should drop these. these outliers make price histogram unworkable."
   ]
  },
  {
   "cell_type": "code",
   "execution_count": 155,
   "id": "927c8724",
   "metadata": {
    "ExecuteTime": {
     "end_time": "2022-06-10T15:28:56.143438Z",
     "start_time": "2022-06-10T15:28:56.123491Z"
    }
   },
   "outputs": [
    {
     "data": {
      "text/html": [
       "<div>\n",
       "<style scoped>\n",
       "    .dataframe tbody tr th:only-of-type {\n",
       "        vertical-align: middle;\n",
       "    }\n",
       "\n",
       "    .dataframe tbody tr th {\n",
       "        vertical-align: top;\n",
       "    }\n",
       "\n",
       "    .dataframe thead th {\n",
       "        text-align: right;\n",
       "    }\n",
       "</style>\n",
       "<table border=\"1\" class=\"dataframe\">\n",
       "  <thead>\n",
       "    <tr style=\"text-align: right;\">\n",
       "      <th></th>\n",
       "      <th>Title</th>\n",
       "      <th>price</th>\n",
       "      <th>species</th>\n",
       "      <th>age</th>\n",
       "      <th>gender</th>\n",
       "      <th>description</th>\n",
       "      <th>seller_name</th>\n",
       "      <th>seller_location</th>\n",
       "      <th>seller_type</th>\n",
       "      <th>listing_type</th>\n",
       "      <th>pet_type</th>\n",
       "    </tr>\n",
       "  </thead>\n",
       "  <tbody>\n",
       "    <tr>\n",
       "      <th>32</th>\n",
       "      <td>African Cichlids bundle</td>\n",
       "      <td>0.0</td>\n",
       "      <td>Cichlids</td>\n",
       "      <td>1 year</td>\n",
       "      <td>unknown</td>\n",
       "      <td>hi, I have got around 19 African cichlids look...</td>\n",
       "      <td>Margaret B</td>\n",
       "      <td>Peterculter</td>\n",
       "      <td>Breeder</td>\n",
       "      <td>sale</td>\n",
       "      <td>fish</td>\n",
       "    </tr>\n",
       "    <tr>\n",
       "      <th>33</th>\n",
       "      <td>Guppies for sale</td>\n",
       "      <td>0.0</td>\n",
       "      <td>Other/Mixed Breed</td>\n",
       "      <td>12 weeks</td>\n",
       "      <td>unknown</td>\n",
       "      <td>2 1/2 months old mixed guppies for sale:  make...</td>\n",
       "      <td>Anil G.</td>\n",
       "      <td>Aberdeen</td>\n",
       "      <td>Individual</td>\n",
       "      <td>sale</td>\n",
       "      <td>fish</td>\n",
       "    </tr>\n",
       "    <tr>\n",
       "      <th>234</th>\n",
       "      <td>2 Beautiful Mini Lops</td>\n",
       "      <td>0.0</td>\n",
       "      <td>Mini Lop</td>\n",
       "      <td>1 year</td>\n",
       "      <td>Mixed</td>\n",
       "      <td>We are looking to rehome our 2 gorgeous bunnie...</td>\n",
       "      <td>Abigail W.</td>\n",
       "      <td>Helston</td>\n",
       "      <td>Individual</td>\n",
       "      <td>adoption</td>\n",
       "      <td>rabbits</td>\n",
       "    </tr>\n",
       "    <tr>\n",
       "      <th>296</th>\n",
       "      <td>HORSFIELD TORTOISES - 2 years old.</td>\n",
       "      <td>0.0</td>\n",
       "      <td>Tortoise</td>\n",
       "      <td>2 years</td>\n",
       "      <td>Female</td>\n",
       "      <td>Adoption only!  Poppy &amp; Penny are two beautifu...</td>\n",
       "      <td>Caley A.</td>\n",
       "      <td>Truro</td>\n",
       "      <td>Individual</td>\n",
       "      <td>adoption</td>\n",
       "      <td>reptiles</td>\n",
       "    </tr>\n",
       "    <tr>\n",
       "      <th>441</th>\n",
       "      <td>Full list baby ball python CB21</td>\n",
       "      <td>0.0</td>\n",
       "      <td>Python Snake</td>\n",
       "      <td>1 year</td>\n",
       "      <td>Mixed</td>\n",
       "      <td>Passione breeder based in Southampton, here to...</td>\n",
       "      <td>Eden Garden Reptiles</td>\n",
       "      <td>Southampton</td>\n",
       "      <td>Breeder</td>\n",
       "      <td>sale</td>\n",
       "      <td>reptiles</td>\n",
       "    </tr>\n",
       "    <tr>\n",
       "      <th>...</th>\n",
       "      <td>...</td>\n",
       "      <td>...</td>\n",
       "      <td>...</td>\n",
       "      <td>...</td>\n",
       "      <td>...</td>\n",
       "      <td>...</td>\n",
       "      <td>...</td>\n",
       "      <td>...</td>\n",
       "      <td>...</td>\n",
       "      <td>...</td>\n",
       "      <td>...</td>\n",
       "    </tr>\n",
       "    <tr>\n",
       "      <th>46726</th>\n",
       "      <td>chocolate seal point female mini lop</td>\n",
       "      <td>0.0</td>\n",
       "      <td>Mini Lop</td>\n",
       "      <td>1 year</td>\n",
       "      <td>Female</td>\n",
       "      <td>daisy ❤️ chocolate seal point pure bred mini l...</td>\n",
       "      <td>Hip Hop B</td>\n",
       "      <td>Leeds</td>\n",
       "      <td>Breeder</td>\n",
       "      <td>sale</td>\n",
       "      <td>rabbits</td>\n",
       "    </tr>\n",
       "    <tr>\n",
       "      <th>46846</th>\n",
       "      <td>BABY BLUE HOLICER RABBITS</td>\n",
       "      <td>0.0</td>\n",
       "      <td>Mixed Breed</td>\n",
       "      <td>6 months</td>\n",
       "      <td>Male</td>\n",
       "      <td>Iv had to put these babies under mixed breed a...</td>\n",
       "      <td>Mini F Stud</td>\n",
       "      <td>Leeds</td>\n",
       "      <td>Breeder</td>\n",
       "      <td>sale</td>\n",
       "      <td>rabbits</td>\n",
       "    </tr>\n",
       "    <tr>\n",
       "      <th>46885</th>\n",
       "      <td>RARE BABY HOLICER BABIES - READ DESCRIPTION</td>\n",
       "      <td>0.0</td>\n",
       "      <td>Continental Giant</td>\n",
       "      <td>14 weeks</td>\n",
       "      <td>Mixed</td>\n",
       "      <td>- I have put them into the continental giant c...</td>\n",
       "      <td>Mini F Stud</td>\n",
       "      <td>Leeds</td>\n",
       "      <td>Breeder</td>\n",
       "      <td>sale</td>\n",
       "      <td>rabbits</td>\n",
       "    </tr>\n",
       "    <tr>\n",
       "      <th>46888</th>\n",
       "      <td>Rabbits for sale</td>\n",
       "      <td>0.0</td>\n",
       "      <td>English Lop</td>\n",
       "      <td>15 weeks</td>\n",
       "      <td>Mixed</td>\n",
       "      <td>We have 5 beautiful rabbits for sale,they are ...</td>\n",
       "      <td>Kian R.</td>\n",
       "      <td>Wakefield</td>\n",
       "      <td>Individual</td>\n",
       "      <td>sale</td>\n",
       "      <td>rabbits</td>\n",
       "    </tr>\n",
       "    <tr>\n",
       "      <th>46926</th>\n",
       "      <td>1 year old to make 15.2+</td>\n",
       "      <td>0.0</td>\n",
       "      <td>Welsh Section D</td>\n",
       "      <td>2021</td>\n",
       "      <td>Gelding</td>\n",
       "      <td>Not something I was planning on writing any ti...</td>\n",
       "      <td>Leah G.</td>\n",
       "      <td>Scunthorpe</td>\n",
       "      <td>Individual</td>\n",
       "      <td>sale</td>\n",
       "      <td>horses</td>\n",
       "    </tr>\n",
       "  </tbody>\n",
       "</table>\n",
       "<p>774 rows × 11 columns</p>\n",
       "</div>"
      ],
      "text/plain": [
       "                                             Title  price            species  \\\n",
       "32                         African Cichlids bundle    0.0           Cichlids   \n",
       "33                                Guppies for sale    0.0  Other/Mixed Breed   \n",
       "234                          2 Beautiful Mini Lops    0.0           Mini Lop   \n",
       "296            HORSFIELD TORTOISES - 2 years old.     0.0           Tortoise   \n",
       "441                Full list baby ball python CB21    0.0       Python Snake   \n",
       "...                                            ...    ...                ...   \n",
       "46726         chocolate seal point female mini lop    0.0           Mini Lop   \n",
       "46846                    BABY BLUE HOLICER RABBITS    0.0        Mixed Breed   \n",
       "46885  RARE BABY HOLICER BABIES - READ DESCRIPTION    0.0  Continental Giant   \n",
       "46888                             Rabbits for sale    0.0        English Lop   \n",
       "46926                     1 year old to make 15.2+    0.0    Welsh Section D   \n",
       "\n",
       "            age   gender                                        description  \\\n",
       "32       1 year  unknown  hi, I have got around 19 African cichlids look...   \n",
       "33     12 weeks  unknown  2 1/2 months old mixed guppies for sale:  make...   \n",
       "234      1 year    Mixed  We are looking to rehome our 2 gorgeous bunnie...   \n",
       "296     2 years   Female  Adoption only!  Poppy & Penny are two beautifu...   \n",
       "441      1 year    Mixed  Passione breeder based in Southampton, here to...   \n",
       "...         ...      ...                                                ...   \n",
       "46726    1 year   Female  daisy ❤️ chocolate seal point pure bred mini l...   \n",
       "46846  6 months     Male  Iv had to put these babies under mixed breed a...   \n",
       "46885  14 weeks    Mixed  - I have put them into the continental giant c...   \n",
       "46888  15 weeks    Mixed  We have 5 beautiful rabbits for sale,they are ...   \n",
       "46926      2021  Gelding  Not something I was planning on writing any ti...   \n",
       "\n",
       "                seller_name seller_location seller_type listing_type  pet_type  \n",
       "32               Margaret B     Peterculter     Breeder         sale      fish  \n",
       "33                  Anil G.        Aberdeen  Individual         sale      fish  \n",
       "234              Abigail W.         Helston  Individual     adoption   rabbits  \n",
       "296                Caley A.           Truro  Individual     adoption  reptiles  \n",
       "441    Eden Garden Reptiles     Southampton     Breeder         sale  reptiles  \n",
       "...                     ...             ...         ...          ...       ...  \n",
       "46726             Hip Hop B           Leeds     Breeder         sale   rabbits  \n",
       "46846           Mini F Stud           Leeds     Breeder         sale   rabbits  \n",
       "46885           Mini F Stud           Leeds     Breeder         sale   rabbits  \n",
       "46888               Kian R.       Wakefield  Individual         sale   rabbits  \n",
       "46926               Leah G.      Scunthorpe  Individual         sale    horses  \n",
       "\n",
       "[774 rows x 11 columns]"
      ]
     },
     "execution_count": 155,
     "metadata": {},
     "output_type": "execute_result"
    }
   ],
   "source": [
    "df.loc[df['price'] == 0.0]"
   ]
  },
  {
   "cell_type": "code",
   "execution_count": 182,
   "id": "b4fe95ee",
   "metadata": {
    "ExecuteTime": {
     "end_time": "2022-06-10T15:53:26.377503Z",
     "start_time": "2022-06-10T15:53:26.371549Z"
    }
   },
   "outputs": [],
   "source": [
    "def price_plot_hist (data, column):\n",
    "    entries = data[column].unique()\n",
    "    for entry in entries:\n",
    "        plt.figure(figsize=(8,6))\n",
    "        plt.xlabel(entry)\n",
    "        plt.xticks(rotation=90)\n",
    "        sns.distplot(x = data.loc[data[column] == entry].price)\n",
    "        plt.show()"
   ]
  },
  {
   "cell_type": "code",
   "execution_count": 183,
   "id": "f547df84",
   "metadata": {
    "ExecuteTime": {
     "end_time": "2022-06-10T15:53:29.119769Z",
     "start_time": "2022-06-10T15:53:27.083807Z"
    }
   },
   "outputs": [
    {
     "name": "stderr",
     "output_type": "stream",
     "text": [
      "C:\\ProgramData\\Anaconda3\\lib\\site-packages\\seaborn\\distributions.py:2619: FutureWarning: `distplot` is a deprecated function and will be removed in a future version. Please adapt your code to use either `displot` (a figure-level function with similar flexibility) or `histplot` (an axes-level function for histograms).\n",
      "  warnings.warn(msg, FutureWarning)\n"
     ]
    },
    {
     "data": {
      "image/png": "[encoded data removed]",
      "text/plain": [
       "<Figure size 576x432 with 1 Axes>"
      ]
     },
     "metadata": {
      "needs_background": "light"
     },
     "output_type": "display_data"
    },
    {
     "name": "stderr",
     "output_type": "stream",
     "text": [
      "C:\\ProgramData\\Anaconda3\\lib\\site-packages\\seaborn\\distributions.py:2619: FutureWarning: `distplot` is a deprecated function and will be removed in a future version. Please adapt your code to use either `displot` (a figure-level function with similar flexibility) or `histplot` (an axes-level function for histograms).\n",
      "  warnings.warn(msg, FutureWarning)\n"
     ]
    },
    {
     "data": {
      "image/png": "[encoded data removed]",
      "text/plain": [
       "<Figure size 576x432 with 1 Axes>"
      ]
     },
     "metadata": {
      "needs_background": "light"
     },
     "output_type": "display_data"
    },
    {
     "name": "stderr",
     "output_type": "stream",
     "text": [
      "C:\\ProgramData\\Anaconda3\\lib\\site-packages\\seaborn\\distributions.py:2619: FutureWarning: `distplot` is a deprecated function and will be removed in a future version. Please adapt your code to use either `displot` (a figure-level function with similar flexibility) or `histplot` (an axes-level function for histograms).\n",
      "  warnings.warn(msg, FutureWarning)\n"
     ]
    },
    {
     "data": {
      "image/png": "[encoded data removed]",
      "text/plain": [
       "<Figure size 576x432 with 1 Axes>"
      ]
     },
     "metadata": {
      "needs_background": "light"
     },
     "output_type": "display_data"
    },
    {
     "name": "stderr",
     "output_type": "stream",
     "text": [
      "C:\\ProgramData\\Anaconda3\\lib\\site-packages\\seaborn\\distributions.py:2619: FutureWarning: `distplot` is a deprecated function and will be removed in a future version. Please adapt your code to use either `displot` (a figure-level function with similar flexibility) or `histplot` (an axes-level function for histograms).\n",
      "  warnings.warn(msg, FutureWarning)\n"
     ]
    },
    {
     "data": {
      "image/png": "[encoded data removed]",
      "text/plain": [
       "<Figure size 576x432 with 1 Axes>"
      ]
     },
     "metadata": {
      "needs_background": "light"
     },
     "output_type": "display_data"
    },
    {
     "name": "stderr",
     "output_type": "stream",
     "text": [
      "C:\\ProgramData\\Anaconda3\\lib\\site-packages\\seaborn\\distributions.py:2619: FutureWarning: `distplot` is a deprecated function and will be removed in a future version. Please adapt your code to use either `displot` (a figure-level function with similar flexibility) or `histplot` (an axes-level function for histograms).\n",
      "  warnings.warn(msg, FutureWarning)\n"
     ]
    },
    {
     "data": {
      "image/png": "[encoded data removed]",
      "text/plain": [
       "<Figure size 576x432 with 1 Axes>"
      ]
     },
     "metadata": {
      "needs_background": "light"
     },
     "output_type": "display_data"
    },
    {
     "name": "stderr",
     "output_type": "stream",
     "text": [
      "C:\\ProgramData\\Anaconda3\\lib\\site-packages\\seaborn\\distributions.py:2619: FutureWarning: `distplot` is a deprecated function and will be removed in a future version. Please adapt your code to use either `displot` (a figure-level function with similar flexibility) or `histplot` (an axes-level function for histograms).\n",
      "  warnings.warn(msg, FutureWarning)\n"
     ]
    },
    {
     "data": {
      "image/png": "[encoded data removed]",
      "text/plain": [
       "<Figure size 576x432 with 1 Axes>"
      ]
     },
     "metadata": {
      "needs_background": "light"
     },
     "output_type": "display_data"
    },
    {
     "name": "stderr",
     "output_type": "stream",
     "text": [
      "C:\\ProgramData\\Anaconda3\\lib\\site-packages\\seaborn\\distributions.py:2619: FutureWarning: `distplot` is a deprecated function and will be removed in a future version. Please adapt your code to use either `displot` (a figure-level function with similar flexibility) or `histplot` (an axes-level function for histograms).\n",
      "  warnings.warn(msg, FutureWarning)\n"
     ]
    },
    {
     "data": {
      "image/png": "[encoded data removed]",
      "text/plain": [
       "<Figure size 576x432 with 1 Axes>"
      ]
     },
     "metadata": {
      "needs_background": "light"
     },
     "output_type": "display_data"
    },
    {
     "name": "stderr",
     "output_type": "stream",
     "text": [
      "C:\\ProgramData\\Anaconda3\\lib\\site-packages\\seaborn\\distributions.py:2619: FutureWarning: `distplot` is a deprecated function and will be removed in a future version. Please adapt your code to use either `displot` (a figure-level function with similar flexibility) or `histplot` (an axes-level function for histograms).\n",
      "  warnings.warn(msg, FutureWarning)\n"
     ]
    },
    {
     "data": {
      "image/png": "[encoded data removed]",
      "text/plain": [
       "<Figure size 576x432 with 1 Axes>"
      ]
     },
     "metadata": {
      "needs_background": "light"
     },
     "output_type": "display_data"
    },
    {
     "name": "stderr",
     "output_type": "stream",
     "text": [
      "C:\\ProgramData\\Anaconda3\\lib\\site-packages\\seaborn\\distributions.py:2619: FutureWarning: `distplot` is a deprecated function and will be removed in a future version. Please adapt your code to use either `displot` (a figure-level function with similar flexibility) or `histplot` (an axes-level function for histograms).\n",
      "  warnings.warn(msg, FutureWarning)\n"
     ]
    },
    {
     "data": {
      "image/png": "[encoded data removed]",
      "text/plain": [
       "<Figure size 576x432 with 1 Axes>"
      ]
     },
     "metadata": {
      "needs_background": "light"
     },
     "output_type": "display_data"
    },
    {
     "name": "stderr",
     "output_type": "stream",
     "text": [
      "C:\\ProgramData\\Anaconda3\\lib\\site-packages\\seaborn\\distributions.py:2619: FutureWarning: `distplot` is a deprecated function and will be removed in a future version. Please adapt your code to use either `displot` (a figure-level function with similar flexibility) or `histplot` (an axes-level function for histograms).\n",
      "  warnings.warn(msg, FutureWarning)\n"
     ]
    },
    {
     "data": {
      "image/png": "[encoded data removed]",
      "text/plain": [
       "<Figure size 576x432 with 1 Axes>"
      ]
     },
     "metadata": {
      "needs_background": "light"
     },
     "output_type": "display_data"
    },
    {
     "name": "stderr",
     "output_type": "stream",
     "text": [
      "C:\\ProgramData\\Anaconda3\\lib\\site-packages\\seaborn\\distributions.py:2619: FutureWarning: `distplot` is a deprecated function and will be removed in a future version. Please adapt your code to use either `displot` (a figure-level function with similar flexibility) or `histplot` (an axes-level function for histograms).\n",
      "  warnings.warn(msg, FutureWarning)\n"
     ]
    },
    {
     "data": {
      "image/png": "[encoded data removed]",
      "text/plain": [
       "<Figure size 576x432 with 1 Axes>"
      ]
     },
     "metadata": {
      "needs_background": "light"
     },
     "output_type": "display_data"
    }
   ],
   "source": [
    "price_plot_hist (df,'pet_type')"
   ]
  },
  {
   "cell_type": "code",
   "execution_count": 185,
   "id": "8827cf5c",
   "metadata": {
    "ExecuteTime": {
     "end_time": "2022-06-10T15:53:57.737701Z",
     "start_time": "2022-06-10T15:53:57.718753Z"
    }
   },
   "outputs": [],
   "source": [
    "def price_plot_box (data, column):\n",
    "    entries = data[column].unique()\n",
    "    for entry in entries:\n",
    "        plt.figure(figsize=(8,6))\n",
    "        plt.xticks(rotation=90)\n",
    "        sns.boxplot(x = data.loc[data[column] == entry].price).set_title(entry)\n",
    "        plt.show()"
   ]
  },
  {
   "cell_type": "code",
   "execution_count": 186,
   "id": "6f85c602",
   "metadata": {
    "ExecuteTime": {
     "end_time": "2022-06-10T15:53:59.066048Z",
     "start_time": "2022-06-10T15:53:58.222765Z"
    }
   },
   "outputs": [
    {
     "data": {
      "image/png": "[encoded data removed]",
      "text/plain": [
       "<Figure size 576x432 with 1 Axes>"
      ]
     },
     "metadata": {
      "needs_background": "light"
     },
     "output_type": "display_data"
    },
    {
     "data": {
      "image/png": "[encoded data removed]",
      "text/plain": [
       "<Figure size 576x432 with 1 Axes>"
      ]
     },
     "metadata": {
      "needs_background": "light"
     },
     "output_type": "display_data"
    },
    {
     "data": {
      "image/png": "[encoded data removed]",
      "text/plain": [
       "<Figure size 576x432 with 1 Axes>"
      ]
     },
     "metadata": {
      "needs_background": "light"
     },
     "output_type": "display_data"
    },
    {
     "data": {
      "image/png": "[encoded data removed]",
      "text/plain": [
       "<Figure size 576x432 with 1 Axes>"
      ]
     },
     "metadata": {
      "needs_background": "light"
     },
     "output_type": "display_data"
    },
    {
     "data": {
      "image/png": "[encoded data removed]",
      "text/plain": [
       "<Figure size 576x432 with 1 Axes>"
      ]
     },
     "metadata": {
      "needs_background": "light"
     },
     "output_type": "display_data"
    },
    {
     "data": {
      "image/png": "[encoded data removed]",
      "text/plain": [
       "<Figure size 576x432 with 1 Axes>"
      ]
     },
     "metadata": {
      "needs_background": "light"
     },
     "output_type": "display_data"
    },
    {
     "data": {
      "image/png": "[encoded data removed]",
      "text/plain": [
       "<Figure size 576x432 with 1 Axes>"
      ]
     },
     "metadata": {
      "needs_background": "light"
     },
     "output_type": "display_data"
    },
    {
     "data": {
      "image/png": "[encoded data removed]",
      "text/plain": [
       "<Figure size 576x432 with 1 Axes>"
      ]
     },
     "metadata": {
      "needs_background": "light"
     },
     "output_type": "display_data"
    },
    {
     "data": {
      "image/png": "[encoded data removed]",
      "text/plain": [
       "<Figure size 576x432 with 1 Axes>"
      ]
     },
     "metadata": {
      "needs_background": "light"
     },
     "output_type": "display_data"
    },
    {
     "data": {
      "image/png": "[encoded data removed]",
      "text/plain": [
       "<Figure size 576x432 with 1 Axes>"
      ]
     },
     "metadata": {
      "needs_background": "light"
     },
     "output_type": "display_data"
    },
    {
     "data": {
      "image/png": "[encoded data removed]",
      "text/plain": [
       "<Figure size 576x432 with 1 Axes>"
      ]
     },
     "metadata": {
      "needs_background": "light"
     },
     "output_type": "display_data"
    }
   ],
   "source": [
    "price_plot_box (df,'pet_type')"
   ]
  },
  {
   "cell_type": "code",
   "execution_count": 190,
   "id": "baba0ded",
   "metadata": {
    "ExecuteTime": {
     "end_time": "2022-06-10T15:57:58.181677Z",
     "start_time": "2022-06-10T15:57:58.083912Z"
    }
   },
   "outputs": [
    {
     "data": {
      "text/plain": [
       "<AxesSubplot:ylabel='Density'>"
      ]
     },
     "execution_count": 190,
     "metadata": {},
     "output_type": "execute_result"
    },
    {
     "data": {
      "image/png": "[encoded data removed]",
      "text/plain": [
       "<Figure size 432x288 with 1 Axes>"
      ]
     },
     "metadata": {
      "needs_background": "light"
     },
     "output_type": "display_data"
    }
   ],
   "source": [
    "sns.distplot(x = df['gender'].value_counts())"
   ]
  },
  {
   "cell_type": "code",
   "execution_count": 188,
   "id": "26daf483",
   "metadata": {
    "ExecuteTime": {
     "end_time": "2022-06-10T15:54:47.013008Z",
     "start_time": "2022-06-10T15:54:46.535717Z"
    }
   },
   "outputs": [
    {
     "name": "stderr",
     "output_type": "stream",
     "text": [
      "C:\\ProgramData\\Anaconda3\\lib\\site-packages\\seaborn\\distributions.py:2619: FutureWarning: `distplot` is a deprecated function and will be removed in a future version. Please adapt your code to use either `displot` (a figure-level function with similar flexibility) or `histplot` (an axes-level function for histograms).\n",
      "  warnings.warn(msg, FutureWarning)\n"
     ]
    },
    {
     "data": {
      "image/png": "[encoded data removed]",
      "text/plain": [
       "<Figure size 576x432 with 1 Axes>"
      ]
     },
     "metadata": {
      "needs_background": "light"
     },
     "output_type": "display_data"
    }
   ],
   "source": []
  },
  {
   "cell_type": "markdown",
   "id": "09c27071",
   "metadata": {
    "ExecuteTime": {
     "end_time": "2022-06-10T08:56:41.316435Z",
     "start_time": "2022-06-10T08:56:41.204714Z"
    }
   },
   "source": [
    "From this alone, we can see that there's outliers need to be removed. But first, let us separate the listing by listing type."
   ]
  },
  {
   "cell_type": "code",
   "execution_count": 158,
   "id": "599cda91",
   "metadata": {
    "ExecuteTime": {
     "end_time": "2022-06-10T15:28:59.534045Z",
     "start_time": "2022-06-10T15:28:59.519056Z"
    }
   },
   "outputs": [
    {
     "data": {
      "text/plain": [
       "sale        39097\n",
       "stud         7668\n",
       "adoption     2016\n",
       "Name: listing_type, dtype: int64"
      ]
     },
     "execution_count": 158,
     "metadata": {},
     "output_type": "execute_result"
    }
   ],
   "source": [
    "df['listing_type'].value_counts()"
   ]
  },
  {
   "cell_type": "code",
   "execution_count": 159,
   "id": "447c8d11",
   "metadata": {
    "ExecuteTime": {
     "end_time": "2022-06-10T15:28:59.548977Z",
     "start_time": "2022-06-10T15:28:59.535014Z"
    }
   },
   "outputs": [],
   "source": [
    "sale = df.loc[df['listing_type'] == 'sale']"
   ]
  },
  {
   "cell_type": "code",
   "execution_count": 160,
   "id": "e5acb7e5",
   "metadata": {
    "ExecuteTime": {
     "end_time": "2022-06-10T15:29:01.565568Z",
     "start_time": "2022-06-10T15:28:59.549974Z"
    }
   },
   "outputs": [
    {
     "name": "stderr",
     "output_type": "stream",
     "text": [
      "C:\\ProgramData\\Anaconda3\\lib\\site-packages\\seaborn\\distributions.py:2619: FutureWarning: `distplot` is a deprecated function and will be removed in a future version. Please adapt your code to use either `displot` (a figure-level function with similar flexibility) or `histplot` (an axes-level function for histograms).\n",
      "  warnings.warn(msg, FutureWarning)\n"
     ]
    },
    {
     "data": {
      "image/png": "[encoded data removed]",
      "text/plain": [
       "<Figure size 576x432 with 1 Axes>"
      ]
     },
     "metadata": {
      "needs_background": "light"
     },
     "output_type": "display_data"
    },
    {
     "name": "stderr",
     "output_type": "stream",
     "text": [
      "C:\\ProgramData\\Anaconda3\\lib\\site-packages\\seaborn\\distributions.py:2619: FutureWarning: `distplot` is a deprecated function and will be removed in a future version. Please adapt your code to use either `displot` (a figure-level function with similar flexibility) or `histplot` (an axes-level function for histograms).\n",
      "  warnings.warn(msg, FutureWarning)\n"
     ]
    },
    {
     "data": {
      "image/png": "[encoded data removed]",
      "text/plain": [
       "<Figure size 576x432 with 1 Axes>"
      ]
     },
     "metadata": {
      "needs_background": "light"
     },
     "output_type": "display_data"
    },
    {
     "name": "stderr",
     "output_type": "stream",
     "text": [
      "C:\\ProgramData\\Anaconda3\\lib\\site-packages\\seaborn\\distributions.py:2619: FutureWarning: `distplot` is a deprecated function and will be removed in a future version. Please adapt your code to use either `displot` (a figure-level function with similar flexibility) or `histplot` (an axes-level function for histograms).\n",
      "  warnings.warn(msg, FutureWarning)\n"
     ]
    },
    {
     "data": {
      "image/png": "[encoded data removed]",
      "text/plain": [
       "<Figure size 576x432 with 1 Axes>"
      ]
     },
     "metadata": {
      "needs_background": "light"
     },
     "output_type": "display_data"
    },
    {
     "name": "stderr",
     "output_type": "stream",
     "text": [
      "C:\\ProgramData\\Anaconda3\\lib\\site-packages\\seaborn\\distributions.py:2619: FutureWarning: `distplot` is a deprecated function and will be removed in a future version. Please adapt your code to use either `displot` (a figure-level function with similar flexibility) or `histplot` (an axes-level function for histograms).\n",
      "  warnings.warn(msg, FutureWarning)\n"
     ]
    },
    {
     "data": {
      "image/png": "[encoded data removed]",
      "text/plain": [
       "<Figure size 576x432 with 1 Axes>"
      ]
     },
     "metadata": {
      "needs_background": "light"
     },
     "output_type": "display_data"
    },
    {
     "name": "stderr",
     "output_type": "stream",
     "text": [
      "C:\\ProgramData\\Anaconda3\\lib\\site-packages\\seaborn\\distributions.py:2619: FutureWarning: `distplot` is a deprecated function and will be removed in a future version. Please adapt your code to use either `displot` (a figure-level function with similar flexibility) or `histplot` (an axes-level function for histograms).\n",
      "  warnings.warn(msg, FutureWarning)\n"
     ]
    },
    {
     "data": {
      "image/png": "[encoded data removed]",
      "text/plain": [
       "<Figure size 576x432 with 1 Axes>"
      ]
     },
     "metadata": {
      "needs_background": "light"
     },
     "output_type": "display_data"
    },
    {
     "name": "stderr",
     "output_type": "stream",
     "text": [
      "C:\\ProgramData\\Anaconda3\\lib\\site-packages\\seaborn\\distributions.py:2619: FutureWarning: `distplot` is a deprecated function and will be removed in a future version. Please adapt your code to use either `displot` (a figure-level function with similar flexibility) or `histplot` (an axes-level function for histograms).\n",
      "  warnings.warn(msg, FutureWarning)\n"
     ]
    },
    {
     "data": {
      "image/png": "[encoded data removed]",
      "text/plain": [
       "<Figure size 576x432 with 1 Axes>"
      ]
     },
     "metadata": {
      "needs_background": "light"
     },
     "output_type": "display_data"
    },
    {
     "name": "stderr",
     "output_type": "stream",
     "text": [
      "C:\\ProgramData\\Anaconda3\\lib\\site-packages\\seaborn\\distributions.py:2619: FutureWarning: `distplot` is a deprecated function and will be removed in a future version. Please adapt your code to use either `displot` (a figure-level function with similar flexibility) or `histplot` (an axes-level function for histograms).\n",
      "  warnings.warn(msg, FutureWarning)\n"
     ]
    },
    {
     "data": {
      "image/png": "[encoded data removed]",
      "text/plain": [
       "<Figure size 576x432 with 1 Axes>"
      ]
     },
     "metadata": {
      "needs_background": "light"
     },
     "output_type": "display_data"
    },
    {
     "name": "stderr",
     "output_type": "stream",
     "text": [
      "C:\\ProgramData\\Anaconda3\\lib\\site-packages\\seaborn\\distributions.py:2619: FutureWarning: `distplot` is a deprecated function and will be removed in a future version. Please adapt your code to use either `displot` (a figure-level function with similar flexibility) or `histplot` (an axes-level function for histograms).\n",
      "  warnings.warn(msg, FutureWarning)\n"
     ]
    },
    {
     "data": {
      "image/png": "[encoded data removed]",
      "text/plain": [
       "<Figure size 576x432 with 1 Axes>"
      ]
     },
     "metadata": {
      "needs_background": "light"
     },
     "output_type": "display_data"
    },
    {
     "name": "stderr",
     "output_type": "stream",
     "text": [
      "C:\\ProgramData\\Anaconda3\\lib\\site-packages\\seaborn\\distributions.py:2619: FutureWarning: `distplot` is a deprecated function and will be removed in a future version. Please adapt your code to use either `displot` (a figure-level function with similar flexibility) or `histplot` (an axes-level function for histograms).\n",
      "  warnings.warn(msg, FutureWarning)\n"
     ]
    },
    {
     "data": {
      "image/png": "[encoded data removed]",
      "text/plain": [
       "<Figure size 576x432 with 1 Axes>"
      ]
     },
     "metadata": {
      "needs_background": "light"
     },
     "output_type": "display_data"
    },
    {
     "name": "stderr",
     "output_type": "stream",
     "text": [
      "C:\\ProgramData\\Anaconda3\\lib\\site-packages\\seaborn\\distributions.py:2619: FutureWarning: `distplot` is a deprecated function and will be removed in a future version. Please adapt your code to use either `displot` (a figure-level function with similar flexibility) or `histplot` (an axes-level function for histograms).\n",
      "  warnings.warn(msg, FutureWarning)\n"
     ]
    },
    {
     "data": {
      "image/png": "[encoded data removed]",
      "text/plain": [
       "<Figure size 576x432 with 1 Axes>"
      ]
     },
     "metadata": {
      "needs_background": "light"
     },
     "output_type": "display_data"
    },
    {
     "name": "stderr",
     "output_type": "stream",
     "text": [
      "C:\\ProgramData\\Anaconda3\\lib\\site-packages\\seaborn\\distributions.py:2619: FutureWarning: `distplot` is a deprecated function and will be removed in a future version. Please adapt your code to use either `displot` (a figure-level function with similar flexibility) or `histplot` (an axes-level function for histograms).\n",
      "  warnings.warn(msg, FutureWarning)\n"
     ]
    },
    {
     "data": {
      "image/png": "[encoded data removed]",
      "text/plain": [
       "<Figure size 576x432 with 1 Axes>"
      ]
     },
     "metadata": {
      "needs_background": "light"
     },
     "output_type": "display_data"
    }
   ],
   "source": [
    "histogram (sale,'pet_type')"
   ]
  },
  {
   "cell_type": "code",
   "execution_count": 161,
   "id": "14f58205",
   "metadata": {
    "ExecuteTime": {
     "end_time": "2022-06-10T15:29:01.581522Z",
     "start_time": "2022-06-10T15:29:01.566531Z"
    }
   },
   "outputs": [
    {
     "data": {
      "text/html": [
       "<div>\n",
       "<style scoped>\n",
       "    .dataframe tbody tr th:only-of-type {\n",
       "        vertical-align: middle;\n",
       "    }\n",
       "\n",
       "    .dataframe tbody tr th {\n",
       "        vertical-align: top;\n",
       "    }\n",
       "\n",
       "    .dataframe thead th {\n",
       "        text-align: right;\n",
       "    }\n",
       "</style>\n",
       "<table border=\"1\" class=\"dataframe\">\n",
       "  <thead>\n",
       "    <tr style=\"text-align: right;\">\n",
       "      <th></th>\n",
       "      <th>price</th>\n",
       "    </tr>\n",
       "  </thead>\n",
       "  <tbody>\n",
       "    <tr>\n",
       "      <th>count</th>\n",
       "      <td>3.909700e+04</td>\n",
       "    </tr>\n",
       "    <tr>\n",
       "      <th>mean</th>\n",
       "      <td>1.495378e+03</td>\n",
       "    </tr>\n",
       "    <tr>\n",
       "      <th>std</th>\n",
       "      <td>7.571737e+04</td>\n",
       "    </tr>\n",
       "    <tr>\n",
       "      <th>min</th>\n",
       "      <td>0.000000e+00</td>\n",
       "    </tr>\n",
       "    <tr>\n",
       "      <th>25%</th>\n",
       "      <td>7.000000e+01</td>\n",
       "    </tr>\n",
       "    <tr>\n",
       "      <th>50%</th>\n",
       "      <td>5.000000e+02</td>\n",
       "    </tr>\n",
       "    <tr>\n",
       "      <th>75%</th>\n",
       "      <td>1.100000e+03</td>\n",
       "    </tr>\n",
       "    <tr>\n",
       "      <th>max</th>\n",
       "      <td>9.999999e+06</td>\n",
       "    </tr>\n",
       "  </tbody>\n",
       "</table>\n",
       "</div>"
      ],
      "text/plain": [
       "              price\n",
       "count  3.909700e+04\n",
       "mean   1.495378e+03\n",
       "std    7.571737e+04\n",
       "min    0.000000e+00\n",
       "25%    7.000000e+01\n",
       "50%    5.000000e+02\n",
       "75%    1.100000e+03\n",
       "max    9.999999e+06"
      ]
     },
     "execution_count": 161,
     "metadata": {},
     "output_type": "execute_result"
    }
   ],
   "source": [
    "sale.describe()"
   ]
  },
  {
   "cell_type": "markdown",
   "id": "f6c5ded5",
   "metadata": {},
   "source": [
    "Let us take a look at 0.0 sale price"
   ]
  },
  {
   "cell_type": "code",
   "execution_count": 162,
   "id": "b36ad1dd",
   "metadata": {
    "ExecuteTime": {
     "end_time": "2022-06-10T15:29:01.597449Z",
     "start_time": "2022-06-10T15:29:01.582488Z"
    }
   },
   "outputs": [
    {
     "data": {
      "text/html": [
       "<div>\n",
       "<style scoped>\n",
       "    .dataframe tbody tr th:only-of-type {\n",
       "        vertical-align: middle;\n",
       "    }\n",
       "\n",
       "    .dataframe tbody tr th {\n",
       "        vertical-align: top;\n",
       "    }\n",
       "\n",
       "    .dataframe thead th {\n",
       "        text-align: right;\n",
       "    }\n",
       "</style>\n",
       "<table border=\"1\" class=\"dataframe\">\n",
       "  <thead>\n",
       "    <tr style=\"text-align: right;\">\n",
       "      <th></th>\n",
       "      <th>Title</th>\n",
       "      <th>price</th>\n",
       "      <th>species</th>\n",
       "      <th>age</th>\n",
       "      <th>gender</th>\n",
       "      <th>description</th>\n",
       "      <th>seller_name</th>\n",
       "      <th>seller_location</th>\n",
       "      <th>seller_type</th>\n",
       "      <th>listing_type</th>\n",
       "      <th>pet_type</th>\n",
       "    </tr>\n",
       "  </thead>\n",
       "  <tbody>\n",
       "    <tr>\n",
       "      <th>32</th>\n",
       "      <td>African Cichlids bundle</td>\n",
       "      <td>0.0</td>\n",
       "      <td>Cichlids</td>\n",
       "      <td>1 year</td>\n",
       "      <td>unknown</td>\n",
       "      <td>hi, I have got around 19 African cichlids look...</td>\n",
       "      <td>Margaret B</td>\n",
       "      <td>Peterculter</td>\n",
       "      <td>Breeder</td>\n",
       "      <td>sale</td>\n",
       "      <td>fish</td>\n",
       "    </tr>\n",
       "    <tr>\n",
       "      <th>33</th>\n",
       "      <td>Guppies for sale</td>\n",
       "      <td>0.0</td>\n",
       "      <td>Other/Mixed Breed</td>\n",
       "      <td>12 weeks</td>\n",
       "      <td>unknown</td>\n",
       "      <td>2 1/2 months old mixed guppies for sale:  make...</td>\n",
       "      <td>Anil G.</td>\n",
       "      <td>Aberdeen</td>\n",
       "      <td>Individual</td>\n",
       "      <td>sale</td>\n",
       "      <td>fish</td>\n",
       "    </tr>\n",
       "    <tr>\n",
       "      <th>441</th>\n",
       "      <td>Full list baby ball python CB21</td>\n",
       "      <td>0.0</td>\n",
       "      <td>Python Snake</td>\n",
       "      <td>1 year</td>\n",
       "      <td>Mixed</td>\n",
       "      <td>Passione breeder based in Southampton, here to...</td>\n",
       "      <td>Eden Garden Reptiles</td>\n",
       "      <td>Southampton</td>\n",
       "      <td>Breeder</td>\n",
       "      <td>sale</td>\n",
       "      <td>reptiles</td>\n",
       "    </tr>\n",
       "    <tr>\n",
       "      <th>521</th>\n",
       "      <td>3 x Clawed frogs wild type,3 males I believe,</td>\n",
       "      <td>0.0</td>\n",
       "      <td>Other/Mixed Breed</td>\n",
       "      <td>2 weeks</td>\n",
       "      <td>unknown</td>\n",
       "      <td>Reducing the number that I have as the tank is...</td>\n",
       "      <td>Jacqueline s.</td>\n",
       "      <td>Bournemouth</td>\n",
       "      <td>Individual</td>\n",
       "      <td>sale</td>\n",
       "      <td>fish</td>\n",
       "    </tr>\n",
       "    <tr>\n",
       "      <th>561</th>\n",
       "      <td>Cockbirds pure bantams free to good homes</td>\n",
       "      <td>0.0</td>\n",
       "      <td>Chickens</td>\n",
       "      <td>8 months</td>\n",
       "      <td>Male</td>\n",
       "      <td>One silver marble colour one shiny black lovel...</td>\n",
       "      <td>Carli</td>\n",
       "      <td>Bournemouth</td>\n",
       "      <td>Breeder</td>\n",
       "      <td>sale</td>\n",
       "      <td>poultry</td>\n",
       "    </tr>\n",
       "    <tr>\n",
       "      <th>...</th>\n",
       "      <td>...</td>\n",
       "      <td>...</td>\n",
       "      <td>...</td>\n",
       "      <td>...</td>\n",
       "      <td>...</td>\n",
       "      <td>...</td>\n",
       "      <td>...</td>\n",
       "      <td>...</td>\n",
       "      <td>...</td>\n",
       "      <td>...</td>\n",
       "      <td>...</td>\n",
       "    </tr>\n",
       "    <tr>\n",
       "      <th>46726</th>\n",
       "      <td>chocolate seal point female mini lop</td>\n",
       "      <td>0.0</td>\n",
       "      <td>Mini Lop</td>\n",
       "      <td>1 year</td>\n",
       "      <td>Female</td>\n",
       "      <td>daisy ❤️ chocolate seal point pure bred mini l...</td>\n",
       "      <td>Hip Hop B</td>\n",
       "      <td>Leeds</td>\n",
       "      <td>Breeder</td>\n",
       "      <td>sale</td>\n",
       "      <td>rabbits</td>\n",
       "    </tr>\n",
       "    <tr>\n",
       "      <th>46846</th>\n",
       "      <td>BABY BLUE HOLICER RABBITS</td>\n",
       "      <td>0.0</td>\n",
       "      <td>Mixed Breed</td>\n",
       "      <td>6 months</td>\n",
       "      <td>Male</td>\n",
       "      <td>Iv had to put these babies under mixed breed a...</td>\n",
       "      <td>Mini F Stud</td>\n",
       "      <td>Leeds</td>\n",
       "      <td>Breeder</td>\n",
       "      <td>sale</td>\n",
       "      <td>rabbits</td>\n",
       "    </tr>\n",
       "    <tr>\n",
       "      <th>46885</th>\n",
       "      <td>RARE BABY HOLICER BABIES - READ DESCRIPTION</td>\n",
       "      <td>0.0</td>\n",
       "      <td>Continental Giant</td>\n",
       "      <td>14 weeks</td>\n",
       "      <td>Mixed</td>\n",
       "      <td>- I have put them into the continental giant c...</td>\n",
       "      <td>Mini F Stud</td>\n",
       "      <td>Leeds</td>\n",
       "      <td>Breeder</td>\n",
       "      <td>sale</td>\n",
       "      <td>rabbits</td>\n",
       "    </tr>\n",
       "    <tr>\n",
       "      <th>46888</th>\n",
       "      <td>Rabbits for sale</td>\n",
       "      <td>0.0</td>\n",
       "      <td>English Lop</td>\n",
       "      <td>15 weeks</td>\n",
       "      <td>Mixed</td>\n",
       "      <td>We have 5 beautiful rabbits for sale,they are ...</td>\n",
       "      <td>Kian R.</td>\n",
       "      <td>Wakefield</td>\n",
       "      <td>Individual</td>\n",
       "      <td>sale</td>\n",
       "      <td>rabbits</td>\n",
       "    </tr>\n",
       "    <tr>\n",
       "      <th>46926</th>\n",
       "      <td>1 year old to make 15.2+</td>\n",
       "      <td>0.0</td>\n",
       "      <td>Welsh Section D</td>\n",
       "      <td>2021</td>\n",
       "      <td>Gelding</td>\n",
       "      <td>Not something I was planning on writing any ti...</td>\n",
       "      <td>Leah G.</td>\n",
       "      <td>Scunthorpe</td>\n",
       "      <td>Individual</td>\n",
       "      <td>sale</td>\n",
       "      <td>horses</td>\n",
       "    </tr>\n",
       "  </tbody>\n",
       "</table>\n",
       "<p>437 rows × 11 columns</p>\n",
       "</div>"
      ],
      "text/plain": [
       "                                               Title  price  \\\n",
       "32                           African Cichlids bundle    0.0   \n",
       "33                                  Guppies for sale    0.0   \n",
       "441                  Full list baby ball python CB21    0.0   \n",
       "521    3 x Clawed frogs wild type,3 males I believe,    0.0   \n",
       "561       Cockbirds pure bantams free to good homes     0.0   \n",
       "...                                              ...    ...   \n",
       "46726           chocolate seal point female mini lop    0.0   \n",
       "46846                      BABY BLUE HOLICER RABBITS    0.0   \n",
       "46885    RARE BABY HOLICER BABIES - READ DESCRIPTION    0.0   \n",
       "46888                               Rabbits for sale    0.0   \n",
       "46926                       1 year old to make 15.2+    0.0   \n",
       "\n",
       "                 species       age   gender  \\\n",
       "32              Cichlids    1 year  unknown   \n",
       "33     Other/Mixed Breed  12 weeks  unknown   \n",
       "441         Python Snake    1 year    Mixed   \n",
       "521    Other/Mixed Breed   2 weeks  unknown   \n",
       "561             Chickens  8 months     Male   \n",
       "...                  ...       ...      ...   \n",
       "46726           Mini Lop    1 year   Female   \n",
       "46846        Mixed Breed  6 months     Male   \n",
       "46885  Continental Giant  14 weeks    Mixed   \n",
       "46888        English Lop  15 weeks    Mixed   \n",
       "46926    Welsh Section D      2021  Gelding   \n",
       "\n",
       "                                             description  \\\n",
       "32     hi, I have got around 19 African cichlids look...   \n",
       "33     2 1/2 months old mixed guppies for sale:  make...   \n",
       "441    Passione breeder based in Southampton, here to...   \n",
       "521    Reducing the number that I have as the tank is...   \n",
       "561    One silver marble colour one shiny black lovel...   \n",
       "...                                                  ...   \n",
       "46726  daisy ❤️ chocolate seal point pure bred mini l...   \n",
       "46846  Iv had to put these babies under mixed breed a...   \n",
       "46885  - I have put them into the continental giant c...   \n",
       "46888  We have 5 beautiful rabbits for sale,they are ...   \n",
       "46926  Not something I was planning on writing any ti...   \n",
       "\n",
       "                seller_name seller_location seller_type listing_type  pet_type  \n",
       "32               Margaret B     Peterculter     Breeder         sale      fish  \n",
       "33                  Anil G.        Aberdeen  Individual         sale      fish  \n",
       "441    Eden Garden Reptiles     Southampton     Breeder         sale  reptiles  \n",
       "521           Jacqueline s.     Bournemouth  Individual         sale      fish  \n",
       "561                   Carli     Bournemouth     Breeder         sale   poultry  \n",
       "...                     ...             ...         ...          ...       ...  \n",
       "46726             Hip Hop B           Leeds     Breeder         sale   rabbits  \n",
       "46846           Mini F Stud           Leeds     Breeder         sale   rabbits  \n",
       "46885           Mini F Stud           Leeds     Breeder         sale   rabbits  \n",
       "46888               Kian R.       Wakefield  Individual         sale   rabbits  \n",
       "46926               Leah G.      Scunthorpe  Individual         sale    horses  \n",
       "\n",
       "[437 rows x 11 columns]"
      ]
     },
     "execution_count": 162,
     "metadata": {},
     "output_type": "execute_result"
    }
   ],
   "source": [
    "sale.loc[sale['price'] == 0 ]"
   ]
  },
  {
   "cell_type": "markdown",
   "id": "a65e393b",
   "metadata": {},
   "source": [
    "It's less than 2% of our data, how about the outliers?"
   ]
  },
  {
   "cell_type": "code",
   "execution_count": 163,
   "id": "b0cdcae7",
   "metadata": {
    "ExecuteTime": {
     "end_time": "2022-06-10T15:29:02.369548Z",
     "start_time": "2022-06-10T15:29:02.339627Z"
    }
   },
   "outputs": [
    {
     "data": {
      "text/html": [
       "<div>\n",
       "<style scoped>\n",
       "    .dataframe tbody tr th:only-of-type {\n",
       "        vertical-align: middle;\n",
       "    }\n",
       "\n",
       "    .dataframe tbody tr th {\n",
       "        vertical-align: top;\n",
       "    }\n",
       "\n",
       "    .dataframe thead th {\n",
       "        text-align: right;\n",
       "    }\n",
       "</style>\n",
       "<table border=\"1\" class=\"dataframe\">\n",
       "  <thead>\n",
       "    <tr style=\"text-align: right;\">\n",
       "      <th></th>\n",
       "      <th>Title</th>\n",
       "      <th>price</th>\n",
       "      <th>species</th>\n",
       "      <th>age</th>\n",
       "      <th>gender</th>\n",
       "      <th>description</th>\n",
       "      <th>seller_name</th>\n",
       "      <th>seller_location</th>\n",
       "      <th>seller_type</th>\n",
       "      <th>listing_type</th>\n",
       "      <th>pet_type</th>\n",
       "    </tr>\n",
       "  </thead>\n",
       "  <tbody>\n",
       "    <tr>\n",
       "      <th>9625</th>\n",
       "      <td>2 male Chihuahua puppies for sale</td>\n",
       "      <td>9999999.0</td>\n",
       "      <td>Chihuahua</td>\n",
       "      <td>9 weeks</td>\n",
       "      <td>Male</td>\n",
       "      <td>Here we have two beautiful stunning chihuahua ...</td>\n",
       "      <td>Danielle E.</td>\n",
       "      <td>Kidderminster</td>\n",
       "      <td>Individual</td>\n",
       "      <td>sale</td>\n",
       "      <td>dogs</td>\n",
       "    </tr>\n",
       "    <tr>\n",
       "      <th>1530</th>\n",
       "      <td>Working Cocker spaniel dog pup</td>\n",
       "      <td>9999999.0</td>\n",
       "      <td>Cocker Spaniel</td>\n",
       "      <td>12 weeks</td>\n",
       "      <td>Male</td>\n",
       "      <td>One Liver Working cocker spaniel dog pup for s...</td>\n",
       "      <td>Joanne b.</td>\n",
       "      <td>Lymington</td>\n",
       "      <td>Licensed Breeder</td>\n",
       "      <td>sale</td>\n",
       "      <td>dogs</td>\n",
       "    </tr>\n",
       "    <tr>\n",
       "      <th>28646</th>\n",
       "      <td>OUTSTANDING 53 CHAMPS IN 5G BL</td>\n",
       "      <td>3333333.0</td>\n",
       "      <td>Cocker Spaniel</td>\n",
       "      <td>1 week</td>\n",
       "      <td>unknown</td>\n",
       "      <td>THE BEST IN BREED are here 🤗    SIRE is KC - s...</td>\n",
       "      <td>Sarah sherman s.</td>\n",
       "      <td>Stoke-on-Trent</td>\n",
       "      <td>Individual</td>\n",
       "      <td>sale</td>\n",
       "      <td>dogs</td>\n",
       "    </tr>\n",
       "    <tr>\n",
       "      <th>42999</th>\n",
       "      <td>OUTSTANDING 53 CHAMPS IN 5G BL</td>\n",
       "      <td>3333333.0</td>\n",
       "      <td>Cocker Spaniel</td>\n",
       "      <td>1 week</td>\n",
       "      <td>unknown</td>\n",
       "      <td>THE BEST IN BREED are here 🤗  SIRE is KC - slo...</td>\n",
       "      <td>Sarah sherman s.</td>\n",
       "      <td>Stoke-on-Trent</td>\n",
       "      <td>Individual</td>\n",
       "      <td>sale</td>\n",
       "      <td>dogs</td>\n",
       "    </tr>\n",
       "    <tr>\n",
       "      <th>17105</th>\n",
       "      <td>❌••L4 FLUFFY CARRIERS••❌Coco girl❌</td>\n",
       "      <td>987654.0</td>\n",
       "      <td>French Bulldog</td>\n",
       "      <td>14 weeks</td>\n",
       "      <td>Mixed</td>\n",
       "      <td>❤️Beautiful pups from our blue girl❤️ Romeo ...</td>\n",
       "      <td>JACQUELINE I.</td>\n",
       "      <td>Hailsham</td>\n",
       "      <td>Individual</td>\n",
       "      <td>sale</td>\n",
       "      <td>dogs</td>\n",
       "    </tr>\n",
       "    <tr>\n",
       "      <th>2821</th>\n",
       "      <td>Stolen coco</td>\n",
       "      <td>888888.0</td>\n",
       "      <td>Bengal</td>\n",
       "      <td>2 years</td>\n",
       "      <td>unknown</td>\n",
       "      <td>Good morning we haven't seen coco since 15th F...</td>\n",
       "      <td>Nic I.</td>\n",
       "      <td>Stonehouse</td>\n",
       "      <td>Individual</td>\n",
       "      <td>sale</td>\n",
       "      <td>cats</td>\n",
       "    </tr>\n",
       "    <tr>\n",
       "      <th>23757</th>\n",
       "      <td>ragdoll cross</td>\n",
       "      <td>150350.0</td>\n",
       "      <td>Ragdoll</td>\n",
       "      <td>10 weeks</td>\n",
       "      <td>Mixed</td>\n",
       "      <td>5 stunning ragdoll cross kittens, 3 girls 2 bo...</td>\n",
       "      <td>Layna L.</td>\n",
       "      <td>Runcorn</td>\n",
       "      <td>Breeder</td>\n",
       "      <td>sale</td>\n",
       "      <td>cats</td>\n",
       "    </tr>\n",
       "    <tr>\n",
       "      <th>4943</th>\n",
       "      <td>LOVELY BLACK GIRL TICA REG NO SILLY OFFERS PLEASE</td>\n",
       "      <td>123654.0</td>\n",
       "      <td>Sphynx</td>\n",
       "      <td>1 year</td>\n",
       "      <td>unknown</td>\n",
       "      <td>Hi. We have for sale our beautiful girl that w...</td>\n",
       "      <td>Arkadiusz B.</td>\n",
       "      <td>Sandy</td>\n",
       "      <td>Individual</td>\n",
       "      <td>sale</td>\n",
       "      <td>cats</td>\n",
       "    </tr>\n",
       "    <tr>\n",
       "      <th>26635</th>\n",
       "      <td>XL BULLY girls and boys avalable</td>\n",
       "      <td>123456.0</td>\n",
       "      <td>American Bully</td>\n",
       "      <td>4 weeks</td>\n",
       "      <td>Mixed</td>\n",
       "      <td>here we have a 1 of litter of xl bullys full A...</td>\n",
       "      <td>Jake D.</td>\n",
       "      <td>Redditch</td>\n",
       "      <td>Individual</td>\n",
       "      <td>sale</td>\n",
       "      <td>dogs</td>\n",
       "    </tr>\n",
       "    <tr>\n",
       "      <th>38315</th>\n",
       "      <td>Various Tarantulas For Sale</td>\n",
       "      <td>123456.0</td>\n",
       "      <td>Tarantulas</td>\n",
       "      <td>1 year</td>\n",
       "      <td>Mixed</td>\n",
       "      <td>SLINGS  0.0.8 Caribena Veriscolor 1-2cm £20  0...</td>\n",
       "      <td>Lady Amherst’s Gundogs</td>\n",
       "      <td>Diss</td>\n",
       "      <td>Licensed Breeder</td>\n",
       "      <td>sale</td>\n",
       "      <td>invertebrates</td>\n",
       "    </tr>\n",
       "    <tr>\n",
       "      <th>7391</th>\n",
       "      <td>Ball pythons with full vivariums</td>\n",
       "      <td>123456.0</td>\n",
       "      <td>Python Snake</td>\n",
       "      <td>2 years</td>\n",
       "      <td>Mixed</td>\n",
       "      <td>Due to closing my snake collection down due to...</td>\n",
       "      <td>Billy B.</td>\n",
       "      <td>Nuneaton</td>\n",
       "      <td>Breeder</td>\n",
       "      <td>sale</td>\n",
       "      <td>reptiles</td>\n",
       "    </tr>\n",
       "    <tr>\n",
       "      <th>32980</th>\n",
       "      <td>Quince monitor Melinus offers?</td>\n",
       "      <td>123456.0</td>\n",
       "      <td>Monitor</td>\n",
       "      <td>6 years</td>\n",
       "      <td>Male</td>\n",
       "      <td>Accepting offers on the pair  Quince Monitors ...</td>\n",
       "      <td>christopher s.</td>\n",
       "      <td>Marlow</td>\n",
       "      <td>Individual</td>\n",
       "      <td>sale</td>\n",
       "      <td>reptiles</td>\n",
       "    </tr>\n",
       "    <tr>\n",
       "      <th>9121</th>\n",
       "      <td>XL BULLY girls and boys avalable</td>\n",
       "      <td>123456.0</td>\n",
       "      <td>American Bully</td>\n",
       "      <td>5 weeks</td>\n",
       "      <td>Mixed</td>\n",
       "      <td>here we have a 1 of litter of xl bullys full A...</td>\n",
       "      <td>Jake D.</td>\n",
       "      <td>Redditch</td>\n",
       "      <td>Individual</td>\n",
       "      <td>sale</td>\n",
       "      <td>dogs</td>\n",
       "    </tr>\n",
       "    <tr>\n",
       "      <th>12088</th>\n",
       "      <td>Female African Grey Parrot</td>\n",
       "      <td>123456.0</td>\n",
       "      <td>Parrots</td>\n",
       "      <td>10 years</td>\n",
       "      <td>Female</td>\n",
       "      <td>I am currently looking for a forever home for ...</td>\n",
       "      <td>Linzi E.</td>\n",
       "      <td>Dudley</td>\n",
       "      <td>Individual</td>\n",
       "      <td>sale</td>\n",
       "      <td>birds</td>\n",
       "    </tr>\n",
       "    <tr>\n",
       "      <th>42576</th>\n",
       "      <td>CREATEABULLZ LOADED LUX PUPS lilac and blue tan</td>\n",
       "      <td>123456.0</td>\n",
       "      <td>English Bulldog</td>\n",
       "      <td>6 weeks</td>\n",
       "      <td>Mixed</td>\n",
       "      <td>🚨we are having an extremely lot of interest in...</td>\n",
       "      <td>CREATEABULLZ</td>\n",
       "      <td>Manchester</td>\n",
       "      <td>Breeder</td>\n",
       "      <td>sale</td>\n",
       "      <td>dogs</td>\n",
       "    </tr>\n",
       "    <tr>\n",
       "      <th>27336</th>\n",
       "      <td>BLACK AND BI COLOUR BABIES 🖤💙</td>\n",
       "      <td>123456.0</td>\n",
       "      <td>Sphynx</td>\n",
       "      <td>10 weeks</td>\n",
       "      <td>Mixed</td>\n",
       "      <td>our beautiful blue eye seal point queen has gi...</td>\n",
       "      <td>Rose J.</td>\n",
       "      <td>Stockport</td>\n",
       "      <td>Individual</td>\n",
       "      <td>sale</td>\n",
       "      <td>cats</td>\n",
       "    </tr>\n",
       "    <tr>\n",
       "      <th>16739</th>\n",
       "      <td>Outstanding GCCF potential breed / show Siberian</td>\n",
       "      <td>123456.0</td>\n",
       "      <td>Siberian</td>\n",
       "      <td>1 year</td>\n",
       "      <td>unknown</td>\n",
       "      <td>Please read the full advert before enquiring. ...</td>\n",
       "      <td>Hannah J.</td>\n",
       "      <td>Worthing</td>\n",
       "      <td>Breeder</td>\n",
       "      <td>sale</td>\n",
       "      <td>cats</td>\n",
       "    </tr>\n",
       "    <tr>\n",
       "      <th>16776</th>\n",
       "      <td>Exceptional GCCF Proven Siberian for stud</td>\n",
       "      <td>123456.0</td>\n",
       "      <td>Siberian</td>\n",
       "      <td>7 months</td>\n",
       "      <td>unknown</td>\n",
       "      <td>For Stud only.  Price on application.   I have...</td>\n",
       "      <td>Hannah J.</td>\n",
       "      <td>Worthing</td>\n",
       "      <td>Breeder</td>\n",
       "      <td>sale</td>\n",
       "      <td>cats</td>\n",
       "    </tr>\n",
       "    <tr>\n",
       "      <th>20367</th>\n",
       "      <td>kc reg red poodle puppies</td>\n",
       "      <td>22000.0</td>\n",
       "      <td>Poodle</td>\n",
       "      <td>8 weeks</td>\n",
       "      <td>Mixed</td>\n",
       "      <td>beautiful thick coats and very sociable happy ...</td>\n",
       "      <td>Norma bosley</td>\n",
       "      <td>Bridgend</td>\n",
       "      <td>Breeder</td>\n",
       "      <td>sale</td>\n",
       "      <td>dogs</td>\n",
       "    </tr>\n",
       "    <tr>\n",
       "      <th>32500</th>\n",
       "      <td>Lilac &amp; Tan Platinum Carrying Pink (caL) Stunning</td>\n",
       "      <td>20000.0</td>\n",
       "      <td>French Bulldog</td>\n",
       "      <td>8 weeks</td>\n",
       "      <td>Male</td>\n",
       "      <td>I have one stunning quality boy available. No ...</td>\n",
       "      <td>Lottiebullz</td>\n",
       "      <td>Durham</td>\n",
       "      <td>Breeder</td>\n",
       "      <td>sale</td>\n",
       "      <td>dogs</td>\n",
       "    </tr>\n",
       "    <tr>\n",
       "      <th>32003</th>\n",
       "      <td>Stunning Cream Boy Carrying PINK 💗 ❌Pied ❌Brindle</td>\n",
       "      <td>20000.0</td>\n",
       "      <td>French Bulldog</td>\n",
       "      <td>8 weeks</td>\n",
       "      <td>Male</td>\n",
       "      <td>I have one stunning quality boy available. No ...</td>\n",
       "      <td>Lottiebullz</td>\n",
       "      <td>Durham</td>\n",
       "      <td>Breeder</td>\n",
       "      <td>sale</td>\n",
       "      <td>dogs</td>\n",
       "    </tr>\n",
       "    <tr>\n",
       "      <th>9281</th>\n",
       "      <td>2 female fluffy frenchies</td>\n",
       "      <td>18000.0</td>\n",
       "      <td>French Bulldog</td>\n",
       "      <td>12 weeks</td>\n",
       "      <td>Female</td>\n",
       "      <td>1xfluffy carrier girl -blue and tan B/b E/e £6...</td>\n",
       "      <td>miranda w.</td>\n",
       "      <td>Alcester</td>\n",
       "      <td>Individual</td>\n",
       "      <td>sale</td>\n",
       "      <td>dogs</td>\n",
       "    </tr>\n",
       "    <tr>\n",
       "      <th>32355</th>\n",
       "      <td>Lilac &amp; Tan Platinum Carrying Pink (caL)</td>\n",
       "      <td>18000.0</td>\n",
       "      <td>French Bulldog</td>\n",
       "      <td>8 weeks</td>\n",
       "      <td>unknown</td>\n",
       "      <td>I have one stunning quality boy available. No ...</td>\n",
       "      <td>Lottiebullz</td>\n",
       "      <td>Durham</td>\n",
       "      <td>Breeder</td>\n",
       "      <td>sale</td>\n",
       "      <td>dogs</td>\n",
       "    </tr>\n",
       "    <tr>\n",
       "      <th>26678</th>\n",
       "      <td>2 female fluffy frenchies</td>\n",
       "      <td>18000.0</td>\n",
       "      <td>French Bulldog</td>\n",
       "      <td>12 weeks</td>\n",
       "      <td>Female</td>\n",
       "      <td>1xfluffy carrier girl -blue and tan B/b E/e £6...</td>\n",
       "      <td>miranda w.</td>\n",
       "      <td>Alcester</td>\n",
       "      <td>Individual</td>\n",
       "      <td>sale</td>\n",
       "      <td>dogs</td>\n",
       "    </tr>\n",
       "    <tr>\n",
       "      <th>45509</th>\n",
       "      <td>*STUNNING LITTER ALL FLUFF0Y L1 CARRIERS*</td>\n",
       "      <td>17148.0</td>\n",
       "      <td>French Bulldog</td>\n",
       "      <td>1 year</td>\n",
       "      <td>unknown</td>\n",
       "      <td>Our amazing Nala coat color   DNA: ? AtAt/dd/c...</td>\n",
       "      <td>Daniel A.</td>\n",
       "      <td>Liverpool</td>\n",
       "      <td>Individual</td>\n",
       "      <td>sale</td>\n",
       "      <td>dogs</td>\n",
       "    </tr>\n",
       "    <tr>\n",
       "      <th>7882</th>\n",
       "      <td>Fluffy Frenchie and Fluffy Carrier</td>\n",
       "      <td>16000.0</td>\n",
       "      <td>French Bulldog</td>\n",
       "      <td>12 weeks</td>\n",
       "      <td>Female</td>\n",
       "      <td>We have 2 Sister for sale.The first is a full ...</td>\n",
       "      <td>Wesley s.</td>\n",
       "      <td>Alcester</td>\n",
       "      <td>Individual</td>\n",
       "      <td>sale</td>\n",
       "      <td>dogs</td>\n",
       "    </tr>\n",
       "    <tr>\n",
       "      <th>32166</th>\n",
       "      <td>Outstading Cream, Pink (caL) Carrier Boy</td>\n",
       "      <td>15000.0</td>\n",
       "      <td>French Bulldog</td>\n",
       "      <td>8 weeks</td>\n",
       "      <td>Male</td>\n",
       "      <td>I have one stunning quality boy available. No ...</td>\n",
       "      <td>Lottiebullz</td>\n",
       "      <td>Durham</td>\n",
       "      <td>Breeder</td>\n",
       "      <td>sale</td>\n",
       "      <td>dogs</td>\n",
       "    </tr>\n",
       "    <tr>\n",
       "      <th>28879</th>\n",
       "      <td>French bulldogs for sale</td>\n",
       "      <td>15000.0</td>\n",
       "      <td>French Bulldog</td>\n",
       "      <td>10 weeks</td>\n",
       "      <td>Mixed</td>\n",
       "      <td>1 x female lilac and tan carrying testable cho...</td>\n",
       "      <td>Connor D.</td>\n",
       "      <td>Manchester</td>\n",
       "      <td>Breeder</td>\n",
       "      <td>sale</td>\n",
       "      <td>dogs</td>\n",
       "    </tr>\n",
       "    <tr>\n",
       "      <th>32210</th>\n",
       "      <td>Cream Pink Carrier Boy no pied or brindle stun...</td>\n",
       "      <td>15000.0</td>\n",
       "      <td>French Bulldog</td>\n",
       "      <td>8 weeks</td>\n",
       "      <td>Male</td>\n",
       "      <td>I have one stunning quality boy available. No ...</td>\n",
       "      <td>Lottiebullz</td>\n",
       "      <td>Durham</td>\n",
       "      <td>Breeder</td>\n",
       "      <td>sale</td>\n",
       "      <td>dogs</td>\n",
       "    </tr>\n",
       "    <tr>\n",
       "      <th>42598</th>\n",
       "      <td>Merle Fluffy Carrier Female</td>\n",
       "      <td>15000.0</td>\n",
       "      <td>French Bulldog</td>\n",
       "      <td>1 year</td>\n",
       "      <td>Female</td>\n",
       "      <td>Black merle carrying tan, coco, fluffy. Up to ...</td>\n",
       "      <td>Hilltop Bulldogs</td>\n",
       "      <td>Saint Helens</td>\n",
       "      <td>Licensed Breeder</td>\n",
       "      <td>sale</td>\n",
       "      <td>dogs</td>\n",
       "    </tr>\n",
       "  </tbody>\n",
       "</table>\n",
       "</div>"
      ],
      "text/plain": [
       "                                                   Title      price  \\\n",
       "9625                  2 male Chihuahua puppies for sale   9999999.0   \n",
       "1530                      Working Cocker spaniel dog pup  9999999.0   \n",
       "28646                     OUTSTANDING 53 CHAMPS IN 5G BL  3333333.0   \n",
       "42999                     OUTSTANDING 53 CHAMPS IN 5G BL  3333333.0   \n",
       "17105                 ❌••L4 FLUFFY CARRIERS••❌Coco girl❌   987654.0   \n",
       "2821                                         Stolen coco   888888.0   \n",
       "23757                                      ragdoll cross   150350.0   \n",
       "4943   LOVELY BLACK GIRL TICA REG NO SILLY OFFERS PLEASE   123654.0   \n",
       "26635                  XL BULLY girls and boys avalable    123456.0   \n",
       "38315                        Various Tarantulas For Sale   123456.0   \n",
       "7391                    Ball pythons with full vivariums   123456.0   \n",
       "32980                     Quince monitor Melinus offers?   123456.0   \n",
       "9121                   XL BULLY girls and boys avalable    123456.0   \n",
       "12088                        Female African Grey Parrot    123456.0   \n",
       "42576    CREATEABULLZ LOADED LUX PUPS lilac and blue tan   123456.0   \n",
       "27336                      BLACK AND BI COLOUR BABIES 🖤💙   123456.0   \n",
       "16739   Outstanding GCCF potential breed / show Siberian   123456.0   \n",
       "16776          Exceptional GCCF Proven Siberian for stud   123456.0   \n",
       "20367                          kc reg red poodle puppies    22000.0   \n",
       "32500  Lilac & Tan Platinum Carrying Pink (caL) Stunning    20000.0   \n",
       "32003  Stunning Cream Boy Carrying PINK 💗 ❌Pied ❌Brindle    20000.0   \n",
       "9281                           2 female fluffy frenchies    18000.0   \n",
       "32355           Lilac & Tan Platinum Carrying Pink (caL)    18000.0   \n",
       "26678                          2 female fluffy frenchies    18000.0   \n",
       "45509          *STUNNING LITTER ALL FLUFF0Y L1 CARRIERS*    17148.0   \n",
       "7882                  Fluffy Frenchie and Fluffy Carrier    16000.0   \n",
       "32166           Outstading Cream, Pink (caL) Carrier Boy    15000.0   \n",
       "28879                          French bulldogs for sale     15000.0   \n",
       "32210  Cream Pink Carrier Boy no pied or brindle stun...    15000.0   \n",
       "42598                       Merle Fluffy Carrier Female     15000.0   \n",
       "\n",
       "               species       age   gender  \\\n",
       "9625         Chihuahua   9 weeks     Male   \n",
       "1530    Cocker Spaniel  12 weeks     Male   \n",
       "28646   Cocker Spaniel    1 week  unknown   \n",
       "42999   Cocker Spaniel    1 week  unknown   \n",
       "17105   French Bulldog  14 weeks    Mixed   \n",
       "2821            Bengal   2 years  unknown   \n",
       "23757          Ragdoll  10 weeks    Mixed   \n",
       "4943            Sphynx    1 year  unknown   \n",
       "26635   American Bully   4 weeks    Mixed   \n",
       "38315       Tarantulas    1 year    Mixed   \n",
       "7391      Python Snake   2 years    Mixed   \n",
       "32980          Monitor   6 years     Male   \n",
       "9121    American Bully   5 weeks    Mixed   \n",
       "12088          Parrots  10 years   Female   \n",
       "42576  English Bulldog   6 weeks    Mixed   \n",
       "27336           Sphynx  10 weeks    Mixed   \n",
       "16739         Siberian    1 year  unknown   \n",
       "16776         Siberian  7 months  unknown   \n",
       "20367           Poodle   8 weeks    Mixed   \n",
       "32500   French Bulldog   8 weeks     Male   \n",
       "32003   French Bulldog   8 weeks     Male   \n",
       "9281    French Bulldog  12 weeks   Female   \n",
       "32355   French Bulldog   8 weeks  unknown   \n",
       "26678   French Bulldog  12 weeks   Female   \n",
       "45509   French Bulldog    1 year  unknown   \n",
       "7882    French Bulldog  12 weeks   Female   \n",
       "32166   French Bulldog   8 weeks     Male   \n",
       "28879   French Bulldog  10 weeks    Mixed   \n",
       "32210   French Bulldog   8 weeks     Male   \n",
       "42598   French Bulldog    1 year   Female   \n",
       "\n",
       "                                             description  \\\n",
       "9625   Here we have two beautiful stunning chihuahua ...   \n",
       "1530   One Liver Working cocker spaniel dog pup for s...   \n",
       "28646  THE BEST IN BREED are here 🤗    SIRE is KC - s...   \n",
       "42999  THE BEST IN BREED are here 🤗  SIRE is KC - slo...   \n",
       "17105    ❤️Beautiful pups from our blue girl❤️ Romeo ...   \n",
       "2821   Good morning we haven't seen coco since 15th F...   \n",
       "23757  5 stunning ragdoll cross kittens, 3 girls 2 bo...   \n",
       "4943   Hi. We have for sale our beautiful girl that w...   \n",
       "26635  here we have a 1 of litter of xl bullys full A...   \n",
       "38315  SLINGS  0.0.8 Caribena Veriscolor 1-2cm £20  0...   \n",
       "7391   Due to closing my snake collection down due to...   \n",
       "32980  Accepting offers on the pair  Quince Monitors ...   \n",
       "9121   here we have a 1 of litter of xl bullys full A...   \n",
       "12088  I am currently looking for a forever home for ...   \n",
       "42576  🚨we are having an extremely lot of interest in...   \n",
       "27336  our beautiful blue eye seal point queen has gi...   \n",
       "16739  Please read the full advert before enquiring. ...   \n",
       "16776  For Stud only.  Price on application.   I have...   \n",
       "20367  beautiful thick coats and very sociable happy ...   \n",
       "32500  I have one stunning quality boy available. No ...   \n",
       "32003  I have one stunning quality boy available. No ...   \n",
       "9281   1xfluffy carrier girl -blue and tan B/b E/e £6...   \n",
       "32355  I have one stunning quality boy available. No ...   \n",
       "26678  1xfluffy carrier girl -blue and tan B/b E/e £6...   \n",
       "45509  Our amazing Nala coat color   DNA: ? AtAt/dd/c...   \n",
       "7882   We have 2 Sister for sale.The first is a full ...   \n",
       "32166  I have one stunning quality boy available. No ...   \n",
       "28879  1 x female lilac and tan carrying testable cho...   \n",
       "32210  I have one stunning quality boy available. No ...   \n",
       "42598  Black merle carrying tan, coco, fluffy. Up to ...   \n",
       "\n",
       "                  seller_name seller_location       seller_type listing_type  \\\n",
       "9625              Danielle E.   Kidderminster        Individual         sale   \n",
       "1530                Joanne b.       Lymington  Licensed Breeder         sale   \n",
       "28646        Sarah sherman s.  Stoke-on-Trent        Individual         sale   \n",
       "42999        Sarah sherman s.  Stoke-on-Trent        Individual         sale   \n",
       "17105           JACQUELINE I.        Hailsham        Individual         sale   \n",
       "2821                   Nic I.      Stonehouse        Individual         sale   \n",
       "23757                Layna L.         Runcorn           Breeder         sale   \n",
       "4943             Arkadiusz B.           Sandy        Individual         sale   \n",
       "26635                 Jake D.        Redditch        Individual         sale   \n",
       "38315  Lady Amherst’s Gundogs            Diss  Licensed Breeder         sale   \n",
       "7391                 Billy B.        Nuneaton           Breeder         sale   \n",
       "32980          christopher s.          Marlow        Individual         sale   \n",
       "9121                  Jake D.        Redditch        Individual         sale   \n",
       "12088                Linzi E.          Dudley        Individual         sale   \n",
       "42576            CREATEABULLZ      Manchester           Breeder         sale   \n",
       "27336                 Rose J.       Stockport        Individual         sale   \n",
       "16739               Hannah J.        Worthing           Breeder         sale   \n",
       "16776               Hannah J.        Worthing           Breeder         sale   \n",
       "20367            Norma bosley        Bridgend           Breeder         sale   \n",
       "32500             Lottiebullz          Durham           Breeder         sale   \n",
       "32003             Lottiebullz          Durham           Breeder         sale   \n",
       "9281               miranda w.        Alcester        Individual         sale   \n",
       "32355             Lottiebullz          Durham           Breeder         sale   \n",
       "26678              miranda w.        Alcester        Individual         sale   \n",
       "45509               Daniel A.       Liverpool        Individual         sale   \n",
       "7882                Wesley s.        Alcester        Individual         sale   \n",
       "32166             Lottiebullz          Durham           Breeder         sale   \n",
       "28879               Connor D.      Manchester           Breeder         sale   \n",
       "32210             Lottiebullz          Durham           Breeder         sale   \n",
       "42598        Hilltop Bulldogs    Saint Helens  Licensed Breeder         sale   \n",
       "\n",
       "            pet_type  \n",
       "9625            dogs  \n",
       "1530            dogs  \n",
       "28646           dogs  \n",
       "42999           dogs  \n",
       "17105           dogs  \n",
       "2821            cats  \n",
       "23757           cats  \n",
       "4943            cats  \n",
       "26635           dogs  \n",
       "38315  invertebrates  \n",
       "7391        reptiles  \n",
       "32980       reptiles  \n",
       "9121            dogs  \n",
       "12088          birds  \n",
       "42576           dogs  \n",
       "27336           cats  \n",
       "16739           cats  \n",
       "16776           cats  \n",
       "20367           dogs  \n",
       "32500           dogs  \n",
       "32003           dogs  \n",
       "9281            dogs  \n",
       "32355           dogs  \n",
       "26678           dogs  \n",
       "45509           dogs  \n",
       "7882            dogs  \n",
       "32166           dogs  \n",
       "28879           dogs  \n",
       "32210           dogs  \n",
       "42598           dogs  "
      ]
     },
     "execution_count": 163,
     "metadata": {},
     "output_type": "execute_result"
    }
   ],
   "source": [
    "sale.sort_values(by=['price'], ascending=False).head(30)"
   ]
  },
  {
   "cell_type": "markdown",
   "id": "8095bed7",
   "metadata": {
    "ExecuteTime": {
     "end_time": "2022-06-10T10:49:14.342076Z",
     "start_time": "2022-06-10T10:49:14.008858Z"
    }
   },
   "source": [
    "From the histograms, we can infer that:\n",
    "- although there isn't that many, we have pretty good data for horses\n",
    "- other animals are littered with extreme outliers.\n",
    "- it's likely better to separate the data by pet column before removing outliers.\n",
    "\n",
    "The top priced entries makes no sense, some are not even real sale listing. They should be dropped."
   ]
  },
  {
   "cell_type": "code",
   "execution_count": 164,
   "id": "d91291ab",
   "metadata": {
    "ExecuteTime": {
     "end_time": "2022-06-10T15:29:03.440599Z",
     "start_time": "2022-06-10T15:29:03.422647Z"
    },
    "scrolled": true
   },
   "outputs": [
    {
     "data": {
      "text/plain": [
       "1000.0    1987\n",
       "1500.0    1673\n",
       "50.0      1446\n",
       "100.0     1377\n",
       "1200.0    1159\n",
       "          ... \n",
       "565.0        1\n",
       "27.0         1\n",
       "785.0        1\n",
       "1245.0       1\n",
       "1880.0       1\n",
       "Name: price, Length: 379, dtype: int64"
      ]
     },
     "execution_count": 164,
     "metadata": {},
     "output_type": "execute_result"
    }
   ],
   "source": [
    "sale['price'].value_counts()"
   ]
  },
  {
   "cell_type": "code",
   "execution_count": 165,
   "id": "a6e55085",
   "metadata": {
    "ExecuteTime": {
     "end_time": "2022-06-10T15:29:03.951432Z",
     "start_time": "2022-06-10T15:29:03.926499Z"
    }
   },
   "outputs": [
    {
     "data": {
      "text/html": [
       "<div>\n",
       "<style scoped>\n",
       "    .dataframe tbody tr th:only-of-type {\n",
       "        vertical-align: middle;\n",
       "    }\n",
       "\n",
       "    .dataframe tbody tr th {\n",
       "        vertical-align: top;\n",
       "    }\n",
       "\n",
       "    .dataframe thead th {\n",
       "        text-align: right;\n",
       "    }\n",
       "</style>\n",
       "<table border=\"1\" class=\"dataframe\">\n",
       "  <thead>\n",
       "    <tr style=\"text-align: right;\">\n",
       "      <th></th>\n",
       "      <th>price</th>\n",
       "    </tr>\n",
       "  </thead>\n",
       "  <tbody>\n",
       "    <tr>\n",
       "      <th>count</th>\n",
       "      <td>1.567000e+04</td>\n",
       "    </tr>\n",
       "    <tr>\n",
       "      <th>mean</th>\n",
       "      <td>3.168297e+03</td>\n",
       "    </tr>\n",
       "    <tr>\n",
       "      <th>std</th>\n",
       "      <td>1.193322e+05</td>\n",
       "    </tr>\n",
       "    <tr>\n",
       "      <th>min</th>\n",
       "      <td>1.000000e+01</td>\n",
       "    </tr>\n",
       "    <tr>\n",
       "      <th>25%</th>\n",
       "      <td>8.500000e+02</td>\n",
       "    </tr>\n",
       "    <tr>\n",
       "      <th>50%</th>\n",
       "      <td>1.200000e+03</td>\n",
       "    </tr>\n",
       "    <tr>\n",
       "      <th>75%</th>\n",
       "      <td>1.700000e+03</td>\n",
       "    </tr>\n",
       "    <tr>\n",
       "      <th>max</th>\n",
       "      <td>9.999999e+06</td>\n",
       "    </tr>\n",
       "  </tbody>\n",
       "</table>\n",
       "</div>"
      ],
      "text/plain": [
       "              price\n",
       "count  1.567000e+04\n",
       "mean   3.168297e+03\n",
       "std    1.193322e+05\n",
       "min    1.000000e+01\n",
       "25%    8.500000e+02\n",
       "50%    1.200000e+03\n",
       "75%    1.700000e+03\n",
       "max    9.999999e+06"
      ]
     },
     "execution_count": 165,
     "metadata": {},
     "output_type": "execute_result"
    }
   ],
   "source": [
    "sale.loc[sale['pet_type'] == 'dogs' ].describe()"
   ]
  },
  {
   "cell_type": "code",
   "execution_count": 166,
   "id": "4b9cf11b",
   "metadata": {
    "ExecuteTime": {
     "end_time": "2022-06-10T15:29:04.479503Z",
     "start_time": "2022-06-10T15:29:04.448004Z"
    }
   },
   "outputs": [
    {
     "data": {
      "text/html": [
       "<div>\n",
       "<style scoped>\n",
       "    .dataframe tbody tr th:only-of-type {\n",
       "        vertical-align: middle;\n",
       "    }\n",
       "\n",
       "    .dataframe tbody tr th {\n",
       "        vertical-align: top;\n",
       "    }\n",
       "\n",
       "    .dataframe thead th {\n",
       "        text-align: right;\n",
       "    }\n",
       "</style>\n",
       "<table border=\"1\" class=\"dataframe\">\n",
       "  <thead>\n",
       "    <tr style=\"text-align: right;\">\n",
       "      <th></th>\n",
       "      <th>Title</th>\n",
       "      <th>price</th>\n",
       "      <th>species</th>\n",
       "      <th>age</th>\n",
       "      <th>gender</th>\n",
       "      <th>description</th>\n",
       "      <th>seller_name</th>\n",
       "      <th>seller_location</th>\n",
       "      <th>seller_type</th>\n",
       "      <th>listing_type</th>\n",
       "      <th>pet_type</th>\n",
       "    </tr>\n",
       "  </thead>\n",
       "  <tbody>\n",
       "    <tr>\n",
       "      <th>47578</th>\n",
       "      <td>Cane Corso puppy FREE to a good home! HOME CHECKS</td>\n",
       "      <td>10.0</td>\n",
       "      <td>Cane Corso</td>\n",
       "      <td>6 months</td>\n",
       "      <td>Male</td>\n",
       "      <td>Bear is our family pet however we have come to...</td>\n",
       "      <td>Aimee H.</td>\n",
       "      <td>Leeds</td>\n",
       "      <td>Individual</td>\n",
       "      <td>sale</td>\n",
       "      <td>dogs</td>\n",
       "    </tr>\n",
       "    <tr>\n",
       "      <th>28961</th>\n",
       "      <td>Rehoming some of my boys and girls</td>\n",
       "      <td>10.0</td>\n",
       "      <td>French Bulldog</td>\n",
       "      <td>2 years</td>\n",
       "      <td>Male</td>\n",
       "      <td>due to ill health i am rehoming my boys and gi...</td>\n",
       "      <td>Saif A.</td>\n",
       "      <td>Manchester</td>\n",
       "      <td>Individual</td>\n",
       "      <td>sale</td>\n",
       "      <td>dogs</td>\n",
       "    </tr>\n",
       "    <tr>\n",
       "      <th>6038</th>\n",
       "      <td>Belgian Malinois x lurcher</td>\n",
       "      <td>10.0</td>\n",
       "      <td>Belgian Shepherd Dog</td>\n",
       "      <td>3 years</td>\n",
       "      <td>unknown</td>\n",
       "      <td>Not for Sale - Gorgeous boy, very playful, ful...</td>\n",
       "      <td>A S.</td>\n",
       "      <td>Cambridge</td>\n",
       "      <td>Individual</td>\n",
       "      <td>sale</td>\n",
       "      <td>dogs</td>\n",
       "    </tr>\n",
       "    <tr>\n",
       "      <th>15541</th>\n",
       "      <td>Gorgeous boy for stud</td>\n",
       "      <td>10.0</td>\n",
       "      <td>Mixed Breed</td>\n",
       "      <td>3 years</td>\n",
       "      <td>Male</td>\n",
       "      <td>Buster is a friendly 3 year old well behaved s...</td>\n",
       "      <td>Timber K.</td>\n",
       "      <td>Liskeard</td>\n",
       "      <td>Individual</td>\n",
       "      <td>sale</td>\n",
       "      <td>dogs</td>\n",
       "    </tr>\n",
       "    <tr>\n",
       "      <th>6174</th>\n",
       "      <td>Belgian Shephard x Mastiff</td>\n",
       "      <td>10.0</td>\n",
       "      <td>Belgian Shepherd Dog</td>\n",
       "      <td>1 year</td>\n",
       "      <td>unknown</td>\n",
       "      <td>EXPERIENCED DOG OWNERS ONLY. my dog diesel is ...</td>\n",
       "      <td>Alex T.</td>\n",
       "      <td>Rushden</td>\n",
       "      <td>Breeder</td>\n",
       "      <td>sale</td>\n",
       "      <td>dogs</td>\n",
       "    </tr>\n",
       "    <tr>\n",
       "      <th>44722</th>\n",
       "      <td>Last Male French Bulldog puppy</td>\n",
       "      <td>10.0</td>\n",
       "      <td>French Bulldog</td>\n",
       "      <td>7 weeks</td>\n",
       "      <td>Mixed</td>\n",
       "      <td>***Last Male pup*** We have for sale our beaut...</td>\n",
       "      <td>samantha j.</td>\n",
       "      <td>Northwich</td>\n",
       "      <td>Individual</td>\n",
       "      <td>sale</td>\n",
       "      <td>dogs</td>\n",
       "    </tr>\n",
       "    <tr>\n",
       "      <th>1596</th>\n",
       "      <td>Beautiful jack Russell puppy ALL SOLD</td>\n",
       "      <td>10.0</td>\n",
       "      <td>Jack Russell</td>\n",
       "      <td>3 months</td>\n",
       "      <td>Mixed</td>\n",
       "      <td>All sold ,,,,,,,,,,,,,,,,,,,,,,,,,,,,,,,,,,,,,...</td>\n",
       "      <td>Jonathan W.</td>\n",
       "      <td>Salisbury</td>\n",
       "      <td>Individual</td>\n",
       "      <td>sale</td>\n",
       "      <td>dogs</td>\n",
       "    </tr>\n",
       "    <tr>\n",
       "      <th>6152</th>\n",
       "      <td>Dutch shepherd</td>\n",
       "      <td>10.0</td>\n",
       "      <td>German Shepherd</td>\n",
       "      <td>9 years</td>\n",
       "      <td>unknown</td>\n",
       "      <td>Shadow is free to a good home his a brilliant ...</td>\n",
       "      <td>Bradley O.</td>\n",
       "      <td>St Albans</td>\n",
       "      <td>Individual</td>\n",
       "      <td>sale</td>\n",
       "      <td>dogs</td>\n",
       "    </tr>\n",
       "    <tr>\n",
       "      <th>18782</th>\n",
       "      <td>Cocker spaniel and springer spaniel</td>\n",
       "      <td>10.0</td>\n",
       "      <td>English Springer Spaniel</td>\n",
       "      <td>6 weeks</td>\n",
       "      <td>Mixed</td>\n",
       "      <td>Our family pet dogs went missing on Thursday  ...</td>\n",
       "      <td>Daniel A.</td>\n",
       "      <td>Ledbury</td>\n",
       "      <td>Individual</td>\n",
       "      <td>sale</td>\n",
       "      <td>dogs</td>\n",
       "    </tr>\n",
       "    <tr>\n",
       "      <th>26559</th>\n",
       "      <td>Small Yorkshire terrier puppies</td>\n",
       "      <td>10.0</td>\n",
       "      <td>Yorkshire Terrier</td>\n",
       "      <td>8 weeks</td>\n",
       "      <td>Mixed</td>\n",
       "      <td>Looking for forever homes for my beautiful yor...</td>\n",
       "      <td>Scarlett C.</td>\n",
       "      <td>Coventry</td>\n",
       "      <td>Individual</td>\n",
       "      <td>sale</td>\n",
       "      <td>dogs</td>\n",
       "    </tr>\n",
       "    <tr>\n",
       "      <th>47963</th>\n",
       "      <td>microchipping service</td>\n",
       "      <td>10.0</td>\n",
       "      <td>Mixed Breed</td>\n",
       "      <td>1 year</td>\n",
       "      <td>unknown</td>\n",
       "      <td>mobile microchipping service :)   I offer a pe...</td>\n",
       "      <td>Lindsay</td>\n",
       "      <td>Goole</td>\n",
       "      <td>Breeder</td>\n",
       "      <td>sale</td>\n",
       "      <td>dogs</td>\n",
       "    </tr>\n",
       "    <tr>\n",
       "      <th>29061</th>\n",
       "      <td>KC bullmastiffs up for adoption</td>\n",
       "      <td>10.0</td>\n",
       "      <td>Bullmastiff</td>\n",
       "      <td>2 years</td>\n",
       "      <td>Female</td>\n",
       "      <td>Two stunning bullmastiffs, up for adoption, wi...</td>\n",
       "      <td>GYPROC BULLMASTIFFS</td>\n",
       "      <td>Warrington</td>\n",
       "      <td>Breeder</td>\n",
       "      <td>sale</td>\n",
       "      <td>dogs</td>\n",
       "    </tr>\n",
       "    <tr>\n",
       "      <th>31661</th>\n",
       "      <td>chihuahua rehomed.</td>\n",
       "      <td>10.0</td>\n",
       "      <td>Chihuahua</td>\n",
       "      <td>11 weeks</td>\n",
       "      <td>Male</td>\n",
       "      <td>He's gone to new home   Raised in a family env...</td>\n",
       "      <td>Peter B</td>\n",
       "      <td>Saltburn-by-the-Sea</td>\n",
       "      <td>Breeder</td>\n",
       "      <td>sale</td>\n",
       "      <td>dogs</td>\n",
       "    </tr>\n",
       "    <tr>\n",
       "      <th>15826</th>\n",
       "      <td>2 PUG BOYS READY TO GO IN 1 WEEK</td>\n",
       "      <td>11.0</td>\n",
       "      <td>Pug</td>\n",
       "      <td>7 weeks</td>\n",
       "      <td>Male</td>\n",
       "      <td>ᴡᴇ ʜᴀᴠᴇ ᴛᴡᴏ ʙᴇᴀᴜᴛɪꜰᴜʟ ᴘᴜɢ ʙᴏʏꜱ ᴀᴠᴀɪʟᴀʙʟᴇ ꜰᴏʀ 5...</td>\n",
       "      <td>Demi</td>\n",
       "      <td>Carlisle</td>\n",
       "      <td>Breeder</td>\n",
       "      <td>sale</td>\n",
       "      <td>dogs</td>\n",
       "    </tr>\n",
       "    <tr>\n",
       "      <th>31969</th>\n",
       "      <td>Sproodle/(Cockapoo)</td>\n",
       "      <td>12.0</td>\n",
       "      <td>Cockapoo</td>\n",
       "      <td>2 weeks</td>\n",
       "      <td>Mixed</td>\n",
       "      <td>Our family pet Bonnie has had a stunning litte...</td>\n",
       "      <td>Rae M.</td>\n",
       "      <td>Stockton-on-Tees</td>\n",
       "      <td>Individual</td>\n",
       "      <td>sale</td>\n",
       "      <td>dogs</td>\n",
       "    </tr>\n",
       "    <tr>\n",
       "      <th>47487</th>\n",
       "      <td>Microchipping and Ultrasound Services Available</td>\n",
       "      <td>12.0</td>\n",
       "      <td>Mixed Breed</td>\n",
       "      <td>11 months</td>\n",
       "      <td>unknown</td>\n",
       "      <td>DNA Pet Supplies offer mobile Ultrasound and M...</td>\n",
       "      <td>Maryann</td>\n",
       "      <td>Batley</td>\n",
       "      <td>Breeder</td>\n",
       "      <td>sale</td>\n",
       "      <td>dogs</td>\n",
       "    </tr>\n",
       "    <tr>\n",
       "      <th>26623</th>\n",
       "      <td>Gene and Health tested beautiful cocker spaniels</td>\n",
       "      <td>13.0</td>\n",
       "      <td>Cocker Spaniel</td>\n",
       "      <td>4 weeks</td>\n",
       "      <td>Mixed</td>\n",
       "      <td>We have a beautiful litter of KC Registered Da...</td>\n",
       "      <td>Deepa G.</td>\n",
       "      <td>Leicester</td>\n",
       "      <td>Individual</td>\n",
       "      <td>sale</td>\n",
       "      <td>dogs</td>\n",
       "    </tr>\n",
       "    <tr>\n",
       "      <th>32290</th>\n",
       "      <td>9YO Staffordshire Bull Terrier cross</td>\n",
       "      <td>25.0</td>\n",
       "      <td>Staffordshire Bull Terrier</td>\n",
       "      <td>9 years</td>\n",
       "      <td>unknown</td>\n",
       "      <td>** NO OTHER PETS  ** NO TIMEWASTERS PLEASE Sad...</td>\n",
       "      <td>RL S.</td>\n",
       "      <td>Houghton le Spring</td>\n",
       "      <td>Individual</td>\n",
       "      <td>sale</td>\n",
       "      <td>dogs</td>\n",
       "    </tr>\n",
       "    <tr>\n",
       "      <th>39153</th>\n",
       "      <td>2 girls and 1 pink boy available from this litter</td>\n",
       "      <td>40.0</td>\n",
       "      <td>French Bulldog</td>\n",
       "      <td>4 weeks</td>\n",
       "      <td>Mixed</td>\n",
       "      <td>chocolate creams and most of all structure in ...</td>\n",
       "      <td>Karen E.</td>\n",
       "      <td>Dewsbury</td>\n",
       "      <td>Breeder</td>\n",
       "      <td>sale</td>\n",
       "      <td>dogs</td>\n",
       "    </tr>\n",
       "    <tr>\n",
       "      <th>20227</th>\n",
       "      <td>Patterdale Terrier</td>\n",
       "      <td>50.0</td>\n",
       "      <td>Patterdale Terrier</td>\n",
       "      <td>3 years</td>\n",
       "      <td>Male</td>\n",
       "      <td>Alfie is a pure rough coat Patterdale Terrier....</td>\n",
       "      <td>Emma S.</td>\n",
       "      <td>Newport</td>\n",
       "      <td>Individual</td>\n",
       "      <td>sale</td>\n",
       "      <td>dogs</td>\n",
       "    </tr>\n",
       "    <tr>\n",
       "      <th>1569</th>\n",
       "      <td>ULTRAPAWS CANINE FERTILITY SERVICE</td>\n",
       "      <td>50.0</td>\n",
       "      <td>Mixed Breed</td>\n",
       "      <td>8 years</td>\n",
       "      <td>unknown</td>\n",
       "      <td>I am a qualified ultrasound technician offerin...</td>\n",
       "      <td>Kim W.</td>\n",
       "      <td>New Milton</td>\n",
       "      <td>Individual</td>\n",
       "      <td>sale</td>\n",
       "      <td>dogs</td>\n",
       "    </tr>\n",
       "    <tr>\n",
       "      <th>47514</th>\n",
       "      <td>Staffordshires for sale</td>\n",
       "      <td>80.0</td>\n",
       "      <td>Staffordshire Bull Terrier</td>\n",
       "      <td>8 years</td>\n",
       "      <td>Mixed</td>\n",
       "      <td>I am sadly having to rehome my two staffies Mi...</td>\n",
       "      <td>Hollie B.</td>\n",
       "      <td>Pudsey</td>\n",
       "      <td>Individual</td>\n",
       "      <td>sale</td>\n",
       "      <td>dogs</td>\n",
       "    </tr>\n",
       "    <tr>\n",
       "      <th>47663</th>\n",
       "      <td>Loveable JackChi FOR SALE</td>\n",
       "      <td>90.0</td>\n",
       "      <td>Jack Russell</td>\n",
       "      <td>2 years</td>\n",
       "      <td>Female</td>\n",
       "      <td>Lilo has been with us for over a year now. She...</td>\n",
       "      <td>Fatma  C.</td>\n",
       "      <td>York</td>\n",
       "      <td>Individual</td>\n",
       "      <td>sale</td>\n",
       "      <td>dogs</td>\n",
       "    </tr>\n",
       "    <tr>\n",
       "      <th>1433</th>\n",
       "      <td>Raven the Lurcher (saluki X)</td>\n",
       "      <td>100.0</td>\n",
       "      <td>Lurcher</td>\n",
       "      <td>1 year</td>\n",
       "      <td>Male</td>\n",
       "      <td>We have a lovely year old Saluki x Greyhound x...</td>\n",
       "      <td>Paula G.</td>\n",
       "      <td>Shaftesbury</td>\n",
       "      <td>Individual</td>\n",
       "      <td>sale</td>\n",
       "      <td>dogs</td>\n",
       "    </tr>\n",
       "    <tr>\n",
       "      <th>3648</th>\n",
       "      <td>2 Year Old Lurcher Cross looking for forever h...</td>\n",
       "      <td>100.0</td>\n",
       "      <td>Lurcher</td>\n",
       "      <td>2 years</td>\n",
       "      <td>unknown</td>\n",
       "      <td>Storm is a 2 year old Lurcher cross Staffy. He...</td>\n",
       "      <td>Francis L.</td>\n",
       "      <td>Stroud</td>\n",
       "      <td>Individual</td>\n",
       "      <td>sale</td>\n",
       "      <td>dogs</td>\n",
       "    </tr>\n",
       "    <tr>\n",
       "      <th>44650</th>\n",
       "      <td>Border x Welsh collie male</td>\n",
       "      <td>100.0</td>\n",
       "      <td>Border Collie</td>\n",
       "      <td>8 months</td>\n",
       "      <td>Male</td>\n",
       "      <td>PLEASE READ  Unfortunately due to a sudden cha...</td>\n",
       "      <td>Sara B.</td>\n",
       "      <td>Chester</td>\n",
       "      <td>Individual</td>\n",
       "      <td>sale</td>\n",
       "      <td>dogs</td>\n",
       "    </tr>\n",
       "    <tr>\n",
       "      <th>21842</th>\n",
       "      <td>Looking for a great home for my 4 year old Collie</td>\n",
       "      <td>100.0</td>\n",
       "      <td>Border Collie</td>\n",
       "      <td>3 years</td>\n",
       "      <td>unknown</td>\n",
       "      <td>This is Hotch, my Beautiful 4 year old Collie....</td>\n",
       "      <td>Theodore W.</td>\n",
       "      <td>Swindon</td>\n",
       "      <td>Individual</td>\n",
       "      <td>sale</td>\n",
       "      <td>dogs</td>\n",
       "    </tr>\n",
       "    <tr>\n",
       "      <th>3507</th>\n",
       "      <td>Looking for a great home for my 4 year old Collie</td>\n",
       "      <td>100.0</td>\n",
       "      <td>Border Collie</td>\n",
       "      <td>3 years</td>\n",
       "      <td>unknown</td>\n",
       "      <td>This is Hotch, my Beautiful 4 year old Collie....</td>\n",
       "      <td>Theodore W.</td>\n",
       "      <td>Swindon</td>\n",
       "      <td>Individual</td>\n",
       "      <td>sale</td>\n",
       "      <td>dogs</td>\n",
       "    </tr>\n",
       "    <tr>\n",
       "      <th>8871</th>\n",
       "      <td>male lurcher</td>\n",
       "      <td>100.0</td>\n",
       "      <td>Lurcher</td>\n",
       "      <td>3 years</td>\n",
       "      <td>Male</td>\n",
       "      <td>unfortunately I'm going to have to rehome this...</td>\n",
       "      <td>Jade R.</td>\n",
       "      <td>Dudley</td>\n",
       "      <td>Individual</td>\n",
       "      <td>sale</td>\n",
       "      <td>dogs</td>\n",
       "    </tr>\n",
       "    <tr>\n",
       "      <th>28869</th>\n",
       "      <td>Beautiful fluffy Russian pomerian</td>\n",
       "      <td>111.0</td>\n",
       "      <td>Pomeranian</td>\n",
       "      <td>5 weeks</td>\n",
       "      <td>Female</td>\n",
       "      <td>Beautiful Russian fluffy puppy 1/1 born, mothe...</td>\n",
       "      <td>Reza B.</td>\n",
       "      <td>Stockport</td>\n",
       "      <td>Individual</td>\n",
       "      <td>sale</td>\n",
       "      <td>dogs</td>\n",
       "    </tr>\n",
       "  </tbody>\n",
       "</table>\n",
       "</div>"
      ],
      "text/plain": [
       "                                                   Title  price  \\\n",
       "47578  Cane Corso puppy FREE to a good home! HOME CHECKS   10.0   \n",
       "28961                 Rehoming some of my boys and girls   10.0   \n",
       "6038                         Belgian Malinois x lurcher    10.0   \n",
       "15541                              Gorgeous boy for stud   10.0   \n",
       "6174                          Belgian Shephard x Mastiff   10.0   \n",
       "44722                     Last Male French Bulldog puppy   10.0   \n",
       "1596               Beautiful jack Russell puppy ALL SOLD   10.0   \n",
       "6152                                      Dutch shepherd   10.0   \n",
       "18782                Cocker spaniel and springer spaniel   10.0   \n",
       "26559                   Small Yorkshire terrier puppies    10.0   \n",
       "47963                              microchipping service   10.0   \n",
       "29061                    KC bullmastiffs up for adoption   10.0   \n",
       "31661                                 chihuahua rehomed.   10.0   \n",
       "15826                   2 PUG BOYS READY TO GO IN 1 WEEK   11.0   \n",
       "31969                                Sproodle/(Cockapoo)   12.0   \n",
       "47487    Microchipping and Ultrasound Services Available   12.0   \n",
       "26623  Gene and Health tested beautiful cocker spaniels    13.0   \n",
       "32290               9YO Staffordshire Bull Terrier cross   25.0   \n",
       "39153  2 girls and 1 pink boy available from this litter   40.0   \n",
       "20227                                 Patterdale Terrier   50.0   \n",
       "1569                  ULTRAPAWS CANINE FERTILITY SERVICE   50.0   \n",
       "47514                            Staffordshires for sale   80.0   \n",
       "47663                          Loveable JackChi FOR SALE   90.0   \n",
       "1433                        Raven the Lurcher (saluki X)  100.0   \n",
       "3648   2 Year Old Lurcher Cross looking for forever h...  100.0   \n",
       "44650                        Border x Welsh collie male   100.0   \n",
       "21842  Looking for a great home for my 4 year old Collie  100.0   \n",
       "3507   Looking for a great home for my 4 year old Collie  100.0   \n",
       "8871                                        male lurcher  100.0   \n",
       "28869                  Beautiful fluffy Russian pomerian  111.0   \n",
       "\n",
       "                          species        age   gender  \\\n",
       "47578                  Cane Corso   6 months     Male   \n",
       "28961              French Bulldog    2 years     Male   \n",
       "6038         Belgian Shepherd Dog    3 years  unknown   \n",
       "15541                 Mixed Breed    3 years     Male   \n",
       "6174         Belgian Shepherd Dog     1 year  unknown   \n",
       "44722              French Bulldog    7 weeks    Mixed   \n",
       "1596                 Jack Russell   3 months    Mixed   \n",
       "6152              German Shepherd    9 years  unknown   \n",
       "18782    English Springer Spaniel    6 weeks    Mixed   \n",
       "26559           Yorkshire Terrier    8 weeks    Mixed   \n",
       "47963                 Mixed Breed     1 year  unknown   \n",
       "29061                 Bullmastiff    2 years   Female   \n",
       "31661                   Chihuahua   11 weeks     Male   \n",
       "15826                         Pug    7 weeks     Male   \n",
       "31969                    Cockapoo    2 weeks    Mixed   \n",
       "47487                 Mixed Breed  11 months  unknown   \n",
       "26623              Cocker Spaniel    4 weeks    Mixed   \n",
       "32290  Staffordshire Bull Terrier    9 years  unknown   \n",
       "39153              French Bulldog    4 weeks    Mixed   \n",
       "20227          Patterdale Terrier    3 years     Male   \n",
       "1569                  Mixed Breed    8 years  unknown   \n",
       "47514  Staffordshire Bull Terrier    8 years    Mixed   \n",
       "47663                Jack Russell    2 years   Female   \n",
       "1433                      Lurcher     1 year     Male   \n",
       "3648                      Lurcher    2 years  unknown   \n",
       "44650               Border Collie   8 months     Male   \n",
       "21842               Border Collie    3 years  unknown   \n",
       "3507                Border Collie    3 years  unknown   \n",
       "8871                      Lurcher    3 years     Male   \n",
       "28869                  Pomeranian    5 weeks   Female   \n",
       "\n",
       "                                             description          seller_name  \\\n",
       "47578  Bear is our family pet however we have come to...             Aimee H.   \n",
       "28961  due to ill health i am rehoming my boys and gi...              Saif A.   \n",
       "6038   Not for Sale - Gorgeous boy, very playful, ful...                 A S.   \n",
       "15541  Buster is a friendly 3 year old well behaved s...            Timber K.   \n",
       "6174   EXPERIENCED DOG OWNERS ONLY. my dog diesel is ...              Alex T.   \n",
       "44722  ***Last Male pup*** We have for sale our beaut...          samantha j.   \n",
       "1596   All sold ,,,,,,,,,,,,,,,,,,,,,,,,,,,,,,,,,,,,,...          Jonathan W.   \n",
       "6152   Shadow is free to a good home his a brilliant ...           Bradley O.   \n",
       "18782  Our family pet dogs went missing on Thursday  ...            Daniel A.   \n",
       "26559  Looking for forever homes for my beautiful yor...          Scarlett C.   \n",
       "47963  mobile microchipping service :)   I offer a pe...              Lindsay   \n",
       "29061  Two stunning bullmastiffs, up for adoption, wi...  GYPROC BULLMASTIFFS   \n",
       "31661  He's gone to new home   Raised in a family env...              Peter B   \n",
       "15826  ᴡᴇ ʜᴀᴠᴇ ᴛᴡᴏ ʙᴇᴀᴜᴛɪꜰᴜʟ ᴘᴜɢ ʙᴏʏꜱ ᴀᴠᴀɪʟᴀʙʟᴇ ꜰᴏʀ 5...                 Demi   \n",
       "31969  Our family pet Bonnie has had a stunning litte...               Rae M.   \n",
       "47487  DNA Pet Supplies offer mobile Ultrasound and M...              Maryann   \n",
       "26623  We have a beautiful litter of KC Registered Da...             Deepa G.   \n",
       "32290  ** NO OTHER PETS  ** NO TIMEWASTERS PLEASE Sad...                RL S.   \n",
       "39153  chocolate creams and most of all structure in ...             Karen E.   \n",
       "20227  Alfie is a pure rough coat Patterdale Terrier....              Emma S.   \n",
       "1569   I am a qualified ultrasound technician offerin...               Kim W.   \n",
       "47514  I am sadly having to rehome my two staffies Mi...            Hollie B.   \n",
       "47663  Lilo has been with us for over a year now. She...            Fatma  C.   \n",
       "1433   We have a lovely year old Saluki x Greyhound x...             Paula G.   \n",
       "3648   Storm is a 2 year old Lurcher cross Staffy. He...           Francis L.   \n",
       "44650  PLEASE READ  Unfortunately due to a sudden cha...              Sara B.   \n",
       "21842  This is Hotch, my Beautiful 4 year old Collie....          Theodore W.   \n",
       "3507   This is Hotch, my Beautiful 4 year old Collie....          Theodore W.   \n",
       "8871   unfortunately I'm going to have to rehome this...              Jade R.   \n",
       "28869  Beautiful Russian fluffy puppy 1/1 born, mothe...              Reza B.   \n",
       "\n",
       "           seller_location seller_type listing_type pet_type  \n",
       "47578                Leeds  Individual         sale     dogs  \n",
       "28961           Manchester  Individual         sale     dogs  \n",
       "6038             Cambridge  Individual         sale     dogs  \n",
       "15541             Liskeard  Individual         sale     dogs  \n",
       "6174               Rushden     Breeder         sale     dogs  \n",
       "44722            Northwich  Individual         sale     dogs  \n",
       "1596             Salisbury  Individual         sale     dogs  \n",
       "6152             St Albans  Individual         sale     dogs  \n",
       "18782              Ledbury  Individual         sale     dogs  \n",
       "26559             Coventry  Individual         sale     dogs  \n",
       "47963                Goole     Breeder         sale     dogs  \n",
       "29061           Warrington     Breeder         sale     dogs  \n",
       "31661  Saltburn-by-the-Sea     Breeder         sale     dogs  \n",
       "15826             Carlisle     Breeder         sale     dogs  \n",
       "31969     Stockton-on-Tees  Individual         sale     dogs  \n",
       "47487               Batley     Breeder         sale     dogs  \n",
       "26623            Leicester  Individual         sale     dogs  \n",
       "32290   Houghton le Spring  Individual         sale     dogs  \n",
       "39153             Dewsbury     Breeder         sale     dogs  \n",
       "20227              Newport  Individual         sale     dogs  \n",
       "1569            New Milton  Individual         sale     dogs  \n",
       "47514               Pudsey  Individual         sale     dogs  \n",
       "47663                 York  Individual         sale     dogs  \n",
       "1433           Shaftesbury  Individual         sale     dogs  \n",
       "3648                Stroud  Individual         sale     dogs  \n",
       "44650              Chester  Individual         sale     dogs  \n",
       "21842              Swindon  Individual         sale     dogs  \n",
       "3507               Swindon  Individual         sale     dogs  \n",
       "8871                Dudley  Individual         sale     dogs  \n",
       "28869            Stockport  Individual         sale     dogs  "
      ]
     },
     "execution_count": 166,
     "metadata": {},
     "output_type": "execute_result"
    }
   ],
   "source": [
    "sale.loc[sale['pet_type'] == 'dogs' ].sort_values(by=['price'], ascending=True).head(30)"
   ]
  },
  {
   "cell_type": "code",
   "execution_count": 167,
   "id": "f784890b",
   "metadata": {
    "ExecuteTime": {
     "end_time": "2022-06-10T15:29:05.095068Z",
     "start_time": "2022-06-10T15:29:05.055558Z"
    },
    "scrolled": true
   },
   "outputs": [
    {
     "data": {
      "text/html": [
       "<div>\n",
       "<style scoped>\n",
       "    .dataframe tbody tr th:only-of-type {\n",
       "        vertical-align: middle;\n",
       "    }\n",
       "\n",
       "    .dataframe tbody tr th {\n",
       "        vertical-align: top;\n",
       "    }\n",
       "\n",
       "    .dataframe thead th {\n",
       "        text-align: right;\n",
       "    }\n",
       "</style>\n",
       "<table border=\"1\" class=\"dataframe\">\n",
       "  <thead>\n",
       "    <tr style=\"text-align: right;\">\n",
       "      <th></th>\n",
       "      <th>Title</th>\n",
       "      <th>price</th>\n",
       "      <th>species</th>\n",
       "      <th>age</th>\n",
       "      <th>gender</th>\n",
       "      <th>description</th>\n",
       "      <th>seller_name</th>\n",
       "      <th>seller_location</th>\n",
       "      <th>seller_type</th>\n",
       "      <th>listing_type</th>\n",
       "      <th>pet_type</th>\n",
       "    </tr>\n",
       "  </thead>\n",
       "  <tbody>\n",
       "    <tr>\n",
       "      <th>28936</th>\n",
       "      <td>Pomeranian Puppies for sale £200 deposit 2 secure</td>\n",
       "      <td>200.0</td>\n",
       "      <td>Pomeranian</td>\n",
       "      <td>8 weeks</td>\n",
       "      <td>Mixed</td>\n",
       "      <td>£200 deposit required to secure any of the pup...</td>\n",
       "      <td>Jessica J.</td>\n",
       "      <td>Saint Helens</td>\n",
       "      <td>Individual</td>\n",
       "      <td>sale</td>\n",
       "      <td>dogs</td>\n",
       "    </tr>\n",
       "    <tr>\n",
       "      <th>42445</th>\n",
       "      <td>No deposit!Mini Yorkshire Terrier 3 left</td>\n",
       "      <td>750.0</td>\n",
       "      <td>Yorkshire Terrier</td>\n",
       "      <td>9 weeks</td>\n",
       "      <td>Mixed</td>\n",
       "      <td>No deposit required! One beautiful girl and 2 ...</td>\n",
       "      <td>Alex</td>\n",
       "      <td>Newcastle</td>\n",
       "      <td>Breeder</td>\n",
       "      <td>sale</td>\n",
       "      <td>dogs</td>\n",
       "    </tr>\n",
       "    <tr>\n",
       "      <th>6313</th>\n",
       "      <td>Adorable Bichon Frise pups - place a deposit now!</td>\n",
       "      <td>1200.0</td>\n",
       "      <td>Bichon Frise</td>\n",
       "      <td>6 weeks</td>\n",
       "      <td>Mixed</td>\n",
       "      <td>Our bichon, Willow, coming up to 3 years old i...</td>\n",
       "      <td>Claire S.</td>\n",
       "      <td>Luton</td>\n",
       "      <td>Individual</td>\n",
       "      <td>sale</td>\n",
       "      <td>dogs</td>\n",
       "    </tr>\n",
       "    <tr>\n",
       "      <th>28609</th>\n",
       "      <td>No deposit!Mini Yorkshire Terrier 3 left</td>\n",
       "      <td>1350.0</td>\n",
       "      <td>Yorkshire Terrier</td>\n",
       "      <td>9 weeks</td>\n",
       "      <td>Mixed</td>\n",
       "      <td>No deposit required! One beautiful girl and 2 ...</td>\n",
       "      <td>Alex</td>\n",
       "      <td>Newcastle</td>\n",
       "      <td>Breeder</td>\n",
       "      <td>sale</td>\n",
       "      <td>dogs</td>\n",
       "    </tr>\n",
       "    <tr>\n",
       "      <th>7784</th>\n",
       "      <td>Saint Bernard puppies viewing &amp; deposits accep...</td>\n",
       "      <td>1700.0</td>\n",
       "      <td>Saint Bernard</td>\n",
       "      <td>3 weeks</td>\n",
       "      <td>Mixed</td>\n",
       "      <td>**update** beautiful purple has found her fore...</td>\n",
       "      <td>Sevin H.</td>\n",
       "      <td>Birmingham</td>\n",
       "      <td>Individual</td>\n",
       "      <td>sale</td>\n",
       "      <td>dogs</td>\n",
       "    </tr>\n",
       "    <tr>\n",
       "      <th>38165</th>\n",
       "      <td>Doberman ready  deposit taken</td>\n",
       "      <td>1800.0</td>\n",
       "      <td>Mixed Breed</td>\n",
       "      <td>5 weeks</td>\n",
       "      <td>Mixed</td>\n",
       "      <td>Full pedigree doberman. 3 quater bred with ful...</td>\n",
       "      <td>Dany87</td>\n",
       "      <td>Lincoln</td>\n",
       "      <td>Breeder</td>\n",
       "      <td>sale</td>\n",
       "      <td>dogs</td>\n",
       "    </tr>\n",
       "  </tbody>\n",
       "</table>\n",
       "</div>"
      ],
      "text/plain": [
       "                                                   Title   price  \\\n",
       "28936  Pomeranian Puppies for sale £200 deposit 2 secure   200.0   \n",
       "42445          No deposit!Mini Yorkshire Terrier 3 left    750.0   \n",
       "6313   Adorable Bichon Frise pups - place a deposit now!  1200.0   \n",
       "28609          No deposit!Mini Yorkshire Terrier 3 left   1350.0   \n",
       "7784   Saint Bernard puppies viewing & deposits accep...  1700.0   \n",
       "38165                      Doberman ready  deposit taken  1800.0   \n",
       "\n",
       "                 species      age gender  \\\n",
       "28936         Pomeranian  8 weeks  Mixed   \n",
       "42445  Yorkshire Terrier  9 weeks  Mixed   \n",
       "6313        Bichon Frise  6 weeks  Mixed   \n",
       "28609  Yorkshire Terrier  9 weeks  Mixed   \n",
       "7784       Saint Bernard  3 weeks  Mixed   \n",
       "38165        Mixed Breed  5 weeks  Mixed   \n",
       "\n",
       "                                             description seller_name  \\\n",
       "28936  £200 deposit required to secure any of the pup...  Jessica J.   \n",
       "42445  No deposit required! One beautiful girl and 2 ...       Alex    \n",
       "6313   Our bichon, Willow, coming up to 3 years old i...   Claire S.   \n",
       "28609  No deposit required! One beautiful girl and 2 ...       Alex    \n",
       "7784   **update** beautiful purple has found her fore...    Sevin H.   \n",
       "38165  Full pedigree doberman. 3 quater bred with ful...      Dany87   \n",
       "\n",
       "      seller_location seller_type listing_type pet_type  \n",
       "28936    Saint Helens  Individual         sale     dogs  \n",
       "42445       Newcastle     Breeder         sale     dogs  \n",
       "6313            Luton  Individual         sale     dogs  \n",
       "28609       Newcastle     Breeder         sale     dogs  \n",
       "7784       Birmingham  Individual         sale     dogs  \n",
       "38165         Lincoln     Breeder         sale     dogs  "
      ]
     },
     "execution_count": 167,
     "metadata": {},
     "output_type": "execute_result"
    }
   ],
   "source": [
    "sale.loc[(sale['pet_type'] == 'dogs') & (sale['Title'].str.contains('deposit')) ].sort_values(by=['price'], ascending=True)"
   ]
  },
  {
   "cell_type": "markdown",
   "id": "2b4a90b8",
   "metadata": {},
   "source": [
    "After looking more at the data, what I'm sure of:\n",
    "- There are duplicates that scraper couldn't identify. This is likely because title and description changed during scraping.\n",
    "- Some sellers put deposit as sale price, which explains why some listing looks extremely cheap\n",
    "- Some cheap listing is because owner couldn't take care of the pet anymore and look for new family to take over\n",
    "- Odd entries are because owner want to get in contact before deciding the sale\n",
    "- Some listing are service offers which we are not interested in\n",
    "\n",
    "Data that we need to remove:\n",
    "- Duplicates\n",
    "- Those that aren't actual sale price. The hard part is identifiying them.\n",
    "- Listing that are not in English. Those are likely to cause problems with NLP model.\n",
    "- Those that service (microchipping, dog walking, etc)\n",
    "\n",
    "To remove duplicates, we could ignore description and title column. The other columns are less likely to change after reposting.\n",
    "\n",
    "Identify those listing not in english with langdetect."
   ]
  },
  {
   "cell_type": "code",
   "execution_count": 168,
   "id": "4daa3d7f",
   "metadata": {
    "ExecuteTime": {
     "end_time": "2022-06-10T15:29:06.493120Z",
     "start_time": "2022-06-10T15:29:06.443224Z"
    }
   },
   "outputs": [
    {
     "data": {
      "text/html": [
       "<div>\n",
       "<style scoped>\n",
       "    .dataframe tbody tr th:only-of-type {\n",
       "        vertical-align: middle;\n",
       "    }\n",
       "\n",
       "    .dataframe tbody tr th {\n",
       "        vertical-align: top;\n",
       "    }\n",
       "\n",
       "    .dataframe thead th {\n",
       "        text-align: right;\n",
       "    }\n",
       "</style>\n",
       "<table border=\"1\" class=\"dataframe\">\n",
       "  <thead>\n",
       "    <tr style=\"text-align: right;\">\n",
       "      <th></th>\n",
       "      <th>Title</th>\n",
       "      <th>price</th>\n",
       "      <th>species</th>\n",
       "      <th>age</th>\n",
       "      <th>gender</th>\n",
       "      <th>description</th>\n",
       "      <th>seller_name</th>\n",
       "      <th>seller_location</th>\n",
       "      <th>seller_type</th>\n",
       "      <th>listing_type</th>\n",
       "      <th>pet_type</th>\n",
       "    </tr>\n",
       "  </thead>\n",
       "  <tbody>\n",
       "    <tr>\n",
       "      <th>0</th>\n",
       "      <td>unsexed green tree python + 60cm vivtek</td>\n",
       "      <td>1000.0</td>\n",
       "      <td>Python Snake</td>\n",
       "      <td>3 years</td>\n",
       "      <td>Mixed</td>\n",
       "      <td>~3years old gtp biak x sorong    Typical gtp a...</td>\n",
       "      <td>Patryk M.</td>\n",
       "      <td>Aberdeen</td>\n",
       "      <td>Individual</td>\n",
       "      <td>sale</td>\n",
       "      <td>reptiles</td>\n",
       "    </tr>\n",
       "    <tr>\n",
       "      <th>1</th>\n",
       "      <td>Leopard gecko (f)</td>\n",
       "      <td>80.0</td>\n",
       "      <td>Gecko</td>\n",
       "      <td>1 year</td>\n",
       "      <td>Female</td>\n",
       "      <td>Selling this leopard gecko I've had the joy of...</td>\n",
       "      <td>Dana I.</td>\n",
       "      <td>Aberdeen</td>\n",
       "      <td>Individual</td>\n",
       "      <td>sale</td>\n",
       "      <td>reptiles</td>\n",
       "    </tr>\n",
       "    <tr>\n",
       "      <th>2</th>\n",
       "      <td>rexy</td>\n",
       "      <td>100.0</td>\n",
       "      <td>Iguana</td>\n",
       "      <td>4 years</td>\n",
       "      <td>Male</td>\n",
       "      <td>rexy needs a new home ASP   sadly I don't not ...</td>\n",
       "      <td>Gillian W.</td>\n",
       "      <td>Aberdeen</td>\n",
       "      <td>Individual</td>\n",
       "      <td>sale</td>\n",
       "      <td>reptiles</td>\n",
       "    </tr>\n",
       "    <tr>\n",
       "      <th>3</th>\n",
       "      <td>Panther Chameleon and full set up</td>\n",
       "      <td>550.0</td>\n",
       "      <td>Chameleon</td>\n",
       "      <td>9 months</td>\n",
       "      <td>Male</td>\n",
       "      <td>Blue is a 6 month old Nosey Mitsio chameleon. ...</td>\n",
       "      <td>Craig H.</td>\n",
       "      <td>Aberdeen</td>\n",
       "      <td>Individual</td>\n",
       "      <td>sale</td>\n",
       "      <td>reptiles</td>\n",
       "    </tr>\n",
       "    <tr>\n",
       "      <th>4</th>\n",
       "      <td>Hand reared white Indian ringnecks</td>\n",
       "      <td>300.0</td>\n",
       "      <td>Parakeets</td>\n",
       "      <td>9 weeks</td>\n",
       "      <td>Mixed</td>\n",
       "      <td>I have 2 stunning white Indian ringnecks. 1 ma...</td>\n",
       "      <td>Dave T.</td>\n",
       "      <td>Aberdeen</td>\n",
       "      <td>Individual</td>\n",
       "      <td>sale</td>\n",
       "      <td>birds</td>\n",
       "    </tr>\n",
       "    <tr>\n",
       "      <th>...</th>\n",
       "      <td>...</td>\n",
       "      <td>...</td>\n",
       "      <td>...</td>\n",
       "      <td>...</td>\n",
       "      <td>...</td>\n",
       "      <td>...</td>\n",
       "      <td>...</td>\n",
       "      <td>...</td>\n",
       "      <td>...</td>\n",
       "      <td>...</td>\n",
       "      <td>...</td>\n",
       "    </tr>\n",
       "    <tr>\n",
       "      <th>42184</th>\n",
       "      <td>canarys for sale all colour plus new colours</td>\n",
       "      <td>40.0</td>\n",
       "      <td>Canaries</td>\n",
       "      <td>7 weeks</td>\n",
       "      <td>Mixed</td>\n",
       "      <td>there are all mixed cocks and hens new volour ...</td>\n",
       "      <td>Robert n.</td>\n",
       "      <td>Knottingley</td>\n",
       "      <td>Breeder</td>\n",
       "      <td>sale</td>\n",
       "      <td>birds</td>\n",
       "    </tr>\n",
       "    <tr>\n",
       "      <th>42185</th>\n",
       "      <td>TAME &amp; TALKING HARNESS TRAINED BLUE &amp; GOLD MACAW</td>\n",
       "      <td>2150.0</td>\n",
       "      <td>Macaws</td>\n",
       "      <td>4 years</td>\n",
       "      <td>Male</td>\n",
       "      <td>Rainbow is a beautiful example of a blue and g...</td>\n",
       "      <td>The Bradford Birdman</td>\n",
       "      <td>Bradford</td>\n",
       "      <td>Licensed Breeder</td>\n",
       "      <td>sale</td>\n",
       "      <td>birds</td>\n",
       "    </tr>\n",
       "    <tr>\n",
       "      <th>42186</th>\n",
       "      <td>Hand reared indian ringnecks babys</td>\n",
       "      <td>350.0</td>\n",
       "      <td>Parrots</td>\n",
       "      <td>1 year</td>\n",
       "      <td>Male</td>\n",
       "      <td>Hand reared cuddly silly tame little babys for...</td>\n",
       "      <td>Waqar A.</td>\n",
       "      <td>Bradford</td>\n",
       "      <td>Breeder</td>\n",
       "      <td>sale</td>\n",
       "      <td>birds</td>\n",
       "    </tr>\n",
       "    <tr>\n",
       "      <th>42187</th>\n",
       "      <td>One yellow one orange canary.</td>\n",
       "      <td>60.0</td>\n",
       "      <td>Canaries</td>\n",
       "      <td>2 years</td>\n",
       "      <td>Mixed</td>\n",
       "      <td>I’m reluctantly listing my canaries (peach and...</td>\n",
       "      <td>Amylia R.</td>\n",
       "      <td>Barnsley</td>\n",
       "      <td>Individual</td>\n",
       "      <td>sale</td>\n",
       "      <td>birds</td>\n",
       "    </tr>\n",
       "    <tr>\n",
       "      <th>42188</th>\n",
       "      <td>Tame and talking African grey</td>\n",
       "      <td>1250.0</td>\n",
       "      <td>Parrots</td>\n",
       "      <td>9 years</td>\n",
       "      <td>Male</td>\n",
       "      <td>Pablo has just turned 9 not able to give him t...</td>\n",
       "      <td>Ahmad R.</td>\n",
       "      <td>Bradford</td>\n",
       "      <td>Breeder</td>\n",
       "      <td>sale</td>\n",
       "      <td>birds</td>\n",
       "    </tr>\n",
       "  </tbody>\n",
       "</table>\n",
       "<p>42189 rows × 11 columns</p>\n",
       "</div>"
      ],
      "text/plain": [
       "                                                  Title   price       species  \\\n",
       "0              unsexed green tree python + 60cm vivtek   1000.0  Python Snake   \n",
       "1                                     Leopard gecko (f)    80.0         Gecko   \n",
       "2                                                  rexy   100.0        Iguana   \n",
       "3                    Panther Chameleon and full set up    550.0     Chameleon   \n",
       "4                   Hand reared white Indian ringnecks    300.0     Parakeets   \n",
       "...                                                 ...     ...           ...   \n",
       "42184      canarys for sale all colour plus new colours    40.0      Canaries   \n",
       "42185  TAME & TALKING HARNESS TRAINED BLUE & GOLD MACAW  2150.0        Macaws   \n",
       "42186                Hand reared indian ringnecks babys   350.0       Parrots   \n",
       "42187                    One yellow one orange canary.     60.0      Canaries   \n",
       "42188                     Tame and talking African grey  1250.0       Parrots   \n",
       "\n",
       "            age  gender                                        description  \\\n",
       "0       3 years   Mixed  ~3years old gtp biak x sorong    Typical gtp a...   \n",
       "1        1 year  Female  Selling this leopard gecko I've had the joy of...   \n",
       "2       4 years    Male  rexy needs a new home ASP   sadly I don't not ...   \n",
       "3      9 months    Male  Blue is a 6 month old Nosey Mitsio chameleon. ...   \n",
       "4       9 weeks   Mixed  I have 2 stunning white Indian ringnecks. 1 ma...   \n",
       "...         ...     ...                                                ...   \n",
       "42184   7 weeks   Mixed  there are all mixed cocks and hens new volour ...   \n",
       "42185   4 years    Male  Rainbow is a beautiful example of a blue and g...   \n",
       "42186    1 year    Male  Hand reared cuddly silly tame little babys for...   \n",
       "42187   2 years   Mixed  I’m reluctantly listing my canaries (peach and...   \n",
       "42188   9 years    Male  Pablo has just turned 9 not able to give him t...   \n",
       "\n",
       "                seller_name seller_location       seller_type listing_type  \\\n",
       "0                 Patryk M.        Aberdeen        Individual         sale   \n",
       "1                   Dana I.        Aberdeen        Individual         sale   \n",
       "2                Gillian W.        Aberdeen        Individual         sale   \n",
       "3                  Craig H.        Aberdeen        Individual         sale   \n",
       "4                   Dave T.        Aberdeen        Individual         sale   \n",
       "...                     ...             ...               ...          ...   \n",
       "42184             Robert n.     Knottingley           Breeder         sale   \n",
       "42185  The Bradford Birdman        Bradford  Licensed Breeder         sale   \n",
       "42186              Waqar A.        Bradford           Breeder         sale   \n",
       "42187             Amylia R.        Barnsley        Individual         sale   \n",
       "42188              Ahmad R.        Bradford           Breeder         sale   \n",
       "\n",
       "       pet_type  \n",
       "0      reptiles  \n",
       "1      reptiles  \n",
       "2      reptiles  \n",
       "3      reptiles  \n",
       "4         birds  \n",
       "...         ...  \n",
       "42184     birds  \n",
       "42185     birds  \n",
       "42186     birds  \n",
       "42187     birds  \n",
       "42188     birds  \n",
       "\n",
       "[42189 rows x 11 columns]"
      ]
     },
     "execution_count": 168,
     "metadata": {},
     "output_type": "execute_result"
    }
   ],
   "source": [
    "df = df[~df.duplicated(subset=['price', 'species', 'age', 'gender', 'seller_name', 'seller_location','seller_type',\n",
    "                               'listing_type','pet_type'])].reset_index(drop=True)\n",
    "df"
   ]
  },
  {
   "cell_type": "code",
   "execution_count": 169,
   "id": "f1f45701",
   "metadata": {
    "ExecuteTime": {
     "end_time": "2022-06-10T15:29:45.592686Z",
     "start_time": "2022-06-10T15:29:06.979105Z"
    }
   },
   "outputs": [
    {
     "ename": "LangDetectException",
     "evalue": "No features in text.",
     "output_type": "error",
     "traceback": [
      "\u001b[1;31m---------------------------------------------------------------------------\u001b[0m",
      "\u001b[1;31mLangDetectException\u001b[0m                       Traceback (most recent call last)",
      "\u001b[1;32m~\\AppData\\Local\\Temp/ipykernel_8152/1221137137.py\u001b[0m in \u001b[0;36m<module>\u001b[1;34m\u001b[0m\n\u001b[1;32m----> 1\u001b[1;33m \u001b[0mdf\u001b[0m\u001b[1;33m[\u001b[0m\u001b[1;34m'language'\u001b[0m\u001b[1;33m]\u001b[0m \u001b[1;33m=\u001b[0m \u001b[0mdf\u001b[0m\u001b[1;33m[\u001b[0m\u001b[1;34m'description'\u001b[0m\u001b[1;33m]\u001b[0m\u001b[1;33m.\u001b[0m\u001b[0mapply\u001b[0m\u001b[1;33m(\u001b[0m\u001b[0mdetect\u001b[0m\u001b[1;33m)\u001b[0m\u001b[1;33m\u001b[0m\u001b[1;33m\u001b[0m\u001b[0m\n\u001b[0m",
      "\u001b[1;32mC:\\ProgramData\\Anaconda3\\lib\\site-packages\\pandas\\core\\series.py\u001b[0m in \u001b[0;36mapply\u001b[1;34m(self, func, convert_dtype, args, **kwargs)\u001b[0m\n\u001b[0;32m   4355\u001b[0m         \u001b[0mdtype\u001b[0m\u001b[1;33m:\u001b[0m \u001b[0mfloat64\u001b[0m\u001b[1;33m\u001b[0m\u001b[1;33m\u001b[0m\u001b[0m\n\u001b[0;32m   4356\u001b[0m         \"\"\"\n\u001b[1;32m-> 4357\u001b[1;33m         \u001b[1;32mreturn\u001b[0m \u001b[0mSeriesApply\u001b[0m\u001b[1;33m(\u001b[0m\u001b[0mself\u001b[0m\u001b[1;33m,\u001b[0m \u001b[0mfunc\u001b[0m\u001b[1;33m,\u001b[0m \u001b[0mconvert_dtype\u001b[0m\u001b[1;33m,\u001b[0m \u001b[0margs\u001b[0m\u001b[1;33m,\u001b[0m \u001b[0mkwargs\u001b[0m\u001b[1;33m)\u001b[0m\u001b[1;33m.\u001b[0m\u001b[0mapply\u001b[0m\u001b[1;33m(\u001b[0m\u001b[1;33m)\u001b[0m\u001b[1;33m\u001b[0m\u001b[1;33m\u001b[0m\u001b[0m\n\u001b[0m\u001b[0;32m   4358\u001b[0m \u001b[1;33m\u001b[0m\u001b[0m\n\u001b[0;32m   4359\u001b[0m     def _reduce(\n",
      "\u001b[1;32mC:\\ProgramData\\Anaconda3\\lib\\site-packages\\pandas\\core\\apply.py\u001b[0m in \u001b[0;36mapply\u001b[1;34m(self)\u001b[0m\n\u001b[0;32m   1041\u001b[0m             \u001b[1;32mreturn\u001b[0m \u001b[0mself\u001b[0m\u001b[1;33m.\u001b[0m\u001b[0mapply_str\u001b[0m\u001b[1;33m(\u001b[0m\u001b[1;33m)\u001b[0m\u001b[1;33m\u001b[0m\u001b[1;33m\u001b[0m\u001b[0m\n\u001b[0;32m   1042\u001b[0m \u001b[1;33m\u001b[0m\u001b[0m\n\u001b[1;32m-> 1043\u001b[1;33m         \u001b[1;32mreturn\u001b[0m \u001b[0mself\u001b[0m\u001b[1;33m.\u001b[0m\u001b[0mapply_standard\u001b[0m\u001b[1;33m(\u001b[0m\u001b[1;33m)\u001b[0m\u001b[1;33m\u001b[0m\u001b[1;33m\u001b[0m\u001b[0m\n\u001b[0m\u001b[0;32m   1044\u001b[0m \u001b[1;33m\u001b[0m\u001b[0m\n\u001b[0;32m   1045\u001b[0m     \u001b[1;32mdef\u001b[0m \u001b[0magg\u001b[0m\u001b[1;33m(\u001b[0m\u001b[0mself\u001b[0m\u001b[1;33m)\u001b[0m\u001b[1;33m:\u001b[0m\u001b[1;33m\u001b[0m\u001b[1;33m\u001b[0m\u001b[0m\n",
      "\u001b[1;32mC:\\ProgramData\\Anaconda3\\lib\\site-packages\\pandas\\core\\apply.py\u001b[0m in \u001b[0;36mapply_standard\u001b[1;34m(self)\u001b[0m\n\u001b[0;32m   1096\u001b[0m                 \u001b[1;31m# List[Union[Callable[..., Any], str]]]]]\"; expected\u001b[0m\u001b[1;33m\u001b[0m\u001b[1;33m\u001b[0m\u001b[0m\n\u001b[0;32m   1097\u001b[0m                 \u001b[1;31m# \"Callable[[Any], Any]\"\u001b[0m\u001b[1;33m\u001b[0m\u001b[1;33m\u001b[0m\u001b[0m\n\u001b[1;32m-> 1098\u001b[1;33m                 mapped = lib.map_infer(\n\u001b[0m\u001b[0;32m   1099\u001b[0m                     \u001b[0mvalues\u001b[0m\u001b[1;33m,\u001b[0m\u001b[1;33m\u001b[0m\u001b[1;33m\u001b[0m\u001b[0m\n\u001b[0;32m   1100\u001b[0m                     \u001b[0mf\u001b[0m\u001b[1;33m,\u001b[0m  \u001b[1;31m# type: ignore[arg-type]\u001b[0m\u001b[1;33m\u001b[0m\u001b[1;33m\u001b[0m\u001b[0m\n",
      "\u001b[1;32mC:\\ProgramData\\Anaconda3\\lib\\site-packages\\pandas\\_libs\\lib.pyx\u001b[0m in \u001b[0;36mpandas._libs.lib.map_infer\u001b[1;34m()\u001b[0m\n",
      "\u001b[1;32mC:\\ProgramData\\Anaconda3\\lib\\site-packages\\langdetect\\detector_factory.py\u001b[0m in \u001b[0;36mdetect\u001b[1;34m(text)\u001b[0m\n\u001b[0;32m    128\u001b[0m     \u001b[0mdetector\u001b[0m \u001b[1;33m=\u001b[0m \u001b[0m_factory\u001b[0m\u001b[1;33m.\u001b[0m\u001b[0mcreate\u001b[0m\u001b[1;33m(\u001b[0m\u001b[1;33m)\u001b[0m\u001b[1;33m\u001b[0m\u001b[1;33m\u001b[0m\u001b[0m\n\u001b[0;32m    129\u001b[0m     \u001b[0mdetector\u001b[0m\u001b[1;33m.\u001b[0m\u001b[0mappend\u001b[0m\u001b[1;33m(\u001b[0m\u001b[0mtext\u001b[0m\u001b[1;33m)\u001b[0m\u001b[1;33m\u001b[0m\u001b[1;33m\u001b[0m\u001b[0m\n\u001b[1;32m--> 130\u001b[1;33m     \u001b[1;32mreturn\u001b[0m \u001b[0mdetector\u001b[0m\u001b[1;33m.\u001b[0m\u001b[0mdetect\u001b[0m\u001b[1;33m(\u001b[0m\u001b[1;33m)\u001b[0m\u001b[1;33m\u001b[0m\u001b[1;33m\u001b[0m\u001b[0m\n\u001b[0m\u001b[0;32m    131\u001b[0m \u001b[1;33m\u001b[0m\u001b[0m\n\u001b[0;32m    132\u001b[0m \u001b[1;33m\u001b[0m\u001b[0m\n",
      "\u001b[1;32mC:\\ProgramData\\Anaconda3\\lib\\site-packages\\langdetect\\detector.py\u001b[0m in \u001b[0;36mdetect\u001b[1;34m(self)\u001b[0m\n\u001b[0;32m    134\u001b[0m         \u001b[0mwhich\u001b[0m \u001b[0mhas\u001b[0m \u001b[0mthe\u001b[0m \u001b[0mhighest\u001b[0m \u001b[0mprobability\u001b[0m\u001b[1;33m.\u001b[0m\u001b[1;33m\u001b[0m\u001b[1;33m\u001b[0m\u001b[0m\n\u001b[0;32m    135\u001b[0m         '''\n\u001b[1;32m--> 136\u001b[1;33m         \u001b[0mprobabilities\u001b[0m \u001b[1;33m=\u001b[0m \u001b[0mself\u001b[0m\u001b[1;33m.\u001b[0m\u001b[0mget_probabilities\u001b[0m\u001b[1;33m(\u001b[0m\u001b[1;33m)\u001b[0m\u001b[1;33m\u001b[0m\u001b[1;33m\u001b[0m\u001b[0m\n\u001b[0m\u001b[0;32m    137\u001b[0m         \u001b[1;32mif\u001b[0m \u001b[0mprobabilities\u001b[0m\u001b[1;33m:\u001b[0m\u001b[1;33m\u001b[0m\u001b[1;33m\u001b[0m\u001b[0m\n\u001b[0;32m    138\u001b[0m             \u001b[1;32mreturn\u001b[0m \u001b[0mprobabilities\u001b[0m\u001b[1;33m[\u001b[0m\u001b[1;36m0\u001b[0m\u001b[1;33m]\u001b[0m\u001b[1;33m.\u001b[0m\u001b[0mlang\u001b[0m\u001b[1;33m\u001b[0m\u001b[1;33m\u001b[0m\u001b[0m\n",
      "\u001b[1;32mC:\\ProgramData\\Anaconda3\\lib\\site-packages\\langdetect\\detector.py\u001b[0m in \u001b[0;36mget_probabilities\u001b[1;34m(self)\u001b[0m\n\u001b[0;32m    141\u001b[0m     \u001b[1;32mdef\u001b[0m \u001b[0mget_probabilities\u001b[0m\u001b[1;33m(\u001b[0m\u001b[0mself\u001b[0m\u001b[1;33m)\u001b[0m\u001b[1;33m:\u001b[0m\u001b[1;33m\u001b[0m\u001b[1;33m\u001b[0m\u001b[0m\n\u001b[0;32m    142\u001b[0m         \u001b[1;32mif\u001b[0m \u001b[0mself\u001b[0m\u001b[1;33m.\u001b[0m\u001b[0mlangprob\u001b[0m \u001b[1;32mis\u001b[0m \u001b[1;32mNone\u001b[0m\u001b[1;33m:\u001b[0m\u001b[1;33m\u001b[0m\u001b[1;33m\u001b[0m\u001b[0m\n\u001b[1;32m--> 143\u001b[1;33m             \u001b[0mself\u001b[0m\u001b[1;33m.\u001b[0m\u001b[0m_detect_block\u001b[0m\u001b[1;33m(\u001b[0m\u001b[1;33m)\u001b[0m\u001b[1;33m\u001b[0m\u001b[1;33m\u001b[0m\u001b[0m\n\u001b[0m\u001b[0;32m    144\u001b[0m         \u001b[1;32mreturn\u001b[0m \u001b[0mself\u001b[0m\u001b[1;33m.\u001b[0m\u001b[0m_sort_probability\u001b[0m\u001b[1;33m(\u001b[0m\u001b[0mself\u001b[0m\u001b[1;33m.\u001b[0m\u001b[0mlangprob\u001b[0m\u001b[1;33m)\u001b[0m\u001b[1;33m\u001b[0m\u001b[1;33m\u001b[0m\u001b[0m\n\u001b[0;32m    145\u001b[0m \u001b[1;33m\u001b[0m\u001b[0m\n",
      "\u001b[1;32mC:\\ProgramData\\Anaconda3\\lib\\site-packages\\langdetect\\detector.py\u001b[0m in \u001b[0;36m_detect_block\u001b[1;34m(self)\u001b[0m\n\u001b[0;32m    148\u001b[0m         \u001b[0mngrams\u001b[0m \u001b[1;33m=\u001b[0m \u001b[0mself\u001b[0m\u001b[1;33m.\u001b[0m\u001b[0m_extract_ngrams\u001b[0m\u001b[1;33m(\u001b[0m\u001b[1;33m)\u001b[0m\u001b[1;33m\u001b[0m\u001b[1;33m\u001b[0m\u001b[0m\n\u001b[0;32m    149\u001b[0m         \u001b[1;32mif\u001b[0m \u001b[1;32mnot\u001b[0m \u001b[0mngrams\u001b[0m\u001b[1;33m:\u001b[0m\u001b[1;33m\u001b[0m\u001b[1;33m\u001b[0m\u001b[0m\n\u001b[1;32m--> 150\u001b[1;33m             \u001b[1;32mraise\u001b[0m \u001b[0mLangDetectException\u001b[0m\u001b[1;33m(\u001b[0m\u001b[0mErrorCode\u001b[0m\u001b[1;33m.\u001b[0m\u001b[0mCantDetectError\u001b[0m\u001b[1;33m,\u001b[0m \u001b[1;34m'No features in text.'\u001b[0m\u001b[1;33m)\u001b[0m\u001b[1;33m\u001b[0m\u001b[1;33m\u001b[0m\u001b[0m\n\u001b[0m\u001b[0;32m    151\u001b[0m \u001b[1;33m\u001b[0m\u001b[0m\n\u001b[0;32m    152\u001b[0m         \u001b[0mself\u001b[0m\u001b[1;33m.\u001b[0m\u001b[0mlangprob\u001b[0m \u001b[1;33m=\u001b[0m \u001b[1;33m[\u001b[0m\u001b[1;36m0.0\u001b[0m\u001b[1;33m]\u001b[0m \u001b[1;33m*\u001b[0m \u001b[0mlen\u001b[0m\u001b[1;33m(\u001b[0m\u001b[0mself\u001b[0m\u001b[1;33m.\u001b[0m\u001b[0mlanglist\u001b[0m\u001b[1;33m)\u001b[0m\u001b[1;33m\u001b[0m\u001b[1;33m\u001b[0m\u001b[0m\n",
      "\u001b[1;31mLangDetectException\u001b[0m: No features in text."
     ]
    }
   ],
   "source": [
    "df['language'] = df['description'].apply(detect)"
   ]
  },
  {
   "cell_type": "code",
   "execution_count": null,
   "id": "79debc8f",
   "metadata": {
    "ExecuteTime": {
     "end_time": "2022-06-10T14:54:57.899132Z",
     "start_time": "2022-06-10T14:54:57.899132Z"
    }
   },
   "outputs": [],
   "source": [
    "df"
   ]
  },
  {
   "cell_type": "markdown",
   "id": "efc6df3a",
   "metadata": {},
   "source": []
  },
  {
   "cell_type": "code",
   "execution_count": 52,
   "id": "631e80a0",
   "metadata": {
    "ExecuteTime": {
     "end_time": "2022-06-10T10:42:32.601395Z",
     "start_time": "2022-06-10T10:42:32.582408Z"
    }
   },
   "outputs": [
    {
     "name": "stderr",
     "output_type": "stream",
     "text": [
      "C:\\ProgramData\\Anaconda3\\lib\\site-packages\\pandas\\core\\frame.py:4906: SettingWithCopyWarning: \n",
      "A value is trying to be set on a copy of a slice from a DataFrame\n",
      "\n",
      "See the caveats in the documentation: https://pandas.pydata.org/pandas-docs/stable/user_guide/indexing.html#returning-a-view-versus-a-copy\n",
      "  return super().drop(\n"
     ]
    }
   ],
   "source": [
    "#dropping values\n",
    "sale.drop(sale[sale['price'] > 5000].index, inplace=True)\n",
    "sale.drop(sale[sale['price'] == 0.0].index, inplace=True)"
   ]
  },
  {
   "cell_type": "code",
   "execution_count": 53,
   "id": "3da9bc96",
   "metadata": {
    "ExecuteTime": {
     "end_time": "2022-06-10T10:42:33.143517Z",
     "start_time": "2022-06-10T10:42:33.119580Z"
    }
   },
   "outputs": [
    {
     "data": {
      "text/html": [
       "<div>\n",
       "<style scoped>\n",
       "    .dataframe tbody tr th:only-of-type {\n",
       "        vertical-align: middle;\n",
       "    }\n",
       "\n",
       "    .dataframe tbody tr th {\n",
       "        vertical-align: top;\n",
       "    }\n",
       "\n",
       "    .dataframe thead th {\n",
       "        text-align: right;\n",
       "    }\n",
       "</style>\n",
       "<table border=\"1\" class=\"dataframe\">\n",
       "  <thead>\n",
       "    <tr style=\"text-align: right;\">\n",
       "      <th></th>\n",
       "      <th>Title</th>\n",
       "      <th>price</th>\n",
       "      <th>species</th>\n",
       "      <th>age</th>\n",
       "      <th>gender</th>\n",
       "      <th>description</th>\n",
       "      <th>seller_name</th>\n",
       "      <th>seller_location</th>\n",
       "      <th>seller_type</th>\n",
       "      <th>listing_type</th>\n",
       "      <th>pet_type</th>\n",
       "    </tr>\n",
       "  </thead>\n",
       "  <tbody>\n",
       "    <tr>\n",
       "      <th>26673</th>\n",
       "      <td>Top quality breeding xl puppys</td>\n",
       "      <td>5000.0</td>\n",
       "      <td>American Bully</td>\n",
       "      <td>14 weeks</td>\n",
       "      <td>unknown</td>\n",
       "      <td>In house special breeding at Top dog bullys uk...</td>\n",
       "      <td>Michelle D.</td>\n",
       "      <td>Bilston</td>\n",
       "      <td>Individual</td>\n",
       "      <td>sale</td>\n",
       "      <td>dogs</td>\n",
       "    </tr>\n",
       "    <tr>\n",
       "      <th>37020</th>\n",
       "      <td>Don’t miss out 1smooth &amp; 1rough choc carrier l...</td>\n",
       "      <td>5000.0</td>\n",
       "      <td>Chow Chow</td>\n",
       "      <td>8 weeks</td>\n",
       "      <td>Female</td>\n",
       "      <td>Here we had a special breeding with some very ...</td>\n",
       "      <td>JEREMIAH FITZROY H.</td>\n",
       "      <td>Weybridge</td>\n",
       "      <td>Individual</td>\n",
       "      <td>sale</td>\n",
       "      <td>dogs</td>\n",
       "    </tr>\n",
       "    <tr>\n",
       "      <th>36708</th>\n",
       "      <td>Rare Golden White Sable Tiny Female Chihuahua</td>\n",
       "      <td>5000.0</td>\n",
       "      <td>Chihuahua</td>\n",
       "      <td>9 weeks</td>\n",
       "      <td>Female</td>\n",
       "      <td>Hello,\\n\\nI have for sale the most beautiful r...</td>\n",
       "      <td>Agatha L.</td>\n",
       "      <td>London</td>\n",
       "      <td>Individual</td>\n",
       "      <td>sale</td>\n",
       "      <td>dogs</td>\n",
       "    </tr>\n",
       "    <tr>\n",
       "      <th>7791</th>\n",
       "      <td>Beatiful puppy’s with top bloodlines</td>\n",
       "      <td>5000.0</td>\n",
       "      <td>English Bulldog</td>\n",
       "      <td>7 weeks</td>\n",
       "      <td>Mixed</td>\n",
       "      <td>Adorable litter of puppy’s \\n-3 fully suited l...</td>\n",
       "      <td>Chloe H.</td>\n",
       "      <td>Wolverhampton</td>\n",
       "      <td>Individual</td>\n",
       "      <td>sale</td>\n",
       "      <td>dogs</td>\n",
       "    </tr>\n",
       "    <tr>\n",
       "      <th>9271</th>\n",
       "      <td>Top quality breeding xl puppys</td>\n",
       "      <td>5000.0</td>\n",
       "      <td>American Bully</td>\n",
       "      <td>15 weeks</td>\n",
       "      <td>unknown</td>\n",
       "      <td>In house special breeding at Top dog bullys uk...</td>\n",
       "      <td>Michelle D.</td>\n",
       "      <td>Bilston</td>\n",
       "      <td>Individual</td>\n",
       "      <td>sale</td>\n",
       "      <td>dogs</td>\n",
       "    </tr>\n",
       "    <tr>\n",
       "      <th>8938</th>\n",
       "      <td>FLUFFY FRENCH BULLDOGS TESTABLE CHOCOLATE</td>\n",
       "      <td>5000.0</td>\n",
       "      <td>French Bulldog</td>\n",
       "      <td>10 weeks</td>\n",
       "      <td>Mixed</td>\n",
       "      <td>Here is my lovely litter off top quality gorge...</td>\n",
       "      <td>Jess F.</td>\n",
       "      <td>Oldbury</td>\n",
       "      <td>Breeder</td>\n",
       "      <td>sale</td>\n",
       "      <td>dogs</td>\n",
       "    </tr>\n",
       "    <tr>\n",
       "      <th>15848</th>\n",
       "      <td>New shade French bulldog puppy REDUCED</td>\n",
       "      <td>5000.0</td>\n",
       "      <td>French Bulldog</td>\n",
       "      <td>4 months</td>\n",
       "      <td>Mixed</td>\n",
       "      <td>How is this little man still available!!! He i...</td>\n",
       "      <td>Cambullz</td>\n",
       "      <td>Bishop Auckland</td>\n",
       "      <td>Breeder</td>\n",
       "      <td>sale</td>\n",
       "      <td>dogs</td>\n",
       "    </tr>\n",
       "    <tr>\n",
       "      <th>7840</th>\n",
       "      <td>New Shade Isabella and Tan</td>\n",
       "      <td>5000.0</td>\n",
       "      <td>French Bulldog</td>\n",
       "      <td>9 weeks</td>\n",
       "      <td>Mixed</td>\n",
       "      <td>Our a short and compact Lilac and Tan girl  ca...</td>\n",
       "      <td>Arabella S.</td>\n",
       "      <td>Birmingham</td>\n",
       "      <td>Individual</td>\n",
       "      <td>sale</td>\n",
       "      <td>dogs</td>\n",
       "    </tr>\n",
       "    <tr>\n",
       "      <th>9655</th>\n",
       "      <td>2 year old lilac &amp; tan tri female English Bulldog</td>\n",
       "      <td>5000.0</td>\n",
       "      <td>English Bulldog</td>\n",
       "      <td>3 years</td>\n",
       "      <td>unknown</td>\n",
       "      <td>Amazing opportunity to take home our beautiful...</td>\n",
       "      <td>Jessica  B.</td>\n",
       "      <td>Solihull</td>\n",
       "      <td>Breeder</td>\n",
       "      <td>sale</td>\n",
       "      <td>dogs</td>\n",
       "    </tr>\n",
       "    <tr>\n",
       "      <th>8956</th>\n",
       "      <td>English bulldogs</td>\n",
       "      <td>5000.0</td>\n",
       "      <td>English Bulldog</td>\n",
       "      <td>4 months</td>\n",
       "      <td>Male</td>\n",
       "      <td>How are these still here people must not see q...</td>\n",
       "      <td>john r.</td>\n",
       "      <td>Tipton</td>\n",
       "      <td>Breeder</td>\n",
       "      <td>sale</td>\n",
       "      <td>dogs</td>\n",
       "    </tr>\n",
       "    <tr>\n",
       "      <th>20668</th>\n",
       "      <td>Platinum Lilac Tan French bulldog puppies</td>\n",
       "      <td>5000.0</td>\n",
       "      <td>French Bulldog</td>\n",
       "      <td>3 months</td>\n",
       "      <td>Female</td>\n",
       "      <td>Looking for their forever home, our stunning l...</td>\n",
       "      <td>Carly L.</td>\n",
       "      <td>Bridgend</td>\n",
       "      <td>Breeder</td>\n",
       "      <td>sale</td>\n",
       "      <td>dogs</td>\n",
       "    </tr>\n",
       "    <tr>\n",
       "      <th>26302</th>\n",
       "      <td>pocket bully</td>\n",
       "      <td>5000.0</td>\n",
       "      <td>American Bully</td>\n",
       "      <td>7 months</td>\n",
       "      <td>unknown</td>\n",
       "      <td>Pocket bully female 7 months ABKC registered. ...</td>\n",
       "      <td>Amanda L.</td>\n",
       "      <td>Coventry</td>\n",
       "      <td>Individual</td>\n",
       "      <td>sale</td>\n",
       "      <td>dogs</td>\n",
       "    </tr>\n",
       "    <tr>\n",
       "      <th>47878</th>\n",
       "      <td>Cream Miniature Dachshund KC Reg Waiting List</td>\n",
       "      <td>5000.0</td>\n",
       "      <td>Miniature Dachshund</td>\n",
       "      <td>Due in 3 weeks</td>\n",
       "      <td>Mixed</td>\n",
       "      <td>Waiting list now open for our ‘e/e’ cream litt...</td>\n",
       "      <td>Isabella and Tan Miniature Dachshund</td>\n",
       "      <td>Harrogate</td>\n",
       "      <td>Breeder</td>\n",
       "      <td>sale</td>\n",
       "      <td>dogs</td>\n",
       "    </tr>\n",
       "    <tr>\n",
       "      <th>36300</th>\n",
       "      <td>XL Bully</td>\n",
       "      <td>5000.0</td>\n",
       "      <td>American Bully</td>\n",
       "      <td>1 week</td>\n",
       "      <td>Mixed</td>\n",
       "      <td>🇬🇧 meets 🇺🇸\\n\\nWhen USA Bossy meets UKs Annie ...</td>\n",
       "      <td>Simrat G.</td>\n",
       "      <td>Hayes</td>\n",
       "      <td>Individual</td>\n",
       "      <td>sale</td>\n",
       "      <td>dogs</td>\n",
       "    </tr>\n",
       "    <tr>\n",
       "      <th>38597</th>\n",
       "      <td>Dutch warmblood 2 yr old filly</td>\n",
       "      <td>5000.0</td>\n",
       "      <td>KWPN</td>\n",
       "      <td>2020</td>\n",
       "      <td>Mare</td>\n",
       "      <td>Angel is a 2020 Dutch warmblood filly by the G...</td>\n",
       "      <td>Nathan n.</td>\n",
       "      <td>Blackpool</td>\n",
       "      <td>Individual</td>\n",
       "      <td>sale</td>\n",
       "      <td>horses</td>\n",
       "    </tr>\n",
       "    <tr>\n",
       "      <th>21298</th>\n",
       "      <td>Two Amazing horses For heartbreaking sale</td>\n",
       "      <td>5000.0</td>\n",
       "      <td>Shire</td>\n",
       "      <td>2012</td>\n",
       "      <td>Mare</td>\n",
       "      <td>Advertising on behalf of my friend who is crus...</td>\n",
       "      <td>Holly R.</td>\n",
       "      <td>Chigwell</td>\n",
       "      <td>Breeder</td>\n",
       "      <td>sale</td>\n",
       "      <td>horses</td>\n",
       "    </tr>\n",
       "    <tr>\n",
       "      <th>6055</th>\n",
       "      <td>XL bulldog puppies for sale amazing bloodline</td>\n",
       "      <td>5000.0</td>\n",
       "      <td>American Bully</td>\n",
       "      <td>10 weeks</td>\n",
       "      <td>Mixed</td>\n",
       "      <td>We would like to introduce our litter of 4, 1 ...</td>\n",
       "      <td>Hollie F.</td>\n",
       "      <td>Letchworth Garden City</td>\n",
       "      <td>Individual</td>\n",
       "      <td>sale</td>\n",
       "      <td>dogs</td>\n",
       "    </tr>\n",
       "    <tr>\n",
       "      <th>45404</th>\n",
       "      <td>Top quailty XL Bully Litter from imported parents</td>\n",
       "      <td>5000.0</td>\n",
       "      <td>American Bully</td>\n",
       "      <td>12 weeks</td>\n",
       "      <td>Mixed</td>\n",
       "      <td>Hello we are Liverbullz Kennels and we have 5 ...</td>\n",
       "      <td>Shaun F.</td>\n",
       "      <td>Liverpool</td>\n",
       "      <td>Breeder</td>\n",
       "      <td>sale</td>\n",
       "      <td>dogs</td>\n",
       "    </tr>\n",
       "    <tr>\n",
       "      <th>17533</th>\n",
       "      <td>15’1 11 Year old coloured gelding</td>\n",
       "      <td>5000.0</td>\n",
       "      <td>Irish Sports</td>\n",
       "      <td>2011</td>\n",
       "      <td>Gelding</td>\n",
       "      <td>15’1 11 year old coloured gelding “Benjamin” h...</td>\n",
       "      <td>Tricia C.</td>\n",
       "      <td>Bridgwater</td>\n",
       "      <td>Individual</td>\n",
       "      <td>sale</td>\n",
       "      <td>horses</td>\n",
       "    </tr>\n",
       "    <tr>\n",
       "      <th>32314</th>\n",
       "      <td>New shade lilac - proven</td>\n",
       "      <td>5000.0</td>\n",
       "      <td>French Bulldog</td>\n",
       "      <td>1 year</td>\n",
       "      <td>unknown</td>\n",
       "      <td>Lovely fully suited new shade lilac french bul...</td>\n",
       "      <td>Will T.</td>\n",
       "      <td>Middlesbrough</td>\n",
       "      <td>Breeder</td>\n",
       "      <td>sale</td>\n",
       "      <td>dogs</td>\n",
       "    </tr>\n",
       "    <tr>\n",
       "      <th>18984</th>\n",
       "      <td>15’1 11 Year old coloured gelding</td>\n",
       "      <td>5000.0</td>\n",
       "      <td>Irish Sports</td>\n",
       "      <td>2011</td>\n",
       "      <td>Gelding</td>\n",
       "      <td>15’1 11 year old coloured gelding “Benjamin” h...</td>\n",
       "      <td>Tricia C.</td>\n",
       "      <td>Bridgwater</td>\n",
       "      <td>Individual</td>\n",
       "      <td>sale</td>\n",
       "      <td>horses</td>\n",
       "    </tr>\n",
       "    <tr>\n",
       "      <th>42666</th>\n",
       "      <td>Lilac Merle💙Blue Merles🌈</td>\n",
       "      <td>5000.0</td>\n",
       "      <td>Chow Chow</td>\n",
       "      <td>6 weeks</td>\n",
       "      <td>Mixed</td>\n",
       "      <td>🌈🌈🌈🌈🌈🌈 RAINBOW PUPPIES\\n\\nOur American import ...</td>\n",
       "      <td>Antonio B.</td>\n",
       "      <td>Crewe</td>\n",
       "      <td>Individual</td>\n",
       "      <td>sale</td>\n",
       "      <td>dogs</td>\n",
       "    </tr>\n",
       "    <tr>\n",
       "      <th>36780</th>\n",
       "      <td>Shrinkabull English bulldogs</td>\n",
       "      <td>5000.0</td>\n",
       "      <td>English Bulldog</td>\n",
       "      <td>3 months</td>\n",
       "      <td>Mixed</td>\n",
       "      <td>Introducing this outstanding litter sired by t...</td>\n",
       "      <td>L W.</td>\n",
       "      <td>London</td>\n",
       "      <td>Individual</td>\n",
       "      <td>sale</td>\n",
       "      <td>dogs</td>\n",
       "    </tr>\n",
       "    <tr>\n",
       "      <th>18573</th>\n",
       "      <td>American Micro Bully microbully puppy</td>\n",
       "      <td>5000.0</td>\n",
       "      <td>American Bully</td>\n",
       "      <td>6 weeks</td>\n",
       "      <td>Mixed</td>\n",
       "      <td>❌Happy To Announce 8 Beautiful Puppies❌\\r\\n \\r...</td>\n",
       "      <td>kaino n.</td>\n",
       "      <td>Newport</td>\n",
       "      <td>Individual</td>\n",
       "      <td>sale</td>\n",
       "      <td>dogs</td>\n",
       "    </tr>\n",
       "    <tr>\n",
       "      <th>24458</th>\n",
       "      <td>Fully maskless Isabella new shade producers</td>\n",
       "      <td>5000.0</td>\n",
       "      <td>French Bulldog</td>\n",
       "      <td>6 weeks</td>\n",
       "      <td>Mixed</td>\n",
       "      <td>We are proud to announce our girl coco (fully ...</td>\n",
       "      <td>Sarah W.</td>\n",
       "      <td>Sale</td>\n",
       "      <td>Individual</td>\n",
       "      <td>sale</td>\n",
       "      <td>dogs</td>\n",
       "    </tr>\n",
       "    <tr>\n",
       "      <th>26199</th>\n",
       "      <td>Beatiful puppy’s with top bloodlines</td>\n",
       "      <td>5000.0</td>\n",
       "      <td>English Bulldog</td>\n",
       "      <td>6 weeks</td>\n",
       "      <td>Mixed</td>\n",
       "      <td>Adorable litter of puppy’s \\n-3 fully suited l...</td>\n",
       "      <td>Chloe H.</td>\n",
       "      <td>Wolverhampton</td>\n",
       "      <td>Individual</td>\n",
       "      <td>sale</td>\n",
       "      <td>dogs</td>\n",
       "    </tr>\n",
       "    <tr>\n",
       "      <th>21722</th>\n",
       "      <td>Isabella lilac fawn boy top structure. pay plan</td>\n",
       "      <td>5000.0</td>\n",
       "      <td>French Bulldog</td>\n",
       "      <td>8 months</td>\n",
       "      <td>Male</td>\n",
       "      <td>For sale for 5* home only which will be vet ch...</td>\n",
       "      <td>N B.</td>\n",
       "      <td>Stroud</td>\n",
       "      <td>Individual</td>\n",
       "      <td>sale</td>\n",
       "      <td>dogs</td>\n",
       "    </tr>\n",
       "    <tr>\n",
       "      <th>20718</th>\n",
       "      <td>STUNNING LILAC GIRL CARRYING FLUFFY &amp; TESTABLE</td>\n",
       "      <td>5000.0</td>\n",
       "      <td>French Bulldog</td>\n",
       "      <td>5 months</td>\n",
       "      <td>Female</td>\n",
       "      <td>I am pleased to have a beautiful stunning lila...</td>\n",
       "      <td>ultimatbulls</td>\n",
       "      <td>Cardiff</td>\n",
       "      <td>Breeder</td>\n",
       "      <td>sale</td>\n",
       "      <td>dogs</td>\n",
       "    </tr>\n",
       "    <tr>\n",
       "      <th>5711</th>\n",
       "      <td>Chocolate English Bull terriers</td>\n",
       "      <td>5000.0</td>\n",
       "      <td>English Bull Terrier</td>\n",
       "      <td>5 weeks</td>\n",
       "      <td>Male</td>\n",
       "      <td>Hey our family pet coco has given birth to a s...</td>\n",
       "      <td>Kealy H.</td>\n",
       "      <td>Hemel Hempstead</td>\n",
       "      <td>Individual</td>\n",
       "      <td>sale</td>\n",
       "      <td>dogs</td>\n",
       "    </tr>\n",
       "    <tr>\n",
       "      <th>44476</th>\n",
       "      <td>Stunning little of micro exotic Bullys</td>\n",
       "      <td>5000.0</td>\n",
       "      <td>American Bully</td>\n",
       "      <td>5 weeks</td>\n",
       "      <td>Mixed</td>\n",
       "      <td>We are proud to introduce this stunning litter...</td>\n",
       "      <td>Louise J.</td>\n",
       "      <td>Chester</td>\n",
       "      <td>Individual</td>\n",
       "      <td>sale</td>\n",
       "      <td>dogs</td>\n",
       "    </tr>\n",
       "  </tbody>\n",
       "</table>\n",
       "</div>"
      ],
      "text/plain": [
       "                                                   Title   price  \\\n",
       "26673                     Top quality breeding xl puppys  5000.0   \n",
       "37020  Don’t miss out 1smooth & 1rough choc carrier l...  5000.0   \n",
       "36708      Rare Golden White Sable Tiny Female Chihuahua  5000.0   \n",
       "7791                Beatiful puppy’s with top bloodlines  5000.0   \n",
       "9271                      Top quality breeding xl puppys  5000.0   \n",
       "8938          FLUFFY FRENCH BULLDOGS TESTABLE CHOCOLATE   5000.0   \n",
       "15848             New shade French bulldog puppy REDUCED  5000.0   \n",
       "7840                         New Shade Isabella and Tan   5000.0   \n",
       "9655   2 year old lilac & tan tri female English Bulldog  5000.0   \n",
       "8956                                    English bulldogs  5000.0   \n",
       "20668         Platinum Lilac Tan French bulldog puppies   5000.0   \n",
       "26302                                       pocket bully  5000.0   \n",
       "47878     Cream Miniature Dachshund KC Reg Waiting List   5000.0   \n",
       "36300                                           XL Bully  5000.0   \n",
       "38597                     Dutch warmblood 2 yr old filly  5000.0   \n",
       "21298          Two Amazing horses For heartbreaking sale  5000.0   \n",
       "6055      XL bulldog puppies for sale amazing bloodline   5000.0   \n",
       "45404  Top quailty XL Bully Litter from imported parents  5000.0   \n",
       "17533                  15’1 11 Year old coloured gelding  5000.0   \n",
       "32314                          New shade lilac - proven   5000.0   \n",
       "18984                  15’1 11 Year old coloured gelding  5000.0   \n",
       "42666                           Lilac Merle💙Blue Merles🌈  5000.0   \n",
       "36780                      Shrinkabull English bulldogs   5000.0   \n",
       "18573             American Micro Bully microbully puppy   5000.0   \n",
       "24458       Fully maskless Isabella new shade producers   5000.0   \n",
       "26199               Beatiful puppy’s with top bloodlines  5000.0   \n",
       "21722    Isabella lilac fawn boy top structure. pay plan  5000.0   \n",
       "20718     STUNNING LILAC GIRL CARRYING FLUFFY & TESTABLE  5000.0   \n",
       "5711                     Chocolate English Bull terriers  5000.0   \n",
       "44476            Stunning little of micro exotic Bullys   5000.0   \n",
       "\n",
       "                    species             age   gender  \\\n",
       "26673        American Bully        14 weeks  unknown   \n",
       "37020             Chow Chow         8 weeks   Female   \n",
       "36708             Chihuahua         9 weeks   Female   \n",
       "7791        English Bulldog         7 weeks    Mixed   \n",
       "9271         American Bully        15 weeks  unknown   \n",
       "8938         French Bulldog        10 weeks    Mixed   \n",
       "15848        French Bulldog        4 months    Mixed   \n",
       "7840         French Bulldog         9 weeks    Mixed   \n",
       "9655        English Bulldog         3 years  unknown   \n",
       "8956        English Bulldog        4 months     Male   \n",
       "20668        French Bulldog        3 months   Female   \n",
       "26302        American Bully        7 months  unknown   \n",
       "47878   Miniature Dachshund  Due in 3 weeks    Mixed   \n",
       "36300        American Bully          1 week    Mixed   \n",
       "38597                  KWPN            2020     Mare   \n",
       "21298                 Shire            2012     Mare   \n",
       "6055         American Bully        10 weeks    Mixed   \n",
       "45404        American Bully        12 weeks    Mixed   \n",
       "17533          Irish Sports            2011  Gelding   \n",
       "32314        French Bulldog          1 year  unknown   \n",
       "18984          Irish Sports            2011  Gelding   \n",
       "42666             Chow Chow         6 weeks    Mixed   \n",
       "36780       English Bulldog        3 months    Mixed   \n",
       "18573        American Bully         6 weeks    Mixed   \n",
       "24458        French Bulldog         6 weeks    Mixed   \n",
       "26199       English Bulldog         6 weeks    Mixed   \n",
       "21722        French Bulldog        8 months     Male   \n",
       "20718        French Bulldog        5 months   Female   \n",
       "5711   English Bull Terrier         5 weeks     Male   \n",
       "44476        American Bully         5 weeks    Mixed   \n",
       "\n",
       "                                             description  \\\n",
       "26673  In house special breeding at Top dog bullys uk...   \n",
       "37020  Here we had a special breeding with some very ...   \n",
       "36708  Hello,\\n\\nI have for sale the most beautiful r...   \n",
       "7791   Adorable litter of puppy’s \\n-3 fully suited l...   \n",
       "9271   In house special breeding at Top dog bullys uk...   \n",
       "8938   Here is my lovely litter off top quality gorge...   \n",
       "15848  How is this little man still available!!! He i...   \n",
       "7840   Our a short and compact Lilac and Tan girl  ca...   \n",
       "9655   Amazing opportunity to take home our beautiful...   \n",
       "8956   How are these still here people must not see q...   \n",
       "20668  Looking for their forever home, our stunning l...   \n",
       "26302  Pocket bully female 7 months ABKC registered. ...   \n",
       "47878  Waiting list now open for our ‘e/e’ cream litt...   \n",
       "36300  🇬🇧 meets 🇺🇸\\n\\nWhen USA Bossy meets UKs Annie ...   \n",
       "38597  Angel is a 2020 Dutch warmblood filly by the G...   \n",
       "21298  Advertising on behalf of my friend who is crus...   \n",
       "6055   We would like to introduce our litter of 4, 1 ...   \n",
       "45404  Hello we are Liverbullz Kennels and we have 5 ...   \n",
       "17533  15’1 11 year old coloured gelding “Benjamin” h...   \n",
       "32314  Lovely fully suited new shade lilac french bul...   \n",
       "18984  15’1 11 year old coloured gelding “Benjamin” h...   \n",
       "42666  🌈🌈🌈🌈🌈🌈 RAINBOW PUPPIES\\n\\nOur American import ...   \n",
       "36780  Introducing this outstanding litter sired by t...   \n",
       "18573  ❌Happy To Announce 8 Beautiful Puppies❌\\r\\n \\r...   \n",
       "24458  We are proud to announce our girl coco (fully ...   \n",
       "26199  Adorable litter of puppy’s \\n-3 fully suited l...   \n",
       "21722  For sale for 5* home only which will be vet ch...   \n",
       "20718  I am pleased to have a beautiful stunning lila...   \n",
       "5711   Hey our family pet coco has given birth to a s...   \n",
       "44476  We are proud to introduce this stunning litter...   \n",
       "\n",
       "                                seller_name         seller_location  \\\n",
       "26673                           Michelle D.                 Bilston   \n",
       "37020                   JEREMIAH FITZROY H.               Weybridge   \n",
       "36708                             Agatha L.                  London   \n",
       "7791                               Chloe H.           Wolverhampton   \n",
       "9271                            Michelle D.                 Bilston   \n",
       "8938                                Jess F.                 Oldbury   \n",
       "15848                              Cambullz         Bishop Auckland   \n",
       "7840                            Arabella S.              Birmingham   \n",
       "9655                            Jessica  B.                Solihull   \n",
       "8956                                john r.                  Tipton   \n",
       "20668                              Carly L.                Bridgend   \n",
       "26302                             Amanda L.                Coventry   \n",
       "47878  Isabella and Tan Miniature Dachshund               Harrogate   \n",
       "36300                             Simrat G.                   Hayes   \n",
       "38597                             Nathan n.               Blackpool   \n",
       "21298                              Holly R.                Chigwell   \n",
       "6055                              Hollie F.  Letchworth Garden City   \n",
       "45404                              Shaun F.               Liverpool   \n",
       "17533                             Tricia C.              Bridgwater   \n",
       "32314                               Will T.           Middlesbrough   \n",
       "18984                             Tricia C.              Bridgwater   \n",
       "42666                            Antonio B.                   Crewe   \n",
       "36780                                  L W.                  London   \n",
       "18573                              kaino n.                 Newport   \n",
       "24458                              Sarah W.                    Sale   \n",
       "26199                              Chloe H.           Wolverhampton   \n",
       "21722                                  N B.                  Stroud   \n",
       "20718                          ultimatbulls                 Cardiff   \n",
       "5711                               Kealy H.         Hemel Hempstead   \n",
       "44476                             Louise J.                 Chester   \n",
       "\n",
       "      seller_type listing_type pet_type  \n",
       "26673  Individual         sale     dogs  \n",
       "37020  Individual         sale     dogs  \n",
       "36708  Individual         sale     dogs  \n",
       "7791   Individual         sale     dogs  \n",
       "9271   Individual         sale     dogs  \n",
       "8938      Breeder         sale     dogs  \n",
       "15848     Breeder         sale     dogs  \n",
       "7840   Individual         sale     dogs  \n",
       "9655      Breeder         sale     dogs  \n",
       "8956      Breeder         sale     dogs  \n",
       "20668     Breeder         sale     dogs  \n",
       "26302  Individual         sale     dogs  \n",
       "47878     Breeder         sale     dogs  \n",
       "36300  Individual         sale     dogs  \n",
       "38597  Individual         sale   horses  \n",
       "21298     Breeder         sale   horses  \n",
       "6055   Individual         sale     dogs  \n",
       "45404     Breeder         sale     dogs  \n",
       "17533  Individual         sale   horses  \n",
       "32314     Breeder         sale     dogs  \n",
       "18984  Individual         sale   horses  \n",
       "42666  Individual         sale     dogs  \n",
       "36780  Individual         sale     dogs  \n",
       "18573  Individual         sale     dogs  \n",
       "24458  Individual         sale     dogs  \n",
       "26199  Individual         sale     dogs  \n",
       "21722  Individual         sale     dogs  \n",
       "20718     Breeder         sale     dogs  \n",
       "5711   Individual         sale     dogs  \n",
       "44476  Individual         sale     dogs  "
      ]
     },
     "execution_count": 53,
     "metadata": {},
     "output_type": "execute_result"
    }
   ],
   "source": [
    "sale.sort_values(by=['price'], ascending=False).head(30)"
   ]
  },
  {
   "cell_type": "code",
   "execution_count": 54,
   "id": "641a5cb3",
   "metadata": {
    "ExecuteTime": {
     "end_time": "2022-06-10T10:42:37.330351Z",
     "start_time": "2022-06-10T10:42:37.316360Z"
    }
   },
   "outputs": [
    {
     "data": {
      "text/html": [
       "<div>\n",
       "<style scoped>\n",
       "    .dataframe tbody tr th:only-of-type {\n",
       "        vertical-align: middle;\n",
       "    }\n",
       "\n",
       "    .dataframe tbody tr th {\n",
       "        vertical-align: top;\n",
       "    }\n",
       "\n",
       "    .dataframe thead th {\n",
       "        text-align: right;\n",
       "    }\n",
       "</style>\n",
       "<table border=\"1\" class=\"dataframe\">\n",
       "  <thead>\n",
       "    <tr style=\"text-align: right;\">\n",
       "      <th></th>\n",
       "      <th>price</th>\n",
       "    </tr>\n",
       "  </thead>\n",
       "  <tbody>\n",
       "    <tr>\n",
       "      <th>count</th>\n",
       "      <td>38549.000000</td>\n",
       "    </tr>\n",
       "    <tr>\n",
       "      <th>mean</th>\n",
       "      <td>715.087421</td>\n",
       "    </tr>\n",
       "    <tr>\n",
       "      <th>std</th>\n",
       "      <td>765.946836</td>\n",
       "    </tr>\n",
       "    <tr>\n",
       "      <th>min</th>\n",
       "      <td>1.000000</td>\n",
       "    </tr>\n",
       "    <tr>\n",
       "      <th>25%</th>\n",
       "      <td>70.000000</td>\n",
       "    </tr>\n",
       "    <tr>\n",
       "      <th>50%</th>\n",
       "      <td>500.000000</td>\n",
       "    </tr>\n",
       "    <tr>\n",
       "      <th>75%</th>\n",
       "      <td>1100.000000</td>\n",
       "    </tr>\n",
       "    <tr>\n",
       "      <th>max</th>\n",
       "      <td>5000.000000</td>\n",
       "    </tr>\n",
       "  </tbody>\n",
       "</table>\n",
       "</div>"
      ],
      "text/plain": [
       "              price\n",
       "count  38549.000000\n",
       "mean     715.087421\n",
       "std      765.946836\n",
       "min        1.000000\n",
       "25%       70.000000\n",
       "50%      500.000000\n",
       "75%     1100.000000\n",
       "max     5000.000000"
      ]
     },
     "execution_count": 54,
     "metadata": {},
     "output_type": "execute_result"
    }
   ],
   "source": [
    "sale.describe()"
   ]
  },
  {
   "cell_type": "code",
   "execution_count": 55,
   "id": "cc1da500",
   "metadata": {
    "ExecuteTime": {
     "end_time": "2022-06-10T10:42:39.747444Z",
     "start_time": "2022-06-10T10:42:37.939406Z"
    }
   },
   "outputs": [
    {
     "name": "stderr",
     "output_type": "stream",
     "text": [
      "C:\\ProgramData\\Anaconda3\\lib\\site-packages\\seaborn\\distributions.py:2619: FutureWarning: `distplot` is a deprecated function and will be removed in a future version. Please adapt your code to use either `displot` (a figure-level function with similar flexibility) or `histplot` (an axes-level function for histograms).\n",
      "  warnings.warn(msg, FutureWarning)\n"
     ]
    },
    {
     "data": {
      "image/png": "[encoded data removed]",
      "text/plain": [
       "<Figure size 576x432 with 1 Axes>"
      ]
     },
     "metadata": {
      "needs_background": "light"
     },
     "output_type": "display_data"
    },
    {
     "name": "stderr",
     "output_type": "stream",
     "text": [
      "C:\\ProgramData\\Anaconda3\\lib\\site-packages\\seaborn\\distributions.py:2619: FutureWarning: `distplot` is a deprecated function and will be removed in a future version. Please adapt your code to use either `displot` (a figure-level function with similar flexibility) or `histplot` (an axes-level function for histograms).\n",
      "  warnings.warn(msg, FutureWarning)\n"
     ]
    },
    {
     "data": {
      "image/png": "[encoded data removed]",
      "text/plain": [
       "<Figure size 576x432 with 1 Axes>"
      ]
     },
     "metadata": {
      "needs_background": "light"
     },
     "output_type": "display_data"
    },
    {
     "name": "stderr",
     "output_type": "stream",
     "text": [
      "C:\\ProgramData\\Anaconda3\\lib\\site-packages\\seaborn\\distributions.py:2619: FutureWarning: `distplot` is a deprecated function and will be removed in a future version. Please adapt your code to use either `displot` (a figure-level function with similar flexibility) or `histplot` (an axes-level function for histograms).\n",
      "  warnings.warn(msg, FutureWarning)\n"
     ]
    },
    {
     "data": {
      "image/png": "[encoded data removed]",
      "text/plain": [
       "<Figure size 576x432 with 1 Axes>"
      ]
     },
     "metadata": {
      "needs_background": "light"
     },
     "output_type": "display_data"
    },
    {
     "name": "stderr",
     "output_type": "stream",
     "text": [
      "C:\\ProgramData\\Anaconda3\\lib\\site-packages\\seaborn\\distributions.py:2619: FutureWarning: `distplot` is a deprecated function and will be removed in a future version. Please adapt your code to use either `displot` (a figure-level function with similar flexibility) or `histplot` (an axes-level function for histograms).\n",
      "  warnings.warn(msg, FutureWarning)\n"
     ]
    },
    {
     "data": {
      "image/png": "[encoded data removed]",
      "text/plain": [
       "<Figure size 576x432 with 1 Axes>"
      ]
     },
     "metadata": {
      "needs_background": "light"
     },
     "output_type": "display_data"
    },
    {
     "name": "stderr",
     "output_type": "stream",
     "text": [
      "C:\\ProgramData\\Anaconda3\\lib\\site-packages\\seaborn\\distributions.py:2619: FutureWarning: `distplot` is a deprecated function and will be removed in a future version. Please adapt your code to use either `displot` (a figure-level function with similar flexibility) or `histplot` (an axes-level function for histograms).\n",
      "  warnings.warn(msg, FutureWarning)\n"
     ]
    },
    {
     "data": {
      "image/png": "[encoded data removed]",
      "text/plain": [
       "<Figure size 576x432 with 1 Axes>"
      ]
     },
     "metadata": {
      "needs_background": "light"
     },
     "output_type": "display_data"
    },
    {
     "name": "stderr",
     "output_type": "stream",
     "text": [
      "C:\\ProgramData\\Anaconda3\\lib\\site-packages\\seaborn\\distributions.py:2619: FutureWarning: `distplot` is a deprecated function and will be removed in a future version. Please adapt your code to use either `displot` (a figure-level function with similar flexibility) or `histplot` (an axes-level function for histograms).\n",
      "  warnings.warn(msg, FutureWarning)\n"
     ]
    },
    {
     "data": {
      "image/png": "[encoded data removed]",
      "text/plain": [
       "<Figure size 576x432 with 1 Axes>"
      ]
     },
     "metadata": {
      "needs_background": "light"
     },
     "output_type": "display_data"
    },
    {
     "name": "stderr",
     "output_type": "stream",
     "text": [
      "C:\\ProgramData\\Anaconda3\\lib\\site-packages\\seaborn\\distributions.py:2619: FutureWarning: `distplot` is a deprecated function and will be removed in a future version. Please adapt your code to use either `displot` (a figure-level function with similar flexibility) or `histplot` (an axes-level function for histograms).\n",
      "  warnings.warn(msg, FutureWarning)\n"
     ]
    },
    {
     "data": {
      "image/png": "[encoded data removed]",
      "text/plain": [
       "<Figure size 576x432 with 1 Axes>"
      ]
     },
     "metadata": {
      "needs_background": "light"
     },
     "output_type": "display_data"
    },
    {
     "name": "stderr",
     "output_type": "stream",
     "text": [
      "C:\\ProgramData\\Anaconda3\\lib\\site-packages\\seaborn\\distributions.py:2619: FutureWarning: `distplot` is a deprecated function and will be removed in a future version. Please adapt your code to use either `displot` (a figure-level function with similar flexibility) or `histplot` (an axes-level function for histograms).\n",
      "  warnings.warn(msg, FutureWarning)\n"
     ]
    },
    {
     "data": {
      "image/png": "[encoded data removed]",
      "text/plain": [
       "<Figure size 576x432 with 1 Axes>"
      ]
     },
     "metadata": {
      "needs_background": "light"
     },
     "output_type": "display_data"
    },
    {
     "name": "stderr",
     "output_type": "stream",
     "text": [
      "C:\\ProgramData\\Anaconda3\\lib\\site-packages\\seaborn\\distributions.py:2619: FutureWarning: `distplot` is a deprecated function and will be removed in a future version. Please adapt your code to use either `displot` (a figure-level function with similar flexibility) or `histplot` (an axes-level function for histograms).\n",
      "  warnings.warn(msg, FutureWarning)\n"
     ]
    },
    {
     "data": {
      "image/png": "[encoded data removed]",
      "text/plain": [
       "<Figure size 576x432 with 1 Axes>"
      ]
     },
     "metadata": {
      "needs_background": "light"
     },
     "output_type": "display_data"
    },
    {
     "name": "stderr",
     "output_type": "stream",
     "text": [
      "C:\\ProgramData\\Anaconda3\\lib\\site-packages\\seaborn\\distributions.py:2619: FutureWarning: `distplot` is a deprecated function and will be removed in a future version. Please adapt your code to use either `displot` (a figure-level function with similar flexibility) or `histplot` (an axes-level function for histograms).\n",
      "  warnings.warn(msg, FutureWarning)\n"
     ]
    },
    {
     "data": {
      "image/png": "[encoded data removed]",
      "text/plain": [
       "<Figure size 576x432 with 1 Axes>"
      ]
     },
     "metadata": {
      "needs_background": "light"
     },
     "output_type": "display_data"
    },
    {
     "name": "stderr",
     "output_type": "stream",
     "text": [
      "C:\\ProgramData\\Anaconda3\\lib\\site-packages\\seaborn\\distributions.py:2619: FutureWarning: `distplot` is a deprecated function and will be removed in a future version. Please adapt your code to use either `displot` (a figure-level function with similar flexibility) or `histplot` (an axes-level function for histograms).\n",
      "  warnings.warn(msg, FutureWarning)\n"
     ]
    },
    {
     "data": {
      "image/png": "[encoded data removed]",
      "text/plain": [
       "<Figure size 576x432 with 1 Axes>"
      ]
     },
     "metadata": {
      "needs_background": "light"
     },
     "output_type": "display_data"
    }
   ],
   "source": [
    "histogram (sale,'pet_type')"
   ]
  },
  {
   "cell_type": "code",
   "execution_count": null,
   "id": "02a34424",
   "metadata": {},
   "outputs": [],
   "source": []
  }
 ],
 "metadata": {
  "kernelspec": {
   "display_name": "Python 3 (ipykernel)",
   "language": "python",
   "name": "python3"
  },
  "language_info": {
   "codemirror_mode": {
    "name": "ipython",
    "version": 3
   },
   "file_extension": ".py",
   "mimetype": "text/x-python",
   "name": "python",
   "nbconvert_exporter": "python",
   "pygments_lexer": "ipython3",
   "version": "3.9.7"
  }
 },
 "nbformat": 4,
 "nbformat_minor": 5
}
