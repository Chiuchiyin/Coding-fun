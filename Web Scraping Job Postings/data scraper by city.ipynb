{
 "cells": [
  {
   "cell_type": "markdown",
   "id": "6fc9e6e1",
   "metadata": {},
   "source": [
    "Cleaner version of the notebook that I run on laptop to scape data faster"
   ]
  },
  {
   "cell_type": "code",
   "execution_count": 1,
   "id": "e426becd",
   "metadata": {
    "ExecuteTime": {
     "end_time": "2022-05-09T11:25:18.125092Z",
     "start_time": "2022-05-09T11:25:16.836292Z"
    }
   },
   "outputs": [],
   "source": [
    "#import libraries\n",
    "from time import time, sleep\n",
    "import random\n",
    "import urllib\n",
    "import pandas as pd\n",
    "import numpy as np\n",
    "from tqdm import tqdm\n",
    "import requests\n",
    "import bs4\n",
    "from bs4 import BeautifulSoup\n",
    "import re\n",
    "from IPython.display import clear_output\n",
    "import os"
   ]
  },
  {
   "cell_type": "code",
   "execution_count": 2,
   "id": "70eebba8",
   "metadata": {
    "ExecuteTime": {
     "end_time": "2022-05-09T11:25:18.961932Z",
     "start_time": "2022-05-09T11:25:18.954124Z"
    }
   },
   "outputs": [],
   "source": [
    "#captcha alert settings\n",
    "import winsound\n",
    "duration = 5000  # milliseconds\n",
    "freq = 440  # Hz"
   ]
  },
  {
   "cell_type": "code",
   "execution_count": 3,
   "id": "832f2cd9",
   "metadata": {
    "ExecuteTime": {
     "end_time": "2022-05-09T11:25:24.362203Z",
     "start_time": "2022-05-09T11:25:24.358113Z"
    }
   },
   "outputs": [],
   "source": [
    "headers_list = [\n",
    "# Firefox 77 Mac\n",
    "{\n",
    "\"User-Agent\": \"Mozilla/5.0 (Macintosh; Intel Mac OS X 10.15; rv:77.0) Gecko/20100101 Firefox/77.0\",\n",
    "\"Accept\": \"text/html,application/xhtml+xml,application/xml;q=0.9,image/webp,*/*;q=0.8\",\n",
    "\"Accept-Language\": \"en-US,en;q=0.5\",\n",
    "\"Referer\": \"https://www.google.com/\",\n",
    "\"DNT\": \"1\",\n",
    "\"Connection\": \"keep-alive\",\n",
    "\"Upgrade-Insecure-Requests\": \"1\"\n",
    "},\n",
    "# Firefox 77 Windows\n",
    "{\n",
    "\"User-Agent\": \"Mozilla/5.0 (Windows NT 10.0; Win64; x64; rv:77.0) Gecko/20100101 Firefox/77.0\",\n",
    "\"Accept\": \"text/html,application/xhtml+xml,application/xml;q=0.9,image/webp,*/*;q=0.8\",\n",
    "\"Accept-Language\": \"en-US,en;q=0.5\",\n",
    "\"Accept-Encoding\": \"gzip, deflate, br\",\n",
    "\"Referer\": \"https://www.google.com/\",\n",
    "\"DNT\": \"1\",\n",
    "\"Connection\": \"keep-alive\",\n",
    "\"Upgrade-Insecure-Requests\": \"1\"\n",
    "},\n",
    "# Chrome 83 Mac\n",
    "{\n",
    "\"Connection\": \"keep-alive\",\n",
    "\"DNT\": \"1\",\n",
    "\"Upgrade-Insecure-Requests\": \"1\",\n",
    "\"User-Agent\": \"Mozilla/5.0 (Macintosh; Intel Mac OS X 10_15_5) AppleWebKit/537.36 (KHTML, like Gecko) Chrome/83.0.4103.97 Safari/537.36\",\n",
    "\"Accept\": \"text/html,application/xhtml+xml,application/xml;q=0.9,image/webp,image/apng,*/*;q=0.8,application/signed-exchange;v=b3;q=0.9\",\n",
    "\"Sec-Fetch-Site\": \"none\",\n",
    "\"Sec-Fetch-Mode\": \"navigate\",\n",
    "\"Sec-Fetch-Dest\": \"document\",\n",
    "\"Referer\": \"https://www.google.com/\",\n",
    "\"Accept-Encoding\": \"gzip, deflate, br\",\n",
    "\"Accept-Language\": \"en-GB,en-US;q=0.9,en;q=0.8\"\n",
    "},\n",
    "# Chrome 83 Windows \n",
    "{\n",
    "\"Connection\": \"keep-alive\",\n",
    "\"Upgrade-Insecure-Requests\": \"1\",\n",
    "\"User-Agent\": \"Mozilla/5.0 (Windows NT 10.0; Win64; x64) AppleWebKit/537.36 (KHTML, like Gecko) Chrome/83.0.4103.97 Safari/537.36\",\n",
    "\"Accept\": \"text/html,application/xhtml+xml,application/xml;q=0.9,image/webp,image/apng,*/*;q=0.8,application/signed-exchange;v=b3;q=0.9\",\n",
    "\"Sec-Fetch-Site\": \"same-origin\",\n",
    "\"Sec-Fetch-Mode\": \"navigate\",\n",
    "\"Sec-Fetch-User\": \"?1\",\n",
    "\"Sec-Fetch-Dest\": \"document\",\n",
    "\"Referer\": \"https://www.google.com/\",\n",
    "\"Accept-Encoding\": \"gzip, deflate, br\",\n",
    "\"Accept-Language\": \"en-US,en;q=0.9\"\n",
    "}\n",
    "]"
   ]
  },
  {
   "cell_type": "code",
   "execution_count": 4,
   "id": "021503bf",
   "metadata": {
    "ExecuteTime": {
     "end_time": "2022-05-09T11:25:26.027007Z",
     "start_time": "2022-05-09T11:25:26.022125Z"
    }
   },
   "outputs": [],
   "source": [
    "url_template = \"http://www.indeed.com/jobs?q=data+scientist+%2420%2C000&l={}&start={}\"\n",
    "max_results_per_city = 5000\n",
    "cities = ['New+York', 'Chicago', 'San+Francisco', 'Austin', 'Seattle', \n",
    "                 'Los+Angeles', 'Philadelphia', 'Atlanta', 'Dallas', 'Pittsburgh', \n",
    "                 'Portland', 'Phoenix', 'Denver', 'Houston', 'Miami', 'Boston',\n",
    "                 'Charlottesville', 'Richmond', 'Baltimore', 'Harrisonburg', 'San+Antonio', 'San+Diego', 'San+Jose',\n",
    "                 'Austin', 'Jacksonville', 'Indianapolis', 'Columbus', 'Fort+Worth', 'Charlotte', 'Detroit', 'El+Paso', \n",
    "                 'Memphis', 'Orlando', 'Nashville', 'Louisville', 'Milwaukee', 'Las+Vegas', 'Albuquerque', 'Tucson', \n",
    "                 'Fresno', 'Sacramento', 'Long+Beach', 'Mesa', 'Virginia+Beach', 'Norfolk', 'Atlanta', 'Colorado+Springs',\n",
    "                 'Raleigh', 'Omaha', 'Oakland', 'Tulsa', 'Minneapolis', 'Cleveland', 'Wichita', 'Arlington', 'New+Orleans', \n",
    "                 'Bakersfield', 'Tampa', 'Honolulu', 'Anaheim', 'Aurora', 'Santa+Ana', 'Riverside', 'Corpus+Christi', \n",
    "                 'Pittsburgh', 'Lexington', 'Anchorage', 'Cincinnati', 'Baton+Rouge', 'Chesapeake', 'Alexandria', 'Fairfax', \n",
    "                 'Herndon','Reston', 'Roanoke', 'Boulder', 'Pasadena', 'Greensboro', 'Newark']"
   ]
  },
  {
   "cell_type": "code",
   "execution_count": 5,
   "id": "eb663361",
   "metadata": {
    "ExecuteTime": {
     "end_time": "2022-05-09T11:29:19.544257Z",
     "start_time": "2022-05-09T11:28:48.726718Z"
    }
   },
   "outputs": [
    {
     "name": "stdout",
     "output_type": "stream",
     "text": [
      "(189, 5)  data saved, last visited city is  Dallas , continuing....\n",
      "file successfully opened\n",
      "544  loops done, proceed to sleep, current city is  Dallas\n",
      "(189, 5)  no new data, moving to next city\n",
      "moving to next city\n"
     ]
    }
   ],
   "source": [
    "i = 0\n",
    "count = 0\n",
    "results = []\n",
    "\n",
    "for city in set(cities):\n",
    "    for start in range(0, max_results_per_city, 10):\n",
    "        # Grab the results from the request (as above)\n",
    "        # Append to the full set of results\n",
    "        file = 'data_by_cities/'+str(city)+'.csv'\n",
    "        try: \n",
    "            df_more = pd.read_csv(file , sep='\\t', encoding='utf-8', index_col=0)\n",
    "            print('file successfully opened')\n",
    "        except:\n",
    "            print('file not found, creating new file')\n",
    "            df_more = pd.DataFrame(columns=[\"Title\",\"Location\",\"Company\",\"Salary\", \"Synopsis\"])\n",
    "            df_more.to_csv(file, sep='\\t', encoding='utf-8')\n",
    "        datasize = df_more.shape\n",
    "        url = url_template.format(city, start)\n",
    "        headers = random.choice(headers_list)\n",
    "        r = requests.Session()\n",
    "        r.headers = headers\n",
    "        html = r.get(url)\n",
    "        #html = requests.get(url)\n",
    "        soup = BeautifulSoup(html.content, 'html.parser', from_encoding=\"utf-8\")\n",
    "        #captcha detector\n",
    "        if 'hCaptcha solve page' in soup.get_text():\n",
    "            print('captcha detected')\n",
    "            winsound.Beep(freq, duration) #sound alert, might get irritating, probably won't work on mac\n",
    "            input(\"Press Enter to continue...\")#this would pause the code until i press enter\n",
    "        for each in soup.find_all(class_= \"result\" ):\n",
    "            try: \n",
    "                title = each.find(class_='jobTitle').text.replace('\\n', '').replace('new', '')\n",
    "            except:\n",
    "                title = 'None'\n",
    "            try:\n",
    "                location = each.find('div', {'class':\"companyLocation\" }).text.replace('\\n', '')\n",
    "            except:\n",
    "                location = 'None'\n",
    "            try: \n",
    "                company = each.find(class_='companyName').text.replace('\\n', '')\n",
    "            except:\n",
    "                company = 'None'\n",
    "            try:\n",
    "                salary = each.find('div', {'class': \"metadata salary-snippet-container\"}).text.replace('\\n', '')\n",
    "            except:\n",
    "                try:\n",
    "                    salary = each.find('span', {'class':'estimated-salary'}).text.replace('\\n', '')\n",
    "                except:\n",
    "                    salary = 'None'\n",
    "            synopsis = each.find('div', {'class':'job-snippet'}).text.replace('\\n', '')\n",
    "            df_more = df_more.append({'Title':title, 'Location':location, 'Company':company, 'Salary':salary, 'Synopsis':synopsis}, ignore_index=True)\n",
    "            #drop duplicates\n",
    "            df_more = df_more[~df_more.duplicated()].reset_index(drop=True)\n",
    "        #count the number of pages scraped and print, so I know how far the code is running\n",
    "        count+= 1\n",
    "        print(count, ' loops done, proceed to sleep, current city is ', city)\n",
    "        #move to next city if we don't get new data. it's pointless to continue without getting new data.\n",
    "        if df_more.shape == datasize:\n",
    "            print(df_more.shape,' no new data, moving to next city')\n",
    "            break       \n",
    "        df_more.to_csv(file, sep='\\t', encoding='utf-8')#write every page so i don't lose my data again\n",
    "        sleep(random.randint(7,20))\n",
    "        #I don't want too see long line of the process, clear_output will clear previous lines\n",
    "        clear_output(wait=True)\n",
    "        print(df_more.shape, ' data saved, last visited city is ', city, ', continuing....')\n",
    "    print('moving to next city')\n",
    "    sleep(random.randint(10,30))"
   ]
  },
  {
   "cell_type": "code",
   "execution_count": null,
   "id": "70a95cbd",
   "metadata": {
    "ExecuteTime": {
     "end_time": "2022-05-09T11:29:22.982975Z",
     "start_time": "2022-05-09T11:29:22.973949Z"
    }
   },
   "outputs": [],
   "source": [
    "df_more"
   ]
  },
  {
   "cell_type": "code",
   "execution_count": null,
   "id": "8020df5d",
   "metadata": {},
   "outputs": [],
   "source": []
  }
 ],
 "metadata": {
  "kernelspec": {
   "display_name": "Python 3 (ipykernel)",
   "language": "python",
   "name": "python3"
  },
  "language_info": {
   "codemirror_mode": {
    "name": "ipython",
    "version": 3
   },
   "file_extension": ".py",
   "mimetype": "text/x-python",
   "name": "python",
   "nbconvert_exporter": "python",
   "pygments_lexer": "ipython3",
   "version": "3.9.7"
  }
 },
 "nbformat": 4,
 "nbformat_minor": 5
}
