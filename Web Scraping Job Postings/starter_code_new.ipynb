{
 "cells": [
  {
   "cell_type": "markdown",
   "metadata": {},
   "source": [
    "cleaner notebook"
   ]
  },
  {
   "cell_type": "markdown",
   "metadata": {
    "focus": false,
    "id": "69b9a648-bcc7-490d-9f9b-ea244d156bd6"
   },
   "source": [
    "<img src=\"http://imgur.com/1ZcRyrc.png\" style=\"float: left; margin: 15px; height: 80px\">\n",
    "\n",
    "\n",
    "# Web Scraping for Indeed.com and Predicting Salaries"
   ]
  },
  {
   "cell_type": "markdown",
   "metadata": {},
   "source": [
    "### Business Case Overview\n",
    "\n",
    "You're working as a data scientist for a contracting firm that's rapidly expanding. Now that they have their most valuable employee (you!), they need to leverage data to win more contracts. Your firm offers technology and scientific solutions and wants to be competitive in the hiring market. Your principal wants you to\n",
    "\n",
    "   - determine the industry factors that are most important in predicting the salary amounts for these data.\n",
    "\n",
    "To limit the scope, your principal has suggested that you *focus on data-related job postings*, e.g. data scientist, data analyst, research scientist, business intelligence, and any others you might think of. You may also want to decrease the scope by *limiting your search to a single region.*\n",
    "\n",
    "Hint: Aggregators like [Indeed.com](https://www.indeed.com) regularly pool job postings from a variety of markets and industries.\n",
    "\n",
    "**Goal:** Scrape your own data from a job aggregation tool like Indeed.com in order to collect the data to best answer this question.\n",
    "\n",
    "---\n",
    "\n",
    "### Directions\n",
    "\n",
    "In this project you will be leveraging a variety of skills. The first will be to use the web-scraping and/or API techniques you've learned to collect data on data jobs from Indeed.com or another aggregator. Once you have collected and cleaned the data, you will use it to address the question above."
   ]
  },
  {
   "cell_type": "markdown",
   "metadata": {},
   "source": [
    "### Factors that impact salary\n",
    "\n",
    "To predict salary the most appropriate approach would be a regression model.\n",
    "Here instead we just want to estimate which factors (like location, job title, job level, industry sector) lead to high or low salary and work with a classification model. To do so, split the salary into two groups of high and low salary, for example by choosing the median salary as a threshold (in principle you could choose any single or multiple splitting points).\n",
    "\n",
    "Use all the skills you have learned so far to build a predictive model.\n",
    "Whatever you decide to use, the most important thing is to justify your choices and interpret your results. *Communication of your process is key.* Note that most listings **DO NOT** come with salary information. You'll need to be able to extrapolate or predict the expected salaries for these listings."
   ]
  },
  {
   "cell_type": "markdown",
   "metadata": {
    "focus": false,
    "id": "a948d79c-5527-4c0d-ab23-f5d43ce72056"
   },
   "source": [
    "### Scraping job listings from Indeed.com"
   ]
  },
  {
   "cell_type": "markdown",
   "metadata": {
    "focus": true,
    "id": "7203e0c9-e437-4802-a6ad-7dc464f94436"
   },
   "source": [
    "We will be scraping job listings from Indeed.com using BeautifulSoup. Luckily, Indeed.com is a simple text page where we can easily find relevant entries.\n",
    "\n",
    "First, look at the source of an Indeed.com page: (http://www.indeed.com/jobs?q=data+scientist+%2420%2C000&l=New+York&start=10\").\n",
    "\n",
    "Notice, each job listing is underneath a `div` tag with a class name of `result`. We can use BeautifulSoup to extract those. "
   ]
  },
  {
   "cell_type": "markdown",
   "metadata": {
    "focus": false,
    "id": "9732c901-ae26-4160-8376-42e22dd327df"
   },
   "source": [
    "#### Setup a request (using `requests`) to the URL below. Use BeautifulSoup to parse the page and extract all results (HINT: Look for div tags with class name result)\n",
    "\n",
    "The URL here has many query parameters:\n",
    "\n",
    "- `q` for the job search\n",
    "- This is followed by \"+20,000\" to return results with salaries (or expected salaries >$20,000)\n",
    "- `l` for a location \n",
    "- `start` for what result number to start on"
   ]
  },
  {
   "cell_type": "code",
   "execution_count": null,
   "metadata": {
    "focus": false,
    "id": "e915023e-6b0d-4982-af2a-b1e0355f4927"
   },
   "outputs": [],
   "source": [
    "URL = \"http://www.indeed.com/jobs?q=data+scientist+%2420%2C000&l=New+York&start=10\""
   ]
  },
  {
   "cell_type": "code",
   "execution_count": 1,
   "metadata": {
    "ExecuteTime": {
     "end_time": "2022-05-18T09:22:04.760352Z",
     "start_time": "2022-05-18T09:22:04.218290Z"
    },
    "focus": false,
    "id": "2efefc73-064a-482d-b3b5-ddf5508cb4ec"
   },
   "outputs": [],
   "source": [
    "from time import time, sleep\n",
    "import random\n",
    "import urllib\n",
    "import pandas as pd\n",
    "import numpy as np\n",
    "from tqdm import tqdm\n",
    "import requests\n",
    "import bs4\n",
    "from bs4 import BeautifulSoup\n",
    "import re\n",
    "from IPython.display import clear_output"
   ]
  },
  {
   "cell_type": "code",
   "execution_count": null,
   "metadata": {
    "focus": false,
    "id": "2c6752c4-7704-4c94-8bc0-6f13d2d0d570"
   },
   "outputs": [],
   "source": [
    "#captcha alert settings\n",
    "import winsound\n",
    "duration = 5000  # milliseconds\n",
    "freq = 440  # Hz"
   ]
  },
  {
   "cell_type": "code",
   "execution_count": null,
   "metadata": {},
   "outputs": [],
   "source": [
    "r = requests.get(URL)\n",
    "soup = BeautifulSoup(r.text, 'html.parser')"
   ]
  },
  {
   "cell_type": "markdown",
   "metadata": {
    "focus": false,
    "id": "bb0b866a-26a7-45e9-8084-5a0f90eb4b3e"
   },
   "source": [
    "Let's look at one result more closely. A single `result` looks like\n",
    "\n",
    "```\n",
    "<div class=\" row result\" data-jk=\"2480d203f7e97210\" data-tn-component=\"organicJob\" id=\"p_2480d203f7e97210\" itemscope=\"\" itemtype=\"http://schema.org/JobPosting\">\n",
    "<h2 class=\"jobtitle\" id=\"jl_2480d203f7e97210\">\n",
    "<a class=\"turnstileLink\" data-tn-element=\"jobTitle\" onmousedown=\"return rclk(this,jobmap[0],1);\" rel=\"nofollow\" target=\"_blank\" title=\"AVP/Quantitative Analyst\">AVP/Quantitative Analyst</a>\n",
    "</h2>\n",
    "<span class=\"company\" itemprop=\"hiringOrganization\" itemtype=\"http://schema.org/Organization\">\n",
    "<span itemprop=\"name\">\n",
    "<a href=\"/cmp/Alliancebernstein?from=SERP&amp;campaignid=serp-linkcompanyname&amp;fromjk=2480d203f7e97210&amp;jcid=b374f2a780e04789\" target=\"_blank\">\n",
    "    AllianceBernstein</a></span>\n",
    "</span>\n",
    "<tr>\n",
    "<td class=\"snip\">\n",
    "<nobr>$117,500 - $127,500 a year</nobr>\n",
    "<div>\n",
    "<span class=\"summary\" itemprop=\"description\">\n",
    "C onduct quantitative and statistical research as well as portfolio management for various investment portfolios. Collaborate with Quantitative Analysts and</span>\n",
    "</div>\n",
    "</div>\n",
    "</td>\n",
    "</tr>\n",
    "</table>\n",
    "</div>\n",
    "```\n",
    "\n",
    "While this has some more verbose elements removed, we can see that there is some structure to the above:\n",
    "- The salary is in a `span` with `class='salaryText'`.\n",
    "- The title of a job is in a link with class set to `jobtitle` and a `data-tn-element='jobTitle'`.  \n",
    "- The location is set in a `span` with `class='location'`. \n",
    "- The company is set in a `span` with `class='company'`. \n",
    "- Decide which other components could be relevant, for example the region or the summary of the job advert."
   ]
  },
  {
   "cell_type": "code",
   "execution_count": null,
   "metadata": {},
   "outputs": [],
   "source": [
    "print(soup.prettify())"
   ]
  },
  {
   "cell_type": "markdown",
   "metadata": {},
   "source": [
    "OK, we successfully downloaded the page, let's take a good look at the content"
   ]
  },
  {
   "cell_type": "code",
   "execution_count": null,
   "metadata": {},
   "outputs": [],
   "source": [
    "print(soup.get_text())"
   ]
  },
  {
   "cell_type": "markdown",
   "metadata": {},
   "source": [
    "Good, not blocked by captcha but the content is hard to read. The content that we want could be obtained with the html tags."
   ]
  },
  {
   "cell_type": "code",
   "execution_count": null,
   "metadata": {},
   "outputs": [],
   "source": [
    "card=[]\n",
    "for a in soup.find_all(\"div\", class_='job_seen_beacon'): #html tag for the 'cards'\n",
    "    card.append(a.get_text())\n",
    "card"
   ]
  },
  {
   "cell_type": "markdown",
   "metadata": {
    "focus": false,
    "id": "f1eddb90-4ba8-483c-a229-77e93aa53119"
   },
   "source": [
    "### Write 4 functions to extract each item: location, company, job, and salary.\n",
    "\n",
    "Example: \n",
    "```python\n",
    "def extract_location_from_result(result):\n",
    "    return result.find ...\n",
    "```\n",
    "\n",
    "\n",
    "- **Make sure these functions are robust and can handle cases where the data/field may not be available.**\n",
    "    - Remember to check if a field is empty or `None` for attempting to call methods on it.\n",
    "    - Remember to use `try/except` if you anticipate errors.\n",
    "- **Test** the functions on the results above and simple examples."
   ]
  },
  {
   "cell_type": "code",
   "execution_count": null,
   "metadata": {
    "focus": false,
    "id": "a1af53c9-9090-494f-b82e-cadb60a54909"
   },
   "outputs": [],
   "source": [
    "def parse(url):\n",
    "    html = requests.get(url)\n",
    "    soup = BeautifulSoup(html.content, 'html.parser', from_encoding=\"utf-8\")\n",
    "    df = pd.DataFrame(columns=[\"Title\",\"Location\",\"Company\",\"Salary\", \"Synopsis\"])\n",
    "    for each in soup.find_all(class_= \"result\" ):\n",
    "        try: \n",
    "            title = each.find(class_='jobTitle').text.replace('\\n', '').replace('new', '')\n",
    "        except:\n",
    "            title = 'None'\n",
    "        try:\n",
    "            location = each.find('div', {'class':\"companyLocation\" }).text.replace('\\n', '')\n",
    "        except:\n",
    "            location = 'None'\n",
    "        try: \n",
    "            company = each.find(class_='companyName').text.replace('\\n', '')\n",
    "        except:\n",
    "            company = 'None'\n",
    "        try:\n",
    "            salary = each.find('div', {'class': \"metadata salary-snippet-container\"}).text.replace('\\n', '')\n",
    "        except:\n",
    "            try:\n",
    "                salary = each.find('span', {'class':'estimated-salary'}).text.replace('\\n', '')\n",
    "            except:\n",
    "                salary = 'None'\n",
    "        synopsis = each.find('div', {'class':'job-snippet'}).text.replace('\\n', '')\n",
    "        df = df.append({'Title':title, 'Location':location, 'Company':company, 'Salary':salary, 'Synopsis':synopsis}, ignore_index=True)\n",
    "    return df"
   ]
  },
  {
   "cell_type": "code",
   "execution_count": null,
   "metadata": {},
   "outputs": [],
   "source": [
    "parse(URL)"
   ]
  },
  {
   "cell_type": "markdown",
   "metadata": {
    "focus": false,
    "id": "34070e89-9521-4b45-90c8-57a6599aac68"
   },
   "source": [
    "Now, to scale up our scraping, we need to accumulate more results. We can do this by examining the URL above.\n",
    "\n",
    "- \"http://www.indeed.com/jobs?q=data+scientist+%2420%2C000&l=New+York&start=10\"\n",
    "\n",
    "There are two query parameters here we can alter to collect more results, the `l=New+York` and the `start=10`. The first controls the location of the results (so we can try a different city). The second controls where in the results to start and gives 10 results (thus, we can keep incrementing by 10 to go further in the list)."
   ]
  },
  {
   "cell_type": "markdown",
   "metadata": {
    "focus": false,
    "id": "e8beed7c-3e42-40c0-810f-5f67f8f885a0"
   },
   "source": [
    "### Complete the following code to collect results from multiple cities and starting points. \n",
    "- Enter your city below to add it to the search.\n",
    "- Remember to convert your salary to U.S. Dollars to match the other cities if the currency is different."
   ]
  },
  {
   "cell_type": "code",
   "execution_count": null,
   "metadata": {},
   "outputs": [],
   "source": [
    "#headers to mask browsing data with python\n",
    "headers_list = [\n",
    "# Firefox 77 Mac\n",
    "{\n",
    "\"User-Agent\": \"Mozilla/5.0 (Macintosh; Intel Mac OS X 10.15; rv:77.0) Gecko/20100101 Firefox/77.0\",\n",
    "\"Accept\": \"text/html,application/xhtml+xml,application/xml;q=0.9,image/webp,*/*;q=0.8\",\n",
    "\"Accept-Language\": \"en-US,en;q=0.5\",\n",
    "\"Referer\": \"https://www.google.com/\",\n",
    "\"DNT\": \"1\",\n",
    "\"Connection\": \"keep-alive\",\n",
    "\"Upgrade-Insecure-Requests\": \"1\"\n",
    "},\n",
    "# Firefox 77 Windows\n",
    "{\n",
    "\"User-Agent\": \"Mozilla/5.0 (Windows NT 10.0; Win64; x64; rv:77.0) Gecko/20100101 Firefox/77.0\",\n",
    "\"Accept\": \"text/html,application/xhtml+xml,application/xml;q=0.9,image/webp,*/*;q=0.8\",\n",
    "\"Accept-Language\": \"en-US,en;q=0.5\",\n",
    "\"Accept-Encoding\": \"gzip, deflate, br\",\n",
    "\"Referer\": \"https://www.google.com/\",\n",
    "\"DNT\": \"1\",\n",
    "\"Connection\": \"keep-alive\",\n",
    "\"Upgrade-Insecure-Requests\": \"1\"\n",
    "},\n",
    "# Chrome 83 Mac\n",
    "{\n",
    "\"Connection\": \"keep-alive\",\n",
    "\"DNT\": \"1\",\n",
    "\"Upgrade-Insecure-Requests\": \"1\",\n",
    "\"User-Agent\": \"Mozilla/5.0 (Macintosh; Intel Mac OS X 10_15_5) AppleWebKit/537.36 (KHTML, like Gecko) Chrome/83.0.4103.97 Safari/537.36\",\n",
    "\"Accept\": \"text/html,application/xhtml+xml,application/xml;q=0.9,image/webp,image/apng,*/*;q=0.8,application/signed-exchange;v=b3;q=0.9\",\n",
    "\"Sec-Fetch-Site\": \"none\",\n",
    "\"Sec-Fetch-Mode\": \"navigate\",\n",
    "\"Sec-Fetch-Dest\": \"document\",\n",
    "\"Referer\": \"https://www.google.com/\",\n",
    "\"Accept-Encoding\": \"gzip, deflate, br\",\n",
    "\"Accept-Language\": \"en-GB,en-US;q=0.9,en;q=0.8\"\n",
    "},\n",
    "# Chrome 83 Windows \n",
    "{\n",
    "\"Connection\": \"keep-alive\",\n",
    "\"Upgrade-Insecure-Requests\": \"1\",\n",
    "\"User-Agent\": \"Mozilla/5.0 (Windows NT 10.0; Win64; x64) AppleWebKit/537.36 (KHTML, like Gecko) Chrome/83.0.4103.97 Safari/537.36\",\n",
    "\"Accept\": \"text/html,application/xhtml+xml,application/xml;q=0.9,image/webp,image/apng,*/*;q=0.8,application/signed-exchange;v=b3;q=0.9\",\n",
    "\"Sec-Fetch-Site\": \"same-origin\",\n",
    "\"Sec-Fetch-Mode\": \"navigate\",\n",
    "\"Sec-Fetch-User\": \"?1\",\n",
    "\"Sec-Fetch-Dest\": \"document\",\n",
    "\"Referer\": \"https://www.google.com/\",\n",
    "\"Accept-Encoding\": \"gzip, deflate, br\",\n",
    "\"Accept-Language\": \"en-US,en;q=0.9\"\n",
    "}\n",
    "]"
   ]
  },
  {
   "cell_type": "code",
   "execution_count": null,
   "metadata": {
    "focus": false,
    "id": "a9aa87ec-3575-4a01-a986-eb684f2c47d0"
   },
   "outputs": [],
   "source": [
    "url_template = \"http://www.indeed.com/jobs?q=data+scientist+%2420%2C000&l={}&start={}\"\n",
    "max_results_per_city = 5000\n",
    "cities = ['New+York', 'Chicago', 'San+Francisco', 'Austin', 'Seattle', \n",
    "          'Los+Angeles', 'Philadelphia', 'Atlanta', 'Dallas', 'Pittsburgh', \n",
    "          'Portland', 'Phoenix', 'Denver', 'Houston', 'Miami', 'Boston',\n",
    "          'Charlottesville', 'Richmond', 'Baltimore', 'Harrisonburg', 'San+Antonio', 'San+Diego', 'San+Jose',\n",
    "          'Austin', 'Jacksonville', 'Indianapolis', 'Columbus', 'Fort+Worth', 'Charlotte', 'Detroit', 'El+Paso', \n",
    "          'Memphis', 'Orlando', 'Nashville', 'Louisville', 'Milwaukee', 'Las+Vegas', 'Albuquerque', 'Tucson', \n",
    "          'Fresno', 'Sacramento', 'Long+Beach', 'Mesa', 'Virginia+Beach', 'Norfolk', 'Atlanta', 'Colorado+Springs',\n",
    "          'Raleigh', 'Omaha', 'Oakland', 'Tulsa', 'Minneapolis', 'Cleveland', 'Wichita', 'Arlington', 'New+Orleans', \n",
    "          'Bakersfield', 'Tampa', 'Honolulu', 'Anaheim', 'Aurora', 'Santa+Ana', 'Riverside', 'Corpus+Christi', \n",
    "          'Pittsburgh', 'Lexington', 'Anchorage', 'Cincinnati', 'Baton+Rouge', 'Chesapeake', 'Alexandria', 'Fairfax', \n",
    "          'Herndon','Reston', 'Roanoke', 'Boulder', 'Pasadena', 'Greensboro', 'Newark', 'Kansas+City', 'Abilene',\n",
    "          \"Baton Rouge\", 'Bridgeport', 'Lubbock', 'Amarillo', 'Oklahoma+City', 'Clinton', 'Stillwater', 'Berkeley',\n",
    "          'Palo+Alto', 'Cupertino', 'Buffalo', 'Dayton', 'Washington+DC', 'Huntsville']"
   ]
  },
  {
   "cell_type": "markdown",
   "metadata": {
    "focus": false,
    "id": "20339c09-5032-4e27-91be-286e9b46cd13"
   },
   "source": [
    "#### Use the functions you wrote above to parse out the 4 fields - location, title, company and salary. Create a dataframe from the results with those 4 columns."
   ]
  },
  {
   "cell_type": "code",
   "execution_count": null,
   "metadata": {
    "focus": false,
    "id": "6e259594-1c52-436b-ab9e-527e071941c1"
   },
   "outputs": [],
   "source": [
    "i = 0\n",
    "count = 0\n",
    "results = []\n",
    "\n",
    "for city in set(cities):\n",
    "    for start in range(0, max_results_per_city, 10):\n",
    "        # create new csv file for city or open if already exist\n",
    "        # each city has its own dataframe saved in individual csv\n",
    "        file = 'data_by_cities/'+str(city)+'.csv'\n",
    "        try: \n",
    "            df_more = pd.read_csv(file , sep='\\t', encoding='utf-8', index_col=0)\n",
    "            print('file successfully opened')\n",
    "        except:\n",
    "            print('file not found, creating new file')\n",
    "            df_more = pd.DataFrame(columns=[\"Title\",\"Location\",\"Company\",\"Salary\", \"Synopsis\"])\n",
    "            df_more.to_csv(file, sep='\\t', encoding='utf-8')\n",
    "        datasize = df_more.shape #keep track of size of exisiting dataframe\n",
    "        url = url_template.format(city, start)\n",
    "        headers = random.choice(headers_list)\n",
    "        r = requests.Session()\n",
    "        r.headers = headers\n",
    "        html = r.get(url)\n",
    "        soup = BeautifulSoup(html.content, 'html.parser', from_encoding=\"utf-8\")\n",
    "        #captcha detector\n",
    "        if 'hCaptcha solve page' in soup.get_text():\n",
    "            print('captcha detected')\n",
    "            winsound.Beep(freq, duration) #sound alert, might get irritating, probably won't work on mac\n",
    "            input(\"Press Enter to continue...\")#this would pause the code until i press enter\n",
    "        for each in soup.find_all(class_= \"result\" ):\n",
    "            try: \n",
    "                title = each.find(class_='jobTitle').text.replace('\\n', '').replace('new', '')\n",
    "            except:\n",
    "                title = 'None'\n",
    "            try:\n",
    "                location = each.find('div', {'class':\"companyLocation\" }).text.replace('\\n', '')\n",
    "            except:\n",
    "                location = 'None'\n",
    "            try: \n",
    "                company = each.find(class_='companyName').text.replace('\\n', '')\n",
    "            except:\n",
    "                company = 'None'\n",
    "            try:\n",
    "                salary = each.find('div', {'class': \"metadata salary-snippet-container\"}).text.replace('\\n', '')\n",
    "            except:\n",
    "                try:\n",
    "                    salary = each.find('span', {'class':'estimated-salary'}).text.replace('\\n', '')\n",
    "                except:\n",
    "                    salary = 'None'\n",
    "            synopsis = each.find('div', {'class':'job-snippet'}).text.replace('\\n', '')\n",
    "            df_more = df_more.append({'Title':title, 'Location':location, 'Company':company, 'Salary':salary, 'Synopsis':synopsis}, ignore_index=True)\n",
    "            #drop duplicates\n",
    "            df_more = df_more[~df_more.duplicated()].reset_index(drop=True)\n",
    "        #count the number of pages scraped and print, so I know how far the code is running\n",
    "        count+= 1\n",
    "        print(count, ' loops done, proceed to sleep, current city is ', city)\n",
    "        if df_more.shape == datasize: #move to next city if we don't get new data. it's pointless to continue without getting new data.\n",
    "            print(df_more.shape,' no new data, moving to next city')\n",
    "            break       \n",
    "        df_more.to_csv(file, sep='\\t', encoding='utf-8') #write every scraped page so i don't lose my data again\n",
    "        sleep(random.randint(7,20)) #pause to mimic human\n",
    "        clear_output(wait=True) #I don't want too see long line of the process, clear_output will clear previous lines\n",
    "        print(df_more.shape, ' data saved, last visited city is ', city, ', continuing....')\n",
    "    print('moving to next city')\n",
    "    sleep(random.randint(10,30)) #longer pause before moving to new city to mimic human"
   ]
  },
  {
   "cell_type": "code",
   "execution_count": 26,
   "metadata": {
    "ExecuteTime": {
     "end_time": "2022-05-18T09:50:44.688876Z",
     "start_time": "2022-05-18T09:50:44.218503Z"
    }
   },
   "outputs": [
    {
     "data": {
      "text/html": [
       "<div>\n",
       "<style scoped>\n",
       "    .dataframe tbody tr th:only-of-type {\n",
       "        vertical-align: middle;\n",
       "    }\n",
       "\n",
       "    .dataframe tbody tr th {\n",
       "        vertical-align: top;\n",
       "    }\n",
       "\n",
       "    .dataframe thead th {\n",
       "        text-align: right;\n",
       "    }\n",
       "</style>\n",
       "<table border=\"1\" class=\"dataframe\">\n",
       "  <thead>\n",
       "    <tr style=\"text-align: right;\">\n",
       "      <th></th>\n",
       "      <th>Title</th>\n",
       "      <th>Location</th>\n",
       "      <th>Company</th>\n",
       "      <th>Salary</th>\n",
       "      <th>Synopsis</th>\n",
       "      <th>origin</th>\n",
       "    </tr>\n",
       "  </thead>\n",
       "  <tbody>\n",
       "    <tr>\n",
       "      <th>0</th>\n",
       "      <td>Senior Data Scientist - Delivery Insights</td>\n",
       "      <td>Remote in Texas</td>\n",
       "      <td>Indeed</td>\n",
       "      <td>$139,000 - $201,000 a year</td>\n",
       "      <td>Passion to answer Product/Engineering question...</td>\n",
       "      <td>Abilene</td>\n",
       "    </tr>\n",
       "    <tr>\n",
       "      <th>1</th>\n",
       "      <td>Senior Data Analyst</td>\n",
       "      <td>Remote in Texas</td>\n",
       "      <td>Hire With Jarvis</td>\n",
       "      <td>$120,000 - $170,000 a year</td>\n",
       "      <td>Expertise in SQL and data visualization.Experi...</td>\n",
       "      <td>Abilene</td>\n",
       "    </tr>\n",
       "    <tr>\n",
       "      <th>2</th>\n",
       "      <td>Data Scientist - (2+ yrs of statistics &amp; R pro...</td>\n",
       "      <td>Texas</td>\n",
       "      <td>#twiceasnice Recruiting</td>\n",
       "      <td>Estimated $96.7K - $122K a year</td>\n",
       "      <td>Salary: Commensurate with Experience + Bonus +...</td>\n",
       "      <td>Abilene</td>\n",
       "    </tr>\n",
       "    <tr>\n",
       "      <th>3</th>\n",
       "      <td>Data Scientist - Entry to Expert Level Virtual...</td>\n",
       "      <td>United States</td>\n",
       "      <td>National Security Agency (NSA)</td>\n",
       "      <td>$74,682 - $176,300 a year</td>\n",
       "      <td>Passing this examination is a requirement in o...</td>\n",
       "      <td>Abilene</td>\n",
       "    </tr>\n",
       "    <tr>\n",
       "      <th>4</th>\n",
       "      <td>Director, Data Science- SMB Labs</td>\n",
       "      <td>Remote in United States</td>\n",
       "      <td>Indeed</td>\n",
       "      <td>$214,000 - $310,000 a year</td>\n",
       "      <td>In this role, you will lead teams of machine l...</td>\n",
       "      <td>Abilene</td>\n",
       "    </tr>\n",
       "    <tr>\n",
       "      <th>...</th>\n",
       "      <td>...</td>\n",
       "      <td>...</td>\n",
       "      <td>...</td>\n",
       "      <td>...</td>\n",
       "      <td>...</td>\n",
       "      <td>...</td>\n",
       "    </tr>\n",
       "    <tr>\n",
       "      <th>23</th>\n",
       "      <td>Senior Data Scientist/Machine Learning Engineer</td>\n",
       "      <td>Remote in Wichita, KS 67212+5 locations</td>\n",
       "      <td>Recruiting From Scratch</td>\n",
       "      <td>$140,000 - $200,000 a year</td>\n",
       "      <td>Who is Recruiting from Scratch: Recruiting fro...</td>\n",
       "      <td>Wichita</td>\n",
       "    </tr>\n",
       "    <tr>\n",
       "      <th>24</th>\n",
       "      <td>Data Plane Engineer</td>\n",
       "      <td>Remote in Wichita, KS 67212</td>\n",
       "      <td>Recruiting From Scratch</td>\n",
       "      <td>$140,000 - $200,000 a year</td>\n",
       "      <td>Who is Recruiting from Scratch: Recruiting fro...</td>\n",
       "      <td>Wichita</td>\n",
       "    </tr>\n",
       "    <tr>\n",
       "      <th>25</th>\n",
       "      <td>NLP Engineer at Speech to Text Start Up</td>\n",
       "      <td>Remote in Wichita, KS 67212</td>\n",
       "      <td>Recruiting From Scratch</td>\n",
       "      <td>Estimated $115K - $145K a year</td>\n",
       "      <td>Who is Recruiting from Scratch: Recruiting fro...</td>\n",
       "      <td>Wichita</td>\n",
       "    </tr>\n",
       "    <tr>\n",
       "      <th>26</th>\n",
       "      <td>Principal ML &amp; NLP Engineer</td>\n",
       "      <td>Remote in Wichita, KS 67212</td>\n",
       "      <td>Recruiting From Scratch</td>\n",
       "      <td>$140,000 - $200,000 a year</td>\n",
       "      <td>Who is Recruiting from Scratch: Recruiting fro...</td>\n",
       "      <td>Wichita</td>\n",
       "    </tr>\n",
       "    <tr>\n",
       "      <th>27</th>\n",
       "      <td>Senior Data Scientist/Machine Learning Engineer</td>\n",
       "      <td>Remote in Wichita, KS 67212+4 locations</td>\n",
       "      <td>Recruiting From Scratch</td>\n",
       "      <td>$140,000 - $200,000 a year</td>\n",
       "      <td>Work with cross-functional teams, including la...</td>\n",
       "      <td>Wichita</td>\n",
       "    </tr>\n",
       "  </tbody>\n",
       "</table>\n",
       "<p>19325 rows × 6 columns</p>\n",
       "</div>"
      ],
      "text/plain": [
       "                                                Title  \\\n",
       "0           Senior Data Scientist - Delivery Insights   \n",
       "1                                 Senior Data Analyst   \n",
       "2   Data Scientist - (2+ yrs of statistics & R pro...   \n",
       "3   Data Scientist - Entry to Expert Level Virtual...   \n",
       "4                    Director, Data Science- SMB Labs   \n",
       "..                                                ...   \n",
       "23    Senior Data Scientist/Machine Learning Engineer   \n",
       "24                                Data Plane Engineer   \n",
       "25            NLP Engineer at Speech to Text Start Up   \n",
       "26                        Principal ML & NLP Engineer   \n",
       "27    Senior Data Scientist/Machine Learning Engineer   \n",
       "\n",
       "                                   Location                         Company  \\\n",
       "0                           Remote in Texas                          Indeed   \n",
       "1                           Remote in Texas                Hire With Jarvis   \n",
       "2                                     Texas         #twiceasnice Recruiting   \n",
       "3                             United States  National Security Agency (NSA)   \n",
       "4                   Remote in United States                          Indeed   \n",
       "..                                      ...                             ...   \n",
       "23  Remote in Wichita, KS 67212+5 locations         Recruiting From Scratch   \n",
       "24              Remote in Wichita, KS 67212         Recruiting From Scratch   \n",
       "25              Remote in Wichita, KS 67212         Recruiting From Scratch   \n",
       "26              Remote in Wichita, KS 67212         Recruiting From Scratch   \n",
       "27  Remote in Wichita, KS 67212+4 locations         Recruiting From Scratch   \n",
       "\n",
       "                             Salary  \\\n",
       "0        $139,000 - $201,000 a year   \n",
       "1        $120,000 - $170,000 a year   \n",
       "2   Estimated $96.7K - $122K a year   \n",
       "3         $74,682 - $176,300 a year   \n",
       "4        $214,000 - $310,000 a year   \n",
       "..                              ...   \n",
       "23       $140,000 - $200,000 a year   \n",
       "24       $140,000 - $200,000 a year   \n",
       "25   Estimated $115K - $145K a year   \n",
       "26       $140,000 - $200,000 a year   \n",
       "27       $140,000 - $200,000 a year   \n",
       "\n",
       "                                             Synopsis   origin  \n",
       "0   Passion to answer Product/Engineering question...  Abilene  \n",
       "1   Expertise in SQL and data visualization.Experi...  Abilene  \n",
       "2   Salary: Commensurate with Experience + Bonus +...  Abilene  \n",
       "3   Passing this examination is a requirement in o...  Abilene  \n",
       "4   In this role, you will lead teams of machine l...  Abilene  \n",
       "..                                                ...      ...  \n",
       "23  Who is Recruiting from Scratch: Recruiting fro...  Wichita  \n",
       "24  Who is Recruiting from Scratch: Recruiting fro...  Wichita  \n",
       "25  Who is Recruiting from Scratch: Recruiting fro...  Wichita  \n",
       "26  Who is Recruiting from Scratch: Recruiting fro...  Wichita  \n",
       "27  Work with cross-functional teams, including la...  Wichita  \n",
       "\n",
       "[19325 rows x 6 columns]"
      ]
     },
     "execution_count": 26,
     "metadata": {},
     "output_type": "execute_result"
    }
   ],
   "source": [
    "import glob\n",
    "combined_csv = pd.DataFrame()\n",
    "for f in glob.glob(\".\\data_by_cities/*.csv\"):\n",
    "\n",
    "    df = pd.read_csv(f, sep='\\t', encoding='utf-8', index_col=0) # make sure to apply correct settings (sep, parse_dates, headers, missing_values)\n",
    "    df[\"origin\"] = f.replace(\".\\data_by_cities\\\\\",\"\").replace(\".csv\",\"\") #add a column with a csv name\n",
    "    combined_csv = df_all.append(df) #append new df to the \"master\" dataframe\n",
    "\n",
    "combined_csv.to_csv(\"merged.csv\")\n",
    "combined_csv"
   ]
  },
  {
   "cell_type": "markdown",
   "metadata": {
    "focus": false,
    "id": "ff98ce64-78a7-441f-a675-63464e32c834"
   },
   "source": [
    "Lastly, we need to clean up salary data. \n",
    "\n",
    "1. Only a small number of the scraped results have salary information - only these will be used for modeling.\n",
    "1. Some of the salaries are not yearly but hourly or weekly, these will not be useful to us for now.\n",
    "1. Some of the entries may be duplicated.\n",
    "1. The salaries are given as text and usually with ranges."
   ]
  },
  {
   "cell_type": "markdown",
   "metadata": {
    "focus": false,
    "id": "ff98ce64-78a7-441f-a675-63464e32c834"
   },
   "source": [
    "#### Find the entries with annual salary entries, by filtering the entries without salaries or salaries that are not yearly (filter those that refer to hour or week). Also, remove duplicate entries."
   ]
  },
  {
   "cell_type": "code",
   "execution_count": 27,
   "metadata": {
    "ExecuteTime": {
     "end_time": "2022-05-18T09:50:49.074940Z",
     "start_time": "2022-05-18T09:50:49.034049Z"
    },
    "focus": false,
    "id": "58533e57-f86b-494a-b841-e7b59c6229c6"
   },
   "outputs": [
    {
     "data": {
      "text/html": [
       "<div>\n",
       "<style scoped>\n",
       "    .dataframe tbody tr th:only-of-type {\n",
       "        vertical-align: middle;\n",
       "    }\n",
       "\n",
       "    .dataframe tbody tr th {\n",
       "        vertical-align: top;\n",
       "    }\n",
       "\n",
       "    .dataframe thead th {\n",
       "        text-align: right;\n",
       "    }\n",
       "</style>\n",
       "<table border=\"1\" class=\"dataframe\">\n",
       "  <thead>\n",
       "    <tr style=\"text-align: right;\">\n",
       "      <th></th>\n",
       "      <th>Title</th>\n",
       "      <th>Location</th>\n",
       "      <th>Company</th>\n",
       "      <th>Salary</th>\n",
       "      <th>Synopsis</th>\n",
       "      <th>origin</th>\n",
       "    </tr>\n",
       "  </thead>\n",
       "  <tbody>\n",
       "    <tr>\n",
       "      <th>0</th>\n",
       "      <td>Senior Data Scientist - Delivery Insights</td>\n",
       "      <td>Remote in Texas</td>\n",
       "      <td>Indeed</td>\n",
       "      <td>$139,000 - $201,000 a year</td>\n",
       "      <td>Passion to answer Product/Engineering question...</td>\n",
       "      <td>Abilene</td>\n",
       "    </tr>\n",
       "    <tr>\n",
       "      <th>1</th>\n",
       "      <td>Senior Data Analyst</td>\n",
       "      <td>Remote in Texas</td>\n",
       "      <td>Hire With Jarvis</td>\n",
       "      <td>$120,000 - $170,000 a year</td>\n",
       "      <td>Expertise in SQL and data visualization.Experi...</td>\n",
       "      <td>Abilene</td>\n",
       "    </tr>\n",
       "    <tr>\n",
       "      <th>2</th>\n",
       "      <td>Data Scientist - (2+ yrs of statistics &amp; R pro...</td>\n",
       "      <td>Texas</td>\n",
       "      <td>#twiceasnice Recruiting</td>\n",
       "      <td>Estimated $96.7K - $122K a year</td>\n",
       "      <td>Salary: Commensurate with Experience + Bonus +...</td>\n",
       "      <td>Abilene</td>\n",
       "    </tr>\n",
       "    <tr>\n",
       "      <th>3</th>\n",
       "      <td>Data Scientist - Entry to Expert Level Virtual...</td>\n",
       "      <td>United States</td>\n",
       "      <td>National Security Agency (NSA)</td>\n",
       "      <td>$74,682 - $176,300 a year</td>\n",
       "      <td>Passing this examination is a requirement in o...</td>\n",
       "      <td>Abilene</td>\n",
       "    </tr>\n",
       "    <tr>\n",
       "      <th>4</th>\n",
       "      <td>Director, Data Science- SMB Labs</td>\n",
       "      <td>Remote in United States</td>\n",
       "      <td>Indeed</td>\n",
       "      <td>$214,000 - $310,000 a year</td>\n",
       "      <td>In this role, you will lead teams of machine l...</td>\n",
       "      <td>Abilene</td>\n",
       "    </tr>\n",
       "    <tr>\n",
       "      <th>...</th>\n",
       "      <td>...</td>\n",
       "      <td>...</td>\n",
       "      <td>...</td>\n",
       "      <td>...</td>\n",
       "      <td>...</td>\n",
       "      <td>...</td>\n",
       "    </tr>\n",
       "    <tr>\n",
       "      <th>19292</th>\n",
       "      <td>Senior Data Scientist/Machine Learning Engineer</td>\n",
       "      <td>Remote in Wichita, KS 67212+5 locations</td>\n",
       "      <td>Recruiting From Scratch</td>\n",
       "      <td>$140,000 - $200,000 a year</td>\n",
       "      <td>Who is Recruiting from Scratch: Recruiting fro...</td>\n",
       "      <td>Wichita</td>\n",
       "    </tr>\n",
       "    <tr>\n",
       "      <th>19293</th>\n",
       "      <td>Data Plane Engineer</td>\n",
       "      <td>Remote in Wichita, KS 67212</td>\n",
       "      <td>Recruiting From Scratch</td>\n",
       "      <td>$140,000 - $200,000 a year</td>\n",
       "      <td>Who is Recruiting from Scratch: Recruiting fro...</td>\n",
       "      <td>Wichita</td>\n",
       "    </tr>\n",
       "    <tr>\n",
       "      <th>19294</th>\n",
       "      <td>NLP Engineer at Speech to Text Start Up</td>\n",
       "      <td>Remote in Wichita, KS 67212</td>\n",
       "      <td>Recruiting From Scratch</td>\n",
       "      <td>Estimated $115K - $145K a year</td>\n",
       "      <td>Who is Recruiting from Scratch: Recruiting fro...</td>\n",
       "      <td>Wichita</td>\n",
       "    </tr>\n",
       "    <tr>\n",
       "      <th>19295</th>\n",
       "      <td>Principal ML &amp; NLP Engineer</td>\n",
       "      <td>Remote in Wichita, KS 67212</td>\n",
       "      <td>Recruiting From Scratch</td>\n",
       "      <td>$140,000 - $200,000 a year</td>\n",
       "      <td>Who is Recruiting from Scratch: Recruiting fro...</td>\n",
       "      <td>Wichita</td>\n",
       "    </tr>\n",
       "    <tr>\n",
       "      <th>19296</th>\n",
       "      <td>Senior Data Scientist/Machine Learning Engineer</td>\n",
       "      <td>Remote in Wichita, KS 67212+4 locations</td>\n",
       "      <td>Recruiting From Scratch</td>\n",
       "      <td>$140,000 - $200,000 a year</td>\n",
       "      <td>Work with cross-functional teams, including la...</td>\n",
       "      <td>Wichita</td>\n",
       "    </tr>\n",
       "  </tbody>\n",
       "</table>\n",
       "<p>19297 rows × 6 columns</p>\n",
       "</div>"
      ],
      "text/plain": [
       "                                                   Title  \\\n",
       "0              Senior Data Scientist - Delivery Insights   \n",
       "1                                    Senior Data Analyst   \n",
       "2      Data Scientist - (2+ yrs of statistics & R pro...   \n",
       "3      Data Scientist - Entry to Expert Level Virtual...   \n",
       "4                       Director, Data Science- SMB Labs   \n",
       "...                                                  ...   \n",
       "19292    Senior Data Scientist/Machine Learning Engineer   \n",
       "19293                                Data Plane Engineer   \n",
       "19294            NLP Engineer at Speech to Text Start Up   \n",
       "19295                        Principal ML & NLP Engineer   \n",
       "19296    Senior Data Scientist/Machine Learning Engineer   \n",
       "\n",
       "                                      Location  \\\n",
       "0                              Remote in Texas   \n",
       "1                              Remote in Texas   \n",
       "2                                        Texas   \n",
       "3                                United States   \n",
       "4                      Remote in United States   \n",
       "...                                        ...   \n",
       "19292  Remote in Wichita, KS 67212+5 locations   \n",
       "19293              Remote in Wichita, KS 67212   \n",
       "19294              Remote in Wichita, KS 67212   \n",
       "19295              Remote in Wichita, KS 67212   \n",
       "19296  Remote in Wichita, KS 67212+4 locations   \n",
       "\n",
       "                              Company                           Salary  \\\n",
       "0                              Indeed       $139,000 - $201,000 a year   \n",
       "1                    Hire With Jarvis       $120,000 - $170,000 a year   \n",
       "2             #twiceasnice Recruiting  Estimated $96.7K - $122K a year   \n",
       "3      National Security Agency (NSA)        $74,682 - $176,300 a year   \n",
       "4                              Indeed       $214,000 - $310,000 a year   \n",
       "...                               ...                              ...   \n",
       "19292         Recruiting From Scratch       $140,000 - $200,000 a year   \n",
       "19293         Recruiting From Scratch       $140,000 - $200,000 a year   \n",
       "19294         Recruiting From Scratch   Estimated $115K - $145K a year   \n",
       "19295         Recruiting From Scratch       $140,000 - $200,000 a year   \n",
       "19296         Recruiting From Scratch       $140,000 - $200,000 a year   \n",
       "\n",
       "                                                Synopsis   origin  \n",
       "0      Passion to answer Product/Engineering question...  Abilene  \n",
       "1      Expertise in SQL and data visualization.Experi...  Abilene  \n",
       "2      Salary: Commensurate with Experience + Bonus +...  Abilene  \n",
       "3      Passing this examination is a requirement in o...  Abilene  \n",
       "4      In this role, you will lead teams of machine l...  Abilene  \n",
       "...                                                  ...      ...  \n",
       "19292  Who is Recruiting from Scratch: Recruiting fro...  Wichita  \n",
       "19293  Who is Recruiting from Scratch: Recruiting fro...  Wichita  \n",
       "19294  Who is Recruiting from Scratch: Recruiting fro...  Wichita  \n",
       "19295  Who is Recruiting from Scratch: Recruiting fro...  Wichita  \n",
       "19296  Work with cross-functional teams, including la...  Wichita  \n",
       "\n",
       "[19297 rows x 6 columns]"
      ]
     },
     "execution_count": 27,
     "metadata": {},
     "output_type": "execute_result"
    }
   ],
   "source": [
    "#drop duplicates\n",
    "combined_csv = combined_csv[~combined_csv.duplicated()].reset_index(drop=True)\n",
    "combined_csv"
   ]
  },
  {
   "cell_type": "code",
   "execution_count": 28,
   "metadata": {
    "ExecuteTime": {
     "end_time": "2022-05-18T09:50:55.618846Z",
     "start_time": "2022-05-18T09:50:55.594880Z"
    }
   },
   "outputs": [
    {
     "name": "stderr",
     "output_type": "stream",
     "text": [
      "C:\\ProgramData\\Anaconda3\\lib\\site-packages\\pandas\\core\\frame.py:4906: SettingWithCopyWarning: \n",
      "A value is trying to be set on a copy of a slice from a DataFrame\n",
      "\n",
      "See the caveats in the documentation: https://pandas.pydata.org/pandas-docs/stable/user_guide/indexing.html#returning-a-view-versus-a-copy\n",
      "  return super().drop(\n"
     ]
    }
   ],
   "source": [
    "#drop estimates\n",
    "rslt_df = combined_csv[combined_csv['Salary'] != 'None']\n",
    "estimated = rslt_df.loc[rslt_df['Salary'].str.contains(\"Estimated\")].index\n",
    "rslt_df.drop(estimated, inplace=True)\n",
    "rslt_df.reset_index(drop=True, inplace=True)"
   ]
  },
  {
   "cell_type": "code",
   "execution_count": 29,
   "metadata": {
    "ExecuteTime": {
     "end_time": "2022-05-18T09:50:58.905951Z",
     "start_time": "2022-05-18T09:50:58.897972Z"
    }
   },
   "outputs": [
    {
     "data": {
      "text/plain": [
       "Int64Index([   0,    1,    2,    3,    4,    5,    7,    9,   10,   11,\n",
       "            ...\n",
       "            4301, 4302, 4303, 4304, 4305, 4306, 4307, 4308, 4309, 4310],\n",
       "           dtype='int64', length=3774)"
      ]
     },
     "execution_count": 29,
     "metadata": {},
     "output_type": "execute_result"
    }
   ],
   "source": [
    "#check for salaries that are not yearly\n",
    "yearly = rslt_df.loc[rslt_df['Salary'].str.contains(\"year\")].index\n",
    "yearly"
   ]
  },
  {
   "cell_type": "code",
   "execution_count": 30,
   "metadata": {
    "ExecuteTime": {
     "end_time": "2022-05-18T09:51:06.252834Z",
     "start_time": "2022-05-18T09:51:06.246880Z"
    }
   },
   "outputs": [
    {
     "data": {
      "text/plain": [
       "Int64Index([   6,   18,   35,   44,   49,   79,  108,  117,  120,  122,\n",
       "            ...\n",
       "            4154, 4165, 4173, 4175, 4248, 4252, 4253, 4257, 4270, 4298],\n",
       "           dtype='int64', length=464)"
      ]
     },
     "execution_count": 30,
     "metadata": {},
     "output_type": "execute_result"
    }
   ],
   "source": [
    "hourly = rslt_df.loc[rslt_df['Salary'].str.contains(\"hour\")].index\n",
    "hourly"
   ]
  },
  {
   "cell_type": "code",
   "execution_count": 31,
   "metadata": {
    "ExecuteTime": {
     "end_time": "2022-05-18T09:51:06.813080Z",
     "start_time": "2022-05-18T09:51:06.807068Z"
    }
   },
   "outputs": [
    {
     "data": {
      "text/plain": [
       "Int64Index([  12,   14,   34,   47,   72,  130,  262,  302,  304,  399,  582,\n",
       "             585,  597,  599,  606,  610,  612,  639,  645,  651,  653,  655,\n",
       "             691,  694,  740,  979, 1442, 1457, 1475, 1500, 1654, 1949, 1980,\n",
       "            2010, 2065, 2207, 2240, 2301, 2342, 2356, 2357, 2374, 2380, 2485,\n",
       "            2546, 2598, 2611, 2649, 3171, 3176, 3225, 3246, 3264, 3281, 3293,\n",
       "            3328, 3357, 3477, 3492, 3522, 3720, 3721, 3999, 4262, 4272],\n",
       "           dtype='int64')"
      ]
     },
     "execution_count": 31,
     "metadata": {},
     "output_type": "execute_result"
    }
   ],
   "source": [
    "monthly = rslt_df.loc[rslt_df['Salary'].str.contains(\"month\")].index\n",
    "monthly"
   ]
  },
  {
   "cell_type": "code",
   "execution_count": 32,
   "metadata": {
    "ExecuteTime": {
     "end_time": "2022-05-18T09:51:07.428792Z",
     "start_time": "2022-05-18T09:51:07.422808Z"
    }
   },
   "outputs": [
    {
     "data": {
      "text/plain": [
       "Int64Index([352, 360, 1627], dtype='int64')"
      ]
     },
     "execution_count": 32,
     "metadata": {},
     "output_type": "execute_result"
    }
   ],
   "source": [
    "daily = rslt_df.loc[rslt_df['Salary'].str.contains(\"day\")].index\n",
    "daily"
   ]
  },
  {
   "cell_type": "code",
   "execution_count": 33,
   "metadata": {
    "ExecuteTime": {
     "end_time": "2022-05-18T09:51:10.647292Z",
     "start_time": "2022-05-18T09:51:10.642277Z"
    }
   },
   "outputs": [
    {
     "data": {
      "text/plain": [
       "Int64Index([8, 20, 1951, 2932, 3732], dtype='int64')"
      ]
     },
     "execution_count": 33,
     "metadata": {},
     "output_type": "execute_result"
    }
   ],
   "source": [
    "weekly = rslt_df.loc[rslt_df['Salary'].str.contains(\"week\")].index\n",
    "weekly"
   ]
  },
  {
   "cell_type": "markdown",
   "metadata": {
    "focus": false,
    "id": "7d4bc860-b214-4f75-9cd0-b234830b1ec2"
   },
   "source": [
    "#### Write a function that takes a salary string and converts it to a number, averaging a salary range if necessary."
   ]
  },
  {
   "cell_type": "code",
   "execution_count": 34,
   "metadata": {
    "ExecuteTime": {
     "end_time": "2022-05-18T09:51:14.877317Z",
     "start_time": "2022-05-18T09:51:14.874288Z"
    },
    "focus": false,
    "id": "a0f701e0-80bd-40ba-9101-4535860c0968"
   },
   "outputs": [],
   "source": [
    "#It is much easier and tidier to code both processing steps in one block of code.\n",
    "# we convert salary to annual salary using the formula:\n",
    "# Hourly: Multiply by 2,000\n",
    "# Daily: Multiply by 200\n",
    "# Weekly: Multiply by 50\n",
    "# Monthly: Multiply by 12\n",
    "# I don't know the actual number so this is very rough estimate.\n",
    "# for other annual salary given in range: convert to mean value"
   ]
  },
  {
   "cell_type": "code",
   "execution_count": 35,
   "metadata": {
    "ExecuteTime": {
     "end_time": "2022-05-18T09:51:15.308628Z",
     "start_time": "2022-05-18T09:51:15.305634Z"
    }
   },
   "outputs": [],
   "source": [
    "def isfloat(value):\n",
    "    try:\n",
    "        float(value)\n",
    "        return True\n",
    "    except ValueError:\n",
    "        return False"
   ]
  },
  {
   "cell_type": "code",
   "execution_count": 36,
   "metadata": {
    "ExecuteTime": {
     "end_time": "2022-05-18T09:51:16.006816Z",
     "start_time": "2022-05-18T09:51:16.001829Z"
    }
   },
   "outputs": [],
   "source": [
    "# function to convert salary col\n",
    "def process_salary(sal):\n",
    "    sal = str(sal)\n",
    "    sal = sal.replace(\"$\",\"\").replace(\",\",\"\").replace(\"-\",\" \")\n",
    "    value = np.mean([float(s) for s in sal.split() if s.isdecimal() or isfloat(s)])\n",
    "    if \"year\" in sal:\n",
    "        newsal = value\n",
    "    elif \"month\" in sal: \n",
    "        newsal = value*12\n",
    "    elif \"week\" in sal: \n",
    "        newsal = value*50\n",
    "    elif \"day\" in sal: \n",
    "        newsal = value*200\n",
    "    elif \"hour\" in sal: \n",
    "        newsal = value*2000\n",
    "    else:\n",
    "        newsal = sal\n",
    "    return newsal"
   ]
  },
  {
   "cell_type": "code",
   "execution_count": 37,
   "metadata": {
    "ExecuteTime": {
     "end_time": "2022-05-18T09:51:16.727331Z",
     "start_time": "2022-05-18T09:51:16.666494Z"
    }
   },
   "outputs": [
    {
     "name": "stderr",
     "output_type": "stream",
     "text": [
      "C:\\Users\\fullb\\AppData\\Local\\Temp/ipykernel_25236/2696525605.py:1: SettingWithCopyWarning: \n",
      "A value is trying to be set on a copy of a slice from a DataFrame.\n",
      "Try using .loc[row_indexer,col_indexer] = value instead\n",
      "\n",
      "See the caveats in the documentation: https://pandas.pydata.org/pandas-docs/stable/user_guide/indexing.html#returning-a-view-versus-a-copy\n",
      "  rslt_df['mean_annual_salary'] = rslt_df['Salary'].map(lambda x: process_salary(x))\n"
     ]
    }
   ],
   "source": [
    "rslt_df['mean_annual_salary'] = rslt_df['Salary'].map(lambda x: process_salary(x))"
   ]
  },
  {
   "cell_type": "code",
   "execution_count": 38,
   "metadata": {
    "ExecuteTime": {
     "end_time": "2022-05-18T09:51:17.416320Z",
     "start_time": "2022-05-18T09:51:17.406347Z"
    }
   },
   "outputs": [
    {
     "data": {
      "text/html": [
       "<div>\n",
       "<style scoped>\n",
       "    .dataframe tbody tr th:only-of-type {\n",
       "        vertical-align: middle;\n",
       "    }\n",
       "\n",
       "    .dataframe tbody tr th {\n",
       "        vertical-align: top;\n",
       "    }\n",
       "\n",
       "    .dataframe thead th {\n",
       "        text-align: right;\n",
       "    }\n",
       "</style>\n",
       "<table border=\"1\" class=\"dataframe\">\n",
       "  <thead>\n",
       "    <tr style=\"text-align: right;\">\n",
       "      <th></th>\n",
       "      <th>Title</th>\n",
       "      <th>Location</th>\n",
       "      <th>Company</th>\n",
       "      <th>Salary</th>\n",
       "      <th>Synopsis</th>\n",
       "      <th>origin</th>\n",
       "      <th>mean_annual_salary</th>\n",
       "    </tr>\n",
       "  </thead>\n",
       "  <tbody>\n",
       "    <tr>\n",
       "      <th>0</th>\n",
       "      <td>Senior Data Scientist - Delivery Insights</td>\n",
       "      <td>Remote in Texas</td>\n",
       "      <td>Indeed</td>\n",
       "      <td>$139,000 - $201,000 a year</td>\n",
       "      <td>Passion to answer Product/Engineering question...</td>\n",
       "      <td>Abilene</td>\n",
       "      <td>170000.0</td>\n",
       "    </tr>\n",
       "    <tr>\n",
       "      <th>1</th>\n",
       "      <td>Senior Data Analyst</td>\n",
       "      <td>Remote in Texas</td>\n",
       "      <td>Hire With Jarvis</td>\n",
       "      <td>$120,000 - $170,000 a year</td>\n",
       "      <td>Expertise in SQL and data visualization.Experi...</td>\n",
       "      <td>Abilene</td>\n",
       "      <td>145000.0</td>\n",
       "    </tr>\n",
       "    <tr>\n",
       "      <th>2</th>\n",
       "      <td>Data Scientist - Entry to Expert Level Virtual...</td>\n",
       "      <td>United States</td>\n",
       "      <td>National Security Agency (NSA)</td>\n",
       "      <td>$74,682 - $176,300 a year</td>\n",
       "      <td>Passing this examination is a requirement in o...</td>\n",
       "      <td>Abilene</td>\n",
       "      <td>125491.0</td>\n",
       "    </tr>\n",
       "    <tr>\n",
       "      <th>3</th>\n",
       "      <td>Director, Data Science- SMB Labs</td>\n",
       "      <td>Remote in United States</td>\n",
       "      <td>Indeed</td>\n",
       "      <td>$214,000 - $310,000 a year</td>\n",
       "      <td>In this role, you will lead teams of machine l...</td>\n",
       "      <td>Abilene</td>\n",
       "      <td>262000.0</td>\n",
       "    </tr>\n",
       "    <tr>\n",
       "      <th>4</th>\n",
       "      <td>Data Science Manager - Search Ranking and Pers...</td>\n",
       "      <td>Remote in United States</td>\n",
       "      <td>Indeed</td>\n",
       "      <td>$149,000 - $217,000 a year</td>\n",
       "      <td>Ensure delivery of data science solutions, set...</td>\n",
       "      <td>Abilene</td>\n",
       "      <td>183000.0</td>\n",
       "    </tr>\n",
       "    <tr>\n",
       "      <th>...</th>\n",
       "      <td>...</td>\n",
       "      <td>...</td>\n",
       "      <td>...</td>\n",
       "      <td>...</td>\n",
       "      <td>...</td>\n",
       "      <td>...</td>\n",
       "      <td>...</td>\n",
       "    </tr>\n",
       "    <tr>\n",
       "      <th>4306</th>\n",
       "      <td>Senior Data Scientist at Rent-to-Own Startup</td>\n",
       "      <td>Remote in Wichita, KS 67212</td>\n",
       "      <td>Recruiting From Scratch</td>\n",
       "      <td>$120,000 - $190,000 a year</td>\n",
       "      <td>Who is Recruiting from Scratch: Recruiting fro...</td>\n",
       "      <td>Wichita</td>\n",
       "      <td>155000.0</td>\n",
       "    </tr>\n",
       "    <tr>\n",
       "      <th>4307</th>\n",
       "      <td>Senior Data Scientist/Machine Learning Engineer</td>\n",
       "      <td>Remote in Wichita, KS 67212+5 locations</td>\n",
       "      <td>Recruiting From Scratch</td>\n",
       "      <td>$140,000 - $200,000 a year</td>\n",
       "      <td>Who is Recruiting from Scratch: Recruiting fro...</td>\n",
       "      <td>Wichita</td>\n",
       "      <td>170000.0</td>\n",
       "    </tr>\n",
       "    <tr>\n",
       "      <th>4308</th>\n",
       "      <td>Data Plane Engineer</td>\n",
       "      <td>Remote in Wichita, KS 67212</td>\n",
       "      <td>Recruiting From Scratch</td>\n",
       "      <td>$140,000 - $200,000 a year</td>\n",
       "      <td>Who is Recruiting from Scratch: Recruiting fro...</td>\n",
       "      <td>Wichita</td>\n",
       "      <td>170000.0</td>\n",
       "    </tr>\n",
       "    <tr>\n",
       "      <th>4309</th>\n",
       "      <td>Principal ML &amp; NLP Engineer</td>\n",
       "      <td>Remote in Wichita, KS 67212</td>\n",
       "      <td>Recruiting From Scratch</td>\n",
       "      <td>$140,000 - $200,000 a year</td>\n",
       "      <td>Who is Recruiting from Scratch: Recruiting fro...</td>\n",
       "      <td>Wichita</td>\n",
       "      <td>170000.0</td>\n",
       "    </tr>\n",
       "    <tr>\n",
       "      <th>4310</th>\n",
       "      <td>Senior Data Scientist/Machine Learning Engineer</td>\n",
       "      <td>Remote in Wichita, KS 67212+4 locations</td>\n",
       "      <td>Recruiting From Scratch</td>\n",
       "      <td>$140,000 - $200,000 a year</td>\n",
       "      <td>Work with cross-functional teams, including la...</td>\n",
       "      <td>Wichita</td>\n",
       "      <td>170000.0</td>\n",
       "    </tr>\n",
       "  </tbody>\n",
       "</table>\n",
       "<p>4311 rows × 7 columns</p>\n",
       "</div>"
      ],
      "text/plain": [
       "                                                  Title  \\\n",
       "0             Senior Data Scientist - Delivery Insights   \n",
       "1                                   Senior Data Analyst   \n",
       "2     Data Scientist - Entry to Expert Level Virtual...   \n",
       "3                      Director, Data Science- SMB Labs   \n",
       "4     Data Science Manager - Search Ranking and Pers...   \n",
       "...                                                 ...   \n",
       "4306       Senior Data Scientist at Rent-to-Own Startup   \n",
       "4307    Senior Data Scientist/Machine Learning Engineer   \n",
       "4308                                Data Plane Engineer   \n",
       "4309                        Principal ML & NLP Engineer   \n",
       "4310    Senior Data Scientist/Machine Learning Engineer   \n",
       "\n",
       "                                     Location                         Company  \\\n",
       "0                             Remote in Texas                          Indeed   \n",
       "1                             Remote in Texas                Hire With Jarvis   \n",
       "2                               United States  National Security Agency (NSA)   \n",
       "3                     Remote in United States                          Indeed   \n",
       "4                     Remote in United States                          Indeed   \n",
       "...                                       ...                             ...   \n",
       "4306              Remote in Wichita, KS 67212         Recruiting From Scratch   \n",
       "4307  Remote in Wichita, KS 67212+5 locations         Recruiting From Scratch   \n",
       "4308              Remote in Wichita, KS 67212         Recruiting From Scratch   \n",
       "4309              Remote in Wichita, KS 67212         Recruiting From Scratch   \n",
       "4310  Remote in Wichita, KS 67212+4 locations         Recruiting From Scratch   \n",
       "\n",
       "                          Salary  \\\n",
       "0     $139,000 - $201,000 a year   \n",
       "1     $120,000 - $170,000 a year   \n",
       "2      $74,682 - $176,300 a year   \n",
       "3     $214,000 - $310,000 a year   \n",
       "4     $149,000 - $217,000 a year   \n",
       "...                          ...   \n",
       "4306  $120,000 - $190,000 a year   \n",
       "4307  $140,000 - $200,000 a year   \n",
       "4308  $140,000 - $200,000 a year   \n",
       "4309  $140,000 - $200,000 a year   \n",
       "4310  $140,000 - $200,000 a year   \n",
       "\n",
       "                                               Synopsis   origin  \\\n",
       "0     Passion to answer Product/Engineering question...  Abilene   \n",
       "1     Expertise in SQL and data visualization.Experi...  Abilene   \n",
       "2     Passing this examination is a requirement in o...  Abilene   \n",
       "3     In this role, you will lead teams of machine l...  Abilene   \n",
       "4     Ensure delivery of data science solutions, set...  Abilene   \n",
       "...                                                 ...      ...   \n",
       "4306  Who is Recruiting from Scratch: Recruiting fro...  Wichita   \n",
       "4307  Who is Recruiting from Scratch: Recruiting fro...  Wichita   \n",
       "4308  Who is Recruiting from Scratch: Recruiting fro...  Wichita   \n",
       "4309  Who is Recruiting from Scratch: Recruiting fro...  Wichita   \n",
       "4310  Work with cross-functional teams, including la...  Wichita   \n",
       "\n",
       "      mean_annual_salary  \n",
       "0               170000.0  \n",
       "1               145000.0  \n",
       "2               125491.0  \n",
       "3               262000.0  \n",
       "4               183000.0  \n",
       "...                  ...  \n",
       "4306            155000.0  \n",
       "4307            170000.0  \n",
       "4308            170000.0  \n",
       "4309            170000.0  \n",
       "4310            170000.0  \n",
       "\n",
       "[4311 rows x 7 columns]"
      ]
     },
     "execution_count": 38,
     "metadata": {},
     "output_type": "execute_result"
    }
   ],
   "source": [
    "rslt_df"
   ]
  },
  {
   "cell_type": "code",
   "execution_count": 39,
   "metadata": {
    "ExecuteTime": {
     "end_time": "2022-05-18T09:51:18.123897Z",
     "start_time": "2022-05-18T09:51:18.118941Z"
    }
   },
   "outputs": [
    {
     "data": {
      "text/plain": [
       "Title                  object\n",
       "Location               object\n",
       "Company                object\n",
       "Salary                 object\n",
       "Synopsis               object\n",
       "origin                 object\n",
       "mean_annual_salary    float64\n",
       "dtype: object"
      ]
     },
     "execution_count": 39,
     "metadata": {},
     "output_type": "execute_result"
    }
   ],
   "source": [
    "rslt_df.dtypes"
   ]
  },
  {
   "cell_type": "markdown",
   "metadata": {
    "focus": false,
    "id": "43e71edd-210e-42b1-9336-70a931f048af"
   },
   "source": [
    "### Save your results as a CSV"
   ]
  },
  {
   "cell_type": "code",
   "execution_count": 40,
   "metadata": {
    "ExecuteTime": {
     "end_time": "2022-05-18T09:51:23.767365Z",
     "start_time": "2022-05-18T09:51:23.734430Z"
    },
    "focus": false,
    "id": "783fd153-28ac-47ab-bfca-27e7c1de95b4"
   },
   "outputs": [],
   "source": [
    "#save data as new csv\n",
    "rslt_df\n",
    "rslt_df.to_csv('cleaned_data.csv', sep='\\t', encoding='utf-8')"
   ]
  },
  {
   "cell_type": "markdown",
   "metadata": {
    "focus": false,
    "id": "243e949e-2742-40af-872e-fec475fd306c"
   },
   "source": [
    "### Load in the the data of scraped salaries"
   ]
  },
  {
   "cell_type": "code",
   "execution_count": 41,
   "metadata": {
    "ExecuteTime": {
     "end_time": "2022-05-18T09:51:25.038769Z",
     "start_time": "2022-05-18T09:51:25.005751Z"
    },
    "focus": false,
    "id": "588f9845-6143-4bcc-bfd1-85d45b79303d"
   },
   "outputs": [],
   "source": [
    "df_clean = pd.read_csv('cleaned_data.csv' , sep='\\t', encoding='utf-8', index_col=0)"
   ]
  },
  {
   "cell_type": "code",
   "execution_count": 42,
   "metadata": {
    "ExecuteTime": {
     "end_time": "2022-05-18T09:51:25.868398Z",
     "start_time": "2022-05-18T09:51:25.858412Z"
    }
   },
   "outputs": [
    {
     "data": {
      "text/html": [
       "<div>\n",
       "<style scoped>\n",
       "    .dataframe tbody tr th:only-of-type {\n",
       "        vertical-align: middle;\n",
       "    }\n",
       "\n",
       "    .dataframe tbody tr th {\n",
       "        vertical-align: top;\n",
       "    }\n",
       "\n",
       "    .dataframe thead th {\n",
       "        text-align: right;\n",
       "    }\n",
       "</style>\n",
       "<table border=\"1\" class=\"dataframe\">\n",
       "  <thead>\n",
       "    <tr style=\"text-align: right;\">\n",
       "      <th></th>\n",
       "      <th>Title</th>\n",
       "      <th>Location</th>\n",
       "      <th>Company</th>\n",
       "      <th>Salary</th>\n",
       "      <th>Synopsis</th>\n",
       "      <th>origin</th>\n",
       "      <th>mean_annual_salary</th>\n",
       "    </tr>\n",
       "  </thead>\n",
       "  <tbody>\n",
       "    <tr>\n",
       "      <th>0</th>\n",
       "      <td>Senior Data Scientist - Delivery Insights</td>\n",
       "      <td>Remote in Texas</td>\n",
       "      <td>Indeed</td>\n",
       "      <td>$139,000 - $201,000 a year</td>\n",
       "      <td>Passion to answer Product/Engineering question...</td>\n",
       "      <td>Abilene</td>\n",
       "      <td>170000.0</td>\n",
       "    </tr>\n",
       "    <tr>\n",
       "      <th>1</th>\n",
       "      <td>Senior Data Analyst</td>\n",
       "      <td>Remote in Texas</td>\n",
       "      <td>Hire With Jarvis</td>\n",
       "      <td>$120,000 - $170,000 a year</td>\n",
       "      <td>Expertise in SQL and data visualization.Experi...</td>\n",
       "      <td>Abilene</td>\n",
       "      <td>145000.0</td>\n",
       "    </tr>\n",
       "    <tr>\n",
       "      <th>2</th>\n",
       "      <td>Data Scientist - Entry to Expert Level Virtual...</td>\n",
       "      <td>United States</td>\n",
       "      <td>National Security Agency (NSA)</td>\n",
       "      <td>$74,682 - $176,300 a year</td>\n",
       "      <td>Passing this examination is a requirement in o...</td>\n",
       "      <td>Abilene</td>\n",
       "      <td>125491.0</td>\n",
       "    </tr>\n",
       "    <tr>\n",
       "      <th>3</th>\n",
       "      <td>Director, Data Science- SMB Labs</td>\n",
       "      <td>Remote in United States</td>\n",
       "      <td>Indeed</td>\n",
       "      <td>$214,000 - $310,000 a year</td>\n",
       "      <td>In this role, you will lead teams of machine l...</td>\n",
       "      <td>Abilene</td>\n",
       "      <td>262000.0</td>\n",
       "    </tr>\n",
       "    <tr>\n",
       "      <th>4</th>\n",
       "      <td>Data Science Manager - Search Ranking and Pers...</td>\n",
       "      <td>Remote in United States</td>\n",
       "      <td>Indeed</td>\n",
       "      <td>$149,000 - $217,000 a year</td>\n",
       "      <td>Ensure delivery of data science solutions, set...</td>\n",
       "      <td>Abilene</td>\n",
       "      <td>183000.0</td>\n",
       "    </tr>\n",
       "    <tr>\n",
       "      <th>...</th>\n",
       "      <td>...</td>\n",
       "      <td>...</td>\n",
       "      <td>...</td>\n",
       "      <td>...</td>\n",
       "      <td>...</td>\n",
       "      <td>...</td>\n",
       "      <td>...</td>\n",
       "    </tr>\n",
       "    <tr>\n",
       "      <th>4306</th>\n",
       "      <td>Senior Data Scientist at Rent-to-Own Startup</td>\n",
       "      <td>Remote in Wichita, KS 67212</td>\n",
       "      <td>Recruiting From Scratch</td>\n",
       "      <td>$120,000 - $190,000 a year</td>\n",
       "      <td>Who is Recruiting from Scratch: Recruiting fro...</td>\n",
       "      <td>Wichita</td>\n",
       "      <td>155000.0</td>\n",
       "    </tr>\n",
       "    <tr>\n",
       "      <th>4307</th>\n",
       "      <td>Senior Data Scientist/Machine Learning Engineer</td>\n",
       "      <td>Remote in Wichita, KS 67212+5 locations</td>\n",
       "      <td>Recruiting From Scratch</td>\n",
       "      <td>$140,000 - $200,000 a year</td>\n",
       "      <td>Who is Recruiting from Scratch: Recruiting fro...</td>\n",
       "      <td>Wichita</td>\n",
       "      <td>170000.0</td>\n",
       "    </tr>\n",
       "    <tr>\n",
       "      <th>4308</th>\n",
       "      <td>Data Plane Engineer</td>\n",
       "      <td>Remote in Wichita, KS 67212</td>\n",
       "      <td>Recruiting From Scratch</td>\n",
       "      <td>$140,000 - $200,000 a year</td>\n",
       "      <td>Who is Recruiting from Scratch: Recruiting fro...</td>\n",
       "      <td>Wichita</td>\n",
       "      <td>170000.0</td>\n",
       "    </tr>\n",
       "    <tr>\n",
       "      <th>4309</th>\n",
       "      <td>Principal ML &amp; NLP Engineer</td>\n",
       "      <td>Remote in Wichita, KS 67212</td>\n",
       "      <td>Recruiting From Scratch</td>\n",
       "      <td>$140,000 - $200,000 a year</td>\n",
       "      <td>Who is Recruiting from Scratch: Recruiting fro...</td>\n",
       "      <td>Wichita</td>\n",
       "      <td>170000.0</td>\n",
       "    </tr>\n",
       "    <tr>\n",
       "      <th>4310</th>\n",
       "      <td>Senior Data Scientist/Machine Learning Engineer</td>\n",
       "      <td>Remote in Wichita, KS 67212+4 locations</td>\n",
       "      <td>Recruiting From Scratch</td>\n",
       "      <td>$140,000 - $200,000 a year</td>\n",
       "      <td>Work with cross-functional teams, including la...</td>\n",
       "      <td>Wichita</td>\n",
       "      <td>170000.0</td>\n",
       "    </tr>\n",
       "  </tbody>\n",
       "</table>\n",
       "<p>4311 rows × 7 columns</p>\n",
       "</div>"
      ],
      "text/plain": [
       "                                                  Title  \\\n",
       "0             Senior Data Scientist - Delivery Insights   \n",
       "1                                   Senior Data Analyst   \n",
       "2     Data Scientist - Entry to Expert Level Virtual...   \n",
       "3                      Director, Data Science- SMB Labs   \n",
       "4     Data Science Manager - Search Ranking and Pers...   \n",
       "...                                                 ...   \n",
       "4306       Senior Data Scientist at Rent-to-Own Startup   \n",
       "4307    Senior Data Scientist/Machine Learning Engineer   \n",
       "4308                                Data Plane Engineer   \n",
       "4309                        Principal ML & NLP Engineer   \n",
       "4310    Senior Data Scientist/Machine Learning Engineer   \n",
       "\n",
       "                                     Location                         Company  \\\n",
       "0                             Remote in Texas                          Indeed   \n",
       "1                             Remote in Texas                Hire With Jarvis   \n",
       "2                               United States  National Security Agency (NSA)   \n",
       "3                     Remote in United States                          Indeed   \n",
       "4                     Remote in United States                          Indeed   \n",
       "...                                       ...                             ...   \n",
       "4306              Remote in Wichita, KS 67212         Recruiting From Scratch   \n",
       "4307  Remote in Wichita, KS 67212+5 locations         Recruiting From Scratch   \n",
       "4308              Remote in Wichita, KS 67212         Recruiting From Scratch   \n",
       "4309              Remote in Wichita, KS 67212         Recruiting From Scratch   \n",
       "4310  Remote in Wichita, KS 67212+4 locations         Recruiting From Scratch   \n",
       "\n",
       "                          Salary  \\\n",
       "0     $139,000 - $201,000 a year   \n",
       "1     $120,000 - $170,000 a year   \n",
       "2      $74,682 - $176,300 a year   \n",
       "3     $214,000 - $310,000 a year   \n",
       "4     $149,000 - $217,000 a year   \n",
       "...                          ...   \n",
       "4306  $120,000 - $190,000 a year   \n",
       "4307  $140,000 - $200,000 a year   \n",
       "4308  $140,000 - $200,000 a year   \n",
       "4309  $140,000 - $200,000 a year   \n",
       "4310  $140,000 - $200,000 a year   \n",
       "\n",
       "                                               Synopsis   origin  \\\n",
       "0     Passion to answer Product/Engineering question...  Abilene   \n",
       "1     Expertise in SQL and data visualization.Experi...  Abilene   \n",
       "2     Passing this examination is a requirement in o...  Abilene   \n",
       "3     In this role, you will lead teams of machine l...  Abilene   \n",
       "4     Ensure delivery of data science solutions, set...  Abilene   \n",
       "...                                                 ...      ...   \n",
       "4306  Who is Recruiting from Scratch: Recruiting fro...  Wichita   \n",
       "4307  Who is Recruiting from Scratch: Recruiting fro...  Wichita   \n",
       "4308  Who is Recruiting from Scratch: Recruiting fro...  Wichita   \n",
       "4309  Who is Recruiting from Scratch: Recruiting fro...  Wichita   \n",
       "4310  Work with cross-functional teams, including la...  Wichita   \n",
       "\n",
       "      mean_annual_salary  \n",
       "0               170000.0  \n",
       "1               145000.0  \n",
       "2               125491.0  \n",
       "3               262000.0  \n",
       "4               183000.0  \n",
       "...                  ...  \n",
       "4306            155000.0  \n",
       "4307            170000.0  \n",
       "4308            170000.0  \n",
       "4309            170000.0  \n",
       "4310            170000.0  \n",
       "\n",
       "[4311 rows x 7 columns]"
      ]
     },
     "execution_count": 42,
     "metadata": {},
     "output_type": "execute_result"
    }
   ],
   "source": [
    "df_clean"
   ]
  },
  {
   "cell_type": "markdown",
   "metadata": {
    "focus": false,
    "id": "c7631f51-07f2-4c79-a093-3e9bc7849a48"
   },
   "source": [
    "### We want to predict a binary variable - whether the salary was low or high. Compute the median salary and create a new binary variable that is true when the salary is high (above the median).\n",
    "\n",
    "We could also perform Linear Regression (or any regression) to predict the salary value here. Instead, we are going to convert this into a _binary_ classification problem, by predicting two classes, HIGH vs LOW salary.\n",
    "\n",
    "While performing regression may be better, performing classification may help remove some of the noise of the extreme salaries. We don't have to choose the `median` as the splitting point - we could also split on the 75th percentile or any other reasonable breaking point.\n",
    "\n",
    "In fact, the ideal scenario may be to predict many levels of salaries."
   ]
  },
  {
   "cell_type": "code",
   "execution_count": 43,
   "metadata": {
    "ExecuteTime": {
     "end_time": "2022-05-18T09:51:36.003382Z",
     "start_time": "2022-05-18T09:51:35.993408Z"
    },
    "focus": false,
    "id": "c20d2498-151c-44c3-a453-3a333c79a0ac"
   },
   "outputs": [
    {
     "data": {
      "text/html": [
       "<div>\n",
       "<style scoped>\n",
       "    .dataframe tbody tr th:only-of-type {\n",
       "        vertical-align: middle;\n",
       "    }\n",
       "\n",
       "    .dataframe tbody tr th {\n",
       "        vertical-align: top;\n",
       "    }\n",
       "\n",
       "    .dataframe thead th {\n",
       "        text-align: right;\n",
       "    }\n",
       "</style>\n",
       "<table border=\"1\" class=\"dataframe\">\n",
       "  <thead>\n",
       "    <tr style=\"text-align: right;\">\n",
       "      <th></th>\n",
       "      <th>mean_annual_salary</th>\n",
       "    </tr>\n",
       "  </thead>\n",
       "  <tbody>\n",
       "    <tr>\n",
       "      <th>count</th>\n",
       "      <td>4311.000000</td>\n",
       "    </tr>\n",
       "    <tr>\n",
       "      <th>mean</th>\n",
       "      <td>133367.819763</td>\n",
       "    </tr>\n",
       "    <tr>\n",
       "      <th>std</th>\n",
       "      <td>47601.704533</td>\n",
       "    </tr>\n",
       "    <tr>\n",
       "      <th>min</th>\n",
       "      <td>16000.000000</td>\n",
       "    </tr>\n",
       "    <tr>\n",
       "      <th>25%</th>\n",
       "      <td>101313.000000</td>\n",
       "    </tr>\n",
       "    <tr>\n",
       "      <th>50%</th>\n",
       "      <td>130000.000000</td>\n",
       "    </tr>\n",
       "    <tr>\n",
       "      <th>75%</th>\n",
       "      <td>160000.000000</td>\n",
       "    </tr>\n",
       "    <tr>\n",
       "      <th>max</th>\n",
       "      <td>310000.000000</td>\n",
       "    </tr>\n",
       "  </tbody>\n",
       "</table>\n",
       "</div>"
      ],
      "text/plain": [
       "       mean_annual_salary\n",
       "count         4311.000000\n",
       "mean        133367.819763\n",
       "std          47601.704533\n",
       "min          16000.000000\n",
       "25%         101313.000000\n",
       "50%         130000.000000\n",
       "75%         160000.000000\n",
       "max         310000.000000"
      ]
     },
     "execution_count": 43,
     "metadata": {},
     "output_type": "execute_result"
    }
   ],
   "source": [
    "df_clean.describe()"
   ]
  },
  {
   "cell_type": "markdown",
   "metadata": {},
   "source": [
    "The mean and 50 percentile (which is the median) are pretty close, our data don't have many outliers. It's better to look at the distribution before deciding the cut off."
   ]
  },
  {
   "cell_type": "code",
   "execution_count": 44,
   "metadata": {
    "ExecuteTime": {
     "end_time": "2022-05-18T09:51:38.611247Z",
     "start_time": "2022-05-18T09:51:37.342006Z"
    }
   },
   "outputs": [
    {
     "name": "stderr",
     "output_type": "stream",
     "text": [
      "C:\\ProgramData\\Anaconda3\\lib\\site-packages\\seaborn\\distributions.py:2619: FutureWarning: `distplot` is a deprecated function and will be removed in a future version. Please adapt your code to use either `displot` (a figure-level function with similar flexibility) or `histplot` (an axes-level function for histograms).\n",
      "  warnings.warn(msg, FutureWarning)\n"
     ]
    },
    {
     "data": {
      "text/plain": [
       "<matplotlib.lines.Line2D at 0x1bd98d280d0>"
      ]
     },
     "execution_count": 44,
     "metadata": {},
     "output_type": "execute_result"
    },
    {
     "data": {
      "image/png": "[encoded data removed]",
      "text/plain": [
       "<Figure size 432x288 with 1 Axes>"
      ]
     },
     "metadata": {
      "needs_background": "light"
     },
     "output_type": "display_data"
    }
   ],
   "source": [
    "import seaborn as sns\n",
    "ax = sns.distplot(df_clean['mean_annual_salary'], bins=15)\n",
    "ax.axvline(df_clean['mean_annual_salary'].mean(), c='r')\n",
    "ax.axvline(df_clean['mean_annual_salary'].median(), c='g')"
   ]
  },
  {
   "cell_type": "markdown",
   "metadata": {},
   "source": [
    "Our data is not normally distributed but the mean and median are extremely close, the data set has a symmetrical distribution."
   ]
  },
  {
   "cell_type": "code",
   "execution_count": 45,
   "metadata": {
    "ExecuteTime": {
     "end_time": "2022-05-18T09:51:38.617232Z",
     "start_time": "2022-05-18T09:51:38.612245Z"
    }
   },
   "outputs": [
    {
     "data": {
      "text/plain": [
       "130000.0"
      ]
     },
     "execution_count": 45,
     "metadata": {},
     "output_type": "execute_result"
    }
   ],
   "source": [
    "median_salary = np.median(df_clean.mean_annual_salary)\n",
    "median_salary"
   ]
  },
  {
   "cell_type": "code",
   "execution_count": 46,
   "metadata": {
    "ExecuteTime": {
     "end_time": "2022-05-18T09:51:38.867007Z",
     "start_time": "2022-05-18T09:51:38.861840Z"
    }
   },
   "outputs": [],
   "source": [
    "df_clean['salary_class'] = [1 if i > median_salary else 0 for i in df_clean.mean_annual_salary]"
   ]
  },
  {
   "cell_type": "code",
   "execution_count": 47,
   "metadata": {
    "ExecuteTime": {
     "end_time": "2022-05-18T09:51:39.539628Z",
     "start_time": "2022-05-18T09:51:39.533645Z"
    }
   },
   "outputs": [
    {
     "data": {
      "text/plain": [
       "0    2157\n",
       "1    2154\n",
       "Name: salary_class, dtype: int64"
      ]
     },
     "execution_count": 47,
     "metadata": {},
     "output_type": "execute_result"
    }
   ],
   "source": [
    "df_clean.salary_class.value_counts()"
   ]
  },
  {
   "cell_type": "markdown",
   "metadata": {
    "focus": false,
    "id": "a7afb2c0-d41e-4779-8216-91cd8dd4473f"
   },
   "source": [
    "#### Thought experiment: What is the baseline accuracy for this model?"
   ]
  },
  {
   "cell_type": "code",
   "execution_count": null,
   "metadata": {
    "focus": false,
    "id": "87a17d3d-b7f4-4747-9f75-f9af1d18a174"
   },
   "outputs": [],
   "source": [
    "1214/2404"
   ]
  },
  {
   "cell_type": "markdown",
   "metadata": {
    "focus": false,
    "id": "4fb29de2-5b98-474c-a4ad-5170b72b9aea"
   },
   "source": [
    "### Create a classification model to predict High/Low salary. \n",
    "\n",
    "\n",
    "- Start by ONLY using the location as a feature.\n",
    "- Use at least two different classifiers you find suitable.\n",
    "- Remember that scaling your features might be necessary.\n",
    "- Display the coefficients/feature importances and write a short summary of what they mean.\n",
    "- Create a few new variables in your dataframe to represent interesting features of a job title (e.g. whether 'Senior' or 'Manager' is in the title).\n",
    "- Incorporate other text features from the title or summary that you believe will predict the salary.\n",
    "- Then build new classification models including also those features. Do they add any value?\n",
    "- Tune your models by testing parameter ranges, regularization strengths, etc. Discuss how that affects your models.\n",
    "- Discuss model coefficients or feature importances as applicable."
   ]
  },
  {
   "cell_type": "code",
   "execution_count": null,
   "metadata": {},
   "outputs": [],
   "source": []
  },
  {
   "cell_type": "code",
   "execution_count": null,
   "metadata": {},
   "outputs": [],
   "source": []
  },
  {
   "cell_type": "code",
   "execution_count": null,
   "metadata": {},
   "outputs": [],
   "source": []
  },
  {
   "cell_type": "code",
   "execution_count": null,
   "metadata": {},
   "outputs": [],
   "source": [
    "## YOUR CODE HERE"
   ]
  },
  {
   "cell_type": "markdown",
   "metadata": {
    "focus": false,
    "id": "4fb29de2-5b98-474c-a4ad-5170b72b9aea"
   },
   "source": [
    "### Model evaluation:\n",
    "\n",
    "Your boss would rather tell a client incorrectly that they would get a lower salary job than tell a client incorrectly that they would get a high salary job. Adjust one of your models to ease his mind, and explain what it is doing and any tradeoffs.\n",
    "\n",
    "\n",
    "- Use cross-validation to evaluate your models.\n",
    "- Evaluate the accuracy, AUC, precision and recall of the models.\n",
    "- Plot the ROC and precision-recall curves for at least one of your models."
   ]
  },
  {
   "cell_type": "code",
   "execution_count": null,
   "metadata": {},
   "outputs": [],
   "source": [
    "## YOUR CODE HERE"
   ]
  },
  {
   "cell_type": "markdown",
   "metadata": {
    "focus": false,
    "id": "4fb29de2-5b98-474c-a4ad-5170b72b9aea"
   },
   "source": [
    "<img src=\"http://imgur.com/xDpSobf.png\" style=\"float: left; margin: 25px 15px 0px 0px; height: 25px\">\n",
    "\n",
    "### Bonus:\n",
    "\n",
    "- Answer the salary discussion by using your model to explain the tradeoffs between detecting high vs low salary positions. \n",
    "- Discuss the differences and explain when you want a high-recall or a high-precision model in this scenario.\n",
    "- Obtain the ROC/precision-recall curves for the different models you studied (at least the tuned model of each category) and compare."
   ]
  },
  {
   "cell_type": "code",
   "execution_count": null,
   "metadata": {
    "focus": false,
    "id": "068dc1cf-7fd7-4f27-a1f1-7f0a5a221d29"
   },
   "outputs": [],
   "source": [
    "## YOUR CODE HERE"
   ]
  },
  {
   "cell_type": "markdown",
   "metadata": {},
   "source": [
    "### Summarize your results in an executive summary written for a non-technical audience.\n",
    "   \n",
    "- Writeups should be at least 500-1000 words, defining any technical terms, explaining your approach, as well as any risks and limitations."
   ]
  },
  {
   "cell_type": "code",
   "execution_count": null,
   "metadata": {},
   "outputs": [],
   "source": [
    "## YOUR TEXT HERE IN MARKDOWN FORMAT "
   ]
  },
  {
   "cell_type": "markdown",
   "metadata": {},
   "source": [
    "<img src=\"http://imgur.com/xDpSobf.png\" style=\"float: left; margin: 25px 15px 0px 0px; height: 25px\">\n",
    "\n",
    "### BONUS\n",
    "\n",
    "Convert your executive summary into a public blog post of at least 500 words, in which you document your approach in a tutorial for other aspiring data scientists. Link to this in your notebook."
   ]
  },
  {
   "cell_type": "code",
   "execution_count": null,
   "metadata": {},
   "outputs": [],
   "source": [
    "## YOUR LINK HERE IN MARKDOWN FORMAT "
   ]
  }
 ],
 "metadata": {
  "kernelspec": {
   "display_name": "Python 3 (ipykernel)",
   "language": "python",
   "name": "python3"
  },
  "language_info": {
   "codemirror_mode": {
    "name": "ipython",
    "version": 3
   },
   "file_extension": ".py",
   "mimetype": "text/x-python",
   "name": "python",
   "nbconvert_exporter": "python",
   "pygments_lexer": "ipython3",
   "version": "3.9.7"
  },
  "toc": {
   "base_numbering": 1,
   "nav_menu": {},
   "number_sections": false,
   "sideBar": true,
   "skip_h1_title": true,
   "title_cell": "Table of Contents",
   "title_sidebar": "Contents",
   "toc_cell": false,
   "toc_position": {},
   "toc_section_display": "block",
   "toc_window_display": false
  }
 },
 "nbformat": 4,
 "nbformat_minor": 1
}
